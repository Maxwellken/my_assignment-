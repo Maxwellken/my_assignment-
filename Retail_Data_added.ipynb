{
 "cells": [
  {
   "cell_type": "markdown",
   "id": "de7b5ef6-267a-443c-977d-70aea9e55a52",
   "metadata": {},
   "source": [
    "## Retail Dataset"
   ]
  },
  {
   "cell_type": "code",
   "execution_count": 1,
   "id": "06cbf1cc-462d-4ae2-8877-f30789ff9069",
   "metadata": {},
   "outputs": [],
   "source": [
    "import pandas as pd\n",
    "import numpy as  np\n",
    "import matplotlib.pyplot as plt\n",
    "import seaborn as sns"
   ]
  },
  {
   "cell_type": "code",
   "execution_count": 2,
   "id": "97e8e899-a1be-485b-baed-7ec40b8a1a61",
   "metadata": {},
   "outputs": [],
   "source": [
    "#reading the path of the data\n",
    "path = r\"C:\\Users\\pc\\Downloads\\dataset\\work_stuff\\retail_data_dirty.xlsx\""
   ]
  },
  {
   "cell_type": "code",
   "execution_count": 3,
   "id": "500a98b6-182a-4db3-8062-8ae51a8b1edb",
   "metadata": {},
   "outputs": [],
   "source": [
    "#importing the data based on their sheet\n",
    "Sales_Transactions = pd.read_excel(path, sheet_name=\"Sales_Transactions\")\n",
    "Product_Info = pd.read_excel(path, sheet_name=\"Product_Info\")\n",
    "Store_Info = pd.read_excel(path, sheet_name=\"Store_Info\")"
   ]
  },
  {
   "cell_type": "code",
   "execution_count": 4,
   "id": "55a55ef9-023e-4fbd-a5cf-92687c407134",
   "metadata": {},
   "outputs": [
    {
     "data": {
      "text/html": [
       "<div>\n",
       "<style scoped>\n",
       "    .dataframe tbody tr th:only-of-type {\n",
       "        vertical-align: middle;\n",
       "    }\n",
       "\n",
       "    .dataframe tbody tr th {\n",
       "        vertical-align: top;\n",
       "    }\n",
       "\n",
       "    .dataframe thead th {\n",
       "        text-align: right;\n",
       "    }\n",
       "</style>\n",
       "<table border=\"1\" class=\"dataframe\">\n",
       "  <thead>\n",
       "    <tr style=\"text-align: right;\">\n",
       "      <th></th>\n",
       "      <th>Transaction_ID</th>\n",
       "      <th>Date</th>\n",
       "      <th>Customer_ID</th>\n",
       "      <th>Product_ID</th>\n",
       "      <th>Units_Sold</th>\n",
       "      <th>Sale_Amount</th>\n",
       "      <th>Store_Name</th>\n",
       "    </tr>\n",
       "  </thead>\n",
       "  <tbody>\n",
       "    <tr>\n",
       "      <th>0</th>\n",
       "      <td>TXN000000</td>\n",
       "      <td>2023-11-03</td>\n",
       "      <td>CUST5695</td>\n",
       "      <td>177</td>\n",
       "      <td>9.0</td>\n",
       "      <td>NaN</td>\n",
       "      <td>Alpha</td>\n",
       "    </tr>\n",
       "    <tr>\n",
       "      <th>1</th>\n",
       "      <td>TXN000001</td>\n",
       "      <td>2023-03-30</td>\n",
       "      <td>CUST1035</td>\n",
       "      <td>107</td>\n",
       "      <td>6.0</td>\n",
       "      <td>91.44</td>\n",
       "      <td>Gamma</td>\n",
       "    </tr>\n",
       "    <tr>\n",
       "      <th>2</th>\n",
       "      <td>TXN000002</td>\n",
       "      <td>2023-08-27</td>\n",
       "      <td>CUST4216</td>\n",
       "      <td>190</td>\n",
       "      <td>8.0</td>\n",
       "      <td>785.16</td>\n",
       "      <td>Beta</td>\n",
       "    </tr>\n",
       "    <tr>\n",
       "      <th>3</th>\n",
       "      <td>TXN000003</td>\n",
       "      <td>2023-02-07</td>\n",
       "      <td>CUST8870</td>\n",
       "      <td>195</td>\n",
       "      <td>3.0</td>\n",
       "      <td>286.08</td>\n",
       "      <td>Alpha</td>\n",
       "    </tr>\n",
       "    <tr>\n",
       "      <th>4</th>\n",
       "      <td>TXN000004</td>\n",
       "      <td>2023-12-27</td>\n",
       "      <td>CUST4105</td>\n",
       "      <td>105</td>\n",
       "      <td>5.0</td>\n",
       "      <td>688.16</td>\n",
       "      <td>Alpha</td>\n",
       "    </tr>\n",
       "  </tbody>\n",
       "</table>\n",
       "</div>"
      ],
      "text/plain": [
       "  Transaction_ID       Date Customer_ID  Product_ID  Units_Sold  Sale_Amount  \\\n",
       "0      TXN000000 2023-11-03    CUST5695         177         9.0          NaN   \n",
       "1      TXN000001 2023-03-30    CUST1035         107         6.0        91.44   \n",
       "2      TXN000002 2023-08-27    CUST4216         190         8.0       785.16   \n",
       "3      TXN000003 2023-02-07    CUST8870         195         3.0       286.08   \n",
       "4      TXN000004 2023-12-27    CUST4105         105         5.0       688.16   \n",
       "\n",
       "  Store_Name  \n",
       "0      Alpha  \n",
       "1      Gamma  \n",
       "2       Beta  \n",
       "3      Alpha  \n",
       "4      Alpha  "
      ]
     },
     "execution_count": 4,
     "metadata": {},
     "output_type": "execute_result"
    }
   ],
   "source": [
    "#Sales Transaction Table\n",
    "Sales_Transactions.head(5)"
   ]
  },
  {
   "cell_type": "code",
   "execution_count": 5,
   "id": "3cd38a13-fcf3-4d80-99b0-f909362d21d5",
   "metadata": {},
   "outputs": [
    {
     "data": {
      "text/html": [
       "<div>\n",
       "<style scoped>\n",
       "    .dataframe tbody tr th:only-of-type {\n",
       "        vertical-align: middle;\n",
       "    }\n",
       "\n",
       "    .dataframe tbody tr th {\n",
       "        vertical-align: top;\n",
       "    }\n",
       "\n",
       "    .dataframe thead th {\n",
       "        text-align: right;\n",
       "    }\n",
       "</style>\n",
       "<table border=\"1\" class=\"dataframe\">\n",
       "  <thead>\n",
       "    <tr style=\"text-align: right;\">\n",
       "      <th></th>\n",
       "      <th>Product_ID</th>\n",
       "      <th>Product_Name</th>\n",
       "      <th>Category</th>\n",
       "      <th>Price</th>\n",
       "      <th>Discontinued</th>\n",
       "    </tr>\n",
       "  </thead>\n",
       "  <tbody>\n",
       "    <tr>\n",
       "      <th>0</th>\n",
       "      <td>100</td>\n",
       "      <td>Monitor</td>\n",
       "      <td>Accessories</td>\n",
       "      <td>232.78</td>\n",
       "      <td>yes</td>\n",
       "    </tr>\n",
       "    <tr>\n",
       "      <th>1</th>\n",
       "      <td>101</td>\n",
       "      <td>Monitor</td>\n",
       "      <td>Office</td>\n",
       "      <td>1163.09</td>\n",
       "      <td>N</td>\n",
       "    </tr>\n",
       "    <tr>\n",
       "      <th>2</th>\n",
       "      <td>102</td>\n",
       "      <td>Printer</td>\n",
       "      <td>Office</td>\n",
       "      <td>202.45</td>\n",
       "      <td>N</td>\n",
       "    </tr>\n",
       "    <tr>\n",
       "      <th>3</th>\n",
       "      <td>103</td>\n",
       "      <td>Laptop</td>\n",
       "      <td>Electronics</td>\n",
       "      <td>375.07</td>\n",
       "      <td>Yes</td>\n",
       "    </tr>\n",
       "    <tr>\n",
       "      <th>4</th>\n",
       "      <td>104</td>\n",
       "      <td>Laptop</td>\n",
       "      <td>Office</td>\n",
       "      <td>1262.60</td>\n",
       "      <td>Yes</td>\n",
       "    </tr>\n",
       "  </tbody>\n",
       "</table>\n",
       "</div>"
      ],
      "text/plain": [
       "   Product_ID Product_Name     Category    Price Discontinued\n",
       "0         100      Monitor  Accessories   232.78          yes\n",
       "1         101      Monitor       Office  1163.09            N\n",
       "2         102      Printer       Office   202.45            N\n",
       "3         103       Laptop  Electronics   375.07          Yes\n",
       "4         104       Laptop       Office  1262.60          Yes"
      ]
     },
     "execution_count": 5,
     "metadata": {},
     "output_type": "execute_result"
    }
   ],
   "source": [
    "#Product info table (first 5)\n",
    "Product_Info.head(5)"
   ]
  },
  {
   "cell_type": "code",
   "execution_count": 6,
   "id": "2a69df1a-67bf-408a-b6ba-974e462262bc",
   "metadata": {},
   "outputs": [
    {
     "data": {
      "text/html": [
       "<div>\n",
       "<style scoped>\n",
       "    .dataframe tbody tr th:only-of-type {\n",
       "        vertical-align: middle;\n",
       "    }\n",
       "\n",
       "    .dataframe tbody tr th {\n",
       "        vertical-align: top;\n",
       "    }\n",
       "\n",
       "    .dataframe thead th {\n",
       "        text-align: right;\n",
       "    }\n",
       "</style>\n",
       "<table border=\"1\" class=\"dataframe\">\n",
       "  <thead>\n",
       "    <tr style=\"text-align: right;\">\n",
       "      <th></th>\n",
       "      <th>Store_Name</th>\n",
       "      <th>Location</th>\n",
       "      <th>Manager</th>\n",
       "      <th>Open_Since</th>\n",
       "      <th>Annual_Revenue</th>\n",
       "    </tr>\n",
       "  </thead>\n",
       "  <tbody>\n",
       "    <tr>\n",
       "      <th>0</th>\n",
       "      <td>Alpha INC</td>\n",
       "      <td>Houston</td>\n",
       "      <td>Manager_0</td>\n",
       "      <td>2015-09-14</td>\n",
       "      <td>3835885.30</td>\n",
       "    </tr>\n",
       "    <tr>\n",
       "      <th>1</th>\n",
       "      <td>Alpha Ltd</td>\n",
       "      <td>Houston</td>\n",
       "      <td>Manager_1</td>\n",
       "      <td>2017-10-15</td>\n",
       "      <td>5765173.09</td>\n",
       "    </tr>\n",
       "    <tr>\n",
       "      <th>2</th>\n",
       "      <td>Alpha Corp</td>\n",
       "      <td>Los Angeles</td>\n",
       "      <td>Manager_2</td>\n",
       "      <td>2011-04-17</td>\n",
       "      <td>5425306.21</td>\n",
       "    </tr>\n",
       "    <tr>\n",
       "      <th>3</th>\n",
       "      <td>Alpha</td>\n",
       "      <td>Chicago</td>\n",
       "      <td>Manager_3</td>\n",
       "      <td>2014-03-04</td>\n",
       "      <td>6084626.88</td>\n",
       "    </tr>\n",
       "    <tr>\n",
       "      <th>4</th>\n",
       "      <td>Beta INC</td>\n",
       "      <td>Los Angeles</td>\n",
       "      <td>Manager_4</td>\n",
       "      <td>2010-08-15</td>\n",
       "      <td>7222697.24</td>\n",
       "    </tr>\n",
       "  </tbody>\n",
       "</table>\n",
       "</div>"
      ],
      "text/plain": [
       "   Store_Name     Location    Manager Open_Since  Annual_Revenue\n",
       "0   Alpha INC      Houston  Manager_0 2015-09-14      3835885.30\n",
       "1   Alpha Ltd      Houston  Manager_1 2017-10-15      5765173.09\n",
       "2  Alpha Corp  Los Angeles  Manager_2 2011-04-17      5425306.21\n",
       "3      Alpha       Chicago  Manager_3 2014-03-04      6084626.88\n",
       "4    Beta INC  Los Angeles  Manager_4 2010-08-15      7222697.24"
      ]
     },
     "execution_count": 6,
     "metadata": {},
     "output_type": "execute_result"
    }
   ],
   "source": [
    "#store Info table (first 5)\n",
    "Store_Info.head()"
   ]
  },
  {
   "cell_type": "markdown",
   "id": "cf1c3b0f-b8a8-4218-b84a-01cacc84c047",
   "metadata": {},
   "source": [
    "the unique identifier between Sales Transactions nad Product info  table is the product ID, \n",
    "while the the common table between Sales Transactions and Store Info is the store name column.\n",
    "Hence it will be used to merge both tables"
   ]
  },
  {
   "cell_type": "code",
   "execution_count": 7,
   "id": "f908668e-4e8d-4e39-93b5-7bdad3afe1b9",
   "metadata": {},
   "outputs": [
    {
     "data": {
      "text/html": [
       "<div>\n",
       "<style scoped>\n",
       "    .dataframe tbody tr th:only-of-type {\n",
       "        vertical-align: middle;\n",
       "    }\n",
       "\n",
       "    .dataframe tbody tr th {\n",
       "        vertical-align: top;\n",
       "    }\n",
       "\n",
       "    .dataframe thead th {\n",
       "        text-align: right;\n",
       "    }\n",
       "</style>\n",
       "<table border=\"1\" class=\"dataframe\">\n",
       "  <thead>\n",
       "    <tr style=\"text-align: right;\">\n",
       "      <th></th>\n",
       "      <th>Transaction_ID</th>\n",
       "      <th>Date</th>\n",
       "      <th>Customer_ID</th>\n",
       "      <th>Product_ID</th>\n",
       "      <th>Units_Sold</th>\n",
       "      <th>Sale_Amount</th>\n",
       "      <th>Store_Name</th>\n",
       "      <th>Product_Name</th>\n",
       "      <th>Category</th>\n",
       "      <th>Price</th>\n",
       "      <th>Discontinued</th>\n",
       "    </tr>\n",
       "  </thead>\n",
       "  <tbody>\n",
       "    <tr>\n",
       "      <th>0</th>\n",
       "      <td>TXN000000</td>\n",
       "      <td>2023-11-03</td>\n",
       "      <td>CUST5695</td>\n",
       "      <td>177</td>\n",
       "      <td>9.0</td>\n",
       "      <td>NaN</td>\n",
       "      <td>Alpha</td>\n",
       "      <td>Laptop</td>\n",
       "      <td>Office</td>\n",
       "      <td>120.80</td>\n",
       "      <td>No</td>\n",
       "    </tr>\n",
       "    <tr>\n",
       "      <th>1</th>\n",
       "      <td>TXN000001</td>\n",
       "      <td>2023-03-30</td>\n",
       "      <td>CUST1035</td>\n",
       "      <td>107</td>\n",
       "      <td>6.0</td>\n",
       "      <td>91.44</td>\n",
       "      <td>Gamma</td>\n",
       "      <td>Phone</td>\n",
       "      <td>Electronics</td>\n",
       "      <td>984.84</td>\n",
       "      <td>No</td>\n",
       "    </tr>\n",
       "    <tr>\n",
       "      <th>2</th>\n",
       "      <td>TXN000002</td>\n",
       "      <td>2023-08-27</td>\n",
       "      <td>CUST4216</td>\n",
       "      <td>190</td>\n",
       "      <td>8.0</td>\n",
       "      <td>785.16</td>\n",
       "      <td>Beta</td>\n",
       "      <td>Printer</td>\n",
       "      <td>Office</td>\n",
       "      <td>140.11</td>\n",
       "      <td>yes</td>\n",
       "    </tr>\n",
       "    <tr>\n",
       "      <th>3</th>\n",
       "      <td>TXN000003</td>\n",
       "      <td>2023-02-07</td>\n",
       "      <td>CUST8870</td>\n",
       "      <td>195</td>\n",
       "      <td>3.0</td>\n",
       "      <td>286.08</td>\n",
       "      <td>Alpha</td>\n",
       "      <td>Tablet</td>\n",
       "      <td>Electronics</td>\n",
       "      <td>452.92</td>\n",
       "      <td>no</td>\n",
       "    </tr>\n",
       "    <tr>\n",
       "      <th>4</th>\n",
       "      <td>TXN000004</td>\n",
       "      <td>2023-12-27</td>\n",
       "      <td>CUST4105</td>\n",
       "      <td>105</td>\n",
       "      <td>5.0</td>\n",
       "      <td>688.16</td>\n",
       "      <td>Alpha</td>\n",
       "      <td>Laptop</td>\n",
       "      <td>Accessories</td>\n",
       "      <td>236.02</td>\n",
       "      <td>N</td>\n",
       "    </tr>\n",
       "    <tr>\n",
       "      <th>5</th>\n",
       "      <td>TXN000005</td>\n",
       "      <td>2023-03-20</td>\n",
       "      <td>CUST6193</td>\n",
       "      <td>135</td>\n",
       "      <td>7.0</td>\n",
       "      <td>NaN</td>\n",
       "      <td>Beta Ltd</td>\n",
       "      <td>Monitor</td>\n",
       "      <td>Accessories</td>\n",
       "      <td>846.23</td>\n",
       "      <td>No</td>\n",
       "    </tr>\n",
       "  </tbody>\n",
       "</table>\n",
       "</div>"
      ],
      "text/plain": [
       "  Transaction_ID       Date Customer_ID  Product_ID  Units_Sold  Sale_Amount  \\\n",
       "0      TXN000000 2023-11-03    CUST5695         177         9.0          NaN   \n",
       "1      TXN000001 2023-03-30    CUST1035         107         6.0        91.44   \n",
       "2      TXN000002 2023-08-27    CUST4216         190         8.0       785.16   \n",
       "3      TXN000003 2023-02-07    CUST8870         195         3.0       286.08   \n",
       "4      TXN000004 2023-12-27    CUST4105         105         5.0       688.16   \n",
       "5      TXN000005 2023-03-20    CUST6193         135         7.0          NaN   \n",
       "\n",
       "  Store_Name Product_Name     Category   Price Discontinued  \n",
       "0      Alpha       Laptop       Office  120.80           No  \n",
       "1      Gamma        Phone  Electronics  984.84           No  \n",
       "2       Beta      Printer       Office  140.11          yes  \n",
       "3      Alpha       Tablet  Electronics  452.92           no  \n",
       "4      Alpha       Laptop  Accessories  236.02            N  \n",
       "5   Beta Ltd      Monitor  Accessories  846.23           No  "
      ]
     },
     "execution_count": 7,
     "metadata": {},
     "output_type": "execute_result"
    }
   ],
   "source": [
    "#Merging Sales transaction and product info tables\n",
    "data_merged1 = pd.merge( Sales_Transactions, Product_Info, on='Product_ID', how='inner' )\n",
    "data_merged1.head(6)"
   ]
  },
  {
   "cell_type": "code",
   "execution_count": 8,
   "id": "0b01ac33-5e8e-4833-9c10-67e561264669",
   "metadata": {},
   "outputs": [
    {
     "data": {
      "text/html": [
       "<div>\n",
       "<style scoped>\n",
       "    .dataframe tbody tr th:only-of-type {\n",
       "        vertical-align: middle;\n",
       "    }\n",
       "\n",
       "    .dataframe tbody tr th {\n",
       "        vertical-align: top;\n",
       "    }\n",
       "\n",
       "    .dataframe thead th {\n",
       "        text-align: right;\n",
       "    }\n",
       "</style>\n",
       "<table border=\"1\" class=\"dataframe\">\n",
       "  <thead>\n",
       "    <tr style=\"text-align: right;\">\n",
       "      <th></th>\n",
       "      <th>Transaction_ID</th>\n",
       "      <th>Date</th>\n",
       "      <th>Customer_ID</th>\n",
       "      <th>Product_ID</th>\n",
       "      <th>Units_Sold</th>\n",
       "      <th>Sale_Amount</th>\n",
       "      <th>Store_Name</th>\n",
       "      <th>Product_Name</th>\n",
       "      <th>Category</th>\n",
       "      <th>Price</th>\n",
       "      <th>Discontinued</th>\n",
       "      <th>Location</th>\n",
       "      <th>Manager</th>\n",
       "      <th>Open_Since</th>\n",
       "      <th>Annual_Revenue</th>\n",
       "    </tr>\n",
       "  </thead>\n",
       "  <tbody>\n",
       "    <tr>\n",
       "      <th>0</th>\n",
       "      <td>TXN000005</td>\n",
       "      <td>2023-03-20</td>\n",
       "      <td>CUST6193</td>\n",
       "      <td>135</td>\n",
       "      <td>7.0</td>\n",
       "      <td>NaN</td>\n",
       "      <td>Beta Ltd</td>\n",
       "      <td>Monitor</td>\n",
       "      <td>Accessories</td>\n",
       "      <td>846.23</td>\n",
       "      <td>No</td>\n",
       "      <td>Houston</td>\n",
       "      <td>Manager_5</td>\n",
       "      <td>2011-07-13</td>\n",
       "      <td>8284314.53</td>\n",
       "    </tr>\n",
       "    <tr>\n",
       "      <th>1</th>\n",
       "      <td>TXN000039</td>\n",
       "      <td>2023-07-02</td>\n",
       "      <td>CUST8104</td>\n",
       "      <td>119</td>\n",
       "      <td>7.0</td>\n",
       "      <td>627.78</td>\n",
       "      <td>Delta INC</td>\n",
       "      <td>Printer</td>\n",
       "      <td>Office</td>\n",
       "      <td>706.15</td>\n",
       "      <td>N</td>\n",
       "      <td>New York</td>\n",
       "      <td>Manager_12</td>\n",
       "      <td>2017-03-08</td>\n",
       "      <td>6844202.48</td>\n",
       "    </tr>\n",
       "    <tr>\n",
       "      <th>2</th>\n",
       "      <td>TXN000080</td>\n",
       "      <td>2023-09-13</td>\n",
       "      <td>NaN</td>\n",
       "      <td>129</td>\n",
       "      <td>9.0</td>\n",
       "      <td>730.42</td>\n",
       "      <td>Alpha INC</td>\n",
       "      <td>Monitor</td>\n",
       "      <td>Accessories</td>\n",
       "      <td>113.78</td>\n",
       "      <td>no</td>\n",
       "      <td>Houston</td>\n",
       "      <td>Manager_0</td>\n",
       "      <td>2015-09-14</td>\n",
       "      <td>3835885.30</td>\n",
       "    </tr>\n",
       "    <tr>\n",
       "      <th>3</th>\n",
       "      <td>TXN000093</td>\n",
       "      <td>2023-05-28</td>\n",
       "      <td>CUST5003</td>\n",
       "      <td>154</td>\n",
       "      <td>9.0</td>\n",
       "      <td>391.09</td>\n",
       "      <td>Beta Corp</td>\n",
       "      <td>Phone</td>\n",
       "      <td>Office</td>\n",
       "      <td>439.94</td>\n",
       "      <td>N</td>\n",
       "      <td>Los Angeles</td>\n",
       "      <td>Manager_6</td>\n",
       "      <td>2011-10-27</td>\n",
       "      <td>4824945.84</td>\n",
       "    </tr>\n",
       "    <tr>\n",
       "      <th>4</th>\n",
       "      <td>TXN000121</td>\n",
       "      <td>2023-01-12</td>\n",
       "      <td>CUST9254</td>\n",
       "      <td>144</td>\n",
       "      <td>3.0</td>\n",
       "      <td>NaN</td>\n",
       "      <td>Alpha Ltd</td>\n",
       "      <td>Printer</td>\n",
       "      <td>Accessories</td>\n",
       "      <td>902.08</td>\n",
       "      <td>Y</td>\n",
       "      <td>Houston</td>\n",
       "      <td>Manager_1</td>\n",
       "      <td>2017-10-15</td>\n",
       "      <td>5765173.09</td>\n",
       "    </tr>\n",
       "    <tr>\n",
       "      <th>5</th>\n",
       "      <td>TXN000162</td>\n",
       "      <td>2023-12-31</td>\n",
       "      <td>CUST2469</td>\n",
       "      <td>165</td>\n",
       "      <td>2.0</td>\n",
       "      <td>571.11</td>\n",
       "      <td>Alpha</td>\n",
       "      <td>Laptop</td>\n",
       "      <td>Office</td>\n",
       "      <td>1267.34</td>\n",
       "      <td>yes</td>\n",
       "      <td>Chicago</td>\n",
       "      <td>Manager_3</td>\n",
       "      <td>2014-03-04</td>\n",
       "      <td>6084626.88</td>\n",
       "    </tr>\n",
       "    <tr>\n",
       "      <th>6</th>\n",
       "      <td>TXN000193</td>\n",
       "      <td>2023-06-24</td>\n",
       "      <td>CUST2281</td>\n",
       "      <td>126</td>\n",
       "      <td>4.0</td>\n",
       "      <td>49.48</td>\n",
       "      <td>Alpha Corp</td>\n",
       "      <td>Monitor</td>\n",
       "      <td>Accessories</td>\n",
       "      <td>858.39</td>\n",
       "      <td>no</td>\n",
       "      <td>Los Angeles</td>\n",
       "      <td>Manager_2</td>\n",
       "      <td>2011-04-17</td>\n",
       "      <td>5425306.21</td>\n",
       "    </tr>\n",
       "    <tr>\n",
       "      <th>7</th>\n",
       "      <td>TXN000223</td>\n",
       "      <td>2023-03-15</td>\n",
       "      <td>CUST4420</td>\n",
       "      <td>135</td>\n",
       "      <td>2.0</td>\n",
       "      <td>835.07</td>\n",
       "      <td>Beta Ltd</td>\n",
       "      <td>Monitor</td>\n",
       "      <td>Accessories</td>\n",
       "      <td>846.23</td>\n",
       "      <td>No</td>\n",
       "      <td>Houston</td>\n",
       "      <td>Manager_5</td>\n",
       "      <td>2011-07-13</td>\n",
       "      <td>8284314.53</td>\n",
       "    </tr>\n",
       "    <tr>\n",
       "      <th>8</th>\n",
       "      <td>TXN000242</td>\n",
       "      <td>2023-01-26</td>\n",
       "      <td>CUST2062</td>\n",
       "      <td>143</td>\n",
       "      <td>5.0</td>\n",
       "      <td>547.94</td>\n",
       "      <td>Alpha</td>\n",
       "      <td>Monitor</td>\n",
       "      <td>Office</td>\n",
       "      <td>364.63</td>\n",
       "      <td>Y</td>\n",
       "      <td>Chicago</td>\n",
       "      <td>Manager_3</td>\n",
       "      <td>2014-03-04</td>\n",
       "      <td>6084626.88</td>\n",
       "    </tr>\n",
       "    <tr>\n",
       "      <th>9</th>\n",
       "      <td>TXN000248</td>\n",
       "      <td>2023-12-05</td>\n",
       "      <td>CUST8419</td>\n",
       "      <td>157</td>\n",
       "      <td>9.0</td>\n",
       "      <td>127.00</td>\n",
       "      <td>Gamma Corp</td>\n",
       "      <td>Printer</td>\n",
       "      <td>Accessories</td>\n",
       "      <td>734.13</td>\n",
       "      <td>Y</td>\n",
       "      <td>New York</td>\n",
       "      <td>Manager_10</td>\n",
       "      <td>2015-11-19</td>\n",
       "      <td>4393285.48</td>\n",
       "    </tr>\n",
       "  </tbody>\n",
       "</table>\n",
       "</div>"
      ],
      "text/plain": [
       "  Transaction_ID       Date Customer_ID  Product_ID  Units_Sold  Sale_Amount  \\\n",
       "0      TXN000005 2023-03-20    CUST6193         135         7.0          NaN   \n",
       "1      TXN000039 2023-07-02    CUST8104         119         7.0       627.78   \n",
       "2      TXN000080 2023-09-13         NaN         129         9.0       730.42   \n",
       "3      TXN000093 2023-05-28    CUST5003         154         9.0       391.09   \n",
       "4      TXN000121 2023-01-12    CUST9254         144         3.0          NaN   \n",
       "5      TXN000162 2023-12-31    CUST2469         165         2.0       571.11   \n",
       "6      TXN000193 2023-06-24    CUST2281         126         4.0        49.48   \n",
       "7      TXN000223 2023-03-15    CUST4420         135         2.0       835.07   \n",
       "8      TXN000242 2023-01-26    CUST2062         143         5.0       547.94   \n",
       "9      TXN000248 2023-12-05    CUST8419         157         9.0       127.00   \n",
       "\n",
       "   Store_Name Product_Name     Category    Price Discontinued     Location  \\\n",
       "0    Beta Ltd      Monitor  Accessories   846.23           No      Houston   \n",
       "1   Delta INC      Printer       Office   706.15            N     New York   \n",
       "2   Alpha INC      Monitor  Accessories   113.78           no      Houston   \n",
       "3   Beta Corp        Phone       Office   439.94            N  Los Angeles   \n",
       "4   Alpha Ltd      Printer  Accessories   902.08            Y      Houston   \n",
       "5      Alpha        Laptop       Office  1267.34          yes      Chicago   \n",
       "6  Alpha Corp      Monitor  Accessories   858.39           no  Los Angeles   \n",
       "7    Beta Ltd      Monitor  Accessories   846.23           No      Houston   \n",
       "8      Alpha       Monitor       Office   364.63            Y      Chicago   \n",
       "9  Gamma Corp      Printer  Accessories   734.13            Y     New York   \n",
       "\n",
       "      Manager Open_Since  Annual_Revenue  \n",
       "0   Manager_5 2011-07-13      8284314.53  \n",
       "1  Manager_12 2017-03-08      6844202.48  \n",
       "2   Manager_0 2015-09-14      3835885.30  \n",
       "3   Manager_6 2011-10-27      4824945.84  \n",
       "4   Manager_1 2017-10-15      5765173.09  \n",
       "5   Manager_3 2014-03-04      6084626.88  \n",
       "6   Manager_2 2011-04-17      5425306.21  \n",
       "7   Manager_5 2011-07-13      8284314.53  \n",
       "8   Manager_3 2014-03-04      6084626.88  \n",
       "9  Manager_10 2015-11-19      4393285.48  "
      ]
     },
     "execution_count": 8,
     "metadata": {},
     "output_type": "execute_result"
    }
   ],
   "source": [
    "#Merging Sales transaction and Store info tables\n",
    "data_merged2 = pd.merge(data_merged1, Store_Info, on='Store_Name', how='inner')\n",
    "data_merged2.head(10)"
   ]
  },
  {
   "cell_type": "code",
   "execution_count": 9,
   "id": "a5c30e51-3641-491b-acf4-4cf69f1feb97",
   "metadata": {},
   "outputs": [
    {
     "name": "stdout",
     "output_type": "stream",
     "text": [
      "<class 'pandas.core.frame.DataFrame'>\n",
      "RangeIndex: 3944 entries, 0 to 3943\n",
      "Data columns (total 15 columns):\n",
      " #   Column          Non-Null Count  Dtype         \n",
      "---  ------          --------------  -----         \n",
      " 0   Transaction_ID  3944 non-null   object        \n",
      " 1   Date            3944 non-null   datetime64[ns]\n",
      " 2   Customer_ID     3746 non-null   object        \n",
      " 3   Product_ID      3944 non-null   int64         \n",
      " 4   Units_Sold      3725 non-null   float64       \n",
      " 5   Sale_Amount     3740 non-null   float64       \n",
      " 6   Store_Name      3944 non-null   object        \n",
      " 7   Product_Name    3944 non-null   object        \n",
      " 8   Category        3944 non-null   object        \n",
      " 9   Price           3944 non-null   float64       \n",
      " 10  Discontinued    3944 non-null   object        \n",
      " 11  Location        3944 non-null   object        \n",
      " 12  Manager         3944 non-null   object        \n",
      " 13  Open_Since      3944 non-null   datetime64[ns]\n",
      " 14  Annual_Revenue  3944 non-null   float64       \n",
      "dtypes: datetime64[ns](2), float64(4), int64(1), object(8)\n",
      "memory usage: 462.3+ KB\n"
     ]
    }
   ],
   "source": [
    "#Information about the data and their datatypes\n",
    "data_merged2.info()"
   ]
  },
  {
   "cell_type": "code",
   "execution_count": 10,
   "id": "146d7bd4-93b2-4e36-a58f-33d96c070efc",
   "metadata": {},
   "outputs": [
    {
     "data": {
      "text/plain": [
       "Transaction_ID      0\n",
       "Date                0\n",
       "Customer_ID       198\n",
       "Product_ID          0\n",
       "Units_Sold        219\n",
       "Sale_Amount       204\n",
       "Store_Name          0\n",
       "Product_Name        0\n",
       "Category            0\n",
       "Price               0\n",
       "Discontinued        0\n",
       "Location            0\n",
       "Manager             0\n",
       "Open_Since          0\n",
       "Annual_Revenue      0\n",
       "dtype: int64"
      ]
     },
     "execution_count": 10,
     "metadata": {},
     "output_type": "execute_result"
    }
   ],
   "source": [
    "#Inspecting for columns with null values\n",
    "data_merged2.isnull().sum()"
   ]
  },
  {
   "cell_type": "markdown",
   "id": "6f5441d9-37be-4514-bb51-629354b98487",
   "metadata": {},
   "source": [
    "Sales amount column has 204 null cells, Customer_ID column has 198 null cells, unit sold column has 219 null cells.\n",
    "we will remove  all the null values since they cannot be accounted for."
   ]
  },
  {
   "cell_type": "code",
   "execution_count": 11,
   "id": "f288b9cf-3fe6-4360-9e6b-6ec916aa29e3",
   "metadata": {},
   "outputs": [],
   "source": [
    "# Remove rows with null values in 'Customer_ID', 'Units_Sold and Sales_Amount columns respectively\n",
    "data_merged2 = data_merged2.dropna(subset=['Customer_ID','Units_Sold','Sale_Amount'])"
   ]
  },
  {
   "cell_type": "code",
   "execution_count": 12,
   "id": "514b6418-c315-4399-8352-f1cd8e941b73",
   "metadata": {},
   "outputs": [
    {
     "data": {
      "text/plain": [
       "Transaction_ID    0\n",
       "Date              0\n",
       "Customer_ID       0\n",
       "Product_ID        0\n",
       "Units_Sold        0\n",
       "Sale_Amount       0\n",
       "Store_Name        0\n",
       "Product_Name      0\n",
       "Category          0\n",
       "Price             0\n",
       "Discontinued      0\n",
       "Location          0\n",
       "Manager           0\n",
       "Open_Since        0\n",
       "Annual_Revenue    0\n",
       "dtype: int64"
      ]
     },
     "execution_count": 12,
     "metadata": {},
     "output_type": "execute_result"
    }
   ],
   "source": [
    "data_merged2.isna().sum()"
   ]
  },
  {
   "cell_type": "code",
   "execution_count": 13,
   "id": "253b2c82-455a-464a-a1bb-07e670f06c48",
   "metadata": {},
   "outputs": [
    {
     "data": {
      "text/plain": [
       "array(['New York', 'Los Angeles', 'Chicago', 'Houston'], dtype=object)"
      ]
     },
     "execution_count": 13,
     "metadata": {},
     "output_type": "execute_result"
    }
   ],
   "source": [
    "data_merged2[\"Location\"].unique()"
   ]
  },
  {
   "cell_type": "code",
   "execution_count": 14,
   "id": "a8e89f65-774b-4fa6-b278-9d5d720e5662",
   "metadata": {},
   "outputs": [
    {
     "data": {
      "text/plain": [
       "array(['N', 'yes', 'no', 'No', 'Y', 'Yes'], dtype=object)"
      ]
     },
     "execution_count": 14,
     "metadata": {},
     "output_type": "execute_result"
    }
   ],
   "source": [
    "data_merged2[\"Discontinued\"].unique()"
   ]
  },
  {
   "cell_type": "code",
   "execution_count": 15,
   "id": "f592f910-345e-4ba5-b056-27d624a86657",
   "metadata": {},
   "outputs": [
    {
     "data": {
      "text/plain": [
       "array(['N', 'Yes', 'No', 'Y'], dtype=object)"
      ]
     },
     "execution_count": 15,
     "metadata": {},
     "output_type": "execute_result"
    }
   ],
   "source": [
    "#to have a consistent response for the discontinued column via using capitalize\n",
    "data_merged2[\"Discontinued\"] = data_merged2[\"Discontinued\"].str.capitalize()\n",
    "data_merged2[\"Discontinued\"].unique()"
   ]
  },
  {
   "cell_type": "code",
   "execution_count": 16,
   "id": "40a93bc8-68e4-472f-80d8-08c29a10bb7e",
   "metadata": {},
   "outputs": [
    {
     "data": {
      "text/plain": [
       "array(['No', 'Yes'], dtype=object)"
      ]
     },
     "execution_count": 16,
     "metadata": {},
     "output_type": "execute_result"
    }
   ],
   "source": [
    "#to have a unique value yes/no for the discontinued colum we use the replace () function\n",
    "data_merged2[\"Discontinued\"]= data_merged2[\"Discontinued\"].replace({\"N\":\"No\", \"Y\":\"Yes\"})\n",
    "data_merged2[\"Discontinued\"].unique()"
   ]
  },
  {
   "cell_type": "code",
   "execution_count": 17,
   "id": "8365bb13-986e-4ab7-91d9-61feacb18330",
   "metadata": {},
   "outputs": [
    {
     "data": {
      "text/html": [
       "<div>\n",
       "<style scoped>\n",
       "    .dataframe tbody tr th:only-of-type {\n",
       "        vertical-align: middle;\n",
       "    }\n",
       "\n",
       "    .dataframe tbody tr th {\n",
       "        vertical-align: top;\n",
       "    }\n",
       "\n",
       "    .dataframe thead th {\n",
       "        text-align: right;\n",
       "    }\n",
       "</style>\n",
       "<table border=\"1\" class=\"dataframe\">\n",
       "  <thead>\n",
       "    <tr style=\"text-align: right;\">\n",
       "      <th></th>\n",
       "      <th>Date</th>\n",
       "      <th>Product_ID</th>\n",
       "      <th>Units_Sold</th>\n",
       "      <th>Sale_Amount</th>\n",
       "      <th>Price</th>\n",
       "      <th>Open_Since</th>\n",
       "      <th>Annual_Revenue</th>\n",
       "    </tr>\n",
       "  </thead>\n",
       "  <tbody>\n",
       "    <tr>\n",
       "      <th>count</th>\n",
       "      <td>3357</td>\n",
       "      <td>3357.000000</td>\n",
       "      <td>3357.000000</td>\n",
       "      <td>3357.000000</td>\n",
       "      <td>3357.000000</td>\n",
       "      <td>3357</td>\n",
       "      <td>3.357000e+03</td>\n",
       "    </tr>\n",
       "    <tr>\n",
       "      <th>mean</th>\n",
       "      <td>2023-06-30 13:44:27.024128512</td>\n",
       "      <td>150.161156</td>\n",
       "      <td>5.529937</td>\n",
       "      <td>505.002872</td>\n",
       "      <td>748.118371</td>\n",
       "      <td>2014-12-15 04:38:23.485254656</td>\n",
       "      <td>5.471341e+06</td>\n",
       "    </tr>\n",
       "    <tr>\n",
       "      <th>min</th>\n",
       "      <td>2023-01-01 00:00:00</td>\n",
       "      <td>100.000000</td>\n",
       "      <td>1.000000</td>\n",
       "      <td>10.180000</td>\n",
       "      <td>109.070000</td>\n",
       "      <td>2010-08-15 00:00:00</td>\n",
       "      <td>1.235296e+06</td>\n",
       "    </tr>\n",
       "    <tr>\n",
       "      <th>25%</th>\n",
       "      <td>2023-03-31 00:00:00</td>\n",
       "      <td>125.000000</td>\n",
       "      <td>3.000000</td>\n",
       "      <td>261.610000</td>\n",
       "      <td>364.630000</td>\n",
       "      <td>2011-10-27 00:00:00</td>\n",
       "      <td>4.393285e+06</td>\n",
       "    </tr>\n",
       "    <tr>\n",
       "      <th>50%</th>\n",
       "      <td>2023-06-30 00:00:00</td>\n",
       "      <td>151.000000</td>\n",
       "      <td>6.000000</td>\n",
       "      <td>507.530000</td>\n",
       "      <td>751.800000</td>\n",
       "      <td>2015-07-06 00:00:00</td>\n",
       "      <td>5.583633e+06</td>\n",
       "    </tr>\n",
       "    <tr>\n",
       "      <th>75%</th>\n",
       "      <td>2023-10-02 00:00:00</td>\n",
       "      <td>175.000000</td>\n",
       "      <td>8.000000</td>\n",
       "      <td>753.370000</td>\n",
       "      <td>1017.540000</td>\n",
       "      <td>2017-03-08 00:00:00</td>\n",
       "      <td>6.844202e+06</td>\n",
       "    </tr>\n",
       "    <tr>\n",
       "      <th>max</th>\n",
       "      <td>2023-12-31 00:00:00</td>\n",
       "      <td>199.000000</td>\n",
       "      <td>10.000000</td>\n",
       "      <td>999.760000</td>\n",
       "      <td>1490.260000</td>\n",
       "      <td>2020-06-26 00:00:00</td>\n",
       "      <td>9.778916e+06</td>\n",
       "    </tr>\n",
       "    <tr>\n",
       "      <th>std</th>\n",
       "      <td>NaN</td>\n",
       "      <td>29.002003</td>\n",
       "      <td>2.857994</td>\n",
       "      <td>284.450302</td>\n",
       "      <td>395.026937</td>\n",
       "      <td>NaN</td>\n",
       "      <td>2.244280e+06</td>\n",
       "    </tr>\n",
       "  </tbody>\n",
       "</table>\n",
       "</div>"
      ],
      "text/plain": [
       "                                Date   Product_ID   Units_Sold  Sale_Amount  \\\n",
       "count                           3357  3357.000000  3357.000000  3357.000000   \n",
       "mean   2023-06-30 13:44:27.024128512   150.161156     5.529937   505.002872   \n",
       "min              2023-01-01 00:00:00   100.000000     1.000000    10.180000   \n",
       "25%              2023-03-31 00:00:00   125.000000     3.000000   261.610000   \n",
       "50%              2023-06-30 00:00:00   151.000000     6.000000   507.530000   \n",
       "75%              2023-10-02 00:00:00   175.000000     8.000000   753.370000   \n",
       "max              2023-12-31 00:00:00   199.000000    10.000000   999.760000   \n",
       "std                              NaN    29.002003     2.857994   284.450302   \n",
       "\n",
       "             Price                     Open_Since  Annual_Revenue  \n",
       "count  3357.000000                           3357    3.357000e+03  \n",
       "mean    748.118371  2014-12-15 04:38:23.485254656    5.471341e+06  \n",
       "min     109.070000            2010-08-15 00:00:00    1.235296e+06  \n",
       "25%     364.630000            2011-10-27 00:00:00    4.393285e+06  \n",
       "50%     751.800000            2015-07-06 00:00:00    5.583633e+06  \n",
       "75%    1017.540000            2017-03-08 00:00:00    6.844202e+06  \n",
       "max    1490.260000            2020-06-26 00:00:00    9.778916e+06  \n",
       "std     395.026937                            NaN    2.244280e+06  "
      ]
     },
     "execution_count": 17,
     "metadata": {},
     "output_type": "execute_result"
    }
   ],
   "source": [
    "data_merged2.describe()"
   ]
  },
  {
   "cell_type": "markdown",
   "id": "6b855fcd-9150-4b28-ae1d-07d38a3260aa",
   "metadata": {},
   "source": [
    "## 3.\tWhat are the total sales per product category?"
   ]
  },
  {
   "cell_type": "code",
   "execution_count": 18,
   "id": "b508a210-26c7-4207-8b57-584ba2f98bcd",
   "metadata": {},
   "outputs": [
    {
     "data": {
      "text/plain": [
       "Category\n",
       "Accessories    409024.13\n",
       "Electronics    639724.52\n",
       "Office         646545.99\n",
       "Name: Sale_Amount, dtype: float64"
      ]
     },
     "execution_count": 18,
     "metadata": {},
     "output_type": "execute_result"
    }
   ],
   "source": [
    "#3.\tWhat are the total sales per product category?\n",
    "total_sale_cat = data_merged2.groupby([\"Category\"])[\"Sale_Amount\"].sum()\n",
    "total_sale_cat"
   ]
  },
  {
   "cell_type": "code",
   "execution_count": 35,
   "id": "22bc6ab8-10fc-436c-b518-71a9e897b209",
   "metadata": {},
   "outputs": [
    {
     "data": {
      "image/png": "[encoded data removed]",
      "text/plain": [
       "<Figure size 600x500 with 1 Axes>"
      ]
     },
     "metadata": {},
     "output_type": "display_data"
    }
   ],
   "source": [
    "#Vizualisation\n",
    "plt.figure(figsize=(6, 5))\n",
    "plt.grid(True)\n",
    "plt.bar(total_sale_cat.index, total_sale_cat.values)  # Use .values for data\n",
    "\n",
    "plt.xlabel('Categories')  # Optional: Add x-axis label\n",
    "plt.ylabel('Total Sales')  # Optional: Add y-axis label\n",
    "plt.title('Total Sales by Category')  # Optional: Add title\n",
    "plt.xticks(rotation=45) # Optional: Rotate x-axis labels for better visibility\n",
    "plt.show()\n"
   ]
  },
  {
   "cell_type": "code",
   "execution_count": 45,
   "id": "884f009f-f703-41e7-b361-2a91165135c2",
   "metadata": {},
   "outputs": [
    {
     "data": {
      "image/png": "[encoded data removed]",
      "text/plain": [
       "<Figure size 800x700 with 1 Axes>"
      ]
     },
     "metadata": {},
     "output_type": "display_data"
    }
   ],
   "source": [
    "plt.figure(figsize=(8,7))\n",
    "x =total_sale_cat.values\n",
    "labels = labels\n",
    "plt.pie(x,labels=labels, explode=[0.058, 0,0])\n",
    "plt.show()"
   ]
  },
  {
   "cell_type": "code",
   "execution_count": 46,
   "id": "679e9f84-3288-42c3-9688-7e8a56297139",
   "metadata": {},
   "outputs": [
    {
     "data": {
      "text/plain": [
       "Store_Name\n",
       "Alpha Corp     91362.14\n",
       "Beta INC       92517.47\n",
       "Gamma Ltd      94387.85\n",
       "Gamma Corp     98980.75\n",
       "Delta Corp    102604.47\n",
       "Beta Ltd      104016.59\n",
       "Gamma         104108.28\n",
       "Beta          106078.92\n",
       "Gamma INC     106104.71\n",
       "Delta Ltd     106390.67\n",
       "Alpha INC     107022.24\n",
       "Alpha Ltd     111791.84\n",
       "Alpha         112745.26\n",
       "Delta         114031.24\n",
       "Beta Corp     120246.68\n",
       "Delta INC     122905.53\n",
       "Name: Sale_Amount, dtype: float64"
      ]
     },
     "execution_count": 46,
     "metadata": {},
     "output_type": "execute_result"
    }
   ],
   "source": [
    "# 4.\tWhich stores had the highest and lowest revenue in 2023?\n",
    "store_sales= data_merged2.groupby([\"Store_Name\"])[\"Sale_Amount\"].sum().sort_values()\n",
    "store_sales"
   ]
  },
  {
   "cell_type": "code",
   "execution_count": 49,
   "id": "50abcb55-0ad3-4054-9371-e5398b55719f",
   "metadata": {},
   "outputs": [
    {
     "data": {
      "image/png": "[encoded data removed]",
      "text/plain": [
       "<Figure size 640x480 with 1 Axes>"
      ]
     },
     "metadata": {},
     "output_type": "display_data"
    }
   ],
   "source": [
    "x = store_sales.index\n",
    "y = store_sales.values\n",
    "plt.bar(x,y)\n",
    "plt.xticks(rotation=90)\n",
    "plt.show()\n"
   ]
  },
  {
   "cell_type": "code",
   "execution_count": 22,
   "id": "7cae4ccc-0f01-4ca8-a2b9-49e32fa417f7",
   "metadata": {},
   "outputs": [
    {
     "data": {
      "text/plain": [
       "Store_Name\n",
       "Alpha Corp     91362.14\n",
       "Beta INC       92517.47\n",
       "Gamma Ltd      94387.85\n",
       "Gamma Corp     98980.75\n",
       "Delta Corp    102604.47\n",
       "Beta Ltd      104016.59\n",
       "Gamma         104108.28\n",
       "Beta          106078.92\n",
       "Gamma INC     106104.71\n",
       "Delta Ltd     106390.67\n",
       "Alpha INC     107022.24\n",
       "Alpha Ltd     111791.84\n",
       "Alpha         112745.26\n",
       "Delta         114031.24\n",
       "Beta Corp     120246.68\n",
       "Delta INC     122905.53\n",
       "Name: Sale_Amount, dtype: float64"
      ]
     },
     "execution_count": 22,
     "metadata": {},
     "output_type": "execute_result"
    }
   ],
   "source": [
    "hi_low_rev = data_merged2.groupby([\"Store_Name\"])[\"Sale_Amount\"].sum().sort_values()\n",
    "hi_low_rev"
   ]
  },
  {
   "cell_type": "code",
   "execution_count": 23,
   "id": "9a19b156-2258-47ac-bb03-18cf9d694576",
   "metadata": {},
   "outputs": [
    {
     "data": {
      "image/png": "[encoded data removed]",
      "text/plain": [
       "<Figure size 600x500 with 1 Axes>"
      ]
     },
     "metadata": {},
     "output_type": "display_data"
    }
   ],
   "source": [
    "#visualisation\n",
    "plt.figure(figsize=(6, 5))\n",
    "plt.grid(True)\n",
    "plt.barh(hi_low_rev.index, hi_low_rev.values)\n",
    "plt.title(\"The stores with the highest and lowest revenue in 2023\")\n",
    "plt.xlabel('Revenue ($)')  \n",
    "plt.ylabel('Store Name')\n",
    "plt.xticks(rotation=90)\n",
    "plt.show()"
   ]
  },
  {
   "cell_type": "markdown",
   "id": "0f4939a4-3396-4f36-ab90-56b09c3ea6a2",
   "metadata": {},
   "source": [
    "the store with the lowest sale is the Alpha Corp (with revenue of  91362.14USD),\n",
    "\n",
    "while the store with the highest sale is the Delta INC (with a revenue of  122905.53USD)"
   ]
  },
  {
   "cell_type": "code",
   "execution_count": 24,
   "id": "9bb304f2-0686-4432-b0a6-4ba9762b9b0f",
   "metadata": {},
   "outputs": [
    {
     "data": {
      "text/plain": [
       "Date\n",
       "2023-01    145925.65\n",
       "2023-02    128194.53\n",
       "2023-03    144380.16\n",
       "2023-04    146892.11\n",
       "2023-05    138168.94\n",
       "2023-06    125933.84\n",
       "2023-07    150634.58\n",
       "2023-08    138065.48\n",
       "2023-09    126114.23\n",
       "2023-10    152227.24\n",
       "2023-11    154192.22\n",
       "2023-12    144565.66\n",
       "Freq: M, Name: Sale_Amount, dtype: float64"
      ]
     },
     "execution_count": 24,
     "metadata": {},
     "output_type": "execute_result"
    }
   ],
   "source": [
    "#5.\tWhat is the monthly sales trend across all stores?\n",
    "monthly_sales =data_merged2.groupby(data_merged2[\"Date\"].dt.to_period(\"M\"))[\"Sale_Amount\"].sum().sort_index()\n",
    "monthly_sales"
   ]
  },
  {
   "cell_type": "code",
   "execution_count": 52,
   "id": "d255234c-3895-4665-a868-6bfd90738e33",
   "metadata": {},
   "outputs": [
    {
     "data": {
      "image/png": "[encoded data removed]",
      "text/plain": [
       "<Figure size 800x600 with 1 Axes>"
      ]
     },
     "metadata": {},
     "output_type": "display_data"
    }
   ],
   "source": [
    "plt.figure(figsize=(8, 6))  # Adjusted for better readability\n",
    "plt.grid(True)  \n",
    "plt.plot(monthly_sales.index.astype(str), monthly_sales.values,marker='o',  color='blue', linewidth=2)  # Added markers & styling\n",
    "plt.title(\"Monthly Sales Trend Across All Stores\", fontsize=14)\n",
    "plt.xlabel(\"Month\", fontsize=12)\n",
    "plt.ylabel(\"Total Sales Amount\", fontsize=12)\n",
    "plt.xticks(rotation=90)  # Rotate x-labels for better readability\n",
    "plt.tight_layout()  # Prevent label cutoff\n",
    "plt.show()"
   ]
  },
  {
   "cell_type": "code",
   "execution_count": 26,
   "id": "762f42e3-6ce8-40b6-b6cb-8e819c5fb389",
   "metadata": {},
   "outputs": [
    {
     "name": "stdout",
     "output_type": "stream",
     "text": [
      "the month with the highest sales: 2023-11\n",
      "the month with the lowest sales: 2023-06\n"
     ]
    }
   ],
   "source": [
    "print(f'the month with the highest sales: {monthly_sales.idxmax()}')\n",
    "print(f'the month with the lowest sales: {monthly_sales.idxmin()}')"
   ]
  },
  {
   "cell_type": "markdown",
   "id": "2a13eb02-4e94-4e97-9475-cccb29fadaa4",
   "metadata": {},
   "source": [
    "## 6.Which products are top-selling by unit volume and revenue?"
   ]
  },
  {
   "cell_type": "code",
   "execution_count": 27,
   "id": "93e62477-87c1-4481-b7fa-a04d33ea2713",
   "metadata": {},
   "outputs": [
    {
     "data": {
      "text/plain": [
       "Units_Sold  Product_Name\n",
       "1.0         Laptop          30331.98\n",
       "            Monitor         28233.14\n",
       "            Phone           28152.42\n",
       "            Printer         46144.63\n",
       "            Tablet          32366.98\n",
       "2.0         Laptop          36484.81\n",
       "            Monitor         38684.20\n",
       "            Phone           15549.72\n",
       "            Printer         38159.01\n",
       "            Tablet          38001.39\n",
       "3.0         Laptop          45839.73\n",
       "            Monitor         35187.36\n",
       "            Phone           18097.23\n",
       "            Printer         40016.48\n",
       "            Tablet          30132.22\n",
       "4.0         Laptop          25386.29\n",
       "            Monitor         44170.30\n",
       "            Phone           18350.91\n",
       "            Printer         46887.58\n",
       "            Tablet          42280.98\n",
       "5.0         Laptop          52765.56\n",
       "            Monitor         40184.98\n",
       "            Phone           13129.77\n",
       "            Printer         38523.19\n",
       "            Tablet          33156.88\n",
       "6.0         Laptop          49275.79\n",
       "            Monitor         43028.57\n",
       "            Phone           14594.38\n",
       "            Printer         36980.14\n",
       "            Tablet          27960.14\n",
       "7.0         Laptop          38467.26\n",
       "            Monitor         37076.79\n",
       "            Phone           23534.06\n",
       "            Printer         38778.40\n",
       "            Tablet          36015.23\n",
       "8.0         Laptop          31017.21\n",
       "            Monitor         35950.38\n",
       "            Phone           15199.40\n",
       "            Printer         44001.96\n",
       "            Tablet          41734.93\n",
       "9.0         Laptop          37612.59\n",
       "            Monitor         32974.66\n",
       "            Phone           17239.65\n",
       "            Printer         36476.93\n",
       "            Tablet          35633.19\n",
       "10.0        Laptop          36488.18\n",
       "            Monitor         40701.69\n",
       "            Phone           14427.47\n",
       "            Printer         35116.00\n",
       "            Tablet          38791.90\n",
       "Name: Sale_Amount, dtype: float64"
      ]
     },
     "execution_count": 27,
     "metadata": {},
     "output_type": "execute_result"
    }
   ],
   "source": [
    "# 6.Which products are top-selling by unit volume and revenue?\n",
    "prod_sold = data_merged2.groupby(['Units_Sold','Product_Name'])['Sale_Amount'].sum()\n",
    "prod_sold"
   ]
  },
  {
   "cell_type": "code",
   "execution_count": 28,
   "id": "399dd4d8-0df8-484d-afd9-f1cd7cffdbb1",
   "metadata": {},
   "outputs": [],
   "source": [
    "top_sale={}\n",
    "for product in data_merged2[\"Product_Name\"].unique():\n",
    "    product_df= data_merged2[data_merged2[\"Product_Name\"]==product]\n",
    "    sum_sales= data_merged2.groupby(\"Date\")[\"Sale_Amount\"].sum()\n",
    "    top_sale.update({product:sum_sales})"
   ]
  },
  {
   "cell_type": "code",
   "execution_count": 29,
   "id": "b0ecd794-833b-46ad-ae71-a1b792998a8c",
   "metadata": {},
   "outputs": [
    {
     "data": {
      "text/plain": [
       "{'Printer': Date\n",
       " 2023-01-01    3256.41\n",
       " 2023-01-02    4021.98\n",
       " 2023-01-03    9702.72\n",
       " 2023-01-04    6069.85\n",
       " 2023-01-05    5316.00\n",
       "                ...   \n",
       " 2023-12-27    6632.87\n",
       " 2023-12-28    6186.48\n",
       " 2023-12-29    3954.88\n",
       " 2023-12-30    3655.59\n",
       " 2023-12-31    7046.55\n",
       " Name: Sale_Amount, Length: 365, dtype: float64,\n",
       " 'Phone': Date\n",
       " 2023-01-01    3256.41\n",
       " 2023-01-02    4021.98\n",
       " 2023-01-03    9702.72\n",
       " 2023-01-04    6069.85\n",
       " 2023-01-05    5316.00\n",
       "                ...   \n",
       " 2023-12-27    6632.87\n",
       " 2023-12-28    6186.48\n",
       " 2023-12-29    3954.88\n",
       " 2023-12-30    3655.59\n",
       " 2023-12-31    7046.55\n",
       " Name: Sale_Amount, Length: 365, dtype: float64,\n",
       " 'Laptop': Date\n",
       " 2023-01-01    3256.41\n",
       " 2023-01-02    4021.98\n",
       " 2023-01-03    9702.72\n",
       " 2023-01-04    6069.85\n",
       " 2023-01-05    5316.00\n",
       "                ...   \n",
       " 2023-12-27    6632.87\n",
       " 2023-12-28    6186.48\n",
       " 2023-12-29    3954.88\n",
       " 2023-12-30    3655.59\n",
       " 2023-12-31    7046.55\n",
       " Name: Sale_Amount, Length: 365, dtype: float64,\n",
       " 'Monitor': Date\n",
       " 2023-01-01    3256.41\n",
       " 2023-01-02    4021.98\n",
       " 2023-01-03    9702.72\n",
       " 2023-01-04    6069.85\n",
       " 2023-01-05    5316.00\n",
       "                ...   \n",
       " 2023-12-27    6632.87\n",
       " 2023-12-28    6186.48\n",
       " 2023-12-29    3954.88\n",
       " 2023-12-30    3655.59\n",
       " 2023-12-31    7046.55\n",
       " Name: Sale_Amount, Length: 365, dtype: float64,\n",
       " 'Tablet': Date\n",
       " 2023-01-01    3256.41\n",
       " 2023-01-02    4021.98\n",
       " 2023-01-03    9702.72\n",
       " 2023-01-04    6069.85\n",
       " 2023-01-05    5316.00\n",
       "                ...   \n",
       " 2023-12-27    6632.87\n",
       " 2023-12-28    6186.48\n",
       " 2023-12-29    3954.88\n",
       " 2023-12-30    3655.59\n",
       " 2023-12-31    7046.55\n",
       " Name: Sale_Amount, Length: 365, dtype: float64}"
      ]
     },
     "execution_count": 29,
     "metadata": {},
     "output_type": "execute_result"
    }
   ],
   "source": [
    "top_sale"
   ]
  },
  {
   "cell_type": "code",
   "execution_count": 30,
   "id": "a3b5acc1-7214-4b59-a667-ab63ad6c01e7",
   "metadata": {},
   "outputs": [
    {
     "data": {
      "text/plain": [
       "Date\n",
       "2023-01-01    3256.41\n",
       "2023-01-02    4021.98\n",
       "2023-01-03    9702.72\n",
       "2023-01-04    6069.85\n",
       "2023-01-05    5316.00\n",
       "               ...   \n",
       "2023-12-27    6632.87\n",
       "2023-12-28    6186.48\n",
       "2023-12-29    3954.88\n",
       "2023-12-30    3655.59\n",
       "2023-12-31    7046.55\n",
       "Name: Sale_Amount, Length: 365, dtype: float64"
      ]
     },
     "execution_count": 30,
     "metadata": {},
     "output_type": "execute_result"
    }
   ],
   "source": [
    "top_sale['Laptop']"
   ]
  },
  {
   "cell_type": "code",
   "execution_count": null,
   "id": "e3860661-0374-4c1e-9247-40e0426e14aa",
   "metadata": {},
   "outputs": [],
   "source": []
  },
  {
   "cell_type": "code",
   "execution_count": null,
   "id": "b3dfeccd-892f-4e12-a7d1-ee455e4c0573",
   "metadata": {},
   "outputs": [],
   "source": []
  }
 ],
 "metadata": {
  "kernelspec": {
   "display_name": "Python 3 (ipykernel)",
   "language": "python",
   "name": "python3"
  },
  "language_info": {
   "codemirror_mode": {
    "name": "ipython",
    "version": 3
   },
   "file_extension": ".py",
   "mimetype": "text/x-python",
   "name": "python",
   "nbconvert_exporter": "python",
   "pygments_lexer": "ipython3",
   "version": "3.12.7"
  }
 },
 "nbformat": 4,
 "nbformat_minor": 5
}
