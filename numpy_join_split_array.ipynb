{
 "cells": [
  {
   "cell_type": "code",
   "execution_count": 1,
   "id": "b8d5943c-0081-4ae4-a3b8-58a7cc1835fc",
   "metadata": {},
   "outputs": [],
   "source": [
    "import numpy as np"
   ]
  },
  {
   "cell_type": "code",
   "execution_count": 2,
   "id": "2984d2d3-3626-4521-9c7c-5d231844e00d",
   "metadata": {},
   "outputs": [
    {
     "name": "stdout",
     "output_type": "stream",
     "text": [
      "[[1 2 5 6]\n",
      " [3 4 7 8]]\n"
     ]
    }
   ],
   "source": [
    "#join using concatenate (Horizontal)\n",
    "arr1 = np.array([[1, 2], [3, 4]])\n",
    "\n",
    "arr2 = np.array([[5, 6], [7, 8]])\n",
    "arr_n = np.concatenate((arr1, arr2), axis=1)\n",
    "print(arr_n)"
   ]
  },
  {
   "cell_type": "code",
   "execution_count": 4,
   "id": "d164253b-8692-48b5-b8b5-84d11e7cd181",
   "metadata": {},
   "outputs": [
    {
     "name": "stdout",
     "output_type": "stream",
     "text": [
      "[[ 2  4  6  9  3  1]\n",
      " [ 8 10 12  6  2 10]]\n"
     ]
    }
   ],
   "source": [
    "arr_a =np.array([[2,4,6], [8,10,12]])\n",
    "arr_b =np.array([[9,3,1], [6,2,10]])\n",
    "sum_arr =np.concatenate((arr_a, arr_b), axis=1)\n",
    "print(sum_arr)"
   ]
  },
  {
   "cell_type": "code",
   "execution_count": 5,
   "id": "281fc8d7-4c74-4904-bc56-3afed132e6fa",
   "metadata": {},
   "outputs": [
    {
     "data": {
      "text/plain": [
       "(2, 6)"
      ]
     },
     "execution_count": 5,
     "metadata": {},
     "output_type": "execute_result"
    }
   ],
   "source": [
    "sum_arr.shape"
   ]
  },
  {
   "cell_type": "code",
   "execution_count": 6,
   "id": "7e0df453-b5d8-40a6-a136-780004fd8aa8",
   "metadata": {},
   "outputs": [
    {
     "data": {
      "text/plain": [
       "2"
      ]
     },
     "execution_count": 6,
     "metadata": {},
     "output_type": "execute_result"
    }
   ],
   "source": [
    "sum_arr.ndim"
   ]
  },
  {
   "cell_type": "code",
   "execution_count": 7,
   "id": "de383dc6-3a4c-4391-91be-b3ddf0924d43",
   "metadata": {},
   "outputs": [
    {
     "name": "stdout",
     "output_type": "stream",
     "text": [
      "[[[ 2  4  6]\n",
      "  [ 9  3  1]]\n",
      "\n",
      " [[ 8 10 12]\n",
      "  [ 6  2 10]]]\n"
     ]
    }
   ],
   "source": [
    "#join or combine two or more array (stack ... (vertical))\n",
    "arr_a =np.array([[2,4,6], [8,10,12]])\n",
    "arr_b =np.array([[9,3,1], [6,2,10]])\n",
    "\n",
    "comb_arr = np.stack((arr_a, arr_b), axis=1)\n",
    "\n",
    "print(comb_arr)"
   ]
  },
  {
   "cell_type": "code",
   "execution_count": 8,
   "id": "acb3b459-74b3-41d9-bc8c-3ec6c682afb5",
   "metadata": {},
   "outputs": [
    {
     "data": {
      "text/plain": [
       "(2, 2, 3)"
      ]
     },
     "execution_count": 8,
     "metadata": {},
     "output_type": "execute_result"
    }
   ],
   "source": [
    "comb_arr.shape"
   ]
  },
  {
   "cell_type": "code",
   "execution_count": 9,
   "id": "ed1d734e-0ce1-4fef-b13a-8df1942cb28e",
   "metadata": {},
   "outputs": [
    {
     "data": {
      "text/plain": [
       "3"
      ]
     },
     "execution_count": 9,
     "metadata": {},
     "output_type": "execute_result"
    }
   ],
   "source": [
    "comb_arr.ndim"
   ]
  },
  {
   "cell_type": "code",
   "execution_count": 10,
   "id": "98714ba5-28ca-464e-a367-440c17d4f831",
   "metadata": {},
   "outputs": [
    {
     "name": "stdout",
     "output_type": "stream",
     "text": [
      "[1 2 3 4 5 6]\n"
     ]
    }
   ],
   "source": [
    "#hstack is in single series\n",
    "arr_a = np.array([1, 2, 3])\n",
    "\n",
    "arr_b = np.array([4, 5, 6])\n",
    "\n",
    "arr = np.hstack((arr_a, arr_b))\n",
    "\n",
    "print(arr)"
   ]
  },
  {
   "cell_type": "code",
   "execution_count": 11,
   "id": "7b31b190-8add-4f95-8e3b-9a5f0d790f50",
   "metadata": {},
   "outputs": [
    {
     "data": {
      "text/plain": [
       "(6,)"
      ]
     },
     "execution_count": 11,
     "metadata": {},
     "output_type": "execute_result"
    }
   ],
   "source": [
    "arr.shape"
   ]
  },
  {
   "cell_type": "code",
   "execution_count": 12,
   "id": "2ffee7a6-b4aa-44ae-b2d1-bc75e55b5cbc",
   "metadata": {},
   "outputs": [
    {
     "data": {
      "text/plain": [
       "1"
      ]
     },
     "execution_count": 12,
     "metadata": {},
     "output_type": "execute_result"
    }
   ],
   "source": [
    "arr.ndim"
   ]
  },
  {
   "cell_type": "markdown",
   "id": "e115093c-afcd-4a6e-8d38-e6a18a1d4ea6",
   "metadata": {},
   "source": [
    "convert arr_a = [[2,3],[4,5]]  and arr_b = [[6,8],[4,9]] into a single array using hstack"
   ]
  },
  {
   "cell_type": "code",
   "execution_count": 15,
   "id": "a46042ee-04f2-466c-8b09-fd7a7fcc67a1",
   "metadata": {},
   "outputs": [
    {
     "name": "stdout",
     "output_type": "stream",
     "text": [
      "[[2 3 4 5 6 8 4 9]]\n"
     ]
    }
   ],
   "source": [
    "\n",
    "arr_a = [[2,3,4,5]]\n",
    "arr_b = [[6,8,4,9]]\n",
    "arr_m = np.hstack((arr_a, arr_b))\n",
    "print(arr_m)"
   ]
  },
  {
   "cell_type": "code",
   "execution_count": 18,
   "id": "f15b6886-16f0-4b92-ae50-056c244227c6",
   "metadata": {},
   "outputs": [
    {
     "data": {
      "text/plain": [
       "array([2, 3, 4, 5, 6, 8, 4, 9])"
      ]
     },
     "execution_count": 18,
     "metadata": {},
     "output_type": "execute_result"
    }
   ],
   "source": [
    "new= np.squeeze(arr_m)\n",
    "new"
   ]
  },
  {
   "cell_type": "code",
   "execution_count": 20,
   "id": "a9f75367-2a63-4cb5-974b-f1cebf127d59",
   "metadata": {},
   "outputs": [
    {
     "data": {
      "text/plain": [
       "array([[2, 3, 4, 5],\n",
       "       [6, 8, 4, 9]])"
      ]
     },
     "execution_count": 20,
     "metadata": {},
     "output_type": "execute_result"
    }
   ],
   "source": [
    "new.reshape(2,4)"
   ]
  },
  {
   "cell_type": "raw",
   "id": "a7718300-c710-4924-bc2c-3aa894f16939",
   "metadata": {},
   "source": []
  },
  {
   "cell_type": "code",
   "execution_count": 17,
   "id": "6c809d25-ddb1-42f2-830d-0f79e184ce7e",
   "metadata": {},
   "outputs": [
    {
     "name": "stdout",
     "output_type": "stream",
     "text": [
      "[[[1 4]\n",
      "  [2 5]\n",
      "  [3 6]]]\n"
     ]
    }
   ],
   "source": [
    "#Stacking Along Height (depth)\n",
    "import numpy as np\n",
    "\n",
    "arr1 = np.array([1, 2, 3])\n",
    "\n",
    "arr2 = np.array([4, 5, 6])\n",
    "\n",
    "arr = np.dstack((arr1, arr2))\n",
    "\n",
    "print(arr)"
   ]
  },
  {
   "cell_type": "code",
   "execution_count": 21,
   "id": "7df61f2e-c5df-46c7-b757-19d2e57eac29",
   "metadata": {},
   "outputs": [
    {
     "data": {
      "text/plain": [
       "(1, 3, 2)"
      ]
     },
     "execution_count": 21,
     "metadata": {},
     "output_type": "execute_result"
    }
   ],
   "source": [
    "arr.shape"
   ]
  },
  {
   "cell_type": "code",
   "execution_count": 23,
   "id": "de73aace-8b9c-41ad-8559-8785d42f9d08",
   "metadata": {},
   "outputs": [
    {
     "name": "stdout",
     "output_type": "stream",
     "text": [
      "[[[2 3 5]\n",
      "  [5 2 4]\n",
      "  [3 9 8]]]\n"
     ]
    }
   ],
   "source": [
    "arr_a = np.array([2,5,3])\n",
    "arr_b = np.array([3,2,9])\n",
    "arr_c = np.array([5,4,8])\n",
    "\n",
    "arr_j =np.dstack((arr_a,arr_b,arr_c))\n",
    "print(arr_j)"
   ]
  },
  {
   "cell_type": "code",
   "execution_count": 24,
   "id": "7a653387-753f-4ac7-a670-111dd90893e6",
   "metadata": {},
   "outputs": [
    {
     "name": "stdout",
     "output_type": "stream",
     "text": [
      "[2 5 3 3 2 9 5 4 8]\n"
     ]
    }
   ],
   "source": [
    "arr_p =np.hstack((arr_a,arr_b,arr_c))\n",
    "print(arr_p)"
   ]
  },
  {
   "cell_type": "markdown",
   "id": "053ec73e-7b0a-4b10-8476-e4b3b8f8c3c2",
   "metadata": {},
   "source": [
    "# Splitting NumPy Arrays\n",
    "Splitting is opposite operation of Joining.\n",
    "\n",
    "Joining merges multiple arrays into one and Splitting breaks one array into multiple."
   ]
  },
  {
   "cell_type": "code",
   "execution_count": 29,
   "id": "55a51932-88ba-4088-be7e-ac2c6c7bc530",
   "metadata": {},
   "outputs": [
    {
     "name": "stdout",
     "output_type": "stream",
     "text": [
      "[array([1, 2, 3]), array([4, 5, 6])]\n"
     ]
    }
   ],
   "source": [
    "arr = np.array([1, 2, 3, 4, 5, 6])\n",
    "\n",
    "newarr = np.array_split(arr, 2)\n",
    "\n",
    "print(newarr)"
   ]
  },
  {
   "cell_type": "code",
   "execution_count": 30,
   "id": "20b09fa2-3e28-41c6-a962-34c6e85fcfe2",
   "metadata": {},
   "outputs": [
    {
     "name": "stdout",
     "output_type": "stream",
     "text": [
      "[array([1, 2]), array([3, 4]), array([5]), array([6])]\n"
     ]
    }
   ],
   "source": [
    "arr4 = np.array([1, 2, 3, 4, 5, 6])\n",
    "\n",
    "newarr = np.array_split(arr4, 4)\n",
    "\n",
    "print(newarr)"
   ]
  },
  {
   "cell_type": "code",
   "execution_count": 35,
   "id": "1c163cf8-7d2c-4eea-bcec-23b85f7ac0cd",
   "metadata": {},
   "outputs": [
    {
     "data": {
      "text/plain": [
       "[array([ 0,  1,  2,  3,  4,  5,  6,  7,  8,  9, 10, 11, 12]),\n",
       " array([13, 14, 15, 16, 17, 18, 19, 20, 21, 22, 23, 24, 25]),\n",
       " array([26, 27, 28, 29, 30, 31, 32, 33, 34, 35, 36, 37]),\n",
       " array([38, 39, 40, 41, 42, 43, 44, 45, 46, 47, 48, 49])]"
      ]
     },
     "execution_count": 35,
     "metadata": {},
     "output_type": "execute_result"
    }
   ],
   "source": [
    "## create an array of  numbers from 0 to 50 and split the array into 4 new arrays\n",
    "comb_arr = np.array([i for i in np.arange(0,50)])\n",
    "new= np.array_split(comb_arr, 4)\n",
    "new"
   ]
  },
  {
   "cell_type": "code",
   "execution_count": 37,
   "id": "50e36f6c-1ef6-4eb6-9ca3-e0701c2a56ce",
   "metadata": {},
   "outputs": [
    {
     "data": {
      "text/plain": [
       "array([26, 27, 28, 29, 30, 31, 32, 33, 34, 35, 36, 37])"
      ]
     },
     "execution_count": 37,
     "metadata": {},
     "output_type": "execute_result"
    }
   ],
   "source": [
    "new[2]"
   ]
  },
  {
   "cell_type": "code",
   "execution_count": 38,
   "id": "3a84061e-7557-4e4e-b2cc-497dc5f71a37",
   "metadata": {},
   "outputs": [
    {
     "data": {
      "text/plain": [
       "32"
      ]
     },
     "execution_count": 38,
     "metadata": {},
     "output_type": "execute_result"
    }
   ],
   "source": [
    "new[2][6]"
   ]
  },
  {
   "cell_type": "code",
   "execution_count": 40,
   "id": "b7c19b63-215d-4ce0-91a3-20c83d23947d",
   "metadata": {},
   "outputs": [
    {
     "data": {
      "text/plain": [
       "2"
      ]
     },
     "execution_count": 40,
     "metadata": {},
     "output_type": "execute_result"
    }
   ],
   "source": [
    "new[0][2]"
   ]
  },
  {
   "cell_type": "markdown",
   "id": "d73ef908-b42c-45d1-b41f-56c864622feb",
   "metadata": {},
   "source": [
    "note that: rsplit() , split()  is different array_split()"
   ]
  },
  {
   "cell_type": "markdown",
   "id": "e610ff9e-aff7-4886-8cfc-bb337db14d01",
   "metadata": {},
   "source": [
    "classwork create an array that generates 80 random integers, use the array_split() to split them into 6 new arrays"
   ]
  },
  {
   "cell_type": "code",
   "execution_count": 42,
   "id": "31e99cdc-d690-41c8-b86f-f42ee5e9af5e",
   "metadata": {},
   "outputs": [
    {
     "data": {
      "text/plain": [
       "array([ 3,  6,  7,  8,  9, 10, 11, 12, 13, 14, 15, 16, 17, 18, 19, 20, 21,\n",
       "       22, 23, 24, 25, 26, 27, 28, 29, 30, 31, 32, 33, 34, 35, 36, 37, 38,\n",
       "       39, 40, 41, 42, 43, 44, 45, 46, 47, 48, 49, 50, 51, 52, 53, 54, 55,\n",
       "       56, 57, 58, 59, 60, 61, 62, 63, 64, 65, 66, 67, 68, 69, 70, 71, 72,\n",
       "       73, 74, 75, 76, 77, 78, 79])"
      ]
     },
     "execution_count": 42,
     "metadata": {},
     "output_type": "execute_result"
    }
   ],
   "source": [
    "import random\n",
    "arr1= np.array([i for i in range(80)   if i>= random.randint(1,9)])\n",
    "arr1"
   ]
  },
  {
   "cell_type": "code",
   "execution_count": 43,
   "id": "f6ada78f-0cc7-4a40-bc89-9f69e96ed42f",
   "metadata": {},
   "outputs": [
    {
     "data": {
      "text/plain": [
       "[array([ 3,  6,  7,  8,  9, 10, 11, 12, 13, 14, 15, 16, 17]),\n",
       " array([18, 19, 20, 21, 22, 23, 24, 25, 26, 27, 28, 29, 30]),\n",
       " array([31, 32, 33, 34, 35, 36, 37, 38, 39, 40, 41, 42, 43]),\n",
       " array([44, 45, 46, 47, 48, 49, 50, 51, 52, 53, 54, 55]),\n",
       " array([56, 57, 58, 59, 60, 61, 62, 63, 64, 65, 66, 67]),\n",
       " array([68, 69, 70, 71, 72, 73, 74, 75, 76, 77, 78, 79])]"
      ]
     },
     "execution_count": 43,
     "metadata": {},
     "output_type": "execute_result"
    }
   ],
   "source": [
    "np.array_split(arr1, 6)"
   ]
  },
  {
   "cell_type": "code",
   "execution_count": null,
   "id": "e8cbb114-0367-4d83-a637-46834a3f5b25",
   "metadata": {},
   "outputs": [],
   "source": []
  }
 ],
 "metadata": {
  "kernelspec": {
   "display_name": "Python 3 (ipykernel)",
   "language": "python",
   "name": "python3"
  },
  "language_info": {
   "codemirror_mode": {
    "name": "ipython",
    "version": 3
   },
   "file_extension": ".py",
   "mimetype": "text/x-python",
   "name": "python",
   "nbconvert_exporter": "python",
   "pygments_lexer": "ipython3",
   "version": "3.12.7"
  }
 },
 "nbformat": 4,
 "nbformat_minor": 5
}
