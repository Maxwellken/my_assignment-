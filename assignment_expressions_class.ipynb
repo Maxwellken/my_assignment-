{
 "cells": [
  {
   "cell_type": "markdown",
   "id": "538fa69e-b2ca-463e-a2f9-6bd2d021d7f3",
   "metadata": {},
   "source": [
    "Assignment Expressions"
   ]
  },
  {
   "cell_type": "code",
   "execution_count": 1,
   "id": "b5a0e3aa-e45c-46ba-86d5-9dba2ffecf6b",
   "metadata": {},
   "outputs": [
    {
     "name": "stdout",
     "output_type": "stream",
     "text": [
      "10\n"
     ]
    }
   ],
   "source": [
    "a = 3\n",
    "b=7\n",
    "sum_num= a + b\n",
    "print(sum_num)"
   ]
  },
  {
   "cell_type": "code",
   "execution_count": 4,
   "id": "e1b26333-4f00-4087-aa24-1b4d1ddf00c7",
   "metadata": {},
   "outputs": [
    {
     "data": {
      "text/plain": [
       "1.7320508075688772"
      ]
     },
     "execution_count": 4,
     "metadata": {},
     "output_type": "execute_result"
    }
   ],
   "source": [
    "import math\n",
    "#find the square root of both numbers a and b\n",
    "sq_a = math.sqrt(a)\n",
    "sq_a"
   ]
  },
  {
   "cell_type": "code",
   "execution_count": 5,
   "id": "62253d83-b197-46e1-aa5d-794d443f3f9b",
   "metadata": {},
   "outputs": [
    {
     "data": {
      "text/plain": [
       "1.7320508075688772"
      ]
     },
     "execution_count": 5,
     "metadata": {},
     "output_type": "execute_result"
    }
   ],
   "source": [
    "sq_a2= (a)**(1/2)\n",
    "sq_a2"
   ]
  },
  {
   "cell_type": "code",
   "execution_count": 6,
   "id": "7c619635-5fae-4abd-8034-f60b812bb78c",
   "metadata": {},
   "outputs": [
    {
     "name": "stdout",
     "output_type": "stream",
     "text": [
      "they are the same result\n"
     ]
    }
   ],
   "source": [
    "#check if sqa and sqa_2 are equal\n",
    "if sq_a == sq_a2:\n",
    "    print(\"they are the same result\")\n",
    "else:\n",
    "    print(\"they are not the same result\")"
   ]
  },
  {
   "cell_type": "code",
   "execution_count": 8,
   "id": "f2bbd44f-a645-447a-a696-38535b1cc45c",
   "metadata": {},
   "outputs": [
    {
     "data": {
      "text/plain": [
       "2.646"
      ]
     },
     "execution_count": 8,
     "metadata": {},
     "output_type": "execute_result"
    }
   ],
   "source": [
    "#find the square root of both number b, and round it up to 3 decimal places\n",
    "sq_b = round((b)**0.5, 3)\n",
    "sq_b"
   ]
  },
  {
   "cell_type": "markdown",
   "id": "d07e0ea0-c31a-4b38-b300-c21a466c278d",
   "metadata": {},
   "source": [
    "class work: 1 write a program that recieves two numbers from a user\n",
    "and display (i) the division (2) floor division and (3) modulus of both numbers"
   ]
  },
  {
   "cell_type": "code",
   "execution_count": 11,
   "id": "431d7a87-f727-40c0-ad1b-74e014d4541e",
   "metadata": {},
   "outputs": [
    {
     "name": "stdin",
     "output_type": "stream",
     "text": [
      "Enter the first value: 21\n",
      "Enter the second value: 8\n"
     ]
    },
    {
     "name": "stdout",
     "output_type": "stream",
     "text": [
      "Normal division is =  2.625\n",
      "floor division is =  2\n",
      "modulus is =  5\n"
     ]
    }
   ],
   "source": [
    "num1= int(input(\"Enter the first value:\"))\n",
    "num2= int(input(\"Enter the second value:\"))\n",
    "div1 = num1/num2  #normal division\n",
    "div2 = num1//num2 #floor division\n",
    "div3 = num1%num2 #modulus (remainder)\n",
    "print(\"Normal division is = \", div1)\n",
    "print(\"floor division is = \", div2)\n",
    "print(\"modulus is = \", div3)"
   ]
  },
  {
   "cell_type": "markdown",
   "id": "4a478052-84b2-4e7c-a01a-f0224b946764",
   "metadata": {},
   "source": [
    "class work 2: write a program that accepts value from the user and display if its an odd number or an even number"
   ]
  },
  {
   "cell_type": "code",
   "execution_count": 13,
   "id": "01009b47-dba7-4f9b-8317-528f0d517041",
   "metadata": {},
   "outputs": [
    {
     "name": "stdin",
     "output_type": "stream",
     "text": [
      "enter a value 3\n"
     ]
    },
    {
     "name": "stdout",
     "output_type": "stream",
     "text": [
      " 3 is odd number\n"
     ]
    }
   ],
   "source": [
    "x = int(input('enter a value'))\n",
    "if x%2 == 0:\n",
    "    print(f' {x} is even number')\n",
    "\n",
    "else:\n",
    "    print(f' {x} is odd number')"
   ]
  },
  {
   "cell_type": "markdown",
   "id": "199a1614-322b-4f08-8812-3f9a20549b5b",
   "metadata": {},
   "source": [
    "take home assignment: write a program that accepts any number from the user and say if the number is a negative or a positive number"
   ]
  },
  {
   "cell_type": "markdown",
   "id": "22ffbc03-92e7-4ecf-8b2c-4db9820f58e9",
   "metadata": {},
   "source": [
    "class work 3:\n",
    "the pass mark for a high school class is 50 for each subject. However, a student must pass both English and maths to be promoted on merit, \n",
    "if the student pass at least one of them (english or maths) he/she reseats for the exam, \n",
    "but if the student fails both (eng and maths) the student will repeat the class.\n",
    "write a program that captures this idea.\n"
   ]
  },
  {
   "cell_type": "code",
   "execution_count": 23,
   "id": "f4db0ad7-be4e-40b4-aaa4-844db9598c9e",
   "metadata": {},
   "outputs": [
    {
     "name": "stdin",
     "output_type": "stream",
     "text": [
      "enter score for english subject: 0\n",
      "enter score for math subject: -1\n"
     ]
    },
    {
     "name": "stdout",
     "output_type": "stream",
     "text": [
      "RESEAT EXAM, {eng_score} and {math_score}\n"
     ]
    }
   ],
   "source": [
    "eng_score = int(input(\"enter score for english subject:\"))\n",
    "math_score = int(input(\"enter score for math subject:\"))\n",
    "if eng_score>= 50 and math_score >= 50:\n",
    "    print(\"PROMOTED ON MERIT, {eng_score} and {math_score}\")\n",
    "elif eng_score< 50 or math_score<50:\n",
    "    print(\"RESEAT EXAM, {eng_score} and {math_score}\")\n",
    "elif eng_score<50 and math_score<50:\n",
    "    print(\" REPEAT CLASS, {eng_score} and {math_score}\")\n",
    "else:\n",
    "    print(\"INVALID SCORE ENTERED\")\n",
    "                       "
   ]
  },
  {
   "cell_type": "code",
   "execution_count": 2,
   "id": "7c0695e5-0d68-49c1-b68b-fd9b69956597",
   "metadata": {},
   "outputs": [
    {
     "name": "stdout",
     "output_type": "stream",
     "text": [
      "False\n"
     ]
    }
   ],
   "source": [
    "if range(10,100):\n",
    "    print(100<10)"
   ]
  },
  {
   "cell_type": "code",
   "execution_count": null,
   "id": "f688191b-512d-48ae-b617-e68a1df46a6b",
   "metadata": {},
   "outputs": [],
   "source": []
  },
  {
   "cell_type": "code",
   "execution_count": null,
   "id": "5b80a232-3c14-4f8c-8f05-6d1b8c6d8e7f",
   "metadata": {},
   "outputs": [],
   "source": []
  },
  {
   "cell_type": "code",
   "execution_count": null,
   "id": "22b5859b-b807-423a-8c02-083e815d9314",
   "metadata": {},
   "outputs": [],
   "source": []
  },
  {
   "cell_type": "code",
   "execution_count": null,
   "id": "ebc3d0e5-b204-414a-bf9f-71f894851cc5",
   "metadata": {},
   "outputs": [],
   "source": []
  }
 ],
 "metadata": {
  "kernelspec": {
   "display_name": "Python 3 (ipykernel)",
   "language": "python",
   "name": "python3"
  },
  "language_info": {
   "codemirror_mode": {
    "name": "ipython",
    "version": 3
   },
   "file_extension": ".py",
   "mimetype": "text/x-python",
   "name": "python",
   "nbconvert_exporter": "python",
   "pygments_lexer": "ipython3",
   "version": "3.12.7"
  }
 },
 "nbformat": 4,
 "nbformat_minor": 5
}
