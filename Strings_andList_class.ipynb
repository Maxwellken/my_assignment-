{
 "cells": [
  {
   "cell_type": "markdown",
   "id": "3ca34c0c-828d-4135-8cb4-faaf885cea1c",
   "metadata": {},
   "source": [
    "## class assignment\n",
    "given that q = [30, 45, 23, 12, 89, 79, 235, 0.8, 42,38] , arrange in ascending order, find, minimum and maximum values respectively"
   ]
  },
  {
   "cell_type": "code",
   "execution_count": 1,
   "id": "34e14849-86ce-409c-8f50-995bf919d514",
   "metadata": {},
   "outputs": [
    {
     "name": "stdout",
     "output_type": "stream",
     "text": [
      "sort list: [0.8, 12, 23, 30, 38, 42, 45, 79, 89, 235]\n",
      "minimum value: 0.8\n",
      "maximum value: 235\n"
     ]
    }
   ],
   "source": [
    "# program to find minnmum and maximum in a list\n",
    "a = [30, 45, 23, 12, 89, 79, 235, 0.8, 42, 38]\n",
    "# sort the list\n",
    "a.sort ()\n",
    "#get minimum and maximum\n",
    "minimum = a[0]\n",
    "maximum = a[-1]\n",
    "# output results\n",
    "print(\"sort list:\", a)\n",
    "print(\"minimum value:\", minimum)\n",
    "print(\"maximum value:\", maximum)"
   ]
  },
  {
   "cell_type": "markdown",
   "id": "6e894ea6-b30b-4892-8b44-ffa811df2f4d",
   "metadata": {},
   "source": [
    "using keywords as variable names are prohibited in python, it cannot work. it will throw an error because keywords are in-built in python"
   ]
  },
  {
   "cell_type": "markdown",
   "id": "54296469-da6a-4f04-a226-e45c853e7663",
   "metadata": {},
   "source": [
    "use cammel case (capitalise the first letter) or Snake case (underscore) for variable naming"
   ]
  },
  {
   "cell_type": "code",
   "execution_count": 2,
   "id": "bd6a7255-8d00-4872-8c11-ce611eaf9783",
   "metadata": {},
   "outputs": [],
   "source": [
    "NewCar = \"Benz\"   #Cammel case variable naming\n",
    "old_car = \"Nissan\" #Snake case variable naming\n"
   ]
  },
  {
   "cell_type": "markdown",
   "id": "4ca87845-1f69-4368-8bac-f305b004f560",
   "metadata": {},
   "source": [
    "string is a data structure that cannot be changed, \n",
    "it can use single quote (' '), double quote. the interpreter reads it all the same.\n",
    "\n",
    "but tripple quote is used for long comment ''' we can start coding within seconds and its running smootly'''"
   ]
  },
  {
   "cell_type": "code",
   "execution_count": 3,
   "id": "a60c56d7-3c3e-4bd9-803c-ad676dfd42c1",
   "metadata": {},
   "outputs": [],
   "source": [
    "fname = 'Precious' \n",
    "lname = \"Eseme\""
   ]
  },
  {
   "cell_type": "code",
   "execution_count": 4,
   "id": "c7130d0e-426d-4399-b0b1-e899871152d3",
   "metadata": {},
   "outputs": [
    {
     "data": {
      "text/plain": [
       "'HelloWorld'"
      ]
     },
     "execution_count": 4,
     "metadata": {},
     "output_type": "execute_result"
    }
   ],
   "source": [
    "a = 'Hello' ; b= 'World'\n",
    "c = a + b\n",
    "c"
   ]
  },
  {
   "cell_type": "code",
   "execution_count": 5,
   "id": "28071f06-1463-4e3a-8ed1-b2734efc8dd8",
   "metadata": {},
   "outputs": [
    {
     "data": {
      "text/plain": [
       "'Hello world'"
      ]
     },
     "execution_count": 5,
     "metadata": {},
     "output_type": "execute_result"
    }
   ],
   "source": [
    "a = 'Hello ' \n",
    "b = 'world'\n",
    "c = a + b\n",
    "c"
   ]
  },
  {
   "cell_type": "markdown",
   "id": "4e457e9f-d55e-4002-9e15-0e0d6e9d0f77",
   "metadata": {},
   "source": [
    "hence joining first name and last name can also be achieved using the \"+\" symbol. Note : in string operation + sign is used for concatenation"
   ]
  },
  {
   "cell_type": "code",
   "execution_count": 6,
   "id": "6e690f4e-5ccb-4f8c-ad97-13ec3ef40244",
   "metadata": {},
   "outputs": [
    {
     "data": {
      "text/plain": [
       "'Precious Eseme'"
      ]
     },
     "execution_count": 6,
     "metadata": {},
     "output_type": "execute_result"
    }
   ],
   "source": [
    "fullname = fname+ \" \" + lname\n",
    "fullname"
   ]
  },
  {
   "cell_type": "code",
   "execution_count": 7,
   "id": "f7746bc5-a615-45ac-91ad-f4f6603c3ac1",
   "metadata": {},
   "outputs": [
    {
     "ename": "TypeError",
     "evalue": "can only concatenate str (not \"int\") to str",
     "output_type": "error",
     "traceback": [
      "\u001b[1;31m---------------------------------------------------------------------------\u001b[0m",
      "\u001b[1;31mTypeError\u001b[0m                                 Traceback (most recent call last)",
      "Cell \u001b[1;32mIn[7], line 1\u001b[0m\n\u001b[1;32m----> 1\u001b[0m add_p \u001b[38;5;241m=\u001b[39m fname \u001b[38;5;241m+\u001b[39m \u001b[38;5;241m4\u001b[39m\n\u001b[0;32m      2\u001b[0m add_p\n",
      "\u001b[1;31mTypeError\u001b[0m: can only concatenate str (not \"int\") to str"
     ]
    }
   ],
   "source": [
    "add_p = fname + 4\n",
    "add_p"
   ]
  },
  {
   "cell_type": "markdown",
   "id": "2030bd46-ea63-4e04-9ed9-ac750271949a",
   "metadata": {},
   "source": [
    "you cannot combine or add a string with a numeral , but you can multiply a string with a numeral in python . Hence the above error message"
   ]
  },
  {
   "cell_type": "code",
   "execution_count": null,
   "id": "ff218428-0b58-4558-b008-daa0aa76639e",
   "metadata": {},
   "outputs": [],
   "source": [
    "multi_p = fname * 4\n",
    "multi_p"
   ]
  },
  {
   "cell_type": "code",
   "execution_count": null,
   "id": "ae0534b2-96c3-42a0-8bcb-a60b17c4f715",
   "metadata": {},
   "outputs": [],
   "source": [
    "# String Formatting styles\n",
    "\n",
    "age= 24\n",
    "txt= 'my name is Grace and i am {} years old'\n",
    "print(txt.format(age))"
   ]
  },
  {
   "cell_type": "code",
   "execution_count": null,
   "id": "8e126db7-04b4-41be-8d1d-08c2f813a70e",
   "metadata": {},
   "outputs": [],
   "source": [
    "print(f'my name is Grace and i am  {age} years old')"
   ]
  },
  {
   "cell_type": "markdown",
   "id": "52134941-bedd-4fc1-9928-445412393b21",
   "metadata": {},
   "source": [
    "## first assignment:\n",
    "1, write a code that calculates Body Mass index (BMI)\n",
    "\n",
    "the program should take users weight and height  and calculate body mass index #BMI_formular = weight (kg)/[height(ft)]**2\n",
    "\n",
    "2, write a program that concatenates elements of two lists\n",
    "a = [\"pan\", \"pot\", \"keg\", \"bowl\"]\n",
    "b = [\"pen\", \"pray\", \"man\", \"Presh\"]"
   ]
  },
  {
   "cell_type": "markdown",
   "id": "8b79538a-ee3c-4d90-b5bd-4a4800634dde",
   "metadata": {},
   "source": [
    "Boolean data types\n"
   ]
  },
  {
   "cell_type": "code",
   "execution_count": null,
   "id": "2078e6d1-7246-4fdb-865b-e0ffda834828",
   "metadata": {},
   "outputs": [],
   "source": [
    "10> 3"
   ]
  },
  {
   "cell_type": "code",
   "execution_count": null,
   "id": "bba9832f-6365-482c-8a0b-e43dfdb10cef",
   "metadata": {},
   "outputs": [],
   "source": [
    "ayo = 12\n",
    "ayo_father = 43\n",
    "ayo<ayo_father"
   ]
  },
  {
   "cell_type": "code",
   "execution_count": null,
   "id": "5b5b4e1e-d4d2-46e5-808e-7aaf66801b69",
   "metadata": {},
   "outputs": [],
   "source": [
    "ayo > ayo_father"
   ]
  },
  {
   "cell_type": "code",
   "execution_count": null,
   "id": "0806776f-22ce-413b-9b3e-3f06dbe95f98",
   "metadata": {},
   "outputs": [],
   "source": [
    "if ayo >= 2*(ayo_father):\n",
    "    print(\"father is twice older\")\n",
    "else:\n",
    "    print(\"son is way younger\")"
   ]
  },
  {
   "cell_type": "markdown",
   "id": "45b9bd42-2915-438b-af8e-a1ac395e4b9c",
   "metadata": {},
   "source": [
    "write a program that displays \"junior staff\" if  salary is at most 100,000"
   ]
  },
  {
   "cell_type": "code",
   "execution_count": 9,
   "id": "3714ce46-02f9-495b-9596-567bce1cfdc0",
   "metadata": {},
   "outputs": [
    {
     "name": "stdin",
     "output_type": "stream",
     "text": [
      "enter salary value 10000\n"
     ]
    },
    {
     "name": "stdout",
     "output_type": "stream",
     "text": [
      "Junior staff\n"
     ]
    }
   ],
   "source": [
    "emp_salary = int(input(\"enter salary value\"))\n",
    "if emp_salary<=100000:\n",
    "    print(\"Junior staff\")\n",
    "else:\n",
    "    print(\"senior staff\")"
   ]
  },
  {
   "cell_type": "code",
   "execution_count": 12,
   "id": "1986722a-ce8b-48e6-b3c9-20c085452b17",
   "metadata": {},
   "outputs": [
    {
     "name": "stdout",
     "output_type": "stream",
     "text": [
      "True\n",
      "True\n",
      "False\n"
     ]
    }
   ],
   "source": [
    "x = \"Hello\"\n",
    "y = 23\n",
    "z = 0\n",
    "print(bool(x))\n",
    "print(bool(y))\n",
    "print(bool(z))"
   ]
  },
  {
   "cell_type": "markdown",
   "id": "850191be-a84b-4dc8-976f-06bb0778cb91",
   "metadata": {},
   "source": [
    "The basic Python data structures in Python include list, set, tuples, and dictionary. \n",
    "Each of the data structures is unique in its own way. \n",
    "Data structures are “containers” that organize and group data according to type."
   ]
  },
  {
   "cell_type": "code",
   "execution_count": 13,
   "id": "c1c609e1-64d9-4b6a-9d77-61cd5b1eef84",
   "metadata": {},
   "outputs": [],
   "source": [
    "combined_list = [1, 12.4, \"Precious\", (2,34,1), {\"man\": 23, \"Woman\": 12, \"child\": 20}]"
   ]
  },
  {
   "cell_type": "code",
   "execution_count": 14,
   "id": "eee00dd3-ae2c-48bd-b4c0-834776ca1e5d",
   "metadata": {},
   "outputs": [
    {
     "data": {
      "text/plain": [
       "[1, 12.4, 'Precious', (2, 34, 1), {'man': 23, 'Woman': 12, 'child': 20}]"
      ]
     },
     "execution_count": 14,
     "metadata": {},
     "output_type": "execute_result"
    }
   ],
   "source": [
    "combined_list"
   ]
  },
  {
   "cell_type": "markdown",
   "id": "cfc675c8-a4af-46d3-89e8-b3a8357db951",
   "metadata": {},
   "source": [
    "a list can have duplicate values and it is changable but a set cannot have duplicate values"
   ]
  },
  {
   "cell_type": "code",
   "execution_count": 30,
   "id": "197a166c-767f-4cdf-9c5e-5898f756151c",
   "metadata": {},
   "outputs": [
    {
     "name": "stdout",
     "output_type": "stream",
     "text": [
      "['Bimbo', 'Michael', 'Akin', 'Akin', 'Precious']\n",
      "{'ayola', 'Jesse', 'kelvin', 'poopola'}\n"
     ]
    }
   ],
   "source": [
    "names = ['Bimbo', 'Michael', 'Akin', 'Akin', 'Precious']\n",
    "surnames = set(['ayola', 'poopola', 'kelvin', 'Jesse', 'Jesse'])\n",
    "\n",
    "\n",
    "print(names)\n",
    "print(surnames)"
   ]
  },
  {
   "cell_type": "code",
   "execution_count": 20,
   "id": "70a3368d-f053-4eeb-bad9-5c17bd05ed3c",
   "metadata": {},
   "outputs": [
    {
     "name": "stdout",
     "output_type": "stream",
     "text": [
      "{'Precious', 'Akin', 'Michael', 'Bimbo'}\n"
     ]
    }
   ],
   "source": [
    "set_items=set(names)\n",
    "print(set_items)"
   ]
  },
  {
   "cell_type": "code",
   "execution_count": 19,
   "id": "76c97548-9b18-4c57-97a0-510adf2e07af",
   "metadata": {},
   "outputs": [
    {
     "name": "stdout",
     "output_type": "stream",
     "text": [
      "['Bimbo', 'Michael', 'Akin', 'Akin', 'Precious', 'Bimbo', 'Michael', 'Akin', 'Akin', 'Precious']\n"
     ]
    }
   ],
   "source": [
    "print(names*2)\n"
   ]
  },
  {
   "cell_type": "markdown",
   "id": "131d4836-1d16-42d5-bdf1-cff0916938e9",
   "metadata": {},
   "source": [
    "sets do not support element multiplication"
   ]
  },
  {
   "cell_type": "code",
   "execution_count": 28,
   "id": "9f98c199-d746-40f3-9679-06c7298c5cd7",
   "metadata": {},
   "outputs": [
    {
     "ename": "TypeError",
     "evalue": "unsupported operand type(s) for *: 'set' and 'int'",
     "output_type": "error",
     "traceback": [
      "\u001b[1;31m---------------------------------------------------------------------------\u001b[0m",
      "\u001b[1;31mTypeError\u001b[0m                                 Traceback (most recent call last)",
      "Cell \u001b[1;32mIn[28], line 1\u001b[0m\n\u001b[1;32m----> 1\u001b[0m \u001b[38;5;28mprint\u001b[39m(set_items \u001b[38;5;241m*\u001b[39m \u001b[38;5;241m3\u001b[39m)\n",
      "\u001b[1;31mTypeError\u001b[0m: unsupported operand type(s) for *: 'set' and 'int'"
     ]
    }
   ],
   "source": [
    "print(set_items * 3)"
   ]
  },
  {
   "cell_type": "code",
   "execution_count": 24,
   "id": "a7a6b426-c346-4fa5-a0aa-6eaf541877c8",
   "metadata": {},
   "outputs": [
    {
     "data": {
      "text/plain": [
       "['apple', 'banana', 'cherry']"
      ]
     },
     "execution_count": 24,
     "metadata": {},
     "output_type": "execute_result"
    }
   ],
   "source": [
    "mylist = [\"apple\", \"banana\", \"cherry\"]\n",
    "mylist"
   ]
  },
  {
   "cell_type": "code",
   "execution_count": 26,
   "id": "b121d735-8dfa-47d6-94ec-805ef6c6894d",
   "metadata": {},
   "outputs": [
    {
     "data": {
      "text/plain": [
       "'apple'"
      ]
     },
     "execution_count": 26,
     "metadata": {},
     "output_type": "execute_result"
    }
   ],
   "source": [
    "mylist[0]\n"
   ]
  },
  {
   "cell_type": "code",
   "execution_count": 27,
   "id": "9951daa2-7276-43e0-aa27-f97902f34c38",
   "metadata": {},
   "outputs": [
    {
     "data": {
      "text/plain": [
       "3"
      ]
     },
     "execution_count": 27,
     "metadata": {},
     "output_type": "execute_result"
    }
   ],
   "source": [
    "len(mylist)"
   ]
  },
  {
   "cell_type": "code",
   "execution_count": 31,
   "id": "c2d0c512-005e-46d6-8c26-d1ecc675d24f",
   "metadata": {},
   "outputs": [],
   "source": [
    "fname = [\"ayodeji\", \"Michael\", \"Precious\", \"Kevwe\"]\n",
    "lname = [\"cole\", \"Aremu\", \"Worlu\", \"Kingsley\"]"
   ]
  },
  {
   "cell_type": "code",
   "execution_count": 35,
   "id": "04dab01a-d0c5-4cc0-a937-689818be9d92",
   "metadata": {},
   "outputs": [
    {
     "name": "stdout",
     "output_type": "stream",
     "text": [
      "['ayodeji', 'Michael', 'Precious', 'Kevwe', 'cole', 'Aremu', 'Worlu', 'Kingsley']\n"
     ]
    }
   ],
   "source": [
    "if len(fname) == len(lname):\n",
    "    fullname= fname + lname\n",
    "    print(fullname)\n",
    "else:\n",
    "    print(\"the lists are different length\")"
   ]
  },
  {
   "cell_type": "code",
   "execution_count": 33,
   "id": "309b005c-0bfb-4c55-92ed-c0cf2152538b",
   "metadata": {},
   "outputs": [
    {
     "data": {
      "text/plain": [
       "'Michael'"
      ]
     },
     "execution_count": 33,
     "metadata": {},
     "output_type": "execute_result"
    }
   ],
   "source": [
    "fname[1]"
   ]
  },
  {
   "cell_type": "code",
   "execution_count": 34,
   "id": "a9d7fe3a-3a1a-44e2-9948-836998e6cfbd",
   "metadata": {},
   "outputs": [
    {
     "data": {
      "text/plain": [
       "7"
      ]
     },
     "execution_count": 34,
     "metadata": {},
     "output_type": "execute_result"
    }
   ],
   "source": [
    "len(fname[1])"
   ]
  },
  {
   "cell_type": "code",
   "execution_count": 36,
   "id": "6c358f16-ac25-48a4-a6e4-dd1de7b6f928",
   "metadata": {},
   "outputs": [
    {
     "data": {
      "text/plain": [
       "['ayodeji', 'Michael', 'Precious', 'Kevwe', 'cole', 'Aremu', 'Worlu']"
      ]
     },
     "execution_count": 36,
     "metadata": {},
     "output_type": "execute_result"
    }
   ],
   "source": [
    "#popping withouth index\n",
    "fullname.pop()\n",
    "fullname"
   ]
  },
  {
   "cell_type": "code",
   "execution_count": 37,
   "id": "6dd780a5-0a3c-4f3d-89e8-8012bb08eee1",
   "metadata": {},
   "outputs": [
    {
     "data": {
      "text/plain": [
       "['ayodeji', 'Michael', 'Kevwe', 'cole', 'Aremu', 'Worlu']"
      ]
     },
     "execution_count": 37,
     "metadata": {},
     "output_type": "execute_result"
    }
   ],
   "source": [
    "#popping with index\n",
    "fullname.pop(2)\n",
    "fullname"
   ]
  },
  {
   "cell_type": "code",
   "execution_count": 38,
   "id": "69f095e6-ec06-4b76-a964-327bb67e4f23",
   "metadata": {},
   "outputs": [
    {
     "data": {
      "text/plain": [
       "['ayodeji', 'Michael', 'Kevwe', 'cole', 'Aremu', 'Worlu', 'Kingsley']"
      ]
     },
     "execution_count": 38,
     "metadata": {},
     "output_type": "execute_result"
    }
   ],
   "source": [
    "#append - add new element at the last position in the list\n",
    "fullname.append(\"Kingsley\")\n",
    "fullname"
   ]
  },
  {
   "cell_type": "code",
   "execution_count": 40,
   "id": "64d4a531-40a3-4288-9344-77f8692be3d0",
   "metadata": {},
   "outputs": [
    {
     "data": {
      "text/plain": [
       "['ayodeji',\n",
       " 'Michael',\n",
       " 'Precious',\n",
       " 'Kevwe',\n",
       " 'cole',\n",
       " 'Aremu',\n",
       " 'Worlu',\n",
       " 'Kingsley']"
      ]
     },
     "execution_count": 40,
     "metadata": {},
     "output_type": "execute_result"
    }
   ],
   "source": [
    "#insert - uses indexing\n",
    "fullname.insert(2, \"Precious\")\n",
    "fullname"
   ]
  },
  {
   "cell_type": "markdown",
   "id": "c1e5d598-d01a-465c-a19f-4bfd4741ab84",
   "metadata": {},
   "source": [
    "## second Assignment\n",
    " write a program that ask user for a number in seconds and print out how many munites and seconds that is"
   ]
  },
  {
   "cell_type": "code",
   "execution_count": null,
   "id": "b4d99c79-1074-40c4-a0d9-48a888f5907a",
   "metadata": {},
   "outputs": [],
   "source": []
  }
 ],
 "metadata": {
  "kernelspec": {
   "display_name": "Python 3 (ipykernel)",
   "language": "python",
   "name": "python3"
  },
  "language_info": {
   "codemirror_mode": {
    "name": "ipython",
    "version": 3
   },
   "file_extension": ".py",
   "mimetype": "text/x-python",
   "name": "python",
   "nbconvert_exporter": "python",
   "pygments_lexer": "ipython3",
   "version": "3.12.7"
  }
 },
 "nbformat": 4,
 "nbformat_minor": 5
}
