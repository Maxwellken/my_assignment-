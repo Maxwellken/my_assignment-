{
 "cells": [
  {
   "cell_type": "markdown",
   "id": "89fa4a02",
   "metadata": {},
   "source": [
    "1 find the mean of the list f= [3,5,9,5,20,4] using the for loop method"
   ]
  },
  {
   "cell_type": "code",
   "execution_count": 6,
   "id": "8b31a77c",
   "metadata": {},
   "outputs": [
    {
     "name": "stdout",
     "output_type": "stream",
     "text": [
      "mean: 7.666666666666667\n"
     ]
    }
   ],
   "source": [
    "f = [3, 5, 9, 5, 20, 4]\n",
    "total = 0\n",
    "count = 0\n",
    "for number in f:\n",
    "    total = total + number\n",
    "    count = count + 1\n",
    "mean = total / count\n",
    "print(\"mean:\", mean)"
   ]
  },
  {
   "cell_type": "markdown",
   "id": "3f710b6f",
   "metadata": {},
   "source": [
    "2 slice f from the second element"
   ]
  },
  {
   "cell_type": "code",
   "execution_count": 8,
   "id": "a5490c85",
   "metadata": {},
   "outputs": [
    {
     "name": "stdout",
     "output_type": "stream",
     "text": [
      "sliced from second element: [5, 9, 5, 20, 4]\n"
     ]
    }
   ],
   "source": [
    "f = [3,5,9,5,20,4]\n",
    "sliced_f = []\n",
    "index = 1\n",
    "while index < len(f):\n",
    "    sliced_f.append(f[index])\n",
    "    index = index + 1\n",
    "print(\"sliced from second element:\", sliced_f)"
   ]
  },
  {
   "cell_type": "markdown",
   "id": "250b5da6",
   "metadata": {},
   "source": [
    "3 reverse f list using slicing method"
   ]
  },
  {
   "cell_type": "code",
   "execution_count": 10,
   "id": "9c1455fc",
   "metadata": {},
   "outputs": [
    {
     "name": "stdout",
     "output_type": "stream",
     "text": [
      "reversed list: [4, 20, 5, 9, 5, 3]\n"
     ]
    }
   ],
   "source": [
    "f = [3,5,9,5,20,4]\n",
    "reversed_f = []\n",
    "i = len(f) - 1\n",
    "while i >= 0:\n",
    "    reversed_f.append(f[i])\n",
    "    i = i - 1\n",
    "print(\"reversed list:\", reversed_f)"
   ]
  },
  {
   "cell_type": "markdown",
   "id": "de7c58c2",
   "metadata": {},
   "source": [
    "\n",
    "4 write a list comprehension that has a range of values between 10 to 21, if the values are at least 13 and at most 16"
   ]
  },
  {
   "cell_type": "code",
   "execution_count": 1,
   "id": "42faed1a",
   "metadata": {},
   "outputs": [
    {
     "name": "stdout",
     "output_type": "stream",
     "text": [
      "filtered list: [13, 14, 15, 16]\n"
     ]
    }
   ],
   "source": [
    "filtered_list = []\n",
    "for number in range(10, 22): \n",
    "# 22 because range stops before the end\n",
    "    if number >= 13 and number <= 16:\n",
    "        filtered_list.append(number)\n",
    "print(\"filtered list:\", filtered_list)"
   ]
  }
 ],
 "metadata": {
  "kernelspec": {
   "display_name": "Python 3",
   "language": "python",
   "name": "python3"
  },
  "language_info": {
   "codemirror_mode": {
    "name": "ipython",
    "version": 3
   },
   "file_extension": ".py",
   "mimetype": "text/x-python",
   "name": "python",
   "nbconvert_exporter": "python",
   "pygments_lexer": "ipython3",
   "version": "3.11.3"
  }
 },
 "nbformat": 4,
 "nbformat_minor": 5
}
