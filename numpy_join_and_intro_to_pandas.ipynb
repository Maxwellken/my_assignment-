{
 "cells": [
  {
   "cell_type": "code",
   "execution_count": 1,
   "id": "b8d5943c-0081-4ae4-a3b8-58a7cc1835fc",
   "metadata": {},
   "outputs": [],
   "source": [
    "import numpy as np"
   ]
  },
  {
   "cell_type": "code",
   "execution_count": 2,
   "id": "2984d2d3-3626-4521-9c7c-5d231844e00d",
   "metadata": {},
   "outputs": [
    {
     "name": "stdout",
     "output_type": "stream",
     "text": [
      "[[1 2 5 6]\n",
      " [3 4 7 8]]\n"
     ]
    }
   ],
   "source": [
    "#join using concatenate (Horizontal)\n",
    "arr1 = np.array([[1, 2], [3, 4]])\n",
    "\n",
    "arr2 = np.array([[5, 6], [7, 8]])\n",
    "arr_n = np.concatenate((arr1, arr2), axis=1)\n",
    "print(arr_n)"
   ]
  },
  {
   "cell_type": "code",
   "execution_count": 3,
   "id": "d164253b-8692-48b5-b8b5-84d11e7cd181",
   "metadata": {},
   "outputs": [
    {
     "name": "stdout",
     "output_type": "stream",
     "text": [
      "[[ 2  4  6  9  3  1]\n",
      " [ 8 10 12  6  2 10]]\n"
     ]
    }
   ],
   "source": [
    "arr_a =np.array([[2,4,6], [8,10,12]])\n",
    "arr_b =np.array([[9,3,1], [6,2,10]])\n",
    "sum_arr =np.concatenate((arr_a, arr_b), axis=1)\n",
    "print(sum_arr)"
   ]
  },
  {
   "cell_type": "code",
   "execution_count": 4,
   "id": "281fc8d7-4c74-4904-bc56-3afed132e6fa",
   "metadata": {},
   "outputs": [
    {
     "data": {
      "text/plain": [
       "(2, 6)"
      ]
     },
     "execution_count": 4,
     "metadata": {},
     "output_type": "execute_result"
    }
   ],
   "source": [
    "sum_arr.shape"
   ]
  },
  {
   "cell_type": "code",
   "execution_count": 5,
   "id": "7e0df453-b5d8-40a6-a136-780004fd8aa8",
   "metadata": {},
   "outputs": [
    {
     "data": {
      "text/plain": [
       "2"
      ]
     },
     "execution_count": 5,
     "metadata": {},
     "output_type": "execute_result"
    }
   ],
   "source": [
    "sum_arr.ndim"
   ]
  },
  {
   "cell_type": "code",
   "execution_count": 6,
   "id": "de383dc6-3a4c-4391-91be-b3ddf0924d43",
   "metadata": {},
   "outputs": [
    {
     "name": "stdout",
     "output_type": "stream",
     "text": [
      "[[[ 2  4  6]\n",
      "  [ 9  3  1]]\n",
      "\n",
      " [[ 8 10 12]\n",
      "  [ 6  2 10]]]\n"
     ]
    }
   ],
   "source": [
    "#join or combine two or more array (stack ... (vertical))\n",
    "arr_a =np.array([[2,4,6], [8,10,12]])\n",
    "arr_b =np.array([[9,3,1], [6,2,10]])\n",
    "\n",
    "comb_arr = np.stack((arr_a, arr_b), axis=1)\n",
    "\n",
    "print(comb_arr)"
   ]
  },
  {
   "cell_type": "code",
   "execution_count": 7,
   "id": "acb3b459-74b3-41d9-bc8c-3ec6c682afb5",
   "metadata": {},
   "outputs": [
    {
     "data": {
      "text/plain": [
       "(2, 2, 3)"
      ]
     },
     "execution_count": 7,
     "metadata": {},
     "output_type": "execute_result"
    }
   ],
   "source": [
    "comb_arr.shape"
   ]
  },
  {
   "cell_type": "code",
   "execution_count": 8,
   "id": "ed1d734e-0ce1-4fef-b13a-8df1942cb28e",
   "metadata": {},
   "outputs": [
    {
     "data": {
      "text/plain": [
       "3"
      ]
     },
     "execution_count": 8,
     "metadata": {},
     "output_type": "execute_result"
    }
   ],
   "source": [
    "comb_arr.ndim"
   ]
  },
  {
   "cell_type": "code",
   "execution_count": 9,
   "id": "98714ba5-28ca-464e-a367-440c17d4f831",
   "metadata": {},
   "outputs": [
    {
     "name": "stdout",
     "output_type": "stream",
     "text": [
      "[1 2 3 4 5 6]\n"
     ]
    }
   ],
   "source": [
    "#hstack is in single series\n",
    "arr_a = np.array([1, 2, 3])\n",
    "\n",
    "arr_b = np.array([4, 5, 6])\n",
    "\n",
    "arr = np.hstack((arr_a, arr_b))\n",
    "\n",
    "print(arr)"
   ]
  },
  {
   "cell_type": "code",
   "execution_count": 10,
   "id": "7b31b190-8add-4f95-8e3b-9a5f0d790f50",
   "metadata": {},
   "outputs": [
    {
     "data": {
      "text/plain": [
       "(6,)"
      ]
     },
     "execution_count": 10,
     "metadata": {},
     "output_type": "execute_result"
    }
   ],
   "source": [
    "arr.shape"
   ]
  },
  {
   "cell_type": "code",
   "execution_count": 11,
   "id": "2ffee7a6-b4aa-44ae-b2d1-bc75e55b5cbc",
   "metadata": {},
   "outputs": [
    {
     "data": {
      "text/plain": [
       "1"
      ]
     },
     "execution_count": 11,
     "metadata": {},
     "output_type": "execute_result"
    }
   ],
   "source": [
    "arr.ndim"
   ]
  },
  {
   "cell_type": "markdown",
   "id": "e115093c-afcd-4a6e-8d38-e6a18a1d4ea6",
   "metadata": {},
   "source": [
    "convert arr_a = [[2,3],[4,5]]  and arr_b = [[6,8],[4,9]] into a single array using hstack"
   ]
  },
  {
   "cell_type": "code",
   "execution_count": 12,
   "id": "a46042ee-04f2-466c-8b09-fd7a7fcc67a1",
   "metadata": {},
   "outputs": [
    {
     "name": "stdout",
     "output_type": "stream",
     "text": [
      "[[2 3 4 5 6 8 4 9]]\n"
     ]
    }
   ],
   "source": [
    "\n",
    "arr_a = [[2,3,4,5]]\n",
    "arr_b = [[6,8,4,9]]\n",
    "arr_m = np.hstack((arr_a, arr_b))\n",
    "print(arr_m)"
   ]
  },
  {
   "cell_type": "code",
   "execution_count": 13,
   "id": "f15b6886-16f0-4b92-ae50-056c244227c6",
   "metadata": {},
   "outputs": [
    {
     "data": {
      "text/plain": [
       "array([2, 3, 4, 5, 6, 8, 4, 9])"
      ]
     },
     "execution_count": 13,
     "metadata": {},
     "output_type": "execute_result"
    }
   ],
   "source": [
    "new= np.squeeze(arr_m)\n",
    "new"
   ]
  },
  {
   "cell_type": "code",
   "execution_count": 14,
   "id": "a9f75367-2a63-4cb5-974b-f1cebf127d59",
   "metadata": {},
   "outputs": [
    {
     "data": {
      "text/plain": [
       "array([[2, 3, 4, 5],\n",
       "       [6, 8, 4, 9]])"
      ]
     },
     "execution_count": 14,
     "metadata": {},
     "output_type": "execute_result"
    }
   ],
   "source": [
    "new.reshape(2,4)"
   ]
  },
  {
   "cell_type": "raw",
   "id": "a7718300-c710-4924-bc2c-3aa894f16939",
   "metadata": {},
   "source": []
  },
  {
   "cell_type": "code",
   "execution_count": 15,
   "id": "6c809d25-ddb1-42f2-830d-0f79e184ce7e",
   "metadata": {},
   "outputs": [
    {
     "name": "stdout",
     "output_type": "stream",
     "text": [
      "[[[1 4]\n",
      "  [2 5]\n",
      "  [3 6]]]\n"
     ]
    }
   ],
   "source": [
    "#Stacking Along Height (depth)\n",
    "import numpy as np\n",
    "\n",
    "arr1 = np.array([1, 2, 3])\n",
    "\n",
    "arr2 = np.array([4, 5, 6])\n",
    "\n",
    "arr = np.dstack((arr1, arr2))\n",
    "\n",
    "print(arr)"
   ]
  },
  {
   "cell_type": "code",
   "execution_count": 16,
   "id": "7df61f2e-c5df-46c7-b757-19d2e57eac29",
   "metadata": {},
   "outputs": [
    {
     "data": {
      "text/plain": [
       "(1, 3, 2)"
      ]
     },
     "execution_count": 16,
     "metadata": {},
     "output_type": "execute_result"
    }
   ],
   "source": [
    "arr.shape"
   ]
  },
  {
   "cell_type": "code",
   "execution_count": 17,
   "id": "de73aace-8b9c-41ad-8559-8785d42f9d08",
   "metadata": {},
   "outputs": [
    {
     "name": "stdout",
     "output_type": "stream",
     "text": [
      "[[[2 3 5]\n",
      "  [5 2 4]\n",
      "  [3 9 8]]]\n"
     ]
    }
   ],
   "source": [
    "arr_a = np.array([2,5,3])\n",
    "arr_b = np.array([3,2,9])\n",
    "arr_c = np.array([5,4,8])\n",
    "\n",
    "arr_j =np.dstack((arr_a,arr_b,arr_c))\n",
    "print(arr_j)"
   ]
  },
  {
   "cell_type": "code",
   "execution_count": 18,
   "id": "7a653387-753f-4ac7-a670-111dd90893e6",
   "metadata": {},
   "outputs": [
    {
     "name": "stdout",
     "output_type": "stream",
     "text": [
      "[2 5 3 3 2 9 5 4 8]\n"
     ]
    }
   ],
   "source": [
    "arr_p =np.hstack((arr_a,arr_b,arr_c))\n",
    "print(arr_p)"
   ]
  },
  {
   "cell_type": "markdown",
   "id": "053ec73e-7b0a-4b10-8476-e4b3b8f8c3c2",
   "metadata": {},
   "source": [
    "# Splitting NumPy Arrays\n",
    "Splitting is opposite operation of Joining.\n",
    "\n",
    "Joining merges multiple arrays into one and Splitting breaks one array into multiple."
   ]
  },
  {
   "cell_type": "code",
   "execution_count": 19,
   "id": "55a51932-88ba-4088-be7e-ac2c6c7bc530",
   "metadata": {},
   "outputs": [
    {
     "name": "stdout",
     "output_type": "stream",
     "text": [
      "[array([1, 2, 3]), array([4, 5, 6])]\n"
     ]
    }
   ],
   "source": [
    "arr = np.array([1, 2, 3, 4, 5, 6])\n",
    "\n",
    "newarr = np.array_split(arr, 2)\n",
    "\n",
    "print(newarr)"
   ]
  },
  {
   "cell_type": "code",
   "execution_count": 20,
   "id": "20b09fa2-3e28-41c6-a962-34c6e85fcfe2",
   "metadata": {},
   "outputs": [
    {
     "name": "stdout",
     "output_type": "stream",
     "text": [
      "[array([1, 2]), array([3, 4]), array([5]), array([6])]\n"
     ]
    }
   ],
   "source": [
    "arr4 = np.array([1, 2, 3, 4, 5, 6])\n",
    "\n",
    "newarr = np.array_split(arr4, 4)\n",
    "\n",
    "print(newarr)"
   ]
  },
  {
   "cell_type": "code",
   "execution_count": 21,
   "id": "1c163cf8-7d2c-4eea-bcec-23b85f7ac0cd",
   "metadata": {},
   "outputs": [
    {
     "data": {
      "text/plain": [
       "[array([ 0,  1,  2,  3,  4,  5,  6,  7,  8,  9, 10, 11, 12]),\n",
       " array([13, 14, 15, 16, 17, 18, 19, 20, 21, 22, 23, 24, 25]),\n",
       " array([26, 27, 28, 29, 30, 31, 32, 33, 34, 35, 36, 37]),\n",
       " array([38, 39, 40, 41, 42, 43, 44, 45, 46, 47, 48, 49])]"
      ]
     },
     "execution_count": 21,
     "metadata": {},
     "output_type": "execute_result"
    }
   ],
   "source": [
    "## create an array of  numbers from 0 to 50 and split the array into 4 new arrays\n",
    "comb_arr = np.array([i for i in np.arange(0,50)])\n",
    "new= np.array_split(comb_arr, 4)\n",
    "new"
   ]
  },
  {
   "cell_type": "code",
   "execution_count": 22,
   "id": "50e36f6c-1ef6-4eb6-9ca3-e0701c2a56ce",
   "metadata": {},
   "outputs": [
    {
     "data": {
      "text/plain": [
       "array([26, 27, 28, 29, 30, 31, 32, 33, 34, 35, 36, 37])"
      ]
     },
     "execution_count": 22,
     "metadata": {},
     "output_type": "execute_result"
    }
   ],
   "source": [
    "new[2]"
   ]
  },
  {
   "cell_type": "code",
   "execution_count": 23,
   "id": "3a84061e-7557-4e4e-b2cc-497dc5f71a37",
   "metadata": {},
   "outputs": [
    {
     "data": {
      "text/plain": [
       "32"
      ]
     },
     "execution_count": 23,
     "metadata": {},
     "output_type": "execute_result"
    }
   ],
   "source": [
    "new[2][6]"
   ]
  },
  {
   "cell_type": "code",
   "execution_count": 24,
   "id": "b7c19b63-215d-4ce0-91a3-20c83d23947d",
   "metadata": {},
   "outputs": [
    {
     "data": {
      "text/plain": [
       "2"
      ]
     },
     "execution_count": 24,
     "metadata": {},
     "output_type": "execute_result"
    }
   ],
   "source": [
    "new[0][2]"
   ]
  },
  {
   "cell_type": "markdown",
   "id": "d73ef908-b42c-45d1-b41f-56c864622feb",
   "metadata": {},
   "source": [
    "note that: rsplit() , split()  is different array_split()"
   ]
  },
  {
   "cell_type": "markdown",
   "id": "e610ff9e-aff7-4886-8cfc-bb337db14d01",
   "metadata": {},
   "source": [
    "classwork create an array that generates 80 random integers, use the array_split() to split them into 6 new arrays"
   ]
  },
  {
   "cell_type": "code",
   "execution_count": 25,
   "id": "31e99cdc-d690-41c8-b86f-f42ee5e9af5e",
   "metadata": {},
   "outputs": [
    {
     "data": {
      "text/plain": [
       "array([ 2,  5,  6,  7,  8,  9, 10, 11, 12, 13, 14, 15, 16, 17, 18, 19, 20,\n",
       "       21, 22, 23, 24, 25, 26, 27, 28, 29, 30, 31, 32, 33, 34, 35, 36, 37,\n",
       "       38, 39, 40, 41, 42, 43, 44, 45, 46, 47, 48, 49, 50, 51, 52, 53, 54,\n",
       "       55, 56, 57, 58, 59, 60, 61, 62, 63, 64, 65, 66, 67, 68, 69, 70, 71,\n",
       "       72, 73, 74, 75, 76, 77, 78, 79])"
      ]
     },
     "execution_count": 25,
     "metadata": {},
     "output_type": "execute_result"
    }
   ],
   "source": [
    "import random\n",
    "arr1= np.array([i for i in range(80)   if i>= random.randint(1,9)])\n",
    "arr1"
   ]
  },
  {
   "cell_type": "code",
   "execution_count": 26,
   "id": "f6ada78f-0cc7-4a40-bc89-9f69e96ed42f",
   "metadata": {},
   "outputs": [
    {
     "data": {
      "text/plain": [
       "[array([ 2,  5,  6,  7,  8,  9, 10, 11, 12, 13, 14, 15, 16]),\n",
       " array([17, 18, 19, 20, 21, 22, 23, 24, 25, 26, 27, 28, 29]),\n",
       " array([30, 31, 32, 33, 34, 35, 36, 37, 38, 39, 40, 41, 42]),\n",
       " array([43, 44, 45, 46, 47, 48, 49, 50, 51, 52, 53, 54, 55]),\n",
       " array([56, 57, 58, 59, 60, 61, 62, 63, 64, 65, 66, 67]),\n",
       " array([68, 69, 70, 71, 72, 73, 74, 75, 76, 77, 78, 79])]"
      ]
     },
     "execution_count": 26,
     "metadata": {},
     "output_type": "execute_result"
    }
   ],
   "source": [
    "np.array_split(arr1, 6)"
   ]
  },
  {
   "cell_type": "code",
   "execution_count": null,
   "id": "debda93a-c033-441d-9077-4cba92f72da8",
   "metadata": {},
   "outputs": [],
   "source": []
  },
  {
   "cell_type": "code",
   "execution_count": 34,
   "id": "e8cbb114-0367-4d83-a637-46834a3f5b25",
   "metadata": {},
   "outputs": [
    {
     "name": "stdout",
     "output_type": "stream",
     "text": [
      "[ 9 12 15]\n"
     ]
    }
   ],
   "source": [
    "#scalar multiplication\n",
    "arr_1 =np.array([3,4,5])\n",
    "mult = arr_1 * 3\n",
    "print(mult)\n"
   ]
  },
  {
   "cell_type": "code",
   "execution_count": 35,
   "id": "a1a72b7c-3a9c-487a-ae68-d8edaf3187ac",
   "metadata": {},
   "outputs": [
    {
     "data": {
      "text/plain": [
       "array([ 6, 24, 35])"
      ]
     },
     "execution_count": 35,
     "metadata": {},
     "output_type": "execute_result"
    }
   ],
   "source": [
    "#vector multiplication\n",
    "arr_1 =np.array([3,4,5])\n",
    "arr_2 =np.array([2,6,7])\n",
    "multi = arr_1 * arr_2\n",
    "multi"
   ]
  },
  {
   "cell_type": "code",
   "execution_count": 46,
   "id": "27fd0690-5e0a-4249-975d-1a33e333a2b4",
   "metadata": {},
   "outputs": [
    {
     "name": "stdout",
     "output_type": "stream",
     "text": [
      "2\n"
     ]
    }
   ],
   "source": [
    "import random\n",
    "x = random.randint(1,21)\n",
    "print(x)"
   ]
  },
  {
   "cell_type": "code",
   "execution_count": null,
   "id": "428efce1-b0cb-4920-a1e9-efe324fc8639",
   "metadata": {},
   "outputs": [],
   "source": []
  },
  {
   "cell_type": "markdown",
   "id": "9014227a-6ba2-46d9-a676-20bdea5286b8",
   "metadata": {},
   "source": [
    "## Filtering numpy"
   ]
  },
  {
   "cell_type": "code",
   "execution_count": 51,
   "id": "35639503-8fbe-412c-9268-a721eafa00b5",
   "metadata": {},
   "outputs": [
    {
     "name": "stdout",
     "output_type": "stream",
     "text": [
      "[False, True, True, True]\n",
      "[42 43 44]\n"
     ]
    }
   ],
   "source": [
    "arr = np.array([41, 42, 43, 44])\n",
    "\n",
    "# Create an empty list\n",
    "filter_arr = []\n",
    "\n",
    "# go through each element in arr\n",
    "for i in arr:\n",
    "  # if the element is higher than 42, set the value to True, otherwise False:\n",
    "  if i >= 42:\n",
    "    filter_arr.append(True)\n",
    "  else:\n",
    "    filter_arr.append(False)\n",
    "\n",
    "newarr = arr[filter_arr]\n",
    "\n",
    "print(filter_arr)\n",
    "print(newarr)"
   ]
  },
  {
   "cell_type": "code",
   "execution_count": 54,
   "id": "230fa43e-6c9b-454d-9f5b-c945cdc4418b",
   "metadata": {},
   "outputs": [
    {
     "name": "stdout",
     "output_type": "stream",
     "text": [
      "[[9 9 3 5 5]\n",
      " [3 5 3 7 9]\n",
      " [7 9 7 3 7]]\n"
     ]
    }
   ],
   "source": [
    "from numpy import random\n",
    "#have the ability to make 4 choices in 3 rows and 5columns\n",
    "x = random.choice([3, 5, 7, 9], size=(3, 5)) \n",
    "\n",
    "print(x)"
   ]
  },
  {
   "cell_type": "code",
   "execution_count": 58,
   "id": "2c6e75dd-8244-4116-9968-2ad92a6b9def",
   "metadata": {},
   "outputs": [
    {
     "name": "stdout",
     "output_type": "stream",
     "text": [
      "[2 4 1 5 3]\n"
     ]
    }
   ],
   "source": [
    "#random permutation\n",
    "arr = np.array([1, 2, 3, 4, 5])\n",
    "\n",
    "random.shuffle(arr)\n",
    "\n",
    "print(arr )\n"
   ]
  },
  {
   "cell_type": "markdown",
   "id": "61fb3741-8445-4449-90b8-975c78b4e882",
   "metadata": {},
   "source": [
    "## Introduction to Pandas "
   ]
  },
  {
   "cell_type": "code",
   "execution_count": 63,
   "id": "799a9fe6-8449-4926-906e-9daeeb76e75c",
   "metadata": {},
   "outputs": [
    {
     "name": "stdout",
     "output_type": "stream",
     "text": [
      "      cars  passings\n",
      "0  Mustang         3\n",
      "1      BMW         7\n",
      "2     Benz         2\n"
     ]
    }
   ],
   "source": [
    "#how to create a dataframe\n",
    "import pandas as pd\n",
    "mycars = {\n",
    "  'cars': [\"Mustang\", \"BMW\", \"Benz\"],\n",
    "  'passings': [3, 7, 2]\n",
    "}\n",
    "myvar = pd.DataFrame(mycars)\n",
    "print(myvar)\n"
   ]
  },
  {
   "cell_type": "code",
   "execution_count": 64,
   "id": "fc4c7e0c-b9c1-492a-a994-c573c86f4046",
   "metadata": {},
   "outputs": [
    {
     "data": {
      "text/html": [
       "<div>\n",
       "<style scoped>\n",
       "    .dataframe tbody tr th:only-of-type {\n",
       "        vertical-align: middle;\n",
       "    }\n",
       "\n",
       "    .dataframe tbody tr th {\n",
       "        vertical-align: top;\n",
       "    }\n",
       "\n",
       "    .dataframe thead th {\n",
       "        text-align: right;\n",
       "    }\n",
       "</style>\n",
       "<table border=\"1\" class=\"dataframe\">\n",
       "  <thead>\n",
       "    <tr style=\"text-align: right;\">\n",
       "      <th></th>\n",
       "      <th>Name</th>\n",
       "      <th>Age</th>\n",
       "      <th>Salary</th>\n",
       "      <th>Location</th>\n",
       "    </tr>\n",
       "  </thead>\n",
       "  <tbody>\n",
       "    <tr>\n",
       "      <th>0</th>\n",
       "      <td>Edward</td>\n",
       "      <td>29</td>\n",
       "      <td>34000</td>\n",
       "      <td>Badagry</td>\n",
       "    </tr>\n",
       "    <tr>\n",
       "      <th>1</th>\n",
       "      <td>Precious</td>\n",
       "      <td>28</td>\n",
       "      <td>39000</td>\n",
       "      <td>Warri</td>\n",
       "    </tr>\n",
       "    <tr>\n",
       "      <th>2</th>\n",
       "      <td>Michael</td>\n",
       "      <td>31</td>\n",
       "      <td>45000</td>\n",
       "      <td>Sapele</td>\n",
       "    </tr>\n",
       "    <tr>\n",
       "      <th>3</th>\n",
       "      <td>Gabriel</td>\n",
       "      <td>19</td>\n",
       "      <td>90000</td>\n",
       "      <td>Port Harcourt</td>\n",
       "    </tr>\n",
       "    <tr>\n",
       "      <th>4</th>\n",
       "      <td>Nikson</td>\n",
       "      <td>34</td>\n",
       "      <td>24000</td>\n",
       "      <td>Eleme</td>\n",
       "    </tr>\n",
       "    <tr>\n",
       "      <th>5</th>\n",
       "      <td>Faith</td>\n",
       "      <td>25</td>\n",
       "      <td>34000</td>\n",
       "      <td>Lekki</td>\n",
       "    </tr>\n",
       "    <tr>\n",
       "      <th>6</th>\n",
       "      <td>Comfort</td>\n",
       "      <td>23</td>\n",
       "      <td>120000</td>\n",
       "      <td>Eket</td>\n",
       "    </tr>\n",
       "  </tbody>\n",
       "</table>\n",
       "</div>"
      ],
      "text/plain": [
       "       Name  Age  Salary       Location\n",
       "0    Edward   29   34000        Badagry\n",
       "1  Precious   28   39000          Warri\n",
       "2   Michael   31   45000         Sapele\n",
       "3   Gabriel   19   90000  Port Harcourt\n",
       "4    Nikson   34   24000          Eleme\n",
       "5     Faith   25   34000          Lekki\n",
       "6   Comfort   23  120000           Eket"
      ]
     },
     "execution_count": 64,
     "metadata": {},
     "output_type": "execute_result"
    }
   ],
   "source": [
    "#creating a larger dataframe\n",
    "employee_data = {\n",
    "    'Name': ['Edward', 'Precious', 'Michael', 'Gabriel', 'Nikson', 'Faith', 'Comfort'],\n",
    "    'Age': [29,28, 31,19,34,25,23],\n",
    "    'Salary': [34000 ,  39000, 45000, 90000, 24000,34000, 120000],\n",
    "    'Location': ['Badagry', 'Warri', 'Sapele','Port Harcourt', 'Eleme', 'Lekki', 'Eket']\n",
    "}\n",
    "\n",
    "emp_data = pd.DataFrame(employee_data)\n",
    "emp_data"
   ]
  },
  {
   "cell_type": "code",
   "execution_count": 62,
   "id": "170f575a-fda2-4a52-9de6-df005cb3ebd0",
   "metadata": {},
   "outputs": [
    {
     "name": "stdout",
     "output_type": "stream",
     "text": [
      "a    10\n",
      "b    20\n",
      "c    30\n",
      "d    40\n",
      "dtype: int64\n"
     ]
    }
   ],
   "source": [
    "#how to create a pandas series\n",
    "data = pd.Series([10, 20, 30, 40], index=['a', 'b', 'c', 'd'])\n",
    "print(data)\n"
   ]
  },
  {
   "cell_type": "code",
   "execution_count": 66,
   "id": "ef9fbb99-2984-43d6-b3c2-159302065227",
   "metadata": {},
   "outputs": [
    {
     "data": {
      "text/html": [
       "<div>\n",
       "<style scoped>\n",
       "    .dataframe tbody tr th:only-of-type {\n",
       "        vertical-align: middle;\n",
       "    }\n",
       "\n",
       "    .dataframe tbody tr th {\n",
       "        vertical-align: top;\n",
       "    }\n",
       "\n",
       "    .dataframe thead th {\n",
       "        text-align: right;\n",
       "    }\n",
       "</style>\n",
       "<table border=\"1\" class=\"dataframe\">\n",
       "  <thead>\n",
       "    <tr style=\"text-align: right;\">\n",
       "      <th></th>\n",
       "      <th>calories</th>\n",
       "      <th>duration</th>\n",
       "    </tr>\n",
       "  </thead>\n",
       "  <tbody>\n",
       "    <tr>\n",
       "      <th>0</th>\n",
       "      <td>420</td>\n",
       "      <td>50</td>\n",
       "    </tr>\n",
       "    <tr>\n",
       "      <th>1</th>\n",
       "      <td>380</td>\n",
       "      <td>40</td>\n",
       "    </tr>\n",
       "    <tr>\n",
       "      <th>2</th>\n",
       "      <td>390</td>\n",
       "      <td>45</td>\n",
       "    </tr>\n",
       "  </tbody>\n",
       "</table>\n",
       "</div>"
      ],
      "text/plain": [
       "   calories  duration\n",
       "0       420        50\n",
       "1       380        40\n",
       "2       390        45"
      ]
     },
     "execution_count": 66,
     "metadata": {},
     "output_type": "execute_result"
    }
   ],
   "source": [
    "data = {\n",
    "  \"calories\": [420, 380, 390],\n",
    "  \"duration\": [50, 40, 45]\n",
    "}\n",
    "\n",
    "#load data into a DataFrame object:\n",
    "df = pd.DataFrame(data)\n",
    "df"
   ]
  },
  {
   "cell_type": "code",
   "execution_count": 68,
   "id": "7f014388-18ae-4b32-af73-8b7fa9a421e4",
   "metadata": {},
   "outputs": [],
   "source": [
    "#displaying a CSV file in pandas\n",
    "import pandas as pd\n",
    "path_csv = r\"C:\\Users\\pc\\Documents\\mic_folder\\divine\\divine\\datasets\\washington.csv\"\n",
    "\n",
    "df = pd.read_csv(path_csv)\n",
    "\n"
   ]
  },
  {
   "cell_type": "code",
   "execution_count": 70,
   "id": "e18ed3f3-0362-4edc-89be-5a2bc462d8b9",
   "metadata": {},
   "outputs": [
    {
     "data": {
      "text/html": [
       "<div>\n",
       "<style scoped>\n",
       "    .dataframe tbody tr th:only-of-type {\n",
       "        vertical-align: middle;\n",
       "    }\n",
       "\n",
       "    .dataframe tbody tr th {\n",
       "        vertical-align: top;\n",
       "    }\n",
       "\n",
       "    .dataframe thead th {\n",
       "        text-align: right;\n",
       "    }\n",
       "</style>\n",
       "<table border=\"1\" class=\"dataframe\">\n",
       "  <thead>\n",
       "    <tr style=\"text-align: right;\">\n",
       "      <th></th>\n",
       "      <th>Unnamed: 0</th>\n",
       "      <th>Start Time</th>\n",
       "      <th>End Time</th>\n",
       "      <th>Trip Duration</th>\n",
       "      <th>Start Station</th>\n",
       "      <th>End Station</th>\n",
       "      <th>User Type</th>\n",
       "    </tr>\n",
       "  </thead>\n",
       "  <tbody>\n",
       "    <tr>\n",
       "      <th>0</th>\n",
       "      <td>1621326</td>\n",
       "      <td>2017-06-21 08:36:34</td>\n",
       "      <td>2017-06-21 08:44:43</td>\n",
       "      <td>489.066</td>\n",
       "      <td>14th &amp; Belmont St NW</td>\n",
       "      <td>15th &amp; K St NW</td>\n",
       "      <td>Subscriber</td>\n",
       "    </tr>\n",
       "    <tr>\n",
       "      <th>1</th>\n",
       "      <td>482740</td>\n",
       "      <td>2017-03-11 10:40:00</td>\n",
       "      <td>2017-03-11 10:46:00</td>\n",
       "      <td>402.549</td>\n",
       "      <td>Yuma St &amp; Tenley Circle NW</td>\n",
       "      <td>Connecticut Ave &amp; Yuma St NW</td>\n",
       "      <td>Subscriber</td>\n",
       "    </tr>\n",
       "    <tr>\n",
       "      <th>2</th>\n",
       "      <td>1330037</td>\n",
       "      <td>2017-05-30 01:02:59</td>\n",
       "      <td>2017-05-30 01:13:37</td>\n",
       "      <td>637.251</td>\n",
       "      <td>17th St &amp; Massachusetts Ave NW</td>\n",
       "      <td>5th &amp; K St NW</td>\n",
       "      <td>Subscriber</td>\n",
       "    </tr>\n",
       "    <tr>\n",
       "      <th>3</th>\n",
       "      <td>665458</td>\n",
       "      <td>2017-04-02 07:48:35</td>\n",
       "      <td>2017-04-02 08:19:03</td>\n",
       "      <td>1827.341</td>\n",
       "      <td>Constitution Ave &amp; 2nd St NW/DOL</td>\n",
       "      <td>M St &amp; Pennsylvania Ave NW</td>\n",
       "      <td>Customer</td>\n",
       "    </tr>\n",
       "    <tr>\n",
       "      <th>4</th>\n",
       "      <td>1481135</td>\n",
       "      <td>2017-06-10 08:36:28</td>\n",
       "      <td>2017-06-10 09:02:17</td>\n",
       "      <td>1549.427</td>\n",
       "      <td>Henry Bacon Dr &amp; Lincoln Memorial Circle NW</td>\n",
       "      <td>Maine Ave &amp; 7th St SW</td>\n",
       "      <td>Subscriber</td>\n",
       "    </tr>\n",
       "  </tbody>\n",
       "</table>\n",
       "</div>"
      ],
      "text/plain": [
       "   Unnamed: 0           Start Time             End Time  Trip Duration  \\\n",
       "0     1621326  2017-06-21 08:36:34  2017-06-21 08:44:43        489.066   \n",
       "1      482740  2017-03-11 10:40:00  2017-03-11 10:46:00        402.549   \n",
       "2     1330037  2017-05-30 01:02:59  2017-05-30 01:13:37        637.251   \n",
       "3      665458  2017-04-02 07:48:35  2017-04-02 08:19:03       1827.341   \n",
       "4     1481135  2017-06-10 08:36:28  2017-06-10 09:02:17       1549.427   \n",
       "\n",
       "                                 Start Station                   End Station  \\\n",
       "0                         14th & Belmont St NW                15th & K St NW   \n",
       "1                   Yuma St & Tenley Circle NW  Connecticut Ave & Yuma St NW   \n",
       "2               17th St & Massachusetts Ave NW                 5th & K St NW   \n",
       "3             Constitution Ave & 2nd St NW/DOL    M St & Pennsylvania Ave NW   \n",
       "4  Henry Bacon Dr & Lincoln Memorial Circle NW         Maine Ave & 7th St SW   \n",
       "\n",
       "    User Type  \n",
       "0  Subscriber  \n",
       "1  Subscriber  \n",
       "2  Subscriber  \n",
       "3    Customer  \n",
       "4  Subscriber  "
      ]
     },
     "execution_count": 70,
     "metadata": {},
     "output_type": "execute_result"
    }
   ],
   "source": [
    "df.head()"
   ]
  },
  {
   "cell_type": "code",
   "execution_count": 77,
   "id": "5930c298-8659-4f9d-aa22-5f5e35277661",
   "metadata": {},
   "outputs": [],
   "source": [
    "#displaying an excel file in pandas\n",
    "path_excel = \"C:/Users/pc/Downloads/dataset/work_stuff/retail_data_dirty.xlsx\"\n",
    "\n",
    "df1 = pd.read_excel(path_excel)"
   ]
  },
  {
   "cell_type": "code",
   "execution_count": 78,
   "id": "b134e95a-cd50-4c54-ade1-181fbd7fc99b",
   "metadata": {},
   "outputs": [
    {
     "data": {
      "text/html": [
       "<div>\n",
       "<style scoped>\n",
       "    .dataframe tbody tr th:only-of-type {\n",
       "        vertical-align: middle;\n",
       "    }\n",
       "\n",
       "    .dataframe tbody tr th {\n",
       "        vertical-align: top;\n",
       "    }\n",
       "\n",
       "    .dataframe thead th {\n",
       "        text-align: right;\n",
       "    }\n",
       "</style>\n",
       "<table border=\"1\" class=\"dataframe\">\n",
       "  <thead>\n",
       "    <tr style=\"text-align: right;\">\n",
       "      <th></th>\n",
       "      <th>Transaction_ID</th>\n",
       "      <th>Date</th>\n",
       "      <th>Customer_ID</th>\n",
       "      <th>Product_ID</th>\n",
       "      <th>Units_Sold</th>\n",
       "      <th>Sale_Amount</th>\n",
       "      <th>Store_Name</th>\n",
       "    </tr>\n",
       "  </thead>\n",
       "  <tbody>\n",
       "    <tr>\n",
       "      <th>0</th>\n",
       "      <td>TXN000000</td>\n",
       "      <td>2023-11-03</td>\n",
       "      <td>CUST5695</td>\n",
       "      <td>177</td>\n",
       "      <td>9.0</td>\n",
       "      <td>NaN</td>\n",
       "      <td>Alpha</td>\n",
       "    </tr>\n",
       "    <tr>\n",
       "      <th>1</th>\n",
       "      <td>TXN000001</td>\n",
       "      <td>2023-03-30</td>\n",
       "      <td>CUST1035</td>\n",
       "      <td>107</td>\n",
       "      <td>6.0</td>\n",
       "      <td>91.44</td>\n",
       "      <td>Gamma</td>\n",
       "    </tr>\n",
       "    <tr>\n",
       "      <th>2</th>\n",
       "      <td>TXN000002</td>\n",
       "      <td>2023-08-27</td>\n",
       "      <td>CUST4216</td>\n",
       "      <td>190</td>\n",
       "      <td>8.0</td>\n",
       "      <td>785.16</td>\n",
       "      <td>Beta</td>\n",
       "    </tr>\n",
       "    <tr>\n",
       "      <th>3</th>\n",
       "      <td>TXN000003</td>\n",
       "      <td>2023-02-07</td>\n",
       "      <td>CUST8870</td>\n",
       "      <td>195</td>\n",
       "      <td>3.0</td>\n",
       "      <td>286.08</td>\n",
       "      <td>Alpha</td>\n",
       "    </tr>\n",
       "    <tr>\n",
       "      <th>4</th>\n",
       "      <td>TXN000004</td>\n",
       "      <td>2023-12-27</td>\n",
       "      <td>CUST4105</td>\n",
       "      <td>105</td>\n",
       "      <td>5.0</td>\n",
       "      <td>688.16</td>\n",
       "      <td>Alpha</td>\n",
       "    </tr>\n",
       "    <tr>\n",
       "      <th>...</th>\n",
       "      <td>...</td>\n",
       "      <td>...</td>\n",
       "      <td>...</td>\n",
       "      <td>...</td>\n",
       "      <td>...</td>\n",
       "      <td>...</td>\n",
       "      <td>...</td>\n",
       "    </tr>\n",
       "    <tr>\n",
       "      <th>99995</th>\n",
       "      <td>TXN099995</td>\n",
       "      <td>2023-10-15</td>\n",
       "      <td>CUST8506</td>\n",
       "      <td>174</td>\n",
       "      <td>6.0</td>\n",
       "      <td>904.82</td>\n",
       "      <td>Delta</td>\n",
       "    </tr>\n",
       "    <tr>\n",
       "      <th>99996</th>\n",
       "      <td>TXN099996</td>\n",
       "      <td>2023-09-01</td>\n",
       "      <td>CUST5770</td>\n",
       "      <td>182</td>\n",
       "      <td>9.0</td>\n",
       "      <td>414.89</td>\n",
       "      <td>Beta</td>\n",
       "    </tr>\n",
       "    <tr>\n",
       "      <th>99997</th>\n",
       "      <td>TXN099997</td>\n",
       "      <td>2023-07-21</td>\n",
       "      <td>CUST3064</td>\n",
       "      <td>189</td>\n",
       "      <td>8.0</td>\n",
       "      <td>86.37</td>\n",
       "      <td>Beta</td>\n",
       "    </tr>\n",
       "    <tr>\n",
       "      <th>99998</th>\n",
       "      <td>TXN099998</td>\n",
       "      <td>2023-01-12</td>\n",
       "      <td>CUST5691</td>\n",
       "      <td>197</td>\n",
       "      <td>8.0</td>\n",
       "      <td>355.81</td>\n",
       "      <td>Alpha</td>\n",
       "    </tr>\n",
       "    <tr>\n",
       "      <th>99999</th>\n",
       "      <td>TXN099999</td>\n",
       "      <td>2023-01-13</td>\n",
       "      <td>CUST2342</td>\n",
       "      <td>119</td>\n",
       "      <td>9.0</td>\n",
       "      <td>389.38</td>\n",
       "      <td>Delta</td>\n",
       "    </tr>\n",
       "  </tbody>\n",
       "</table>\n",
       "<p>100000 rows × 7 columns</p>\n",
       "</div>"
      ],
      "text/plain": [
       "      Transaction_ID       Date Customer_ID  Product_ID  Units_Sold  \\\n",
       "0          TXN000000 2023-11-03    CUST5695         177         9.0   \n",
       "1          TXN000001 2023-03-30    CUST1035         107         6.0   \n",
       "2          TXN000002 2023-08-27    CUST4216         190         8.0   \n",
       "3          TXN000003 2023-02-07    CUST8870         195         3.0   \n",
       "4          TXN000004 2023-12-27    CUST4105         105         5.0   \n",
       "...              ...        ...         ...         ...         ...   \n",
       "99995      TXN099995 2023-10-15    CUST8506         174         6.0   \n",
       "99996      TXN099996 2023-09-01    CUST5770         182         9.0   \n",
       "99997      TXN099997 2023-07-21    CUST3064         189         8.0   \n",
       "99998      TXN099998 2023-01-12    CUST5691         197         8.0   \n",
       "99999      TXN099999 2023-01-13    CUST2342         119         9.0   \n",
       "\n",
       "       Sale_Amount Store_Name  \n",
       "0              NaN      Alpha  \n",
       "1            91.44      Gamma  \n",
       "2           785.16       Beta  \n",
       "3           286.08      Alpha  \n",
       "4           688.16      Alpha  \n",
       "...            ...        ...  \n",
       "99995       904.82      Delta  \n",
       "99996       414.89       Beta  \n",
       "99997        86.37       Beta  \n",
       "99998       355.81      Alpha  \n",
       "99999       389.38      Delta  \n",
       "\n",
       "[100000 rows x 7 columns]"
      ]
     },
     "execution_count": 78,
     "metadata": {},
     "output_type": "execute_result"
    }
   ],
   "source": [
    "df1"
   ]
  },
  {
   "cell_type": "code",
   "execution_count": 76,
   "id": "c44cbf93-e311-47c0-82c3-fa585decd08b",
   "metadata": {},
   "outputs": [
    {
     "data": {
      "text/html": [
       "<div>\n",
       "<style scoped>\n",
       "    .dataframe tbody tr th:only-of-type {\n",
       "        vertical-align: middle;\n",
       "    }\n",
       "\n",
       "    .dataframe tbody tr th {\n",
       "        vertical-align: top;\n",
       "    }\n",
       "\n",
       "    .dataframe thead th {\n",
       "        text-align: right;\n",
       "    }\n",
       "</style>\n",
       "<table border=\"1\" class=\"dataframe\">\n",
       "  <thead>\n",
       "    <tr style=\"text-align: right;\">\n",
       "      <th></th>\n",
       "      <th>Product_ID</th>\n",
       "      <th>Product_Name</th>\n",
       "      <th>Category</th>\n",
       "      <th>Price</th>\n",
       "      <th>Discontinued</th>\n",
       "    </tr>\n",
       "  </thead>\n",
       "  <tbody>\n",
       "    <tr>\n",
       "      <th>0</th>\n",
       "      <td>100</td>\n",
       "      <td>Monitor</td>\n",
       "      <td>Accessories</td>\n",
       "      <td>232.78</td>\n",
       "      <td>yes</td>\n",
       "    </tr>\n",
       "    <tr>\n",
       "      <th>1</th>\n",
       "      <td>101</td>\n",
       "      <td>Monitor</td>\n",
       "      <td>Office</td>\n",
       "      <td>1163.09</td>\n",
       "      <td>N</td>\n",
       "    </tr>\n",
       "    <tr>\n",
       "      <th>2</th>\n",
       "      <td>102</td>\n",
       "      <td>Printer</td>\n",
       "      <td>Office</td>\n",
       "      <td>202.45</td>\n",
       "      <td>N</td>\n",
       "    </tr>\n",
       "    <tr>\n",
       "      <th>3</th>\n",
       "      <td>103</td>\n",
       "      <td>Laptop</td>\n",
       "      <td>Electronics</td>\n",
       "      <td>375.07</td>\n",
       "      <td>Yes</td>\n",
       "    </tr>\n",
       "    <tr>\n",
       "      <th>4</th>\n",
       "      <td>104</td>\n",
       "      <td>Laptop</td>\n",
       "      <td>Office</td>\n",
       "      <td>1262.60</td>\n",
       "      <td>Yes</td>\n",
       "    </tr>\n",
       "    <tr>\n",
       "      <th>...</th>\n",
       "      <td>...</td>\n",
       "      <td>...</td>\n",
       "      <td>...</td>\n",
       "      <td>...</td>\n",
       "      <td>...</td>\n",
       "    </tr>\n",
       "    <tr>\n",
       "      <th>95</th>\n",
       "      <td>195</td>\n",
       "      <td>Tablet</td>\n",
       "      <td>Electronics</td>\n",
       "      <td>452.92</td>\n",
       "      <td>no</td>\n",
       "    </tr>\n",
       "    <tr>\n",
       "      <th>96</th>\n",
       "      <td>196</td>\n",
       "      <td>Phone</td>\n",
       "      <td>Office</td>\n",
       "      <td>1213.68</td>\n",
       "      <td>Y</td>\n",
       "    </tr>\n",
       "    <tr>\n",
       "      <th>97</th>\n",
       "      <td>197</td>\n",
       "      <td>Printer</td>\n",
       "      <td>Electronics</td>\n",
       "      <td>1430.06</td>\n",
       "      <td>No</td>\n",
       "    </tr>\n",
       "    <tr>\n",
       "      <th>98</th>\n",
       "      <td>198</td>\n",
       "      <td>Printer</td>\n",
       "      <td>Electronics</td>\n",
       "      <td>1436.76</td>\n",
       "      <td>Y</td>\n",
       "    </tr>\n",
       "    <tr>\n",
       "      <th>99</th>\n",
       "      <td>199</td>\n",
       "      <td>Tablet</td>\n",
       "      <td>Office</td>\n",
       "      <td>203.64</td>\n",
       "      <td>no</td>\n",
       "    </tr>\n",
       "  </tbody>\n",
       "</table>\n",
       "<p>100 rows × 5 columns</p>\n",
       "</div>"
      ],
      "text/plain": [
       "    Product_ID Product_Name     Category    Price Discontinued\n",
       "0          100      Monitor  Accessories   232.78          yes\n",
       "1          101      Monitor       Office  1163.09            N\n",
       "2          102      Printer       Office   202.45            N\n",
       "3          103       Laptop  Electronics   375.07          Yes\n",
       "4          104       Laptop       Office  1262.60          Yes\n",
       "..         ...          ...          ...      ...          ...\n",
       "95         195       Tablet  Electronics   452.92           no\n",
       "96         196        Phone       Office  1213.68            Y\n",
       "97         197      Printer  Electronics  1430.06           No\n",
       "98         198      Printer  Electronics  1436.76            Y\n",
       "99         199       Tablet       Office   203.64           no\n",
       "\n",
       "[100 rows x 5 columns]"
      ]
     },
     "execution_count": 76,
     "metadata": {},
     "output_type": "execute_result"
    }
   ],
   "source": [
    "df2 = pd.read_excel(path_excel, sheet_name=\"Product_Info\" )\n",
    "df2"
   ]
  },
  {
   "cell_type": "code",
   "execution_count": null,
   "id": "8da88eb8-bc12-4a23-b0c6-031e63b18cca",
   "metadata": {},
   "outputs": [],
   "source": []
  }
 ],
 "metadata": {
  "kernelspec": {
   "display_name": "Python 3 (ipykernel)",
   "language": "python",
   "name": "python3"
  },
  "language_info": {
   "codemirror_mode": {
    "name": "ipython",
    "version": 3
   },
   "file_extension": ".py",
   "mimetype": "text/x-python",
   "name": "python",
   "nbconvert_exporter": "python",
   "pygments_lexer": "ipython3",
   "version": "3.12.7"
  }
 },
 "nbformat": 4,
 "nbformat_minor": 5
}
