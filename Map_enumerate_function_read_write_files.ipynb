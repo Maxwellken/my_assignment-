{
 "cells": [
  {
   "cell_type": "code",
   "execution_count": 2,
   "id": "dfc1a6b7-6ebc-4a64-a3c5-bbe2def4117f",
   "metadata": {},
   "outputs": [
    {
     "data": {
      "text/plain": [
       "[2.0, 3.0, 5.0, 10.0, 12.0]"
      ]
     },
     "execution_count": 2,
     "metadata": {},
     "output_type": "execute_result"
    }
   ],
   "source": [
    "#how to use the map function\n",
    "from math import sqrt\n",
    "num= [4, 9, 25, 100, 144]\n",
    "num_sqrt =[sqrt(i) for i in num]\n",
    "num_sqrt"
   ]
  },
  {
   "cell_type": "code",
   "execution_count": 3,
   "id": "048379eb-b627-4cd6-9cdf-d1f240afc7c4",
   "metadata": {},
   "outputs": [
    {
     "data": {
      "text/plain": [
       "[2.0, 3.0, 5.0, 10.0, 12.0]"
      ]
     },
     "execution_count": 3,
     "metadata": {},
     "output_type": "execute_result"
    }
   ],
   "source": [
    "#using map function to calculate the sqareroot of the elements in the list\n",
    "new_sqrt= list(map(sqrt,num))\n",
    "new_sqrt"
   ]
  },
  {
   "cell_type": "code",
   "execution_count": 4,
   "id": "b5c7e220-1139-4302-9f10-da27c2064c73",
   "metadata": {},
   "outputs": [
    {
     "data": {
      "text/plain": [
       "[1.3862943611198906,\n",
       " 2.1972245773362196,\n",
       " 3.2188758248682006,\n",
       " 4.605170185988092,\n",
       " 4.969813299576001]"
      ]
     },
     "execution_count": 4,
     "metadata": {},
     "output_type": "execute_result"
    }
   ],
   "source": [
    "from math import log\n",
    "num= [4, 9, 25, 100, 144]\n",
    "log_num = list(map(log,num))\n",
    "log_num"
   ]
  },
  {
   "cell_type": "markdown",
   "id": "88f0e4e2-ec71-4372-8733-ec6f42268010",
   "metadata": {},
   "source": [
    "Assignment\n",
    "1. find the sine and tangent values for the below:\n",
    "angles = [32, 45, 60, 90, 180]\n",
    "\n",
    "2.  Write a program that generates a random number x,  between 1 and 50, and a random number y, between 2 and 5 and compute x**y using map() function"
   ]
  },
  {
   "cell_type": "code",
   "execution_count": 7,
   "id": "f092f746-040d-4641-bf70-63b582cbf869",
   "metadata": {},
   "outputs": [
    {
     "name": "stdout",
     "output_type": "stream",
     "text": [
      "0 meat\n",
      "1 fish\n",
      "2 egg\n",
      "3 prawns\n"
     ]
    }
   ],
   "source": [
    "#enumrate() function\n",
    "foods = ['meat','fish', 'egg', 'prawns']\n",
    "enum_food = enumerate(foods)\n",
    "for index,values in enum_food:\n",
    "    print(index,values)"
   ]
  },
  {
   "cell_type": "markdown",
   "id": "baecc8e0-6b30-4b92-b310-723d667447af",
   "metadata": {},
   "source": [
    "## File Handling in Python"
   ]
  },
  {
   "cell_type": "code",
   "execution_count": 8,
   "id": "7edc4968-f202-4d64-84c0-9b18a569256a",
   "metadata": {},
   "outputs": [
    {
     "name": "stdout",
     "output_type": "stream",
     "text": [
      "<_io.TextIOWrapper name='demofile.txt' mode='r' encoding='cp1252'>\n"
     ]
    }
   ],
   "source": [
    "#opening an existing file using the open() function\n",
    "f =open(\"demofile.txt\")\n",
    "print(f)"
   ]
  },
  {
   "cell_type": "code",
   "execution_count": 9,
   "id": "ba5df537-d20f-4179-9ed7-920688698463",
   "metadata": {},
   "outputs": [
    {
     "name": "stdout",
     "output_type": "stream",
     "text": [
      "This is Presh's class  and that is how we roll.\n"
     ]
    }
   ],
   "source": [
    "filepath= open(\"C:\\\\Users\\\\pc\\\\Documents\\\\Presh_class\\\\demofile.txt\")\n",
    "print(filepath.read())"
   ]
  },
  {
   "cell_type": "code",
   "execution_count": 10,
   "id": "950d598b-5cc2-4234-badb-e6aa678aa059",
   "metadata": {},
   "outputs": [],
   "source": [
    "#opening a non-existent file\n",
    "file_1 = open(\"new_file.txt\", \"a\")"
   ]
  },
  {
   "cell_type": "code",
   "execution_count": 11,
   "id": "bb4bb35f-097b-4b0f-98fd-79a32829fc5c",
   "metadata": {},
   "outputs": [
    {
     "data": {
      "text/plain": [
       "102"
      ]
     },
     "execution_count": 11,
     "metadata": {},
     "output_type": "execute_result"
    }
   ],
   "source": [
    "intro = \"here are the list of  progroms at TeQuant\"\n",
    "progs =\" data analytics, data science, digital marketing, cyber security, frontend and backend web development\"\n",
    "file_1 = open(\"new_file.txt\", \"r+\")\n",
    "\n",
    "#write to file: it will return the no of characters\n",
    "file_1.write(intro)\n",
    "file_1.write(progs)"
   ]
  },
  {
   "cell_type": "code",
   "execution_count": 12,
   "id": "d1bceda9-00bf-49a8-999e-85f49c1b95b3",
   "metadata": {},
   "outputs": [
    {
     "name": "stdout",
     "output_type": "stream",
     "text": [
      "\n"
     ]
    }
   ],
   "source": [
    "print(file_1.read())"
   ]
  },
  {
   "cell_type": "markdown",
   "id": "9716f46f-bffb-4db7-8261-341946298d57",
   "metadata": {},
   "source": [
    "## Control structures cont.\n",
    "\n",
    "If-Else statement\n",
    "The if-else structure allows your program to decide what to do based on certain conditions. \n",
    "It’s like setting rules for your program to follow. An if statement checks a condition. If the condition is true, it executes the code inside it. Otherwise, it runs the else block.\n"
   ]
  },
  {
   "cell_type": "code",
   "execution_count": 13,
   "id": "2782ee6a-63d2-4cf9-8fd0-16a2242739e8",
   "metadata": {},
   "outputs": [
    {
     "name": "stdout",
     "output_type": "stream",
     "text": [
      "Even\n"
     ]
    }
   ],
   "source": [
    "num = 4\n",
    "if num % 2 == 0:\n",
    "    print(\"Even\")\n",
    "else:\n",
    "    print(\"Odd\")\n"
   ]
  },
  {
   "cell_type": "code",
   "execution_count": 16,
   "id": "68803837-fdd7-45da-b76f-9555616e80a6",
   "metadata": {},
   "outputs": [
    {
     "name": "stdin",
     "output_type": "stream",
     "text": [
      "enter a score -1\n"
     ]
    },
    {
     "name": "stdout",
     "output_type": "stream",
     "text": [
      "invalid score\n"
     ]
    }
   ],
   "source": [
    "score = int(input(\"enter a score\"))\n",
    "if score<0:\n",
    "    print(\"invalid score\")\n",
    "elif score >= 70:\n",
    "    print(\"A\")\n",
    "elif score >= 60:\n",
    "    print(\"B\")  # Output: \"B\"\n",
    "elif score >= 50:\n",
    "    print(\"C\")\n",
    "else:\n",
    "    print(\"Fail\")\n"
   ]
  },
  {
   "cell_type": "markdown",
   "id": "79c19518-14d6-4999-8be6-b411c92394ef",
   "metadata": {},
   "source": [
    "#  using if-elif-else statement to answer . Ask user to enter temperature in celcius, the program should print message based on the temperature.\n",
    "# k = c+237.15, "
   ]
  },
  {
   "cell_type": "code",
   "execution_count": null,
   "id": "23c74838-2984-491f-9669-0a8fb6f56695",
   "metadata": {},
   "outputs": [],
   "source": []
  }
 ],
 "metadata": {
  "kernelspec": {
   "display_name": "Python 3 (ipykernel)",
   "language": "python",
   "name": "python3"
  },
  "language_info": {
   "codemirror_mode": {
    "name": "ipython",
    "version": 3
   },
   "file_extension": ".py",
   "mimetype": "text/x-python",
   "name": "python",
   "nbconvert_exporter": "python",
   "pygments_lexer": "ipython3",
   "version": "3.12.7"
  }
 },
 "nbformat": 4,
 "nbformat_minor": 5
}
