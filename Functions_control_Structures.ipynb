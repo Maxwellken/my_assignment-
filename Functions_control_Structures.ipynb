{
 "cells": [
  {
   "cell_type": "code",
   "execution_count": 1,
   "id": "5d062a20-6617-4f3f-90e5-b4a9157fdb12",
   "metadata": {},
   "outputs": [],
   "source": [
    "names = [\"Precious\",\"michael\", \"Jenny\", \"Prosper\"]\n",
    "age = [19, 20, 25, 12]"
   ]
  },
  {
   "cell_type": "code",
   "execution_count": 2,
   "id": "46a4a938-ea9f-40bd-a819-31339d4f533a",
   "metadata": {},
   "outputs": [
    {
     "data": {
      "text/plain": [
       "{'Precious': 19, 'michael': 20, 'Jenny': 25, 'Prosper': 12}"
      ]
     },
     "execution_count": 2,
     "metadata": {},
     "output_type": "execute_result"
    }
   ],
   "source": [
    "#we can combine the lists into a dictionary\n",
    "name_age_dict = dict(zip(names,age))\n",
    "name_age_dict"
   ]
  },
  {
   "cell_type": "code",
   "execution_count": 3,
   "id": "feab01d2-0276-4247-8ab0-fa42993868d6",
   "metadata": {},
   "outputs": [
    {
     "data": {
      "text/plain": [
       "{'Precious': 19, 'michael': 20, 'Jenny': 25, 'Prosper': 12, 'Gabriel': 18}"
      ]
     },
     "execution_count": 3,
     "metadata": {},
     "output_type": "execute_result"
    }
   ],
   "source": [
    "#you can add more elements into a dictionary using update() function\n",
    "name_age_dict.update({'Gabriel': 18})\n",
    "name_age_dict"
   ]
  },
  {
   "cell_type": "code",
   "execution_count": 4,
   "id": "f5d995e5-fd12-4e87-9f5a-f0fadba2aa34",
   "metadata": {},
   "outputs": [
    {
     "data": {
      "text/plain": [
       "18"
      ]
     },
     "execution_count": 4,
     "metadata": {},
     "output_type": "execute_result"
    }
   ],
   "source": [
    "#you can use the pop() function to remove paired elements from a dictionary\n",
    "name_age_dict.pop(\"Gabriel\")"
   ]
  },
  {
   "cell_type": "code",
   "execution_count": 5,
   "id": "933f5360-adc8-4203-ac62-e9a1f389792d",
   "metadata": {},
   "outputs": [
    {
     "data": {
      "text/plain": [
       "{'Precious': 19, 'michael': 20, 'Jenny': 25, 'Prosper': 12}"
      ]
     },
     "execution_count": 5,
     "metadata": {},
     "output_type": "execute_result"
    }
   ],
   "source": [
    "name_age_dict"
   ]
  },
  {
   "cell_type": "code",
   "execution_count": 6,
   "id": "22bddde6-3398-4cf2-a28b-e86c341d1c41",
   "metadata": {},
   "outputs": [],
   "source": [
    "#you can also use the del keyword to remove a paired item \n",
    "del name_age_dict[\"Jenny\"]"
   ]
  },
  {
   "cell_type": "code",
   "execution_count": 7,
   "id": "8f35c07e-f9ba-4b24-95b0-be97181b64d1",
   "metadata": {},
   "outputs": [
    {
     "data": {
      "text/plain": [
       "{'Precious': 19, 'michael': 20, 'Prosper': 12}"
      ]
     },
     "execution_count": 7,
     "metadata": {},
     "output_type": "execute_result"
    }
   ],
   "source": [
    "name_age_dict"
   ]
  },
  {
   "cell_type": "code",
   "execution_count": 9,
   "id": "a66c76fb-2486-4573-bec1-38351ae78ea4",
   "metadata": {},
   "outputs": [
    {
     "data": {
      "text/plain": [
       "('Prosper', 12)"
      ]
     },
     "execution_count": 9,
     "metadata": {},
     "output_type": "execute_result"
    }
   ],
   "source": [
    "#you can also use the popitem() function to remove a paired element from a dictionary\n",
    "name_age_dict.popitem()"
   ]
  },
  {
   "cell_type": "code",
   "execution_count": 10,
   "id": "2c3116d8-605c-48cb-b1f6-835e9ff61b56",
   "metadata": {},
   "outputs": [
    {
     "data": {
      "text/plain": [
       "{}"
      ]
     },
     "execution_count": 10,
     "metadata": {},
     "output_type": "execute_result"
    }
   ],
   "source": [
    "name_age_dict.clear()\n",
    "name_age_dict"
   ]
  },
  {
   "cell_type": "markdown",
   "id": "321dae49-30eb-450e-8bf6-45412619f43e",
   "metadata": {},
   "source": [
    "split() and rsplit() are by default used to do the same thing by manipulate text by spliting on them \n",
    "but when the maxsplit is included the split() works from the left while the rsplit() works from the right.\n",
    "The split() and rsplit() methods in Python are used to divide a string into a list of substrings based on a delimiter. While they share similarities, their behavior differs primarily in how they handle the maxsplit argument. split(): Splits a string from the left side (beginning). If maxsplit is specified, it splits the string into a maximum of maxsplit + 1 substrings, starting from the left. rsplit(): Splits a string from the right side (end). If maxsplit is specified, it splits the string into a maximum of maxsplit + 1 substrings, starting from the right."
   ]
  },
  {
   "cell_type": "code",
   "execution_count": 11,
   "id": "b39afb71-4db5-4e43-b0db-18d3058297f3",
   "metadata": {},
   "outputs": [],
   "source": [
    "text = \"apple,banana,orange,grape\""
   ]
  },
  {
   "cell_type": "code",
   "execution_count": 12,
   "id": "eab80063-2561-461d-ae34-a90df46e402d",
   "metadata": {},
   "outputs": [
    {
     "name": "stdout",
     "output_type": "stream",
     "text": [
      "apple,banana,orange,grape\n"
     ]
    }
   ],
   "source": [
    "print(text)"
   ]
  },
  {
   "cell_type": "code",
   "execution_count": 13,
   "id": "a63ffe98-8969-47fc-bd53-39934fa68119",
   "metadata": {},
   "outputs": [
    {
     "name": "stdout",
     "output_type": "stream",
     "text": [
      "['apple', 'banana', 'orange', 'grape']\n",
      "['apple', 'banana', 'orange', 'grape']\n"
     ]
    }
   ],
   "source": [
    "sp1 =text.split(\",\")\n",
    "sp2=text.rsplit(\",\")\n",
    "print(sp1)\n",
    "print(sp2)"
   ]
  },
  {
   "cell_type": "code",
   "execution_count": 18,
   "id": "7245e170-b966-4e9e-bcd2-e93583c0a047",
   "metadata": {},
   "outputs": [
    {
     "name": "stdout",
     "output_type": "stream",
     "text": [
      "['', 'pple,b', 'n', 'na,orange,grape']\n",
      "['apple,banan', ',or', 'nge,gr', 'pe']\n"
     ]
    }
   ],
   "source": [
    "sp1_max3=text.split(\"a\", maxsplit=3)\n",
    "sp2_max3=text.rsplit(\"a\", maxsplit=3)\n",
    "print(sp1_max3)\n",
    "print(sp2_max3)"
   ]
  },
  {
   "cell_type": "code",
   "execution_count": 31,
   "id": "208ce5af-4244-4a87-b143-afcd395d6d75",
   "metadata": {},
   "outputs": [],
   "source": [
    "\n",
    "def addnum(x, y):\n",
    "    result = x + y\n",
    "    return result\n"
   ]
  },
  {
   "cell_type": "code",
   "execution_count": 21,
   "id": "3d184588-3e23-4b7c-9a48-6a726c1f4565",
   "metadata": {},
   "outputs": [
    {
     "name": "stdout",
     "output_type": "stream",
     "text": [
      "27\n"
     ]
    }
   ],
   "source": [
    "add =addnum(4,23)\n",
    "print(add)"
   ]
  },
  {
   "cell_type": "markdown",
   "id": "ea0097d2-b8e9-4279-b058-8d4f40473aad",
   "metadata": {},
   "source": [
    "class work: write a function that sums even numbers that are positive"
   ]
  },
  {
   "cell_type": "code",
   "execution_count": 24,
   "id": "2be46ae3-9dbc-42ae-a274-27accda5d757",
   "metadata": {},
   "outputs": [],
   "source": [
    "def add_even(a,b):\n",
    "    if a%2==0 and b%2==0:\n",
    "        add_num= a + b\n",
    "    else:\n",
    "        print(\"the numbers are not even numbers\")\n",
    "    return add_num"
   ]
  },
  {
   "cell_type": "code",
   "execution_count": 25,
   "id": "e76dcc3d-83b4-4f49-bfb0-b362c39f7385",
   "metadata": {},
   "outputs": [
    {
     "data": {
      "text/plain": [
       "10"
      ]
     },
     "execution_count": 25,
     "metadata": {},
     "output_type": "execute_result"
    }
   ],
   "source": [
    "add_even(2,8)"
   ]
  },
  {
   "cell_type": "code",
   "execution_count": 33,
   "id": "36126b83-876e-4d05-b895-252533840b16",
   "metadata": {},
   "outputs": [],
   "source": [
    "def pos_num(a):\n",
    "    if a!=0 and a>0:\n",
    "        print(f'is a positive number')\n",
    "    else:\n",
    "        print(f' is a negative number')\n",
    "    return pos_num\n",
    "    "
   ]
  },
  {
   "cell_type": "code",
   "execution_count": 37,
   "id": "565b16d3-c743-43a5-bfc4-1db9da737a99",
   "metadata": {},
   "outputs": [
    {
     "name": "stdout",
     "output_type": "stream",
     "text": [
      "is a positive number\n"
     ]
    },
    {
     "data": {
      "text/plain": [
       "<function __main__.pos_num(a)>"
      ]
     },
     "execution_count": 37,
     "metadata": {},
     "output_type": "execute_result"
    }
   ],
   "source": [
    "pos_num(90)"
   ]
  },
  {
   "cell_type": "markdown",
   "id": "c52e585e-3dc1-4d34-b7ba-cbf23cb4aef9",
   "metadata": {},
   "source": [
    "## Variable scopping\n",
    "\n",
    "local variables: are variables invoked within a function\n",
    "\n",
    "global variable: are variables invoked from any other part of the code"
   ]
  },
  {
   "cell_type": "code",
   "execution_count": 42,
   "id": "82a6b6e7-2eb7-4f92-a7ae-9c65e0dbd062",
   "metadata": {},
   "outputs": [
    {
     "name": "stdout",
     "output_type": "stream",
     "text": [
      "150.0\n",
      "300\n"
     ]
    }
   ],
   "source": [
    "x = 300   #global variable\n",
    "def myfunc():\n",
    "   print(x/2)\n",
    "myfunc()\n",
    "print(x)\n"
   ]
  },
  {
   "cell_type": "markdown",
   "id": "c7abcc3b-c262-4f12-9824-fda64c05ef14",
   "metadata": {},
   "source": [
    "## Control structures\n",
    "pass - dummy statement that literally does nothing\n",
    "\n",
    "break - will automatically bring the operation of the codes to end\n",
    "\n",
    "continue - used to skip an action or line in the course of the operations\n",
    "\n",
    "return - will exit a function with a value after its operation\n",
    "\n",
    "if statement\n",
    "\n",
    "nested if and elif statement\n",
    "\n",
    "for loops and while loop\n",
    "\n",
    "\n"
   ]
  },
  {
   "cell_type": "code",
   "execution_count": 44,
   "id": "8bbdedbc-8141-44bc-8688-f27264ebdd43",
   "metadata": {},
   "outputs": [
    {
     "name": "stdout",
     "output_type": "stream",
     "text": [
      "1\n",
      "2\n"
     ]
    }
   ],
   "source": [
    "for num in range(1, 6):\n",
    "    if num == 3:\n",
    "        break  # Loop stops when num is 3\n",
    "    print(num)\n",
    "# Output: 1 2\n"
   ]
  },
  {
   "cell_type": "code",
   "execution_count": 45,
   "id": "563898b7-9488-41a4-b4d7-a30c14f241a6",
   "metadata": {},
   "outputs": [
    {
     "name": "stdout",
     "output_type": "stream",
     "text": [
      "1\n",
      "2\n",
      "3\n",
      "4\n",
      "5\n"
     ]
    }
   ],
   "source": [
    "for num in range(1, 6):\n",
    "    if num == 3:\n",
    "        pass  # does not affect the running of the codes \n",
    "    print(num)\n"
   ]
  },
  {
   "cell_type": "code",
   "execution_count": 46,
   "id": "775f2018-29e2-46d5-a7f6-6b556f693617",
   "metadata": {},
   "outputs": [
    {
     "name": "stdout",
     "output_type": "stream",
     "text": [
      "1\n",
      "2\n",
      "4\n",
      "5\n"
     ]
    }
   ],
   "source": [
    "for num in range(1, 6):\n",
    "    if num == 3:\n",
    "        continue  # Loop skipped when num is 3\n",
    "    print(num)\n",
    "# Output: 1 2"
   ]
  },
  {
   "cell_type": "markdown",
   "id": "ee52c140-c899-4a90-bbba-04be9e759650",
   "metadata": {},
   "source": [
    "## Assignment\n",
    "1 Write a function that accepts temperature in celcius and converts it to farenheit\n",
    "\n",
    "2 Write a function that begins by reading a radius, r, from the user. The program will continue by computing and displaying the area of a circle with radius r and the\n",
    "volume of a sphere with radius r. Use the pi constant in the math module in your\n",
    "calculations\n",
    "\n",
    "3 Read up Map() and Enumerate() functions respectively"
   ]
  },
  {
   "cell_type": "code",
   "execution_count": null,
   "id": "a6981684-c347-4c70-86eb-72a9455c13bb",
   "metadata": {},
   "outputs": [],
   "source": []
  }
 ],
 "metadata": {
  "kernelspec": {
   "display_name": "Python 3 (ipykernel)",
   "language": "python",
   "name": "python3"
  },
  "language_info": {
   "codemirror_mode": {
    "name": "ipython",
    "version": 3
   },
   "file_extension": ".py",
   "mimetype": "text/x-python",
   "name": "python",
   "nbconvert_exporter": "python",
   "pygments_lexer": "ipython3",
   "version": "3.12.7"
  }
 },
 "nbformat": 4,
 "nbformat_minor": 5
}
