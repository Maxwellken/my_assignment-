{
 "cells": [
  {
   "cell_type": "markdown",
   "id": "0b268bb8-a75d-4cd1-ba91-3adf3a938c8c",
   "metadata": {},
   "source": [
    "## List Slicing"
   ]
  },
  {
   "cell_type": "code",
   "execution_count": 1,
   "id": "47f6c632-d375-48ab-80a3-61c694623021",
   "metadata": {},
   "outputs": [],
   "source": [
    "a = [1,2,3,4,5,6,7,8,9]\n"
   ]
  },
  {
   "cell_type": "code",
   "execution_count": 2,
   "id": "f9a180b1-cada-4f4b-95c9-3a9690300ae9",
   "metadata": {},
   "outputs": [
    {
     "data": {
      "text/plain": [
       "[3, 4, 5, 6, 7, 8]"
      ]
     },
     "execution_count": 2,
     "metadata": {},
     "output_type": "execute_result"
    }
   ],
   "source": [
    "a[2:8]"
   ]
  },
  {
   "cell_type": "code",
   "execution_count": 3,
   "id": "6354a51d-29ac-4fa4-8c9e-d565ec246760",
   "metadata": {},
   "outputs": [
    {
     "data": {
      "text/plain": [
       "9"
      ]
     },
     "execution_count": 3,
     "metadata": {},
     "output_type": "execute_result"
    }
   ],
   "source": [
    "a[-1 ] #prints the last element in the list"
   ]
  },
  {
   "cell_type": "code",
   "execution_count": 4,
   "id": "fa9e0072-2a39-4344-9742-f0cfc3eed261",
   "metadata": {},
   "outputs": [
    {
     "data": {
      "text/plain": [
       "[9, 8, 7, 6, 5, 4, 3, 2, 1]"
      ]
     },
     "execution_count": 4,
     "metadata": {},
     "output_type": "execute_result"
    }
   ],
   "source": [
    "a[: :-1]  #prints the reverse of the list"
   ]
  },
  {
   "cell_type": "code",
   "execution_count": 5,
   "id": "c1752ef3-606e-4b5a-ba51-344584b06bf3",
   "metadata": {},
   "outputs": [
    {
     "data": {
      "text/plain": [
       "[1, 2, 3, 4, 5, 6, 7, 8]"
      ]
     },
     "execution_count": 5,
     "metadata": {},
     "output_type": "execute_result"
    }
   ],
   "source": [
    "a[0:-1]"
   ]
  },
  {
   "cell_type": "code",
   "execution_count": 6,
   "id": "a24a39c9-e1a5-4cae-9530-10c9414c5cc6",
   "metadata": {},
   "outputs": [
    {
     "data": {
      "text/plain": [
       "[1, 2, 3, 4, 5, 6, 7, 8, 9]"
      ]
     },
     "execution_count": 6,
     "metadata": {},
     "output_type": "execute_result"
    }
   ],
   "source": [
    "a[::]  #prints the whole list"
   ]
  },
  {
   "cell_type": "code",
   "execution_count": 7,
   "id": "8cac4f8a-de46-473f-a060-41195cf8cde0",
   "metadata": {},
   "outputs": [],
   "source": [
    "b =\"Hello, World\""
   ]
  },
  {
   "cell_type": "code",
   "execution_count": 8,
   "id": "59a2a676-7f98-4be9-8ad6-631ebca95e41",
   "metadata": {},
   "outputs": [
    {
     "data": {
      "text/plain": [
       "'llo, Wo'"
      ]
     },
     "execution_count": 8,
     "metadata": {},
     "output_type": "execute_result"
    }
   ],
   "source": [
    "b[2:9]"
   ]
  },
  {
   "cell_type": "code",
   "execution_count": 9,
   "id": "0a9d3516-5445-430c-a547-82f0e13c6fdc",
   "metadata": {},
   "outputs": [
    {
     "data": {
      "text/plain": [
       "', World'"
      ]
     },
     "execution_count": 9,
     "metadata": {},
     "output_type": "execute_result"
    }
   ],
   "source": [
    "b[5:]"
   ]
  },
  {
   "cell_type": "code",
   "execution_count": 10,
   "id": "b1d3fb85-e936-48d2-a1a3-5f09b72d6574",
   "metadata": {},
   "outputs": [
    {
     "data": {
      "text/plain": [
       "','"
      ]
     },
     "execution_count": 10,
     "metadata": {},
     "output_type": "execute_result"
    }
   ],
   "source": [
    "b[5]"
   ]
  },
  {
   "cell_type": "code",
   "execution_count": 11,
   "id": "66cb7102-7064-4347-b31e-2ac693552e7c",
   "metadata": {},
   "outputs": [
    {
     "data": {
      "text/plain": [
       "False"
      ]
     },
     "execution_count": 11,
     "metadata": {},
     "output_type": "execute_result"
    }
   ],
   "source": [
    "b[5]==b[5:]"
   ]
  },
  {
   "cell_type": "code",
   "execution_count": 12,
   "id": "770267b6-a169-4441-bab4-1033717cdbf5",
   "metadata": {},
   "outputs": [
    {
     "data": {
      "text/plain": [
       "', World'"
      ]
     },
     "execution_count": 12,
     "metadata": {},
     "output_type": "execute_result"
    }
   ],
   "source": [
    "b[5::]"
   ]
  },
  {
   "cell_type": "code",
   "execution_count": 13,
   "id": "1007dbe0-e11c-4bd7-998a-9249aabb01a5",
   "metadata": {},
   "outputs": [
    {
     "data": {
      "text/plain": [
       "True"
      ]
     },
     "execution_count": 13,
     "metadata": {},
     "output_type": "execute_result"
    }
   ],
   "source": [
    "b[5::]==b[5:]"
   ]
  },
  {
   "cell_type": "code",
   "execution_count": 14,
   "id": "e609d5f1-0ff3-4eb0-9944-922fe78df351",
   "metadata": {},
   "outputs": [
    {
     "data": {
      "text/plain": [
       "', Worl'"
      ]
     },
     "execution_count": 14,
     "metadata": {},
     "output_type": "execute_result"
    }
   ],
   "source": [
    "b[5:-1]"
   ]
  },
  {
   "cell_type": "code",
   "execution_count": 15,
   "id": "9fc3f832-49b6-41de-92dd-4e57decbe2fe",
   "metadata": {},
   "outputs": [
    {
     "data": {
      "text/plain": [
       "'Hlo '"
      ]
     },
     "execution_count": 15,
     "metadata": {},
     "output_type": "execute_result"
    }
   ],
   "source": [
    "b[:8:2]"
   ]
  },
  {
   "cell_type": "markdown",
   "id": "6b0a2fee-6b4d-4c1a-886d-e5eebe56a780",
   "metadata": {},
   "source": [
    "First Assignment:\n",
    "\n",
    "write a program that accepts a word from the user and display if its a palindrom or not"
   ]
  },
  {
   "cell_type": "code",
   "execution_count": 16,
   "id": "af45ff6d-b368-4bdd-9096-9824537b8a7a",
   "metadata": {},
   "outputs": [],
   "source": [
    "#For loop (intro)\n",
    "p = [1,2,3,4,5]"
   ]
  },
  {
   "cell_type": "code",
   "execution_count": 17,
   "id": "ad9717fe-1f95-4730-965a-a32be426caac",
   "metadata": {},
   "outputs": [
    {
     "name": "stdout",
     "output_type": "stream",
     "text": [
      "[1, 2, 3, 4, 5, 1, 2, 3, 4, 5]\n",
      "[1, 2, 3, 4, 5, 1, 2, 3, 4, 5]\n",
      "[1, 2, 3, 4, 5, 1, 2, 3, 4, 5]\n",
      "[1, 2, 3, 4, 5, 1, 2, 3, 4, 5]\n",
      "[1, 2, 3, 4, 5, 1, 2, 3, 4, 5]\n"
     ]
    }
   ],
   "source": [
    "for i in p:\n",
    "    print(p*2)"
   ]
  },
  {
   "cell_type": "code",
   "execution_count": 18,
   "id": "f3b10180-cc6a-48b4-98dd-6af9afd5a63b",
   "metadata": {},
   "outputs": [
    {
     "name": "stdout",
     "output_type": "stream",
     "text": [
      "[1, 2, 3, 4, 5, 1, 2, 3, 4, 5]\n"
     ]
    }
   ],
   "source": [
    "for i in p:\n",
    "    continue\n",
    "print(p*2)"
   ]
  },
  {
   "cell_type": "code",
   "execution_count": 19,
   "id": "399fcd5f-8776-4d3e-a481-524a99c9a8df",
   "metadata": {},
   "outputs": [
    {
     "name": "stdout",
     "output_type": "stream",
     "text": [
      "1\n",
      "3\n",
      "5\n",
      "7\n",
      "9\n"
     ]
    }
   ],
   "source": [
    "for i in range(10):\n",
    "    if i % 2 == 0:\n",
    "        continue\n",
    "     \n",
    "    print(i)"
   ]
  },
  {
   "cell_type": "markdown",
   "id": "e31c98c4-89c1-4bb5-8834-9d09b1a596a4",
   "metadata": {},
   "source": [
    "Write a program using loops to answer the following: c = [6, 10, 20, 5, 3, 2, 1]\n",
    "\n",
    "1. sum of c"
   ]
  },
  {
   "cell_type": "code",
   "execution_count": 20,
   "id": "ba4d1692-4db1-4ba9-8396-0d88951f5ccd",
   "metadata": {},
   "outputs": [],
   "source": [
    "c= [6,10,20,5,3,2,1]\n",
    "\n",
    "   "
   ]
  },
  {
   "cell_type": "code",
   "execution_count": 21,
   "id": "fbfb88ce-6ef3-46ac-889d-d784c3660f1c",
   "metadata": {},
   "outputs": [
    {
     "name": "stdout",
     "output_type": "stream",
     "text": [
      "6\n",
      "16\n",
      "36\n",
      "41\n",
      "44\n",
      "46\n",
      "47\n"
     ]
    }
   ],
   "source": [
    " r = 0\n",
    "for i in c:\n",
    "    r=r +i\n",
    "    print(r)"
   ]
  },
  {
   "cell_type": "code",
   "execution_count": 22,
   "id": "899ec7a0-ce02-4352-bfde-b03720990fb7",
   "metadata": {},
   "outputs": [
    {
     "name": "stdout",
     "output_type": "stream",
     "text": [
      "47\n"
     ]
    }
   ],
   "source": [
    "r = 0\n",
    "for i in c:\n",
    "    r=r +i\n",
    "print(r)"
   ]
  },
  {
   "cell_type": "code",
   "execution_count": 23,
   "id": "3fbc3c4c-0c0c-4f73-a844-581a0fa0cd2e",
   "metadata": {},
   "outputs": [],
   "source": [
    "#find the max and min values\n",
    "c.sort()\n"
   ]
  },
  {
   "cell_type": "code",
   "execution_count": 24,
   "id": "de558e0d-c511-48e2-bc46-9cf680b9d6ed",
   "metadata": {},
   "outputs": [
    {
     "data": {
      "text/plain": [
       "20"
      ]
     },
     "execution_count": 24,
     "metadata": {},
     "output_type": "execute_result"
    }
   ],
   "source": [
    "max = c[-1]\n",
    "max"
   ]
  },
  {
   "cell_type": "code",
   "execution_count": 25,
   "id": "439c1c13-65e9-4852-9a29-8a6fe8f6a40b",
   "metadata": {},
   "outputs": [
    {
     "data": {
      "text/plain": [
       "1"
      ]
     },
     "execution_count": 25,
     "metadata": {},
     "output_type": "execute_result"
    }
   ],
   "source": [
    "min =c[0]\n",
    "min"
   ]
  },
  {
   "cell_type": "code",
   "execution_count": 26,
   "id": "18bf7bd1-5809-4ba6-83aa-a834fd15fcaa",
   "metadata": {},
   "outputs": [],
   "source": [
    "c= [6,10,20,5,3,2,1]"
   ]
  },
  {
   "cell_type": "code",
   "execution_count": 27,
   "id": "a3c20661-6208-473e-bd7b-e30315f527b6",
   "metadata": {},
   "outputs": [
    {
     "name": "stdout",
     "output_type": "stream",
     "text": [
      "6\n",
      "10\n",
      "20\n",
      "20\n",
      "20\n",
      "20\n",
      "20\n"
     ]
    }
   ],
   "source": [
    "#finding the maximum value of c\n",
    "d=0\n",
    "for i in c:\n",
    "    if i>d:\n",
    "        d=i\n",
    "    print(d)"
   ]
  },
  {
   "cell_type": "code",
   "execution_count": 35,
   "id": "6aed9c30-164b-4a0d-83c2-e6f4409cb2f2",
   "metadata": {},
   "outputs": [
    {
     "name": "stdout",
     "output_type": "stream",
     "text": [
      "6\n",
      "10\n",
      "20\n",
      "5\n",
      "3\n",
      "2\n",
      "1\n"
     ]
    }
   ],
   "source": [
    "#finding the minimum value of c\n",
    "d=0\n",
    "for i in c:\n",
    "    if i<d:\n",
    "        d=i\n",
    "    print(i)"
   ]
  },
  {
   "cell_type": "markdown",
   "id": "177a99bb-d6de-4862-bb7a-d96de090e45f",
   "metadata": {},
   "source": [
    "second Assignment:\n",
    "1. find the mean of the list f= [3,5,9,5,20,4] using the for loop method\n",
    "2. slice f from the second element\n",
    "3. reverse f list using slicing method"
   ]
  },
  {
   "cell_type": "markdown",
   "id": "bd9d0b66-2ada-49f0-9e37-2a62ab6d8256",
   "metadata": {},
   "source": [
    "## list Comprehension\n",
    "list_comp [ (outcome) (for loop iteration) (if conditionals (if any))]"
   ]
  },
  {
   "cell_type": "code",
   "execution_count": 36,
   "id": "e174360e-03ee-44d1-8804-b47cc17a2929",
   "metadata": {},
   "outputs": [],
   "source": [
    "p= [2,4,6,8]"
   ]
  },
  {
   "cell_type": "code",
   "execution_count": 37,
   "id": "f1ff27af-4687-40cf-b144-a386c9a52491",
   "metadata": {},
   "outputs": [
    {
     "data": {
      "text/plain": [
       "[4, 16, 36, 64]"
      ]
     },
     "execution_count": 37,
     "metadata": {},
     "output_type": "execute_result"
    }
   ],
   "source": [
    "pilp = [i**2 for i in p ]\n",
    "pilp"
   ]
  },
  {
   "cell_type": "code",
   "execution_count": 45,
   "id": "fa45ca51-719c-4015-81e7-1298db3a8684",
   "metadata": {},
   "outputs": [
    {
     "name": "stdout",
     "output_type": "stream",
     "text": [
      "4\n",
      "16\n",
      "36\n",
      "64\n"
     ]
    }
   ],
   "source": [
    "for i in p:\n",
    "    pilp=i**2\n",
    "    print(pilp)"
   ]
  },
  {
   "cell_type": "code",
   "execution_count": 50,
   "id": "5d0a4b21-67b3-4fba-9e52-605c549c11d3",
   "metadata": {},
   "outputs": [
    {
     "data": {
      "text/plain": [
       "[4, 16, 36, 64]"
      ]
     },
     "execution_count": 50,
     "metadata": {},
     "output_type": "execute_result"
    }
   ],
   "source": [
    "pilp = [i**2 for i in p if i%2==0]\n",
    "pilp"
   ]
  },
  {
   "cell_type": "markdown",
   "id": "5b5319b1-5238-4a6a-ac8f-8510d0550843",
   "metadata": {},
   "source": [
    "#write a program to check if a word is a palindrome\n",
    "word = input('enter a word')\n",
    "if word == word[::-1]:\n",
    "    print(f'{word} is a palindrome')\n",
    "else:\n",
    "    print(f'{word} is not a palindrome')\n",
    "    "
   ]
  },
  {
   "cell_type": "markdown",
   "id": "6291c90f-dbde-4bca-878b-5ecc4d3d45f9",
   "metadata": {},
   "source": [
    "Assignment 2\n",
    "1. write a list comprehension that has a range of values between 10 to 21, if the values are at least 13 and at most 16\n"
   ]
  },
  {
   "cell_type": "code",
   "execution_count": 43,
   "id": "085abe5a-8132-4af9-ac0b-5c582c523c47",
   "metadata": {},
   "outputs": [
    {
     "data": {
      "text/plain": [
       "[13, 14, 15, 16]"
      ]
     },
     "execution_count": 43,
     "metadata": {},
     "output_type": "execute_result"
    }
   ],
   "source": [
    "list_val =[num for num in range(10,21) if num>=13 and num<=16]\n",
    "list_val"
   ]
  },
  {
   "cell_type": "code",
   "execution_count": 46,
   "id": "c39a51ed-afb3-42f9-9143-3092acbd2f3e",
   "metadata": {},
   "outputs": [
    {
     "name": "stdout",
     "output_type": "stream",
     "text": [
      "[13, 14, 15, 16]\n"
     ]
    }
   ],
   "source": [
    "list_val =[]\n",
    "i =0\n",
    "for i in range(10,21):\n",
    "    if i>=13 and i<=16:\n",
    "        list_val.append(i)\n",
    "print(list_val)"
   ]
  },
  {
   "cell_type": "code",
   "execution_count": null,
   "id": "c9d5d800-919b-4b15-bd63-b19082179f3e",
   "metadata": {},
   "outputs": [],
   "source": []
  },
  {
   "cell_type": "code",
   "execution_count": null,
   "id": "046ec9ac-6414-4cde-8aae-52ef0910170c",
   "metadata": {},
   "outputs": [],
   "source": [
    "second Assignment:\n",
    "\n",
    "find the mean of the list f= [3,5,9,5,20,4] using the for loop method\n",
    "slice f from the second element\n",
    "reverse f list using slicing method"
   ]
  },
  {
   "cell_type": "code",
   "execution_count": 3,
   "id": "fe445749-6438-4f0b-bf57-c4a3c9c6b2d8",
   "metadata": {},
   "outputs": [
    {
     "data": {
      "text/plain": [
       "[3, 4, 5, 5, 9, 20]"
      ]
     },
     "execution_count": 3,
     "metadata": {},
     "output_type": "execute_result"
    }
   ],
   "source": [
    "#find the mean of the list f= [3,5,9,5,20,4] using the for loop method\n",
    "f=[3,5,9,5,20,4]\n",
    "f.sort()\n",
    "f"
   ]
  },
  {
   "cell_type": "code",
   "execution_count": 6,
   "id": "fa6f5cac-4578-4c6c-ae53-c62b87fd5a05",
   "metadata": {},
   "outputs": [
    {
     "name": "stdout",
     "output_type": "stream",
     "text": [
      "3.333\n"
     ]
    }
   ],
   "source": [
    "for i in f:\n",
    "    mean_val = round(i/len(f),3)\n",
    "print(mean_val)"
   ]
  },
  {
   "cell_type": "code",
   "execution_count": 15,
   "id": "5e9ac976-8f67-44e5-9133-5823338d299f",
   "metadata": {},
   "outputs": [
    {
     "name": "stdout",
     "output_type": "stream",
     "text": [
      "3.333\n"
     ]
    }
   ],
   "source": [
    "#Alternatively:\n",
    "mean_value = [round(i/len(f),3) for i in f]\n",
    "print(mean_value[-1])\n"
   ]
  },
  {
   "cell_type": "code",
   "execution_count": 16,
   "id": "3c5d6e4a-dd94-477a-81fc-28b7ae9bdd94",
   "metadata": {},
   "outputs": [
    {
     "data": {
      "text/plain": [
       "[5, 9, 5, 20, 4]"
      ]
     },
     "execution_count": 16,
     "metadata": {},
     "output_type": "execute_result"
    }
   ],
   "source": [
    "#slice f from the second element till the end\n",
    "f= [3,5,9,5,20,4]\n",
    "f[1:]"
   ]
  },
  {
   "cell_type": "code",
   "execution_count": 24,
   "id": "97944139-6d10-4ff5-8c46-00f0eb13903b",
   "metadata": {},
   "outputs": [
    {
     "data": {
      "text/plain": [
       "[4, 20, 5, 9, 5, 3]"
      ]
     },
     "execution_count": 24,
     "metadata": {},
     "output_type": "execute_result"
    }
   ],
   "source": [
    "#reverse f \n",
    "f = [3,5,9,5,20,4]\n",
    "f[::-1]"
   ]
  },
  {
   "cell_type": "markdown",
   "id": "38256e09-1538-4b5d-a49a-5f29acb60d8c",
   "metadata": {},
   "source": [
    "assignment correction\n"
   ]
  },
  {
   "cell_type": "code",
   "execution_count": 31,
   "id": "5e176a32-cd39-42fe-bb84-d62faae7f120",
   "metadata": {},
   "outputs": [
    {
     "name": "stdout",
     "output_type": "stream",
     "text": [
      "mean: 7.666666666666667\n"
     ]
    }
   ],
   "source": [
    "f = [3, 5, 9, 5, 20, 4]\n",
    "total = 0\n",
    "count = 0\n",
    "for number in f:\n",
    "    total = total + number\n",
    "    count = count + 1\n",
    "mean = total / count\n",
    "print(\"mean:\", mean)"
   ]
  },
  {
   "cell_type": "code",
   "execution_count": 38,
   "id": "55bf641c-a1d0-4300-8ffc-7d827e58fb7f",
   "metadata": {},
   "outputs": [
    {
     "data": {
      "text/plain": [
       "[3, 5, 9, 5, 20, 4]"
      ]
     },
     "execution_count": 38,
     "metadata": {},
     "output_type": "execute_result"
    }
   ],
   "source": [
    "f = [3, 5, 9, 5, 20, 4]\n",
    "f.sort\n",
    "f\n"
   ]
  },
  {
   "cell_type": "code",
   "execution_count": 41,
   "id": "9ece70c0-d45c-43e5-8de0-014f0779aa27",
   "metadata": {},
   "outputs": [
    {
     "data": {
      "text/plain": [
       "7.6667"
      ]
     },
     "execution_count": 41,
     "metadata": {},
     "output_type": "execute_result"
    }
   ],
   "source": [
    "add_num=0\n",
    "for i in f:\n",
    "    add_num += i\n",
    "mean = round(add_num/len(f), 4)\n",
    "mean\n",
    "    \n",
    "    "
   ]
  },
  {
   "cell_type": "code",
   "execution_count": 42,
   "id": "d6213cb4-bf6d-4385-9647-7221550cc0e2",
   "metadata": {},
   "outputs": [
    {
     "data": {
      "text/plain": [
       "[9, 5, 20, 4]"
      ]
     },
     "execution_count": 42,
     "metadata": {},
     "output_type": "execute_result"
    }
   ],
   "source": [
    "f = [3, 5, 9, 5, 20, 4]\n",
    "f[2:]"
   ]
  },
  {
   "cell_type": "markdown",
   "id": "adfc9270-d3e0-45fa-aa28-16c74e8a07fe",
   "metadata": {},
   "source": [
    "## List Comprehension Cotinued and Zip() function"
   ]
  },
  {
   "cell_type": "code",
   "execution_count": 47,
   "id": "304fbd92-8778-4c60-93b9-9ababf14c0ba",
   "metadata": {},
   "outputs": [
    {
     "data": {
      "text/plain": [
       "[0, 1, 2, 3, 4]"
      ]
     },
     "execution_count": 47,
     "metadata": {},
     "output_type": "execute_result"
    }
   ],
   "source": [
    "#a list comprehension that accept only numbers lower than 5\n",
    "num = [i for i in range(10) if i<5]\n",
    "num"
   ]
  },
  {
   "cell_type": "code",
   "execution_count": 52,
   "id": "b049c860-9adc-441f-9aa4-c5abcd8dafcb",
   "metadata": {},
   "outputs": [
    {
     "data": {
      "text/plain": [
       "[2,\n",
       " 6,\n",
       " 5,\n",
       " 1,\n",
       " 7,\n",
       " 2,\n",
       " 4,\n",
       " 9,\n",
       " 0,\n",
       " 0,\n",
       " 2,\n",
       " 9,\n",
       " 6,\n",
       " 7,\n",
       " 4,\n",
       " 8,\n",
       " 4,\n",
       " 6,\n",
       " 1,\n",
       " 5,\n",
       " 6,\n",
       " 9,\n",
       " 3,\n",
       " 0,\n",
       " 5,\n",
       " 4,\n",
       " 0,\n",
       " 4,\n",
       " 9,\n",
       " 2,\n",
       " 5,\n",
       " 9,\n",
       " 0,\n",
       " 9,\n",
       " 6,\n",
       " 0,\n",
       " 9,\n",
       " 8,\n",
       " 6,\n",
       " 7,\n",
       " 0,\n",
       " 5,\n",
       " 7,\n",
       " 7,\n",
       " 6,\n",
       " 0,\n",
       " 0,\n",
       " 8,\n",
       " 7,\n",
       " 0]"
      ]
     },
     "execution_count": 52,
     "metadata": {},
     "output_type": "execute_result"
    }
   ],
   "source": [
    "#a program that will generate 50 random integers\n",
    "import random\n",
    "rand_num =[]\n",
    "for i in range(50):\n",
    "    num = random.randint(0,9)\n",
    "    rand_num.append(num)\n",
    "rand_num"
   ]
  },
  {
   "cell_type": "markdown",
   "id": "2df1688b-9598-43cc-9633-c0068ef0f451",
   "metadata": {},
   "source": [
    " ## Using Zip() function"
   ]
  },
  {
   "cell_type": "markdown",
   "id": "4fa08f39-f01a-4402-b742-344f48426be1",
   "metadata": {},
   "source": [
    "using the zip function add the lists a = [3,5,7, 9]\n",
    "b = [2,4,6,8 ]"
   ]
  },
  {
   "cell_type": "code",
   "execution_count": 58,
   "id": "6a2bd1bb-39dc-49e2-904e-03741cf253af",
   "metadata": {},
   "outputs": [
    {
     "data": {
      "text/plain": [
       "[3, 5, 7, 9, 2, 4, 6, 8]"
      ]
     },
     "execution_count": 58,
     "metadata": {},
     "output_type": "execute_result"
    }
   ],
   "source": [
    "a = [3,5,7,9]\n",
    "b = [2,4,6,8]\n",
    "c= a + b\n",
    "c"
   ]
  },
  {
   "cell_type": "code",
   "execution_count": 66,
   "id": "7b7bdcdf-dc9a-448a-8176-b8da65e850a3",
   "metadata": {},
   "outputs": [
    {
     "name": "stdout",
     "output_type": "stream",
     "text": [
      "[3, 5, 7, 9, 2, 4, 6, 8]\n"
     ]
    }
   ],
   "source": [
    "a = [3,5,7,9]\n",
    "b = [2,4,6,8]\n",
    "\n",
    "add_num=[]\n",
    "for i,j in zip(a,b):\n",
    "    if len(a) != len(b):\n",
    "        print('the both length must be equal')\n",
    "    else:\n",
    "        add_ab= a + b\n",
    "        add_num.append(add_ab)\n",
    "print(add_num[-1])\n",
    "        "
   ]
  },
  {
   "cell_type": "code",
   "execution_count": 69,
   "id": "2d43e3d1-0f7e-45c3-a721-7ea2ce453f79",
   "metadata": {},
   "outputs": [
    {
     "data": {
      "text/plain": [
       "[3, 5, 7, 9, 2, 4, 6, 8]"
      ]
     },
     "execution_count": 69,
     "metadata": {},
     "output_type": "execute_result"
    }
   ],
   "source": [
    "add_num= [a+b for i,j in zip(a,b) if len(a)==len(b)]\n",
    "add_num[0]"
   ]
  },
  {
   "cell_type": "code",
   "execution_count": 83,
   "id": "c5cdde8c-d8fd-4b49-b308-2126b17f485a",
   "metadata": {},
   "outputs": [
    {
     "name": "stdout",
     "output_type": "stream",
     "text": [
      "Bola Teddy\n",
      "Nnamdi Juan\n",
      "Ben Uli\n",
      "Philly Amadi\n",
      "Gabby Uriel\n"
     ]
    }
   ],
   "source": [
    "f_name = ['bola', 'nnamdi','ben', 'philly', 'gabby']\n",
    "l_name = ['teddy', 'juan', 'uli', 'amadi', 'uriel']\n",
    "\n",
    "#check if the list have eqaul elements\n",
    "if len(f_name)==len(l_name):\n",
    "    for i in range(0,len(f_name)):\n",
    "        #capitalize the first letters of the word\n",
    "        new_f= f_name[i][0].upper() + f_name[i][1:]\n",
    "        #print(new_f)\n",
    "        new_l =l_name[i][0].upper()  + l_name[i][1:]\n",
    "        #print(new_l)\n",
    "        print(new_f +\" \"+ new_l)\n",
    "    "
   ]
  },
  {
   "cell_type": "code",
   "execution_count": 87,
   "id": "dbd04844-c148-4fc1-a596-87ac41da5fbb",
   "metadata": {},
   "outputs": [
    {
     "name": "stdout",
     "output_type": "stream",
     "text": [
      "Bola Teddy\n",
      "Nnamdi Juan\n",
      "Ben Uli\n",
      "Philly Amadi\n",
      "Gabby Uriel\n"
     ]
    }
   ],
   "source": [
    "#Alternatively you can use the capitalize() function to reduce the codes\n",
    "f_name = ['bola', 'nnamdi','ben', 'philly', 'gabby']\n",
    "l_name = ['teddy', 'juan', 'uli', 'amadi', 'uriel']\n",
    "\n",
    "if len(f_name)==len(l_name):\n",
    "    for i in range(0,len(f_name)):\n",
    "        #capitalize the first letters of the word\n",
    "        new_f= f_name[i].capitalize()\n",
    "        #print(new_f)\n",
    "        new_l =l_name[i].capitalize()\n",
    "        #print(new_l)\n",
    "        print(new_f +\" \"+ new_l)\n",
    "else:\n",
    "    print(\"the list sizes must be same\")\n",
    "        "
   ]
  },
  {
   "cell_type": "code",
   "execution_count": 98,
   "id": "7f4c9a62-1630-4653-a7b4-9af281a57dc8",
   "metadata": {},
   "outputs": [
    {
     "name": "stdout",
     "output_type": "stream",
     "text": [
      "Gabby Uriel\n"
     ]
    }
   ],
   "source": [
    "f_name = ['bola', 'nnamdi','ben', 'philly', 'gabby']\n",
    "l_name = ['teddy', 'juan', 'uli', 'amadi', 'uriel']\n",
    "if len(f_name) == len(l_name):\n",
    "    newf= f_name[i].capitalize()\n",
    "    newl= l_name[i].capitalize()\n",
    "    #print(newf + \" \" +new_l)\n",
    "    fullname= [f_name[i].capitalize()+\" \"+l_name[i].capitalize() for f,l in zip(f_name,l_name) ]\n",
    "    print(fullname[])\n",
    "else:\n",
    "    print(\"the list must be of same size\")"
   ]
  },
  {
   "cell_type": "markdown",
   "id": "eb3034a8-455d-40d2-a8b8-206570cff339",
   "metadata": {},
   "source": [
    "## Using a List Constructor\n",
    "using list()\n"
   ]
  },
  {
   "cell_type": "code",
   "execution_count": 101,
   "id": "f9b6e031-2735-468e-b93e-05cf4eaba3f7",
   "metadata": {},
   "outputs": [
    {
     "data": {
      "text/plain": [
       "['cherry', 'pear', 'pineapple', 'apple', 'apple', 'Guava']"
      ]
     },
     "execution_count": 101,
     "metadata": {},
     "output_type": "execute_result"
    }
   ],
   "source": [
    "\n",
    "fruits =list((\"cherry\", \"pear\", \"pineapple\",\"apple\", \"apple\", \"Guava\"))\n",
    "fruits"
   ]
  },
  {
   "cell_type": "code",
   "execution_count": 102,
   "id": "ce4babc5-025e-494a-90e4-6781598fde8a",
   "metadata": {},
   "outputs": [
    {
     "data": {
      "text/plain": [
       "{'Guava', 'apple', 'cherry', 'pear', 'pineapple'}"
      ]
     },
     "execution_count": 102,
     "metadata": {},
     "output_type": "execute_result"
    }
   ],
   "source": [
    "set(fruits)"
   ]
  },
  {
   "cell_type": "code",
   "execution_count": 103,
   "id": "5dc16fc7-fd28-4dd7-90cd-c10aa956a09f",
   "metadata": {},
   "outputs": [],
   "source": [
    "fruits =list((\"cherry\", \"pear\", \"pineapple\",\"apple\", \"Guava\"))"
   ]
  },
  {
   "cell_type": "code",
   "execution_count": 104,
   "id": "edd78148-146a-4b00-881b-46847894bb02",
   "metadata": {},
   "outputs": [
    {
     "data": {
      "text/plain": [
       "['cherry', 'pear', 'pineapple', 'Blackcurrant', 'Guava']"
      ]
     },
     "execution_count": 104,
     "metadata": {},
     "output_type": "execute_result"
    }
   ],
   "source": [
    "#change item value in the list List Accessing\n",
    "fruits[3]=\"Blackcurrant\"\n",
    "fruits"
   ]
  },
  {
   "cell_type": "code",
   "execution_count": 106,
   "id": "b43a8be4-b45c-418c-84f4-b1616fd89bcb",
   "metadata": {},
   "outputs": [
    {
     "data": {
      "text/plain": [
       "['cherry', 'pear', 'papaya', 'Blackcurrant', 'Guava']"
      ]
     },
     "execution_count": 106,
     "metadata": {},
     "output_type": "execute_result"
    }
   ],
   "source": [
    "fruits[2] = 'papaya'\n",
    "fruits"
   ]
  },
  {
   "cell_type": "code",
   "execution_count": 112,
   "id": "1108e9da-0069-4d2b-b70f-58c2a787393a",
   "metadata": {},
   "outputs": [
    {
     "data": {
      "text/plain": [
       "['cherry', 'pear', 'papaya', 'Blackcurrant', 'Guava']"
      ]
     },
     "execution_count": 112,
     "metadata": {},
     "output_type": "execute_result"
    }
   ],
   "source": [
    "#how to use the copy() function\n",
    "tropical = fruits.copy()\n",
    "tropical"
   ]
  },
  {
   "cell_type": "code",
   "execution_count": 118,
   "id": "500130c4-cff0-4cf4-9aa0-c6882b15027e",
   "metadata": {},
   "outputs": [],
   "source": [
    "#using the extend() function is like join\n",
    "\n",
    "cars = ['Ford', 'BMW', 'Volvo']\n",
    "\n",
    "fruits.extend(cars)"
   ]
  },
  {
   "cell_type": "markdown",
   "id": "f12fdc18-9011-4a3d-87c3-75a903240c0f",
   "metadata": {},
   "source": [
    "## Tuple\n",
    "A tuple is a built-in data structure in Python that is an ordered collection of objects. Unlike lists, tuples come with limited functions. The primary differing characteristic between lists and tuples is mutability. Lists are mutable, whereas tuples are immutable. Tuples cannot be modified, added, or deleted once they’ve been created. \n",
    "\n",
    "A tuple is a collection which is ordered and unchangeable(immutable) .\n",
    "\n",
    "Tuples are written with round brackets ().\n"
   ]
  },
  {
   "cell_type": "code",
   "execution_count": 107,
   "id": "0665f47f-bb0d-4d58-ab1b-f3b45daee775",
   "metadata": {},
   "outputs": [
    {
     "name": "stdout",
     "output_type": "stream",
     "text": [
      "('apple', 'banana', 'cherry')\n"
     ]
    }
   ],
   "source": [
    "#Create a Tuple:\n",
    "mytuple = (\"apple\", \"banana\", \"cherry\")\n",
    "print(mytuple)\n"
   ]
  },
  {
   "cell_type": "code",
   "execution_count": 109,
   "id": "732ac7ca-9bf7-405d-b104-debf013a98dd",
   "metadata": {},
   "outputs": [
    {
     "ename": "TypeError",
     "evalue": "'tuple' object does not support item assignment",
     "output_type": "error",
     "traceback": [
      "\u001b[1;31m---------------------------------------------------------------------------\u001b[0m",
      "\u001b[1;31mTypeError\u001b[0m                                 Traceback (most recent call last)",
      "Cell \u001b[1;32mIn[109], line 2\u001b[0m\n\u001b[0;32m      1\u001b[0m \u001b[38;5;66;03m#because tuples are immutable , they do not allow changing of elements\u001b[39;00m\n\u001b[1;32m----> 2\u001b[0m mytuple [\u001b[38;5;241m-\u001b[39m\u001b[38;5;241m1\u001b[39m]\u001b[38;5;241m=\u001b[39m \u001b[38;5;124m\"\u001b[39m\u001b[38;5;124mBanana\u001b[39m\u001b[38;5;124m\"\u001b[39m\n\u001b[0;32m      3\u001b[0m mytuple\n",
      "\u001b[1;31mTypeError\u001b[0m: 'tuple' object does not support item assignment"
     ]
    }
   ],
   "source": [
    "#because tuples are immutable , they do not allow changing of elements\n",
    "mytuple [-1]= \"Banana\"\n",
    "mytuple"
   ]
  },
  {
   "cell_type": "markdown",
   "id": "c3798302-e325-4961-975d-fb00c3b62d1c",
   "metadata": {},
   "source": [
    "New Assignment\n",
    "1. Write a program that reads a positive integer, n, from the user and then displays the\n",
    "sum of all of the integers from 1 to n. The sum of the first n positive integers can be\n",
    "computed using the formula: sum n(n + 1)/2.\n",
    "\n",
    "2. An online retailer sells two products: widgets and gizmos. Each widget weighs 75\n",
    "grams. Each gizmo weighs 112 grams. Write a program that reads the number of\n",
    "widgets and the number of gizmos in an order from the user. Then your program\n",
    "should compute and display the total weight of the order.\n",
    "\n",
    "3. The length of a month varies from 28 to 31 days. In this exercise you will create\n",
    " a program that reads the name of a month from the user as a string. Then your\n",
    " program should display the number of days in that month. Display “28 or 29 days”\n",
    " for February so that leap years are addressed.\n",
    "\n",
    "4. number_list = [100, 34, 67, 89, 78, 21, 36], write a program that will loop into the element of the list, if the element is a multiple of 3 you should \n",
    "  print Huray (and end the running of the code), but if its not a multiple of 3 print Nay\n",
    "\n",
    "5. create a copy of the content of the number_list using the copy() function\n",
    "\n",
    "Happy weekend\n",
    "!!!!!\n"
   ]
  },
  {
   "cell_type": "code",
   "execution_count": null,
   "id": "42296d4f-f384-41b0-ac88-c570557ed8ce",
   "metadata": {},
   "outputs": [],
   "source": []
  }
 ],
 "metadata": {
  "kernelspec": {
   "display_name": "Python 3 (ipykernel)",
   "language": "python",
   "name": "python3"
  },
  "language_info": {
   "codemirror_mode": {
    "name": "ipython",
    "version": 3
   },
   "file_extension": ".py",
   "mimetype": "text/x-python",
   "name": "python",
   "nbconvert_exporter": "python",
   "pygments_lexer": "ipython3",
   "version": "3.12.7"
  }
 },
 "nbformat": 4,
 "nbformat_minor": 5
}
