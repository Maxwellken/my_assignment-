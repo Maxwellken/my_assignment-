{
 "cells": [
  {
   "cell_type": "markdown",
   "id": "c138522c-9b71-48a4-b795-17282dc451a7",
   "metadata": {},
   "source": [
    "\n",
    "## slicing numpy array¶\n",
    "Slicing in python means taking elements from one given index to another given index.\n",
    "\n",
    "We pass slice instead of index like this: [start:end].\n",
    "\n",
    "We can also define the step, like this: [start:end:step].\n",
    "\n",
    "If we don't pass start its considered 0\n",
    "\n",
    "If we don't pass end its considered length of array in that dimension\n",
    "\n",
    "If we don't pass step its considered 1"
   ]
  },
  {
   "cell_type": "code",
   "execution_count": 4,
   "id": "4b18bedf-81e8-4bce-8d17-15f6602bc7fe",
   "metadata": {},
   "outputs": [
    {
     "data": {
      "text/plain": [
       "array([1, 2, 3, 4, 5, 6])"
      ]
     },
     "execution_count": 4,
     "metadata": {},
     "output_type": "execute_result"
    }
   ],
   "source": [
    "import numpy as np\n",
    "arr1 = np.array([1,2,3,4,5,6])\n",
    "arr1"
   ]
  },
  {
   "cell_type": "code",
   "execution_count": 5,
   "id": "30762290-1d6d-4ce8-98d8-a1b2ab69741a",
   "metadata": {},
   "outputs": [
    {
     "data": {
      "text/plain": [
       "array([2, 3, 4, 5, 6])"
      ]
     },
     "execution_count": 5,
     "metadata": {},
     "output_type": "execute_result"
    }
   ],
   "source": [
    "arr1[1:6]"
   ]
  },
  {
   "cell_type": "code",
   "execution_count": 6,
   "id": "6f54313d-97e7-4fde-9e87-5344e29a1c95",
   "metadata": {},
   "outputs": [
    {
     "data": {
      "text/plain": [
       "array([1, 2, 3, 4, 5])"
      ]
     },
     "execution_count": 6,
     "metadata": {},
     "output_type": "execute_result"
    }
   ],
   "source": [
    "arr1[:5]"
   ]
  },
  {
   "cell_type": "code",
   "execution_count": 7,
   "id": "a18a4a7d-a80b-441e-9414-008326a236ba",
   "metadata": {},
   "outputs": [
    {
     "data": {
      "text/plain": [
       "array([1, 2, 3, 4, 5])"
      ]
     },
     "execution_count": 7,
     "metadata": {},
     "output_type": "execute_result"
    }
   ],
   "source": [
    "arr1[0:5]"
   ]
  },
  {
   "cell_type": "code",
   "execution_count": 8,
   "id": "a0328997-7a96-480a-9b85-77b2a27ee797",
   "metadata": {},
   "outputs": [
    {
     "data": {
      "text/plain": [
       "array([ True,  True,  True,  True,  True])"
      ]
     },
     "execution_count": 8,
     "metadata": {},
     "output_type": "execute_result"
    }
   ],
   "source": [
    "arr1[:5]==arr1[0:5]"
   ]
  },
  {
   "cell_type": "code",
   "execution_count": 10,
   "id": "60d34e6d-94fc-4776-a3b6-a0573076546e",
   "metadata": {},
   "outputs": [
    {
     "data": {
      "text/plain": [
       "array([3, 4, 5])"
      ]
     },
     "execution_count": 10,
     "metadata": {},
     "output_type": "execute_result"
    }
   ],
   "source": [
    "#Negative indexing in array slicing\n",
    "arr1[-4:-1]"
   ]
  },
  {
   "cell_type": "code",
   "execution_count": 13,
   "id": "34581e28-fba9-434a-b385-6ea7520023e3",
   "metadata": {},
   "outputs": [
    {
     "data": {
      "text/plain": [
       "array([6, 5, 4, 3, 2, 1])"
      ]
     },
     "execution_count": 13,
     "metadata": {},
     "output_type": "execute_result"
    }
   ],
   "source": [
    "#reverse the array\n",
    "arr1[::-1]"
   ]
  },
  {
   "cell_type": "code",
   "execution_count": 14,
   "id": "6ff646c6-f2ed-4910-9b7c-dcb93f9724ab",
   "metadata": {},
   "outputs": [
    {
     "data": {
      "text/plain": [
       "array([[ 1,  2,  3,  4,  5],\n",
       "       [ 6,  7,  8,  9, 10]])"
      ]
     },
     "execution_count": 14,
     "metadata": {},
     "output_type": "execute_result"
    }
   ],
   "source": [
    "#slicing 2d array\n",
    "arr2 = np.array([[1, 2, 3, 4, 5], [6, 7, 8, 9, 10]])\n",
    "arr2"
   ]
  },
  {
   "cell_type": "code",
   "execution_count": 15,
   "id": "62f9bbcc-7952-4c47-8514-198eb71ac60a",
   "metadata": {},
   "outputs": [
    {
     "data": {
      "text/plain": [
       "array([3, 4, 5])"
      ]
     },
     "execution_count": 15,
     "metadata": {},
     "output_type": "execute_result"
    }
   ],
   "source": [
    "arr2[0,2:]"
   ]
  },
  {
   "cell_type": "code",
   "execution_count": 22,
   "id": "2da1f5aa-2aed-42b1-8861-a95c162ccd8c",
   "metadata": {},
   "outputs": [
    {
     "data": {
      "text/plain": [
       "array([10,  9,  8,  7,  6])"
      ]
     },
     "execution_count": 22,
     "metadata": {},
     "output_type": "execute_result"
    }
   ],
   "source": [
    "arr2[1,::-1]"
   ]
  },
  {
   "cell_type": "code",
   "execution_count": 23,
   "id": "f4676add-0709-44c6-b8a1-a17181caf73d",
   "metadata": {},
   "outputs": [
    {
     "data": {
      "text/plain": [
       "array([8, 9])"
      ]
     },
     "execution_count": 23,
     "metadata": {},
     "output_type": "execute_result"
    }
   ],
   "source": [
    "arr2[1, 2:-1]"
   ]
  },
  {
   "cell_type": "code",
   "execution_count": 24,
   "id": "a844e984-afc7-422a-a550-397fe163c02e",
   "metadata": {},
   "outputs": [
    {
     "data": {
      "text/plain": [
       "array([ 8,  9, 10])"
      ]
     },
     "execution_count": 24,
     "metadata": {},
     "output_type": "execute_result"
    }
   ],
   "source": [
    "arr2[1, 2:]"
   ]
  },
  {
   "cell_type": "code",
   "execution_count": 26,
   "id": "d763bba9-77b3-4d12-ace0-347fa286c47e",
   "metadata": {},
   "outputs": [
    {
     "data": {
      "text/plain": [
       "array([[[[2, 3],\n",
       "         [3, 9]]]])"
      ]
     },
     "execution_count": 26,
     "metadata": {},
     "output_type": "execute_result"
    }
   ],
   "source": [
    "arr_num = np.array([[[[2,3], [3,9]]]])\n",
    "arr_num"
   ]
  },
  {
   "cell_type": "code",
   "execution_count": 27,
   "id": "cf7a2162-b730-4f7c-ae91-d86ce29fdd9a",
   "metadata": {},
   "outputs": [
    {
     "data": {
      "text/plain": [
       "4"
      ]
     },
     "execution_count": 27,
     "metadata": {},
     "output_type": "execute_result"
    }
   ],
   "source": [
    "arr_num.ndim"
   ]
  },
  {
   "cell_type": "code",
   "execution_count": 28,
   "id": "dd3a7501-ea0c-4b59-b34f-fe4111c24ba0",
   "metadata": {},
   "outputs": [
    {
     "data": {
      "text/plain": [
       "(1, 1, 2, 2)"
      ]
     },
     "execution_count": 28,
     "metadata": {},
     "output_type": "execute_result"
    }
   ],
   "source": [
    "arr_num.shape"
   ]
  },
  {
   "cell_type": "code",
   "execution_count": 31,
   "id": "ed23eff6-4683-4075-aaca-0c38021ff05d",
   "metadata": {},
   "outputs": [
    {
     "data": {
      "text/plain": [
       "array([[2, 3],\n",
       "       [3, 9]])"
      ]
     },
     "execution_count": 31,
     "metadata": {},
     "output_type": "execute_result"
    }
   ],
   "source": [
    "new_arr= np.squeeze(arr_num)\n",
    "new_arr"
   ]
  },
  {
   "cell_type": "code",
   "execution_count": 32,
   "id": "c3b003ae-8c99-4023-a88f-49eaca7b2775",
   "metadata": {},
   "outputs": [
    {
     "data": {
      "text/plain": [
       "(2, 2)"
      ]
     },
     "execution_count": 32,
     "metadata": {},
     "output_type": "execute_result"
    }
   ],
   "source": [
    "new_arr.shape"
   ]
  },
  {
   "cell_type": "code",
   "execution_count": 33,
   "id": "39d62b65-6167-41eb-8ba3-f3db475188e8",
   "metadata": {},
   "outputs": [
    {
     "data": {
      "text/plain": [
       "2"
      ]
     },
     "execution_count": 33,
     "metadata": {},
     "output_type": "execute_result"
    }
   ],
   "source": [
    "new_arr.ndim"
   ]
  },
  {
   "cell_type": "code",
   "execution_count": 34,
   "id": "258a1eb1-7375-49d3-b753-102b77058255",
   "metadata": {},
   "outputs": [
    {
     "data": {
      "text/plain": [
       "array([[2, 3],\n",
       "       [3, 9]])"
      ]
     },
     "execution_count": 34,
     "metadata": {},
     "output_type": "execute_result"
    }
   ],
   "source": [
    "new_arr"
   ]
  },
  {
   "cell_type": "code",
   "execution_count": 39,
   "id": "7d31e812-0d4d-49ce-85e7-1235acddd58a",
   "metadata": {},
   "outputs": [],
   "source": [
    "# Transforming Arrays using reshape and squeeze "
   ]
  },
  {
   "cell_type": "code",
   "execution_count": 37,
   "id": "cce3fe41-f045-414d-a6db-948764ef89f0",
   "metadata": {},
   "outputs": [
    {
     "data": {
      "text/plain": [
       "array([[2, 3, 3, 9]])"
      ]
     },
     "execution_count": 37,
     "metadata": {},
     "output_type": "execute_result"
    }
   ],
   "source": [
    "new_arr.reshape(1,4)"
   ]
  },
  {
   "cell_type": "code",
   "execution_count": 41,
   "id": "1ad1fc2e-52ee-4b86-904b-5ce0a056d205",
   "metadata": {},
   "outputs": [
    {
     "data": {
      "text/plain": [
       "array([[2],\n",
       "       [3],\n",
       "       [3],\n",
       "       [9]])"
      ]
     },
     "execution_count": 41,
     "metadata": {},
     "output_type": "execute_result"
    }
   ],
   "source": [
    "new_arr.reshape(4,1)"
   ]
  },
  {
   "cell_type": "markdown",
   "id": "e79389e3-8ace-4039-9373-28b8cdf732aa",
   "metadata": {},
   "source": [
    "The squeeze function is used to remove redundant dimensions \n",
    "\n",
    "while the reshape function is used for transformation of the array, especially its orientation"
   ]
  },
  {
   "cell_type": "markdown",
   "id": "631d47d7-96bb-43cf-93b9-e457f915fe0d",
   "metadata": {},
   "source": [
    "## class work\n",
    "1.ar_a= [[[[2,3,5],[12,4,3],[4,9,8]]]]\n",
    "\n",
    "2.ar_b= [[1,2],[3,4]]\n",
    "\n",
    "obtain their shape, dimension, squeeze and reshape the arrays"
   ]
  },
  {
   "cell_type": "code",
   "execution_count": 44,
   "id": "dcfa9bf0-0c16-4fe2-8abd-114d9ac0dcc0",
   "metadata": {},
   "outputs": [
    {
     "data": {
      "text/plain": [
       "array([[[[ 2,  3,  5],\n",
       "         [12,  4,  3],\n",
       "         [ 4,  9,  8]]]])"
      ]
     },
     "execution_count": 44,
     "metadata": {},
     "output_type": "execute_result"
    }
   ],
   "source": [
    "#1 \n",
    "ar_a = np.array([[[[2,3,5],[12,4,3],[4,9,8]]]])\n",
    "ar_a"
   ]
  },
  {
   "cell_type": "code",
   "execution_count": 45,
   "id": "d2c7383f-70ca-43e2-b36f-6a7cc8d4f0ce",
   "metadata": {},
   "outputs": [
    {
     "data": {
      "text/plain": [
       "4"
      ]
     },
     "execution_count": 45,
     "metadata": {},
     "output_type": "execute_result"
    }
   ],
   "source": [
    "ar_a.ndim"
   ]
  },
  {
   "cell_type": "code",
   "execution_count": 47,
   "id": "1b08f41a-c547-406e-aa1d-e5352faa098c",
   "metadata": {},
   "outputs": [
    {
     "data": {
      "text/plain": [
       "(1, 1, 3, 3)"
      ]
     },
     "execution_count": 47,
     "metadata": {},
     "output_type": "execute_result"
    }
   ],
   "source": [
    "ar_a.shape"
   ]
  },
  {
   "cell_type": "code",
   "execution_count": 51,
   "id": "5ef3e6b7-1c5c-4304-9d35-a01afc2cb9c6",
   "metadata": {},
   "outputs": [
    {
     "data": {
      "text/plain": [
       "array([[ 2,  3,  5],\n",
       "       [12,  4,  3],\n",
       "       [ 4,  9,  8]])"
      ]
     },
     "execution_count": 51,
     "metadata": {},
     "output_type": "execute_result"
    }
   ],
   "source": [
    "new_ar = np.squeeze(ar_a)\n",
    "new_ar"
   ]
  },
  {
   "cell_type": "code",
   "execution_count": 60,
   "id": "d2b8a2b2-db38-4c38-8747-382ba4392dda",
   "metadata": {},
   "outputs": [
    {
     "data": {
      "text/plain": [
       "array([[ 2],\n",
       "       [ 3],\n",
       "       [ 5],\n",
       "       [12],\n",
       "       [ 4],\n",
       "       [ 3],\n",
       "       [ 4],\n",
       "       [ 9],\n",
       "       [ 8]])"
      ]
     },
     "execution_count": 60,
     "metadata": {},
     "output_type": "execute_result"
    }
   ],
   "source": [
    "new_ar.reshape(9,1)"
   ]
  },
  {
   "cell_type": "code",
   "execution_count": 59,
   "id": "5c4480e9-acd6-4f7f-90ad-b4f785cb9a5f",
   "metadata": {},
   "outputs": [
    {
     "data": {
      "text/plain": [
       "array([[ 2,  3,  5, 12,  4,  3,  4,  9,  8]])"
      ]
     },
     "execution_count": 59,
     "metadata": {},
     "output_type": "execute_result"
    }
   ],
   "source": [
    "new_ar.reshape(1,9)"
   ]
  },
  {
   "cell_type": "code",
   "execution_count": 61,
   "id": "ec768819-4a37-4cc6-acf5-f6ff4196d081",
   "metadata": {},
   "outputs": [
    {
     "data": {
      "text/plain": [
       "array([[1, 2],\n",
       "       [3, 4]])"
      ]
     },
     "execution_count": 61,
     "metadata": {},
     "output_type": "execute_result"
    }
   ],
   "source": [
    "# 2. \n",
    "ar_b= np.array([[1,2],[3,4]])\n",
    "ar_b"
   ]
  },
  {
   "cell_type": "code",
   "execution_count": 62,
   "id": "5f6bf8c9-ba6c-4d7c-89a9-43e3afa9df69",
   "metadata": {},
   "outputs": [
    {
     "data": {
      "text/plain": [
       "(2, 2)"
      ]
     },
     "execution_count": 62,
     "metadata": {},
     "output_type": "execute_result"
    }
   ],
   "source": [
    "ar_b.shape"
   ]
  },
  {
   "cell_type": "code",
   "execution_count": 63,
   "id": "23bbb4de-04c0-4b05-868e-d1c8d2492ea7",
   "metadata": {},
   "outputs": [
    {
     "data": {
      "text/plain": [
       "2"
      ]
     },
     "execution_count": 63,
     "metadata": {},
     "output_type": "execute_result"
    }
   ],
   "source": [
    "ar_b.ndim\n"
   ]
  },
  {
   "cell_type": "code",
   "execution_count": 71,
   "id": "4bca9374-75d5-4427-8cdd-1409ec721970",
   "metadata": {},
   "outputs": [
    {
     "data": {
      "text/plain": [
       "array([[1, 2],\n",
       "       [3, 4]])"
      ]
     },
     "execution_count": 71,
     "metadata": {},
     "output_type": "execute_result"
    }
   ],
   "source": [
    "new1_ar = np.squeeze(ar_b)\n",
    "new1_ar"
   ]
  },
  {
   "cell_type": "code",
   "execution_count": 69,
   "id": "518946e9-cb91-4b0e-823e-334af6b9b035",
   "metadata": {},
   "outputs": [
    {
     "data": {
      "text/plain": [
       "array([[1],\n",
       "       [2],\n",
       "       [3],\n",
       "       [4]])"
      ]
     },
     "execution_count": 69,
     "metadata": {},
     "output_type": "execute_result"
    }
   ],
   "source": [
    "new1_ar.reshape(4,1)"
   ]
  },
  {
   "cell_type": "code",
   "execution_count": 67,
   "id": "ecdba15f-7c72-4841-844d-0a3215e60848",
   "metadata": {},
   "outputs": [
    {
     "data": {
      "text/plain": [
       "array([[1, 2, 3, 4]])"
      ]
     },
     "execution_count": 67,
     "metadata": {},
     "output_type": "execute_result"
    }
   ],
   "source": [
    "new1_ar.reshape(1,4)"
   ]
  },
  {
   "cell_type": "markdown",
   "id": "ab66d7d6-dfa3-4268-8b34-3a1791940a21",
   "metadata": {},
   "source": [
    "## View and copy in numpy Arrays"
   ]
  },
  {
   "cell_type": "code",
   "execution_count": 82,
   "id": "585a21f7-6a2e-469d-8f41-dcb6fe9d379c",
   "metadata": {},
   "outputs": [
    {
     "name": "stdout",
     "output_type": "stream",
     "text": [
      "[ 1  2  3 42  5]\n",
      "[ 1  2  3 42  5]\n"
     ]
    }
   ],
   "source": [
    "#View\n",
    "arr = np.array([1, 2, 3, 4, 5]) \n",
    "x = arr.view()\n",
    "arr[3] = 42\n",
    "\n",
    "print(arr)\n",
    "print(x)"
   ]
  },
  {
   "cell_type": "code",
   "execution_count": 81,
   "id": "e4ef86b8-aa24-4aae-b867-fef97fb7b09f",
   "metadata": {},
   "outputs": [
    {
     "name": "stdout",
     "output_type": "stream",
     "text": [
      "[ 1  2  3  4 42]\n",
      "[1 2 3 4 5]\n"
     ]
    }
   ],
   "source": [
    "#copy\n",
    "arr = np.array([1, 2, 3, 4, 5]) \n",
    "x = arr.copy()\n",
    "arr[4] = 42\n",
    "\n",
    "print(arr)\n",
    "print(x)"
   ]
  },
  {
   "cell_type": "markdown",
   "id": "628d7a93-ef2e-40fc-a8c4-c1f02782ef71",
   "metadata": {},
   "source": [
    "In your own words what is the difference between view and copy?"
   ]
  },
  {
   "cell_type": "code",
   "execution_count": null,
   "id": "7831f677-a405-4fce-ba4e-c762d6e461f1",
   "metadata": {},
   "outputs": [],
   "source": []
  }
 ],
 "metadata": {
  "kernelspec": {
   "display_name": "Python 3 (ipykernel)",
   "language": "python",
   "name": "python3"
  },
  "language_info": {
   "codemirror_mode": {
    "name": "ipython",
    "version": 3
   },
   "file_extension": ".py",
   "mimetype": "text/x-python",
   "name": "python",
   "nbconvert_exporter": "python",
   "pygments_lexer": "ipython3",
   "version": "3.12.7"
  }
 },
 "nbformat": 4,
 "nbformat_minor": 5
}
