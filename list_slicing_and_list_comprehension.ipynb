{
 "cells": [
  {
   "cell_type": "markdown",
   "id": "0b268bb8-a75d-4cd1-ba91-3adf3a938c8c",
   "metadata": {},
   "source": [
    "## List Slicing"
   ]
  },
  {
   "cell_type": "code",
   "execution_count": 1,
   "id": "47f6c632-d375-48ab-80a3-61c694623021",
   "metadata": {},
   "outputs": [],
   "source": [
    "a = [1,2,3,4,5,6,7,8,9]\n"
   ]
  },
  {
   "cell_type": "code",
   "execution_count": 2,
   "id": "f9a180b1-cada-4f4b-95c9-3a9690300ae9",
   "metadata": {},
   "outputs": [
    {
     "data": {
      "text/plain": [
       "[3, 4, 5, 6, 7, 8]"
      ]
     },
     "execution_count": 2,
     "metadata": {},
     "output_type": "execute_result"
    }
   ],
   "source": [
    "a[2:8]"
   ]
  },
  {
   "cell_type": "code",
   "execution_count": 3,
   "id": "6354a51d-29ac-4fa4-8c9e-d565ec246760",
   "metadata": {},
   "outputs": [
    {
     "data": {
      "text/plain": [
       "9"
      ]
     },
     "execution_count": 3,
     "metadata": {},
     "output_type": "execute_result"
    }
   ],
   "source": [
    "a[-1 ] #prints the last element in the list"
   ]
  },
  {
   "cell_type": "code",
   "execution_count": 4,
   "id": "fa9e0072-2a39-4344-9742-f0cfc3eed261",
   "metadata": {},
   "outputs": [
    {
     "data": {
      "text/plain": [
       "[9, 8, 7, 6, 5, 4, 3, 2, 1]"
      ]
     },
     "execution_count": 4,
     "metadata": {},
     "output_type": "execute_result"
    }
   ],
   "source": [
    "a[: :-1]  #prints the reverse of the list"
   ]
  },
  {
   "cell_type": "code",
   "execution_count": 5,
   "id": "c1752ef3-606e-4b5a-ba51-344584b06bf3",
   "metadata": {},
   "outputs": [
    {
     "data": {
      "text/plain": [
       "[1, 2, 3, 4, 5, 6, 7, 8]"
      ]
     },
     "execution_count": 5,
     "metadata": {},
     "output_type": "execute_result"
    }
   ],
   "source": [
    "a[0:-1]"
   ]
  },
  {
   "cell_type": "code",
   "execution_count": 6,
   "id": "a24a39c9-e1a5-4cae-9530-10c9414c5cc6",
   "metadata": {},
   "outputs": [
    {
     "data": {
      "text/plain": [
       "[1, 2, 3, 4, 5, 6, 7, 8, 9]"
      ]
     },
     "execution_count": 6,
     "metadata": {},
     "output_type": "execute_result"
    }
   ],
   "source": [
    "a[::]  #prints the whole list"
   ]
  },
  {
   "cell_type": "code",
   "execution_count": 7,
   "id": "8cac4f8a-de46-473f-a060-41195cf8cde0",
   "metadata": {},
   "outputs": [],
   "source": [
    "b =\"Hello, World\""
   ]
  },
  {
   "cell_type": "code",
   "execution_count": 8,
   "id": "59a2a676-7f98-4be9-8ad6-631ebca95e41",
   "metadata": {},
   "outputs": [
    {
     "data": {
      "text/plain": [
       "'llo, Wo'"
      ]
     },
     "execution_count": 8,
     "metadata": {},
     "output_type": "execute_result"
    }
   ],
   "source": [
    "b[2:9]"
   ]
  },
  {
   "cell_type": "code",
   "execution_count": 9,
   "id": "0a9d3516-5445-430c-a547-82f0e13c6fdc",
   "metadata": {},
   "outputs": [
    {
     "data": {
      "text/plain": [
       "', World'"
      ]
     },
     "execution_count": 9,
     "metadata": {},
     "output_type": "execute_result"
    }
   ],
   "source": [
    "b[5:]"
   ]
  },
  {
   "cell_type": "code",
   "execution_count": 10,
   "id": "b1d3fb85-e936-48d2-a1a3-5f09b72d6574",
   "metadata": {},
   "outputs": [
    {
     "data": {
      "text/plain": [
       "','"
      ]
     },
     "execution_count": 10,
     "metadata": {},
     "output_type": "execute_result"
    }
   ],
   "source": [
    "b[5]"
   ]
  },
  {
   "cell_type": "code",
   "execution_count": 11,
   "id": "66cb7102-7064-4347-b31e-2ac693552e7c",
   "metadata": {},
   "outputs": [
    {
     "data": {
      "text/plain": [
       "False"
      ]
     },
     "execution_count": 11,
     "metadata": {},
     "output_type": "execute_result"
    }
   ],
   "source": [
    "b[5]==b[5:]"
   ]
  },
  {
   "cell_type": "code",
   "execution_count": 12,
   "id": "770267b6-a169-4441-bab4-1033717cdbf5",
   "metadata": {},
   "outputs": [
    {
     "data": {
      "text/plain": [
       "', World'"
      ]
     },
     "execution_count": 12,
     "metadata": {},
     "output_type": "execute_result"
    }
   ],
   "source": [
    "b[5::]"
   ]
  },
  {
   "cell_type": "code",
   "execution_count": 13,
   "id": "1007dbe0-e11c-4bd7-998a-9249aabb01a5",
   "metadata": {},
   "outputs": [
    {
     "data": {
      "text/plain": [
       "True"
      ]
     },
     "execution_count": 13,
     "metadata": {},
     "output_type": "execute_result"
    }
   ],
   "source": [
    "b[5::]==b[5:]"
   ]
  },
  {
   "cell_type": "code",
   "execution_count": 14,
   "id": "e609d5f1-0ff3-4eb0-9944-922fe78df351",
   "metadata": {},
   "outputs": [
    {
     "data": {
      "text/plain": [
       "', Worl'"
      ]
     },
     "execution_count": 14,
     "metadata": {},
     "output_type": "execute_result"
    }
   ],
   "source": [
    "b[5:-1]"
   ]
  },
  {
   "cell_type": "code",
   "execution_count": 15,
   "id": "9fc3f832-49b6-41de-92dd-4e57decbe2fe",
   "metadata": {},
   "outputs": [
    {
     "data": {
      "text/plain": [
       "'Hlo '"
      ]
     },
     "execution_count": 15,
     "metadata": {},
     "output_type": "execute_result"
    }
   ],
   "source": [
    "b[:8:2]"
   ]
  },
  {
   "cell_type": "markdown",
   "id": "6b0a2fee-6b4d-4c1a-886d-e5eebe56a780",
   "metadata": {},
   "source": [
    "First Assignment:\n",
    "\n",
    "write a program that accepts a word from the user and display if its a palindrom or not"
   ]
  },
  {
   "cell_type": "code",
   "execution_count": 16,
   "id": "af45ff6d-b368-4bdd-9096-9824537b8a7a",
   "metadata": {},
   "outputs": [],
   "source": [
    "#For loop (intro)\n",
    "p = [1,2,3,4,5]"
   ]
  },
  {
   "cell_type": "code",
   "execution_count": 17,
   "id": "ad9717fe-1f95-4730-965a-a32be426caac",
   "metadata": {},
   "outputs": [
    {
     "name": "stdout",
     "output_type": "stream",
     "text": [
      "[1, 2, 3, 4, 5, 1, 2, 3, 4, 5]\n",
      "[1, 2, 3, 4, 5, 1, 2, 3, 4, 5]\n",
      "[1, 2, 3, 4, 5, 1, 2, 3, 4, 5]\n",
      "[1, 2, 3, 4, 5, 1, 2, 3, 4, 5]\n",
      "[1, 2, 3, 4, 5, 1, 2, 3, 4, 5]\n"
     ]
    }
   ],
   "source": [
    "for i in p:\n",
    "    print(p*2)"
   ]
  },
  {
   "cell_type": "code",
   "execution_count": 18,
   "id": "f3b10180-cc6a-48b4-98dd-6af9afd5a63b",
   "metadata": {},
   "outputs": [
    {
     "name": "stdout",
     "output_type": "stream",
     "text": [
      "[1, 2, 3, 4, 5, 1, 2, 3, 4, 5]\n"
     ]
    }
   ],
   "source": [
    "for i in p:\n",
    "    continue\n",
    "print(p*2)"
   ]
  },
  {
   "cell_type": "code",
   "execution_count": 19,
   "id": "399fcd5f-8776-4d3e-a481-524a99c9a8df",
   "metadata": {},
   "outputs": [
    {
     "name": "stdout",
     "output_type": "stream",
     "text": [
      "1\n",
      "3\n",
      "5\n",
      "7\n",
      "9\n"
     ]
    }
   ],
   "source": [
    "for i in range(10):\n",
    "    if i % 2 == 0:\n",
    "        continue\n",
    "     \n",
    "    print(i)"
   ]
  },
  {
   "cell_type": "markdown",
   "id": "e31c98c4-89c1-4bb5-8834-9d09b1a596a4",
   "metadata": {},
   "source": [
    "Write a program using loops to answer the following: c = [6, 10, 20, 5, 3, 2, 1]\n",
    "\n",
    "1. sum of c"
   ]
  },
  {
   "cell_type": "code",
   "execution_count": 20,
   "id": "ba4d1692-4db1-4ba9-8396-0d88951f5ccd",
   "metadata": {},
   "outputs": [],
   "source": [
    "c= [6,10,20,5,3,2,1]\n",
    "\n",
    "   "
   ]
  },
  {
   "cell_type": "code",
   "execution_count": 21,
   "id": "fbfb88ce-6ef3-46ac-889d-d784c3660f1c",
   "metadata": {},
   "outputs": [
    {
     "name": "stdout",
     "output_type": "stream",
     "text": [
      "6\n",
      "16\n",
      "36\n",
      "41\n",
      "44\n",
      "46\n",
      "47\n"
     ]
    }
   ],
   "source": [
    " r = 0\n",
    "for i in c:\n",
    "    r=r +i\n",
    "    print(r)"
   ]
  },
  {
   "cell_type": "code",
   "execution_count": 22,
   "id": "899ec7a0-ce02-4352-bfde-b03720990fb7",
   "metadata": {},
   "outputs": [
    {
     "name": "stdout",
     "output_type": "stream",
     "text": [
      "47\n"
     ]
    }
   ],
   "source": [
    "r = 0\n",
    "for i in c:\n",
    "    r=r +i\n",
    "print(r)"
   ]
  },
  {
   "cell_type": "code",
   "execution_count": 23,
   "id": "3fbc3c4c-0c0c-4f73-a844-581a0fa0cd2e",
   "metadata": {},
   "outputs": [],
   "source": [
    "#find the max and min values\n",
    "c.sort()\n"
   ]
  },
  {
   "cell_type": "code",
   "execution_count": 24,
   "id": "de558e0d-c511-48e2-bc46-9cf680b9d6ed",
   "metadata": {},
   "outputs": [
    {
     "data": {
      "text/plain": [
       "20"
      ]
     },
     "execution_count": 24,
     "metadata": {},
     "output_type": "execute_result"
    }
   ],
   "source": [
    "max = c[-1]\n",
    "max"
   ]
  },
  {
   "cell_type": "code",
   "execution_count": 25,
   "id": "439c1c13-65e9-4852-9a29-8a6fe8f6a40b",
   "metadata": {},
   "outputs": [
    {
     "data": {
      "text/plain": [
       "1"
      ]
     },
     "execution_count": 25,
     "metadata": {},
     "output_type": "execute_result"
    }
   ],
   "source": [
    "min =c[0]\n",
    "min"
   ]
  },
  {
   "cell_type": "code",
   "execution_count": 26,
   "id": "18bf7bd1-5809-4ba6-83aa-a834fd15fcaa",
   "metadata": {},
   "outputs": [],
   "source": [
    "c= [6,10,20,5,3,2,1]"
   ]
  },
  {
   "cell_type": "code",
   "execution_count": 27,
   "id": "a3c20661-6208-473e-bd7b-e30315f527b6",
   "metadata": {},
   "outputs": [
    {
     "name": "stdout",
     "output_type": "stream",
     "text": [
      "6\n",
      "10\n",
      "20\n",
      "20\n",
      "20\n",
      "20\n",
      "20\n"
     ]
    }
   ],
   "source": [
    "#finding the maximum value of c\n",
    "d=0\n",
    "for i in c:\n",
    "    if i>d:\n",
    "        d=i\n",
    "    print(d)"
   ]
  },
  {
   "cell_type": "code",
   "execution_count": 35,
   "id": "6aed9c30-164b-4a0d-83c2-e6f4409cb2f2",
   "metadata": {},
   "outputs": [
    {
     "name": "stdout",
     "output_type": "stream",
     "text": [
      "6\n",
      "10\n",
      "20\n",
      "5\n",
      "3\n",
      "2\n",
      "1\n"
     ]
    }
   ],
   "source": [
    "#finding the minimum value of c\n",
    "d=0\n",
    "for i in c:\n",
    "    if i<d:\n",
    "        d=i\n",
    "    print(i)"
   ]
  },
  {
   "cell_type": "markdown",
   "id": "177a99bb-d6de-4862-bb7a-d96de090e45f",
   "metadata": {},
   "source": [
    "second Assignment:\n",
    "1. find the mean of the list f= [3,5,9,5,20,4] using the for loop method\n",
    "2. slice f from the second element\n",
    "3. reverse f list using slicing method"
   ]
  },
  {
   "cell_type": "markdown",
   "id": "bd9d0b66-2ada-49f0-9e37-2a62ab6d8256",
   "metadata": {},
   "source": [
    "## list Comprehension\n",
    "list_comp [ (outcome) (for loop iteration) (if conditionals (if any))]"
   ]
  },
  {
   "cell_type": "code",
   "execution_count": 36,
   "id": "e174360e-03ee-44d1-8804-b47cc17a2929",
   "metadata": {},
   "outputs": [],
   "source": [
    "p= [2,4,6,8]"
   ]
  },
  {
   "cell_type": "code",
   "execution_count": 37,
   "id": "f1ff27af-4687-40cf-b144-a386c9a52491",
   "metadata": {},
   "outputs": [
    {
     "data": {
      "text/plain": [
       "[4, 16, 36, 64]"
      ]
     },
     "execution_count": 37,
     "metadata": {},
     "output_type": "execute_result"
    }
   ],
   "source": [
    "pilp = [i**2 for i in p ]\n",
    "pilp"
   ]
  },
  {
   "cell_type": "code",
   "execution_count": 45,
   "id": "fa45ca51-719c-4015-81e7-1298db3a8684",
   "metadata": {},
   "outputs": [
    {
     "name": "stdout",
     "output_type": "stream",
     "text": [
      "4\n",
      "16\n",
      "36\n",
      "64\n"
     ]
    }
   ],
   "source": [
    "for i in p:\n",
    "    pilp=i**2\n",
    "    print(pilp)"
   ]
  },
  {
   "cell_type": "code",
   "execution_count": 50,
   "id": "5d0a4b21-67b3-4fba-9e52-605c549c11d3",
   "metadata": {},
   "outputs": [
    {
     "data": {
      "text/plain": [
       "[4, 16, 36, 64]"
      ]
     },
     "execution_count": 50,
     "metadata": {},
     "output_type": "execute_result"
    }
   ],
   "source": [
    "pilp = [i**2 for i in p if i%2==0]\n",
    "pilp"
   ]
  },
  {
   "cell_type": "markdown",
   "id": "6291c90f-dbde-4bca-878b-5ecc4d3d45f9",
   "metadata": {},
   "source": [
    "Assignment 2\n",
    "1. write a list comprehension that has a range of values between 10 to 21, if the values are at least 13 and at most 16\n"
   ]
  },
  {
   "cell_type": "code",
   "execution_count": null,
   "id": "046ec9ac-6414-4cde-8aae-52ef0910170c",
   "metadata": {},
   "outputs": [],
   "source": []
  }
 ],
 "metadata": {
  "kernelspec": {
   "display_name": "Python 3 (ipykernel)",
   "language": "python",
   "name": "python3"
  },
  "language_info": {
   "codemirror_mode": {
    "name": "ipython",
    "version": 3
   },
   "file_extension": ".py",
   "mimetype": "text/x-python",
   "name": "python",
   "nbconvert_exporter": "python",
   "pygments_lexer": "ipython3",
   "version": "3.12.7"
  }
 },
 "nbformat": 4,
 "nbformat_minor": 5
}
