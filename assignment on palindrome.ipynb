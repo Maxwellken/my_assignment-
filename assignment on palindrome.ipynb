{
 "cells": [
  {
   "cell_type": "markdown",
   "id": "baac9eee",
   "metadata": {},
   "source": [
    "1 Write a program that reads a positive integer, n, from the user and then displays the sum of all of the integers from 1 to n. The sum of the first n positive integers can be computed using the formula: sum n(n + 1)/2.\n",
    "\n",
    "2 An online retailer sells two products: widgets and gizmos. Each widget weighs 75 grams. Each gizmo weighs 112 grams. Write a program that reads the number of widgets and the number of gizmos in an order from the user. Then your program should compute and display the total weight of the order.\n",
    "\n",
    "3 The length of a month varies from 28 to 31 days. In this exercise you will create a program that reads the name of a month from the user as a string. Then your program should display the number of days in that month. Display “28 or 29 days” for February so that leap years are addressed.\n",
    "\n",
    "4 number_list = [100, 34, 67, 89, 78, 21, 36], write a program that will loop into the element of the list, if the element is a multiple of 3 you should print Huray (and end the running of the code), but if its not a multiple of 3 print Nay\n",
    "\n",
    "5 create a copy of the content of the number_list using the copy() function\n",
    "6 write a program that check if a word is palindrome"
   ]
  },
  {
   "cell_type": "code",
   "execution_count": 7,
   "id": "90362ec2",
   "metadata": {},
   "outputs": [
    {
     "name": "stdout",
     "output_type": "stream",
     "text": [
      "The sum of numbers from 1 to 12 is: 78\n"
     ]
    }
   ],
   "source": [
    "# Sum of numbers from 1 to n\n",
    "n = int(input(\"Enter a positive number: \"))  # Ask the user for a number\n",
    "sum_n = n * (n + 1) // 2  # Use the formula to find the sum\n",
    "print(\"The sum of numbers from 1 to\", n, \"is:\", sum_n)\n"
   ]
  },
  {
   "cell_type": "code",
   "execution_count": 8,
   "id": "4bb92064",
   "metadata": {},
   "outputs": [
    {
     "name": "stdout",
     "output_type": "stream",
     "text": [
      "The total weight is 2770 grams\n"
     ]
    }
   ],
   "source": [
    "# Each widget weighs 75 grams, each gizmo weighs 112 grams\n",
    "widgets = int(input(\"Enter number of widgets: \"))  # Ask for number of widgets\n",
    "gizmos = int(input(\"Enter number of gizmos: \"))    # Ask for number of gizmos\n",
    "total_weight = widgets * 75 + gizmos * 112  # Multiply and add\n",
    "print(\"The total weight is\", total_weight, \"grams\")"
   ]
  },
  {
   "cell_type": "code",
   "execution_count": 9,
   "id": "e6a9d222",
   "metadata": {},
   "outputs": [
    {
     "name": "stdout",
     "output_type": "stream",
     "text": [
      "That's not a valid month!\n"
     ]
    }
   ],
   "source": [
    "# Number of days in a month\n",
    "month = input(\"Enter the name of a month: \")  # Get the month name\n",
    "month = month.strip().capitalize()  # Clean up input and format it\n",
    "# Check how many days are in the month\n",
    "if month == \"February\":\n",
    "    print(\"28 or 29 days\")  # February has 28 or 29 days\n",
    "elif month in [\"April\", \"June\", \"September\", \"November\"]:\n",
    "    print(\"30 days\")  # These months have 30 days\n",
    "elif month in [\"January\", \"March\", \"May\", \"July\", \"August\", \"October\", \"December\"]:\n",
    "    print(\"31 days\")  # These months have 31 days\n",
    "else:\n",
    "    print(\"That's not a valid month!\")  # If the input doesn't match any month\n"
   ]
  },
  {
   "cell_type": "code",
   "execution_count": null,
   "id": "ba957dff",
   "metadata": {},
   "outputs": [
    {
     "name": "stdout",
     "output_type": "stream",
     "text": [
      "Nay\n",
      "Nay\n",
      "Nay\n",
      "Nay\n",
      "Huray\n"
     ]
    }
   ],
   "source": [
    "\n",
    "# Check if numbers in list are multiples of 3\n",
    "number_list = [100, 34, 67, 89, 78, 21, 36]\n",
    "\n",
    "# Go through each number in the list\n",
    "for number in number_list:\n",
    "    if number % 3 == 0:  # If it's a multiple of 3\n",
    "        print(\"Huray\")  # Print \"Huray\" and stop the loop\n",
    "        break\n",
    "    else:\n",
    "        print(\"Nay\")  # Otherwise print \"Nay\"\n"
   ]
  },
  {
   "cell_type": "code",
   "execution_count": null,
   "id": "0cd8db69",
   "metadata": {},
   "outputs": [
    {
     "name": "stdout",
     "output_type": "stream",
     "text": [
      "Copy of the list: [100, 34, 67, 89, 78, 21, 36]\n"
     ]
    }
   ],
   "source": [
    "# Copy the list\n",
    "copy_of_list = number_list.copy()  # Make a copy of the list\n",
    "print(\"Here is a copy of the list:\", copy_of_list)"
   ]
  },
  {
   "cell_type": "code",
   "execution_count": 12,
   "id": "dd1c656b",
   "metadata": {},
   "outputs": [
    {
     "name": "stdout",
     "output_type": "stream",
     "text": [
      "this is a palindrome\n"
     ]
    }
   ],
   "source": [
    "# Ask the user to enter a word\n",
    "word = input(\"enter a word: \")\n",
    "# convert the word to lowercase so it's not case-sensitive\n",
    "word = word.lower()\n",
    "# Reverse the word\n",
    "reversed_word = word[::-1]\n",
    "# compare the original word with the reversed word\n",
    "if word == reversed_word:\n",
    "    print(\"this is a palindrome\")\n",
    "else:\n",
    "    print(\"this is not a palindrome\")"
   ]
  }
 ],
 "metadata": {
  "kernelspec": {
   "display_name": "Python 3",
   "language": "python",
   "name": "python3"
  },
  "language_info": {
   "codemirror_mode": {
    "name": "ipython",
    "version": 3
   },
   "file_extension": ".py",
   "mimetype": "text/x-python",
   "name": "python",
   "nbconvert_exporter": "python",
   "pygments_lexer": "ipython3",
   "version": "3.11.3"
  }
 },
 "nbformat": 4,
 "nbformat_minor": 5
}
