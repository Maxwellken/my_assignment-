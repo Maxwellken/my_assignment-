{
 "cells": [
  {
   "cell_type": "markdown",
   "id": "3baf0358",
   "metadata": {},
   "source": [
    "1, write a code that calculates Body Mass index (BMI)\n",
    "\n",
    "the program should take users weight and height and calculate body mass index #BMI_formular = weight (kg)/[height(ft)]**2\n",
    "\n",
    "2, write a program that concatenates elements of two lists a = [\"pan\", \"pot\", \"keg\", \"bowl\"] b = [\"pen\", \"pray\", \"man\", \"Presh\"]"
   ]
  },
  {
   "cell_type": "code",
   "execution_count": 1,
   "id": "cd436639",
   "metadata": {},
   "outputs": [
    {
     "name": "stdout",
     "output_type": "stream",
     "text": [
      "your body mass index (BMI)is: 33.64\n"
     ]
    }
   ],
   "source": [
    "#BMI = weight (kg) / (height(m))**2\n",
    "# 1 foot = 0.3048 meters\n",
    "weight = int(input(\"enter your weight in kg: \"))\n",
    "height_ft = int(input(\"enter your height in feet: \"))\n",
    "height_ft = height_ft * 0.3048\n",
    "BMI = weight / (height_ft ** 2)\n",
    "print(\"your body mass index (BMI)is:\", round(BMI, 2))\n"
   ]
  },
  {
   "cell_type": "code",
   "execution_count": 12,
   "id": "dd6b4f59",
   "metadata": {},
   "outputs": [
    {
     "ename": "TypeError",
     "evalue": "'tuple' object cannot be interpreted as an integer",
     "output_type": "error",
     "traceback": [
      "\u001b[31m---------------------------------------------------------------------------\u001b[39m",
      "\u001b[31mTypeError\u001b[39m                                 Traceback (most recent call last)",
      "\u001b[36mCell\u001b[39m\u001b[36m \u001b[39m\u001b[32mIn[12]\u001b[39m\u001b[32m, line 6\u001b[39m\n\u001b[32m      4\u001b[39m length = \u001b[38;5;28mlen\u001b[39m(a), \u001b[38;5;28mlen\u001b[39m(b)\n\u001b[32m      5\u001b[39m result = []\n\u001b[32m----> \u001b[39m\u001b[32m6\u001b[39m \u001b[38;5;28;01mfor\u001b[39;00m i \u001b[38;5;129;01min\u001b[39;00m \u001b[38;5;28;43mrange\u001b[39;49m\u001b[43m(\u001b[49m\u001b[43mlength\u001b[49m\u001b[43m)\u001b[49m:\n\u001b[32m      7\u001b[39m     combined = a[i] + b[i]\n\u001b[32m      8\u001b[39m     result.append(combined)\n",
      "\u001b[31mTypeError\u001b[39m: 'tuple' object cannot be interpreted as an integer"
     ]
    }
   ],
   "source": [
    "a = [\"pen\", \"pot\", \"key\", \"bowl\"]\n",
    "b = [\"pen\", \"pray\", \"man\", \"presh\"]\n",
    "# make sure both list are the same height\n",
    "length = len(a), len(b)\n",
    "result = []\n",
    "for i in range(length):\n",
    "    combined = a[i] + b[i]\n",
    "    result.append(combined)\n",
    "    print(\"concatenated list:\")"
   ]
  },
  {
   "cell_type": "code",
   "execution_count": 5,
   "id": "c9dcd491",
   "metadata": {},
   "outputs": [
    {
     "name": "stdout",
     "output_type": "stream",
     "text": [
      "60 second is 1 minute and 0 second\n"
     ]
    }
   ],
   "source": [
    "#convert second to minute and seconds\n",
    "second = int(input(\"enter time in seconds: \"))\n",
    "#calculate minute and remaning second\n",
    "minutes = second // 60\n",
    "remaining_seconds =  second % 60\n",
    "print(f\"{second} second is {minutes} minute and {remaining_seconds} second\")"
   ]
  }
 ],
 "metadata": {
  "kernelspec": {
   "display_name": "Python 3",
   "language": "python",
   "name": "python3"
  },
  "language_info": {
   "codemirror_mode": {
    "name": "ipython",
    "version": 3
   },
   "file_extension": ".py",
   "mimetype": "text/x-python",
   "name": "python",
   "nbconvert_exporter": "python",
   "pygments_lexer": "ipython3",
   "version": "3.11.3"
  }
 },
 "nbformat": 4,
 "nbformat_minor": 5
}
