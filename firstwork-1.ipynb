{
 "cells": [
  {
   "cell_type": "code",
   "execution_count": 1,
   "id": "b32c9a6a",
   "metadata": {},
   "outputs": [
    {
     "name": "stdout",
     "output_type": "stream",
     "text": [
      "hello world\n"
     ]
    }
   ],
   "source": [
    "print(\"hello world\")"
   ]
  },
  {
   "cell_type": "code",
   "execution_count": 3,
   "id": "cf080680",
   "metadata": {},
   "outputs": [
    {
     "name": "stdout",
     "output_type": "stream",
     "text": [
      "7\n"
     ]
    }
   ],
   "source": [
    "difference_num = 10 - 3\n",
    "print(difference_num)"
   ]
  },
  {
   "cell_type": "markdown",
   "id": "baa88638",
   "metadata": {},
   "source": []
  },
  {
   "cell_type": "code",
   "execution_count": 4,
   "id": "85a49366",
   "metadata": {},
   "outputs": [
    {
     "name": "stdout",
     "output_type": "stream",
     "text": [
      "sum =  10\n",
      "the sum of 6 and 4 is 10\n"
     ]
    }
   ],
   "source": [
    "a = 6\n",
    "b = 4\n",
    "c = a+b\n",
    "print (\"sum = \",c)\n",
    "print(f'the sum of {a} and {b} is {c}')"
   ]
  },
  {
   "cell_type": "code",
   "execution_count": 2,
   "id": "5237a388",
   "metadata": {},
   "outputs": [
    {
     "name": "stdout",
     "output_type": "stream",
     "text": [
      "10\n"
     ]
    }
   ],
   "source": [
    "a = 5\n",
    "b = 2\n",
    "c = a*b\n",
    "print (c)"
   ]
  },
  {
   "cell_type": "code",
   "execution_count": 9,
   "id": "56e0794a",
   "metadata": {},
   "outputs": [
    {
     "data": {
      "text/plain": [
       "2.23606797749979"
      ]
     },
     "execution_count": 9,
     "metadata": {},
     "output_type": "execute_result"
    }
   ],
   "source": [
    "import math\n",
    "# find the square root of both numbers a and b\n",
    "sq_a = math.sqrt(a)\n",
    "sq_a\n"
   ]
  },
  {
   "cell_type": "code",
   "execution_count": 10,
   "id": "e13dbffa",
   "metadata": {},
   "outputs": [
    {
     "data": {
      "text/plain": [
       "2.0"
      ]
     },
     "execution_count": 10,
     "metadata": {},
     "output_type": "execute_result"
    }
   ],
   "source": [
    "import math\n",
    "# find the square root of both number a and b\n",
    "sq_b = math.sqrt(b)\n",
    "sq_b"
   ]
  },
  {
   "cell_type": "code",
   "execution_count": 12,
   "id": "bbcc4818",
   "metadata": {},
   "outputs": [
    {
     "data": {
      "text/plain": [
       "2.0"
      ]
     },
     "execution_count": 12,
     "metadata": {},
     "output_type": "execute_result"
    }
   ],
   "source": [
    "# find the square root of the both number a and b round up to 3 decimal place\n",
    "sq_b = round ((b)**0.5, 3)\n",
    "sq_b "
   ]
  },
  {
   "cell_type": "markdown",
   "id": "c3d7194f",
   "metadata": {},
   "source": [
    "class work 1 write  a program that receive two number from user and display (i) the division (2) floor division and (3) modulus of both numbers"
   ]
  },
  {
   "cell_type": "code",
   "execution_count": 2,
   "id": "0d00694d",
   "metadata": {},
   "outputs": [
    {
     "ename": "ValueError",
     "evalue": "invalid literal for int() with base 10: ''",
     "output_type": "error",
     "traceback": [
      "\u001b[31m---------------------------------------------------------------------------\u001b[39m",
      "\u001b[31mValueError\u001b[39m                                Traceback (most recent call last)",
      "\u001b[36mCell\u001b[39m\u001b[36m \u001b[39m\u001b[32mIn[2]\u001b[39m\u001b[32m, line 1\u001b[39m\n\u001b[32m----> \u001b[39m\u001b[32m1\u001b[39m num1= \u001b[38;5;28;43mint\u001b[39;49m\u001b[43m(\u001b[49m\u001b[38;5;28;43minput\u001b[39;49m\u001b[43m(\u001b[49m\u001b[33;43m\"\u001b[39;49m\u001b[33;43menter the first value:\u001b[39;49m\u001b[33;43m\"\u001b[39;49m\u001b[43m)\u001b[49m\u001b[43m)\u001b[49m\n\u001b[32m      2\u001b[39m num2= \u001b[38;5;28mint\u001b[39m(\u001b[38;5;28minput\u001b[39m(\u001b[33m\"\u001b[39m\u001b[33menter the second value:\u001b[39m\u001b[33m\"\u001b[39m))\n\u001b[32m      3\u001b[39m div1 = num1/num2 \u001b[38;5;66;03m#normal dividion\u001b[39;00m\n",
      "\u001b[31mValueError\u001b[39m: invalid literal for int() with base 10: ''"
     ]
    }
   ],
   "source": [
    "num1= int(input(\"enter the first value:\"))\n",
    "num2= int(input(\"enter the second value:\"))\n",
    "div1 = num1/num2 #normal dividion\n",
    "div2 = num1//num2 #floor division\n",
    "div3 = num1%num2 #modulus (remainder)\n",
    "print(\"normal division is = \", div1)\n",
    "print(\"floor division is = \", div2)\n",
    "print(\"module is = \", div3)"
   ]
  },
  {
   "cell_type": "code",
   "execution_count": null,
   "id": "13c5ed6b",
   "metadata": {},
   "outputs": [
    {
     "name": "stdout",
     "output_type": "stream",
     "text": [
      "10\n"
     ]
    }
   ],
   "source": [
    "\n",
    "product = 5 * 2 \n",
    "print(\"10\")"
   ]
  },
  {
   "cell_type": "markdown",
   "id": "11af6ecb",
   "metadata": {},
   "source": [
    "class work 2 write a program that accept value from the user eith odds number or even number"
   ]
  },
  {
   "cell_type": "code",
   "execution_count": 5,
   "id": "5d0676b4",
   "metadata": {},
   "outputs": [
    {
     "name": "stdout",
     "output_type": "stream",
     "text": [
      " 5 is odd number\n"
     ]
    }
   ],
   "source": [
    "x = int(input(\"enter a value\"))\n",
    "if x%2 == 0:\n",
    "    print(f' {x} is a even number')\n",
    "else:\n",
    "    print (f\" {x} is odd number\")"
   ]
  },
  {
   "cell_type": "markdown",
   "id": "3db07127",
   "metadata": {},
   "source": [
    "class work 3: the pass mark for a high school class is 50 for each subject. however a student must pass both english and maths to br promoted on merit. if the student pass at least one of them (english and maths) he/she reseats for the exam but if the student fails both , the student should repeat the class. write a program that captures this idea"
   ]
  },
  {
   "cell_type": "code",
   "execution_count": null,
   "id": "fde9aebe",
   "metadata": {},
   "outputs": [],
   "source": []
  },
  {
   "cell_type": "markdown",
   "id": "cf9d5d7c",
   "metadata": {},
   "source": []
  },
  {
   "cell_type": "code",
   "execution_count": 3,
   "id": "f0918988",
   "metadata": {},
   "outputs": [
    {
     "name": "stdout",
     "output_type": "stream",
     "text": [
      "vocal sound\n"
     ]
    }
   ],
   "source": [
    "print(\"vocal sound\")"
   ]
  }
 ],
 "metadata": {
  "kernelspec": {
   "display_name": "Python 3",
   "language": "python",
   "name": "python3"
  },
  "language_info": {
   "codemirror_mode": {
    "name": "ipython",
    "version": 3
   },
   "file_extension": ".py",
   "mimetype": "text/x-python",
   "name": "python",
   "nbconvert_exporter": "python",
   "pygments_lexer": "ipython3",
   "version": "3.11.3"
  }
 },
 "nbformat": 4,
 "nbformat_minor": 5
}
