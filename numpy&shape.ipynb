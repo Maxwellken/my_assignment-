{
 "cells": [
  {
   "cell_type": "markdown",
   "id": "be29c3fe",
   "metadata": {},
   "source": [
    "ASSIGNMENT create a numpy array that has the following shapes 1. (a) 6, 5, 3\n",
    "\n",
    "(b) 1\n",
    "\n",
    "(c) 1,1,1,1\n",
    "\n",
    "(d) 2,2,1\n",
    "\n",
    "arr_num = [[2,3,4], [5,0.7,9], [3,1, 0.8]] (a). multiply arr_num by its identity matrix (hint: identity matrix is a matrix that have it diagonal as 1 while other sides are zeros. ask google for more infor)\n",
    " (b) find the dimension and the shape"
   ]
  },
  {
   "cell_type": "code",
   "execution_count": 7,
   "id": "851b41ca",
   "metadata": {},
   "outputs": [
    {
     "data": {
      "text/plain": [
       "(6, 5, 3)"
      ]
     },
     "execution_count": 7,
     "metadata": {},
     "output_type": "execute_result"
    }
   ],
   "source": [
    "import numpy as np \n",
    "# create an array of shape (6,5,3)\n",
    "num_mat = np.array ([[[3,5,3], [2,4,6], [9,7,4], [3,5,6], [3,7,0]],\n",
    "                    [[1,2,1], [3,3,3], [2,2,2], [5,5,5], [7,8,0]],\n",
    "                    [[0,1,9], [2,3,4], [5,6,7], [4,3,4], [7,12,9]],                                      \n",
    "                    [[2,1,1], [1,1,1], [2,2,2], [3,3,3], [4,4,4]],                                      \n",
    "                    [[9,9,9], [8,0,9], [6,7,0], [4,8,0], [6,1,2]],                                      \n",
    "                    [[2,0,5], [6,7,4], [4,0,0], [5,6,1], [0,2,4]]])\n",
    "num_mat.shape"
   ]
  },
  {
   "cell_type": "code",
   "execution_count": 23,
   "id": "8d8277bb",
   "metadata": {},
   "outputs": [
    {
     "data": {
      "text/plain": [
       "(1,)"
      ]
     },
     "execution_count": 23,
     "metadata": {},
     "output_type": "execute_result"
    }
   ],
   "source": [
    "# create an array of shape 1\n",
    "num_mat = np.array ([1],)\n",
    "num_mat.shape"
   ]
  },
  {
   "cell_type": "code",
   "execution_count": 27,
   "id": "b6bda974",
   "metadata": {},
   "outputs": [
    {
     "data": {
      "text/plain": [
       "(1, 1, 1, 1)"
      ]
     },
     "execution_count": 27,
     "metadata": {},
     "output_type": "execute_result"
    }
   ],
   "source": [
    "# create an array shape (1,1,1,1)\n",
    "num_mat = np.array ([[[[1]]]])\n",
    "num_mat.shape"
   ]
  },
  {
   "cell_type": "code",
   "execution_count": 30,
   "id": "37653c30",
   "metadata": {},
   "outputs": [
    {
     "data": {
      "text/plain": [
       "(2, 2, 1)"
      ]
     },
     "execution_count": 30,
     "metadata": {},
     "output_type": "execute_result"
    }
   ],
   "source": [
    "# create an array shape(2,2,1)\n",
    "num_mat = np.array ([[[1], [1]],\n",
    "                     [[2], [1]]])\n",
    "num_mat.shape\n"
   ]
  },
  {
   "cell_type": "code",
   "execution_count": null,
   "id": "dd4ea8c3",
   "metadata": {},
   "outputs": [],
   "source": []
  }
 ],
 "metadata": {
  "kernelspec": {
   "display_name": "Python 3",
   "language": "python",
   "name": "python3"
  },
  "language_info": {
   "codemirror_mode": {
    "name": "ipython",
    "version": 3
   },
   "file_extension": ".py",
   "mimetype": "text/x-python",
   "name": "python",
   "nbconvert_exporter": "python",
   "pygments_lexer": "ipython3",
   "version": "3.11.3"
  }
 },
 "nbformat": 4,
 "nbformat_minor": 5
}
