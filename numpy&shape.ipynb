{
 "cells": [
  {
   "cell_type": "markdown",
   "id": "be29c3fe",
   "metadata": {},
   "source": [
    "ASSIGNMENT create a numpy array that has the following shapes 1. (a) 6, 5, 3\n",
    "\n",
    "(b) 1\n",
    "\n",
    "(c) 1,1,1,1\n",
    "\n",
    "(d) 2,2,1\n",
    "\n",
    "arr_num = [[2,3,4], [5,0.7,9], [3,1, 0.8]] (a). multiply arr_num by its identity matrix (hint: identity matrix is a matrix that have it diagonal as 1 while other sides are zeros. ask google for more infor)\n",
    " (b) find the dimension and the shape"
   ]
  },
  {
   "cell_type": "code",
   "execution_count": 18,
   "id": "851b41ca",
   "metadata": {},
   "outputs": [
    {
     "name": "stdout",
     "output_type": "stream",
     "text": [
      "(3,)\n"
     ]
    }
   ],
   "source": [
    "import numpy as np \n",
    "# shape as (6,5,3)\n",
    "arr_a = np.array ((6,5,3))\n",
    "print(arr_a.shape)"
   ]
  },
  {
   "cell_type": "code",
   "execution_count": 24,
   "id": "8d8277bb",
   "metadata": {},
   "outputs": [
    {
     "name": "stdout",
     "output_type": "stream",
     "text": [
      "(1,)\n"
     ]
    }
   ],
   "source": [
    "# shape as 1\n",
    "arr_b = np.zeros((1))\n",
    "print(arr_b.shape)"
   ]
  },
  {
   "cell_type": "code",
   "execution_count": 21,
   "id": "b6bda974",
   "metadata": {},
   "outputs": [
    {
     "ename": "TypeError",
     "evalue": "array() takes from 1 to 2 positional arguments but 4 were given",
     "output_type": "error",
     "traceback": [
      "\u001b[31m---------------------------------------------------------------------------\u001b[39m",
      "\u001b[31mTypeError\u001b[39m                                 Traceback (most recent call last)",
      "\u001b[36mCell\u001b[39m\u001b[36m \u001b[39m\u001b[32mIn[21]\u001b[39m\u001b[32m, line 2\u001b[39m\n\u001b[32m      1\u001b[39m \u001b[38;5;66;03m# shape as (1,1,1,1)\u001b[39;00m\n\u001b[32m----> \u001b[39m\u001b[32m2\u001b[39m arr_c = \u001b[43mnp\u001b[49m\u001b[43m.\u001b[49m\u001b[43marray\u001b[49m\u001b[43m(\u001b[49m\u001b[32;43m1\u001b[39;49m\u001b[43m,\u001b[49m\u001b[32;43m1\u001b[39;49m\u001b[43m,\u001b[49m\u001b[32;43m1\u001b[39;49m\u001b[43m,\u001b[49m\u001b[32;43m1\u001b[39;49m\u001b[43m)\u001b[49m\n\u001b[32m      3\u001b[39m \u001b[38;5;28mprint\u001b[39m(arr_c.shape)\n",
      "\u001b[31mTypeError\u001b[39m: array() takes from 1 to 2 positional arguments but 4 were given"
     ]
    }
   ],
   "source": [
    "# shape as (1,1,1,1)\n",
    "arr_c = np.array(1,1,1,1)\n",
    "print(arr_c.shape)"
   ]
  },
  {
   "cell_type": "code",
   "execution_count": 22,
   "id": "37653c30",
   "metadata": {},
   "outputs": [
    {
     "name": "stdout",
     "output_type": "stream",
     "text": [
      "(3,)\n"
     ]
    }
   ],
   "source": [
    "# shape as (2,2,1)\n",
    "arr_d = np.array((2,2,1))\n",
    "print(arr_d.shape)"
   ]
  },
  {
   "cell_type": "code",
   "execution_count": null,
   "id": "219f58ee",
   "metadata": {},
   "outputs": [],
   "source": [
    "arr_num = [[2,3,4], [5,0.7,9], [3,1, 0.8]]\n",
    "#  create a matrix shape (3,3)\n",
    "identity_matrix = np.identity (3)\n",
    "# Multiply arr_num by the identity matrix using matrix multiplication\n",
    "result = "
   ]
  },
  {
   "cell_type": "code",
   "execution_count": null,
   "id": "246459e1",
   "metadata": {},
   "outputs": [],
   "source": []
  }
 ],
 "metadata": {
  "kernelspec": {
   "display_name": "Python 3",
   "language": "python",
   "name": "python3"
  },
  "language_info": {
   "codemirror_mode": {
    "name": "ipython",
    "version": 3
   },
   "file_extension": ".py",
   "mimetype": "text/x-python",
   "name": "python",
   "nbconvert_exporter": "python",
   "pygments_lexer": "ipython3",
   "version": "3.11.3"
  }
 },
 "nbformat": 4,
 "nbformat_minor": 5
}
