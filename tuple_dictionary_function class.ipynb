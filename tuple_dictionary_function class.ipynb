{
 "cells": [
  {
   "cell_type": "code",
   "execution_count": 1,
   "id": "a5cca603-5f10-4906-a439-8968a9ab20e3",
   "metadata": {},
   "outputs": [],
   "source": [
    "newTuple = (\"beans\", \"Rice\", \"Corn\", \"Yam\", \"Fish\")"
   ]
  },
  {
   "cell_type": "code",
   "execution_count": 2,
   "id": "7ca2555a-17ee-476c-bb3d-78ce6293fd51",
   "metadata": {},
   "outputs": [
    {
     "data": {
      "text/plain": [
       "tuple"
      ]
     },
     "execution_count": 2,
     "metadata": {},
     "output_type": "execute_result"
    }
   ],
   "source": [
    "type(newTuple)"
   ]
  },
  {
   "cell_type": "code",
   "execution_count": 4,
   "id": "09537d90-be1c-4e38-8de7-326d41810f9e",
   "metadata": {},
   "outputs": [
    {
     "data": {
      "text/plain": [
       "'Corn'"
      ]
     },
     "execution_count": 4,
     "metadata": {},
     "output_type": "execute_result"
    }
   ],
   "source": [
    "newTuple[2]"
   ]
  },
  {
   "cell_type": "code",
   "execution_count": 5,
   "id": "09870980-58d2-4907-bd4c-ac3fe80a4ce9",
   "metadata": {},
   "outputs": [
    {
     "ename": "TypeError",
     "evalue": "'tuple' object does not support item assignment",
     "output_type": "error",
     "traceback": [
      "\u001b[1;31m---------------------------------------------------------------------------\u001b[0m",
      "\u001b[1;31mTypeError\u001b[0m                                 Traceback (most recent call last)",
      "Cell \u001b[1;32mIn[5], line 1\u001b[0m\n\u001b[1;32m----> 1\u001b[0m newTuple[\u001b[38;5;241m2\u001b[39m] \u001b[38;5;241m=\u001b[39m \u001b[38;5;124m\"\u001b[39m\u001b[38;5;124mPotatoes\u001b[39m\u001b[38;5;124m\"\u001b[39m\n",
      "\u001b[1;31mTypeError\u001b[0m: 'tuple' object does not support item assignment"
     ]
    }
   ],
   "source": [
    "newTuple[2] = \"Potatoes\""
   ]
  },
  {
   "cell_type": "code",
   "execution_count": 6,
   "id": "6df7902a-2000-47e6-be96-66e0a2605944",
   "metadata": {},
   "outputs": [
    {
     "name": "stdout",
     "output_type": "stream",
     "text": [
      "('cherry', 'orange', 'kiwi')\n"
     ]
    }
   ],
   "source": [
    "thistuple = (\"apple\", \"banana\", \"cherry\", \"orange\", \"kiwi\", \"melon\", \"mango\")\n",
    "print(thistuple[2:5])"
   ]
  },
  {
   "cell_type": "code",
   "execution_count": 8,
   "id": "b4c68e17-5735-4c8f-bd9d-a8bdd225a3df",
   "metadata": {},
   "outputs": [
    {
     "data": {
      "text/plain": [
       "('cherry', 'orange', 'kiwi', 'melon')"
      ]
     },
     "execution_count": 8,
     "metadata": {},
     "output_type": "execute_result"
    }
   ],
   "source": [
    "thistuple[2:6]"
   ]
  },
  {
   "cell_type": "markdown",
   "id": "f41d9325-f9c4-4899-808e-bc037345a8f3",
   "metadata": {},
   "source": [
    "tuples are unchangeable (immutable), you cannot change its element once it is created. \n",
    "the way to go around it is to convert the tuple into a list using the list() constructor."
   ]
  },
  {
   "cell_type": "code",
   "execution_count": 10,
   "id": "1b99eabc-6b8e-4db5-be8b-76b6bf531bf7",
   "metadata": {},
   "outputs": [
    {
     "data": {
      "text/plain": [
       "['apple', 'banana', 'cherry', 'orange', 'kiwi', 'melon', 'mango']"
      ]
     },
     "execution_count": 10,
     "metadata": {},
     "output_type": "execute_result"
    }
   ],
   "source": [
    "tuple_convert_to_list = list(thistuple)\n",
    "tuple_convert_to_list"
   ]
  },
  {
   "cell_type": "code",
   "execution_count": 11,
   "id": "bd1af2c6-9c68-4d38-9cf6-ca2a3acb7509",
   "metadata": {},
   "outputs": [
    {
     "data": {
      "text/plain": [
       "list"
      ]
     },
     "execution_count": 11,
     "metadata": {},
     "output_type": "execute_result"
    }
   ],
   "source": [
    "type(tuple_convert_to_list)"
   ]
  },
  {
   "cell_type": "markdown",
   "id": "d1abef72-68af-4f9f-82d3-b25c37c45114",
   "metadata": {},
   "source": [
    "class work:\n",
    "convert this tuple into a list: cars = (\"mustang\", \"benz\", \"Rolls Royce\", \"Toyota\", \"Daewoo\")"
   ]
  },
  {
   "cell_type": "code",
   "execution_count": 12,
   "id": "427efa36-e03a-4c72-add3-c972606a47bf",
   "metadata": {},
   "outputs": [],
   "source": [
    "cars= (\"mustang\", \"benz\", \"Rolls Royce\", \"Toyota\", \"Daewoo\")"
   ]
  },
  {
   "cell_type": "code",
   "execution_count": 13,
   "id": "24ba7a36-54c5-4ab9-938f-84184d7fc1f5",
   "metadata": {},
   "outputs": [],
   "source": [
    "con_list = list((\"mustang\", \"benz\", \"Rolls Royce\", \"Toyota\", \"Daewoo\"))"
   ]
  },
  {
   "cell_type": "code",
   "execution_count": 14,
   "id": "ef4d9d7e-9818-483d-905b-a9e1846f49e5",
   "metadata": {},
   "outputs": [
    {
     "data": {
      "text/plain": [
       "['mustang', 'benz', 'Rolls Royce', 'Toyota', 'Daewoo']"
      ]
     },
     "execution_count": 14,
     "metadata": {},
     "output_type": "execute_result"
    }
   ],
   "source": [
    "con_list"
   ]
  },
  {
   "cell_type": "code",
   "execution_count": 15,
   "id": "4a4e1009-28d5-408d-bf68-bece8183f8bf",
   "metadata": {},
   "outputs": [
    {
     "data": {
      "text/plain": [
       "['mustang', 'benz', 'Rolls Royce', 'Toyota', 'Daewoo', 'Nissan']"
      ]
     },
     "execution_count": 15,
     "metadata": {},
     "output_type": "execute_result"
    }
   ],
   "source": [
    "con_list.append(\"Nissan\")\n",
    "con_list"
   ]
  },
  {
   "cell_type": "markdown",
   "id": "7991a1ef-83d7-455b-ae24-878736ee3b25",
   "metadata": {},
   "source": [
    "## Dictionary:\n",
    "dictionary is a data structure with key-value pairs, it is mutable (its content can be changed)"
   ]
  },
  {
   "cell_type": "code",
   "execution_count": 16,
   "id": "e7a69273-28ff-4d17-b1ff-09e08789b201",
   "metadata": {},
   "outputs": [
    {
     "name": "stdout",
     "output_type": "stream",
     "text": [
      "{'brand': 'Ford', 'model': 'Mustang', 'year': 1964}\n"
     ]
    }
   ],
   "source": [
    "#Create and print a dictionary:\n",
    "mydict = {\n",
    "  \"brand\": \"Ford\",\n",
    "  \"model\": \"Mustang\",\n",
    "  \"year\": 1964\n",
    "}\n",
    "print(mydict)\n"
   ]
  },
  {
   "cell_type": "code",
   "execution_count": 17,
   "id": "0dd8eda6-529e-4146-9f7d-6fc6b0c9fcb3",
   "metadata": {},
   "outputs": [
    {
     "data": {
      "text/plain": [
       "{'brand': 'Ford', 'model': 'Mustang', 'year': 2000}"
      ]
     },
     "execution_count": 17,
     "metadata": {},
     "output_type": "execute_result"
    }
   ],
   "source": [
    "mydict[\"year\"] = 2000\n",
    "mydict"
   ]
  },
  {
   "cell_type": "code",
   "execution_count": 23,
   "id": "77287d2b-d3f1-4689-b554-517b90fa07b3",
   "metadata": {},
   "outputs": [
    {
     "name": "stdout",
     "output_type": "stream",
     "text": [
      "{'brand': 'Ford', 'model': 'Mustang', 'year': 2000}\n",
      "{'brand': 'Ford', 'model': 'Mustang', 'year': 2000}\n",
      "{'brand': 'Ford', 'model': 'Mustang', 'year': 2000}\n"
     ]
    }
   ],
   "source": [
    "for i in mydict.values():\n",
    "    print(mydict)"
   ]
  },
  {
   "cell_type": "code",
   "execution_count": 24,
   "id": "47a197a8-afc4-430d-885d-a96cd31125b5",
   "metadata": {},
   "outputs": [],
   "source": [
    "thisdict = {\n",
    "  \"brand\": \"Ford\",\n",
    "  \"electric\": False,\n",
    "  \"year\": 1964,\n",
    "  \"colors\": [\"red\", \"white\", \"blue\"]\n",
    "}"
   ]
  },
  {
   "cell_type": "code",
   "execution_count": 25,
   "id": "3804b511-75cc-4541-a5a9-b56e5197eadf",
   "metadata": {},
   "outputs": [
    {
     "data": {
      "text/plain": [
       "dict"
      ]
     },
     "execution_count": 25,
     "metadata": {},
     "output_type": "execute_result"
    }
   ],
   "source": [
    "type(thisdict)"
   ]
  },
  {
   "cell_type": "code",
   "execution_count": 26,
   "id": "01a779e7-642a-4666-8063-83671d8da3d1",
   "metadata": {},
   "outputs": [
    {
     "data": {
      "text/plain": [
       "4"
      ]
     },
     "execution_count": 26,
     "metadata": {},
     "output_type": "execute_result"
    }
   ],
   "source": [
    "len(thisdict)"
   ]
  },
  {
   "cell_type": "code",
   "execution_count": 32,
   "id": "9c05273a-dc22-44ae-94a3-58c081adc554",
   "metadata": {},
   "outputs": [
    {
     "data": {
      "text/plain": [
       "'blue'"
      ]
     },
     "execution_count": 32,
     "metadata": {},
     "output_type": "execute_result"
    }
   ],
   "source": [
    "thisdict[\"colors\"][2]"
   ]
  },
  {
   "cell_type": "code",
   "execution_count": 33,
   "id": "9950dfff-da50-4d19-b03c-59ea31d00fd2",
   "metadata": {},
   "outputs": [
    {
     "data": {
      "text/plain": [
       "'white'"
      ]
     },
     "execution_count": 33,
     "metadata": {},
     "output_type": "execute_result"
    }
   ],
   "source": [
    "thisdict[\"colors\"][1]"
   ]
  },
  {
   "cell_type": "markdown",
   "id": "72eaf124-68c6-4e44-b06f-9e438c3091d6",
   "metadata": {},
   "source": [
    "## Functions"
   ]
  },
  {
   "cell_type": "markdown",
   "id": "354e0ee4-56d6-458d-9109-78da9cc3b892",
   "metadata": {},
   "source": [
    "this is the general syntax of writing a function\n",
    "def myFunc():\n",
    "    body of codes\n",
    "return value\n",
    "\n",
    "a function that does not returns a value is a void\n",
    "a function that calls itself is recursive"
   ]
  },
  {
   "cell_type": "code",
   "execution_count": null,
   "id": "23d7a710-0c52-4882-b01d-7e72fd8f64ee",
   "metadata": {},
   "outputs": [],
   "source": []
  },
  {
   "cell_type": "code",
   "execution_count": null,
   "id": "41acdf88-805a-4ba0-95ac-9836784ab0d7",
   "metadata": {},
   "outputs": [],
   "source": []
  }
 ],
 "metadata": {
  "kernelspec": {
   "display_name": "Python 3 (ipykernel)",
   "language": "python",
   "name": "python3"
  },
  "language_info": {
   "codemirror_mode": {
    "name": "ipython",
    "version": 3
   },
   "file_extension": ".py",
   "mimetype": "text/x-python",
   "name": "python",
   "nbconvert_exporter": "python",
   "pygments_lexer": "ipython3",
   "version": "3.12.7"
  }
 },
 "nbformat": 4,
 "nbformat_minor": 5
}
