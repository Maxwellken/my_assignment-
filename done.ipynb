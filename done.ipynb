{
 "cells": [
  {
   "cell_type": "markdown",
   "id": "4a5d6be7",
   "metadata": {},
   "source": [
    "assignment 1: write a program that will ask user to enter their salary and their monthly expenditure. if the monthly expense is less than the salary the user is living with means. (150k/70k)"
   ]
  },
  {
   "cell_type": "code",
   "execution_count": 1,
   "id": "c4dc9bd8",
   "metadata": {},
   "outputs": [
    {
     "name": "stdout",
     "output_type": "stream",
     "text": [
      "you are living within your means\n"
     ]
    }
   ],
   "source": [
    "# program to check if the user is living within their means\n",
    "# get salary and monthly expenses from the user\n",
    "salary = int(input(\"enter your monthly salary: \"))\n",
    "expenses = int(input(\"enter your monthly expenditure: \"))\n",
    "#compare salary and expenses \n",
    "if expenses <= salary:\n",
    "    print(\"you are living within your means\")\n",
    "else:\n",
    "    print(\"you are living above your means\")"
   ]
  },
  {
   "cell_type": "markdown",
   "id": "65e66e64",
   "metadata": {},
   "source": [
    "assignment 2: write a progra that calculate simple interest by receiving details from user"
   ]
  },
  {
   "cell_type": "code",
   "execution_count": 3,
   "id": "979a782f",
   "metadata": {},
   "outputs": [
    {
     "name": "stdout",
     "output_type": "stream",
     "text": [
      "simple interest is: 1.0\n"
     ]
    }
   ],
   "source": [
    "# program to calculate simple interest\n",
    "# get input value from the user\n",
    "principal = int(input(\"enter the principal amount: \"))\n",
    "rate = int(input(\"enterthe annual interest rate in (%): \"))\n",
    "time = int(input(\"enter the time in years: \"))\n",
    "#calculate simple interest\n",
    "simple_interest = (principal * rate * time) / 100\n",
    "# output the result\n",
    "print(\"simple interest is:\", simple_interest)"
   ]
  },
  {
   "cell_type": "markdown",
   "id": "ef8a64e6",
   "metadata": {},
   "source": [
    "assignment 3: given that a = (30,45,23,12,89,79,235,0.8,42,38) arranged in aascending order. find the minimum and maximum value respectively"
   ]
  },
  {
   "cell_type": "code",
   "execution_count": 11,
   "id": "3daf4b7f",
   "metadata": {},
   "outputs": [
    {
     "name": "stdout",
     "output_type": "stream",
     "text": [
      "sort list: [0.8, 12, 23, 30, 38, 42, 45, 79, 89, 235]\n",
      "minimum value: 0.8\n",
      "maximum value: 235\n"
     ]
    }
   ],
   "source": [
    "# program to find minnmum and maximum in a list\n",
    "a = [30, 45, 23, 12, 89, 79, 235, 0.8, 42, 38]\n",
    "# sort the list\n",
    "a.sort ()\n",
    "#get minimum and maximum\n",
    "minimum = a[0]\n",
    "maximum = a[-1]\n",
    "# output results\n",
    "print(\"sort list:\", a)\n",
    "print(\"minimum value:\", minimum)\n",
    "print(\"maximum value:\", maximum)"
   ]
  }
 ],
 "metadata": {
  "kernelspec": {
   "display_name": "Python 3",
   "language": "python",
   "name": "python3"
  },
  "language_info": {
   "codemirror_mode": {
    "name": "ipython",
    "version": 3
   },
   "file_extension": ".py",
   "mimetype": "text/x-python",
   "name": "python",
   "nbconvert_exporter": "python",
   "pygments_lexer": "ipython3",
   "version": "3.11.3"
  }
 },
 "nbformat": 4,
 "nbformat_minor": 5
}
