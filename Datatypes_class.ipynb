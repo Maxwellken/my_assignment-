{
 "cells": [
  {
   "cell_type": "code",
   "execution_count": 1,
   "id": "ffcb5ae5-b310-4756-8ff9-b3f0127679b4",
   "metadata": {},
   "outputs": [
    {
     "data": {
      "text/plain": [
       "5"
      ]
     },
     "execution_count": 1,
     "metadata": {},
     "output_type": "execute_result"
    }
   ],
   "source": [
    "num1 = 5\n",
    "num1"
   ]
  },
  {
   "cell_type": "code",
   "execution_count": 2,
   "id": "2adf0901-dc6f-4aa8-95ea-47a5a6e5585e",
   "metadata": {},
   "outputs": [
    {
     "data": {
      "text/plain": [
       "int"
      ]
     },
     "execution_count": 2,
     "metadata": {},
     "output_type": "execute_result"
    }
   ],
   "source": [
    "type(num1)"
   ]
  },
  {
   "cell_type": "code",
   "execution_count": 3,
   "id": "a44d652f-51f9-45fb-8165-5bb8b4df5fff",
   "metadata": {},
   "outputs": [
    {
     "data": {
      "text/plain": [
       "float"
      ]
     },
     "execution_count": 3,
     "metadata": {},
     "output_type": "execute_result"
    }
   ],
   "source": [
    "num2 = 4.5\n",
    "type(num2)"
   ]
  },
  {
   "cell_type": "code",
   "execution_count": 4,
   "id": "fc4f42d7-2d67-4d55-8c80-29f2d4fe6451",
   "metadata": {},
   "outputs": [
    {
     "data": {
      "text/plain": [
       "str"
      ]
     },
     "execution_count": 4,
     "metadata": {},
     "output_type": "execute_result"
    }
   ],
   "source": [
    "hello_str =\"Hello world\"\n",
    "type(hello_str)"
   ]
  },
  {
   "cell_type": "markdown",
   "id": "3b605e14-4622-4df3-97e1-3cc480098568",
   "metadata": {},
   "source": [
    "Type conversion"
   ]
  },
  {
   "cell_type": "code",
   "execution_count": 5,
   "id": "78a61364-fb5c-4c0f-81a4-cc432ecd24b8",
   "metadata": {},
   "outputs": [
    {
     "data": {
      "text/plain": [
       "5.0"
      ]
     },
     "execution_count": 5,
     "metadata": {},
     "output_type": "execute_result"
    }
   ],
   "source": [
    "float(str(num1))"
   ]
  },
  {
   "cell_type": "code",
   "execution_count": 6,
   "id": "fce90293-b8b7-44b3-8e70-a8a52b3e863f",
   "metadata": {},
   "outputs": [
    {
     "name": "stdout",
     "output_type": "stream",
     "text": [
      "\n"
     ]
    },
    {
     "data": {
      "text/plain": [
       "NoneType"
      ]
     },
     "execution_count": 6,
     "metadata": {},
     "output_type": "execute_result"
    }
   ],
   "source": [
    "type(print())"
   ]
  },
  {
   "cell_type": "code",
   "execution_count": 7,
   "id": "6f9e105b-4228-4409-9e95-349d4f368ab7",
   "metadata": {},
   "outputs": [
    {
     "data": {
      "text/plain": [
       "bool"
      ]
     },
     "execution_count": 7,
     "metadata": {},
     "output_type": "execute_result"
    }
   ],
   "source": [
    "bool_var = True\n",
    "type(bool_var)"
   ]
  },
  {
   "cell_type": "code",
   "execution_count": 10,
   "id": "22d2032f-b3e5-4166-82ad-95ce36c33022",
   "metadata": {},
   "outputs": [
    {
     "data": {
      "text/plain": [
       "complex"
      ]
     },
     "execution_count": 10,
     "metadata": {},
     "output_type": "execute_result"
    }
   ],
   "source": [
    "cp_var = 2j\n",
    "type(cp_var)"
   ]
  },
  {
   "cell_type": "markdown",
   "id": "49c6271a-f678-4af3-a4b6-e85e3471c826",
   "metadata": {},
   "source": [
    "float and integer data types are mostly used for arithemtic operations"
   ]
  },
  {
   "cell_type": "code",
   "execution_count": 14,
   "id": "0e312fd7-b549-4818-a549-14da12369feb",
   "metadata": {},
   "outputs": [
    {
     "data": {
      "text/plain": [
       "45"
      ]
     },
     "execution_count": 14,
     "metadata": {},
     "output_type": "execute_result"
    }
   ],
   "source": [
    "a =5; b=9\n",
    "prod_val =a*b\n",
    "prod_val"
   ]
  },
  {
   "cell_type": "code",
   "execution_count": 17,
   "id": "cea9a93a-a7f7-4079-9ff1-9998f6cd98c8",
   "metadata": {},
   "outputs": [
    {
     "name": "stdin",
     "output_type": "stream",
     "text": [
      "Enter student's Age 40\n"
     ]
    }
   ],
   "source": [
    "age = int(input(\"Enter student's Age\"))"
   ]
  },
  {
   "cell_type": "code",
   "execution_count": 18,
   "id": "87539529-f4fe-464b-8447-6066d57af79d",
   "metadata": {},
   "outputs": [
    {
     "data": {
      "text/plain": [
       "int"
      ]
     },
     "execution_count": 18,
     "metadata": {},
     "output_type": "execute_result"
    }
   ],
   "source": [
    "type(age)"
   ]
  },
  {
   "cell_type": "markdown",
   "id": "9a972ab9-5a30-4875-88b4-34049d268097",
   "metadata": {},
   "source": [
    "prog that calculates the  circumference of a circle, hint : formular: c= 2pr"
   ]
  },
  {
   "cell_type": "code",
   "execution_count": 19,
   "id": "2ae7b167-fae2-45b7-965d-f70c53192c43",
   "metadata": {},
   "outputs": [
    {
     "data": {
      "text/plain": [
       "18.852"
      ]
     },
     "execution_count": 19,
     "metadata": {},
     "output_type": "execute_result"
    }
   ],
   "source": [
    "r = 3\n",
    "pi = 3.142\n",
    "circ_circle = 2*pi*r\n",
    "circ_circle\n"
   ]
  },
  {
   "cell_type": "code",
   "execution_count": 22,
   "id": "faf42623-5635-4341-8d52-079b0a2f93c6",
   "metadata": {},
   "outputs": [
    {
     "name": "stdin",
     "output_type": "stream",
     "text": [
      "enter value for radius 3\n"
     ]
    },
    {
     "data": {
      "text/plain": [
       "18.8496"
      ]
     },
     "execution_count": 22,
     "metadata": {},
     "output_type": "execute_result"
    }
   ],
   "source": [
    "import math\n",
    "r = float(input('enter value for radius'))\n",
    "circum = round(2*(math.pi*r), 4)\n",
    "circum"
   ]
  },
  {
   "cell_type": "code",
   "execution_count": 23,
   "id": "2870fa27-47f4-4444-a35d-8d0ed55827d9",
   "metadata": {},
   "outputs": [
    {
     "data": {
      "text/plain": [
       "35"
      ]
     },
     "execution_count": 23,
     "metadata": {},
     "output_type": "execute_result"
    }
   ],
   "source": [
    "#round off and round up values using ceil and floor\n",
    "val1 = 34.0545\n",
    "math.ceil(val1)"
   ]
  },
  {
   "cell_type": "code",
   "execution_count": 24,
   "id": "59553bb4-037f-460b-a09a-979bccadf95a",
   "metadata": {},
   "outputs": [
    {
     "data": {
      "text/plain": [
       "34"
      ]
     },
     "execution_count": 24,
     "metadata": {},
     "output_type": "execute_result"
    }
   ],
   "source": [
    "math.floor(val1)"
   ]
  },
  {
   "cell_type": "code",
   "execution_count": 25,
   "id": "5fa359e2-d729-4c4a-bbb1-d2ec36a475c8",
   "metadata": {},
   "outputs": [
    {
     "data": {
      "text/plain": [
       "2.718281828459045"
      ]
     },
     "execution_count": 25,
     "metadata": {},
     "output_type": "execute_result"
    }
   ],
   "source": [
    "math.e"
   ]
  },
  {
   "cell_type": "code",
   "execution_count": 27,
   "id": "085becb6-72f9-424f-8136-aae6741fa38e",
   "metadata": {},
   "outputs": [],
   "source": [
    "list_item =[2,10465, 543, 98, 4, 5, 8, 6, 432, 5994, 98]"
   ]
  },
  {
   "cell_type": "code",
   "execution_count": 29,
   "id": "4099316d-5c22-43da-8f29-21fe7d833d90",
   "metadata": {},
   "outputs": [
    {
     "data": {
      "text/plain": [
       "[2, 4, 5, 6, 8, 98, 98, 432, 543, 5994, 10465]"
      ]
     },
     "execution_count": 29,
     "metadata": {},
     "output_type": "execute_result"
    }
   ],
   "source": [
    "list_item.sort()\n",
    "list_item"
   ]
  },
  {
   "cell_type": "code",
   "execution_count": 34,
   "id": "783d5f54-02dd-4ad5-ac17-f520ecc75244",
   "metadata": {},
   "outputs": [
    {
     "data": {
      "text/plain": [
       "10465"
      ]
     },
     "execution_count": 34,
     "metadata": {},
     "output_type": "execute_result"
    }
   ],
   "source": [
    "#maximum val\n",
    "list_item[-1]"
   ]
  },
  {
   "cell_type": "code",
   "execution_count": 35,
   "id": "81de6136-d037-490d-b4ef-95dc85f03392",
   "metadata": {},
   "outputs": [
    {
     "data": {
      "text/plain": [
       "2"
      ]
     },
     "execution_count": 35,
     "metadata": {},
     "output_type": "execute_result"
    }
   ],
   "source": [
    "#minimum val\n",
    "list_item[0]"
   ]
  },
  {
   "cell_type": "code",
   "execution_count": 36,
   "id": "8ccd0af6-308a-454b-8186-c8444598b81a",
   "metadata": {},
   "outputs": [
    {
     "data": {
      "text/plain": [
       "True"
      ]
     },
     "execution_count": 36,
     "metadata": {},
     "output_type": "execute_result"
    }
   ],
   "source": [
    "list_item[0] == list_item[-11]"
   ]
  },
  {
   "cell_type": "code",
   "execution_count": 42,
   "id": "3d6d36e3-770b-4465-ad98-02a2232c74d0",
   "metadata": {},
   "outputs": [
    {
     "data": {
      "text/plain": [
       "11"
      ]
     },
     "execution_count": 42,
     "metadata": {},
     "output_type": "execute_result"
    }
   ],
   "source": [
    "#lets get the length of the list\n",
    "len(list_item)"
   ]
  },
  {
   "cell_type": "code",
   "execution_count": 49,
   "id": "bc5c885f-5c39-4f29-8847-722e4b6b7e19",
   "metadata": {},
   "outputs": [
    {
     "name": "stdout",
     "output_type": "stream",
     "text": [
      "0\n",
      "1\n",
      "2\n",
      "3\n",
      "4\n",
      "5\n",
      "6\n",
      "7\n",
      "8\n",
      "9\n",
      "10\n"
     ]
    }
   ],
   "source": [
    "num = [1,2,3,4,5,6,7,8,9,10]\n",
    "num2 = range(11)\n",
    "for i in num2:\n",
    "    print(i)\n",
    "    "
   ]
  },
  {
   "cell_type": "markdown",
   "id": "b539c187-d41b-4daf-b47a-8b3ab0dabc4b",
   "metadata": {},
   "source": [
    "#string operation\n",
    "\n",
    "this is how you manipulate text data"
   ]
  },
  {
   "cell_type": "code",
   "execution_count": 52,
   "id": "2939ee9c-c5e8-47d8-8f03-ed93f2bff8fc",
   "metadata": {},
   "outputs": [
    {
     "data": {
      "text/plain": [
       "'MichaelEgbujua'"
      ]
     },
     "execution_count": 52,
     "metadata": {},
     "output_type": "execute_result"
    }
   ],
   "source": [
    "#concatenation : joining strings into one\n",
    "fname= \"Michael\"\n",
    "lname= \"Egbujua\"\n",
    "\n",
    "fullname= fname + lname\n",
    "fullname"
   ]
  },
  {
   "cell_type": "code",
   "execution_count": 53,
   "id": "b08b7c5d-d445-4c09-8197-f413ba1ae5bb",
   "metadata": {},
   "outputs": [
    {
     "data": {
      "text/plain": [
       "'Michael Egbujua'"
      ]
     },
     "execution_count": 53,
     "metadata": {},
     "output_type": "execute_result"
    }
   ],
   "source": [
    "fullname = fname+ \" \" +lname\n",
    "fullname"
   ]
  },
  {
   "cell_type": "code",
   "execution_count": 55,
   "id": "3b3fb736-f438-4b8a-9a74-21dd3fa1a071",
   "metadata": {},
   "outputs": [
    {
     "name": "stdout",
     "output_type": "stream",
     "text": [
      "your fullname is Michael Egbujua\n"
     ]
    }
   ],
   "source": [
    "print(f\"your fullname is {fullname}\")"
   ]
  },
  {
   "cell_type": "markdown",
   "id": "02289a14-4671-4021-aab4-0179010817ec",
   "metadata": {},
   "source": [
    "## class assignment"
   ]
  },
  {
   "cell_type": "markdown",
   "id": "4d10f087-3cb3-4058-abe5-17554693103e",
   "metadata": {},
   "source": [
    "1. write a program that will ask user to enter their salary and their monthly expenditure. \n",
    "if the monthly expenses is less than the salary the user is living within mean else user is living above means\n",
    "\n",
    "2. write a program that calculate simple interest, by recieveing details from users\n",
    "\n",
    "3. given that q = [30, 45, 23, 12, 89, 79, 235, 0.8, 42,38] , arrange in ascending order, find, minimum and maximum values respectively"
   ]
  },
  {
   "cell_type": "code",
   "execution_count": null,
   "id": "8569d7f2-40e6-4bfd-9c9d-c10c26f80e5e",
   "metadata": {},
   "outputs": [],
   "source": []
  }
 ],
 "metadata": {
  "kernelspec": {
   "display_name": "Python 3 (ipykernel)",
   "language": "python",
   "name": "python3"
  },
  "language_info": {
   "codemirror_mode": {
    "name": "ipython",
    "version": 3
   },
   "file_extension": ".py",
   "mimetype": "text/x-python",
   "name": "python",
   "nbconvert_exporter": "python",
   "pygments_lexer": "ipython3",
   "version": "3.12.7"
  }
 },
 "nbformat": 4,
 "nbformat_minor": 5
}
