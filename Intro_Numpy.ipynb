{
 "cells": [
  {
   "cell_type": "markdown",
   "id": "f54ff19d-e362-4e11-a5af-610ce791d1b9",
   "metadata": {},
   "source": [
    "## Numpy\n",
    "for array creation and numerical calculation. it got its name \"NUMPY\" from \"Numerical Python\"\n"
   ]
  },
  {
   "cell_type": "code",
   "execution_count": 4,
   "id": "0372604e-3aa0-4a4c-a651-49e312ba3e82",
   "metadata": {},
   "outputs": [],
   "source": [
    "#importing the numpy library\n",
    "import numpy as np\n"
   ]
  },
  {
   "cell_type": "code",
   "execution_count": 3,
   "id": "358fde1a-a63f-40db-8809-068feccaa19c",
   "metadata": {},
   "outputs": [],
   "source": [
    "#using array()\n",
    "array_1d =numpy.array([1,2,3,4])    #1 dim array\n",
    "array_2d =numpy.array([[1,2],[3,4]]) #2dim array\n"
   ]
  },
  {
   "cell_type": "code",
   "execution_count": 10,
   "id": "0f48046a-26d5-414c-a0cf-a4baa58f8a6b",
   "metadata": {},
   "outputs": [],
   "source": [
    "#using alias and array() function\n",
    "array_1d =np.array([1,2,3,4])    #1 dim array\n",
    "array_2d =np.array([[1,2],[3,4]]) #2dim array"
   ]
  },
  {
   "cell_type": "markdown",
   "id": "7eaa6ae9-575c-40e9-8f70-05f6dae33b77",
   "metadata": {},
   "source": [
    "the arange() is specifically for array , although have the behaviour of the range() function."
   ]
  },
  {
   "cell_type": "code",
   "execution_count": 16,
   "id": "5358207d-7abd-45cf-9839-5e2b00bccd88",
   "metadata": {},
   "outputs": [
    {
     "name": "stdout",
     "output_type": "stream",
     "text": [
      "[0 2 4 6 8]\n"
     ]
    }
   ],
   "source": [
    "#print even nos\n",
    "array_range = np.arange(0,10,2)\n",
    "\n",
    "print(array_range)"
   ]
  },
  {
   "cell_type": "code",
   "execution_count": 15,
   "id": "d1b7322f-972d-45da-b908-643da438a7d9",
   "metadata": {},
   "outputs": [
    {
     "name": "stdout",
     "output_type": "stream",
     "text": [
      "0\n",
      "2\n",
      "4\n",
      "6\n",
      "8\n"
     ]
    }
   ],
   "source": [
    "for i in range(0,10,2):\n",
    "    print(i)"
   ]
  },
  {
   "cell_type": "code",
   "execution_count": 17,
   "id": "eba5ad22-9ac5-47df-9e99-436f4de7e03e",
   "metadata": {},
   "outputs": [
    {
     "data": {
      "text/plain": [
       "array([[0., 0., 0.],\n",
       "       [0., 0., 0.],\n",
       "       [0., 0., 0.]])"
      ]
     },
     "execution_count": 17,
     "metadata": {},
     "output_type": "execute_result"
    }
   ],
   "source": [
    "#creating a zero array\n",
    "zeros_array = np.zeros((3, 3))\n",
    "zeros_array"
   ]
  },
  {
   "cell_type": "code",
   "execution_count": 20,
   "id": "8f11197b-2df4-4924-92f0-46588bdd7503",
   "metadata": {},
   "outputs": [
    {
     "data": {
      "text/plain": [
       "array([[1., 1.],\n",
       "       [1., 1.]])"
      ]
     },
     "execution_count": 20,
     "metadata": {},
     "output_type": "execute_result"
    }
   ],
   "source": [
    "#ones array\n",
    "ones_array = np.ones((2,2))\n",
    "ones_array"
   ]
  },
  {
   "cell_type": "code",
   "execution_count": 22,
   "id": "47edcea2-0fb2-4236-a2f3-04373f130d44",
   "metadata": {},
   "outputs": [
    {
     "data": {
      "text/plain": [
       "array([5, 7, 9])"
      ]
     },
     "execution_count": 22,
     "metadata": {},
     "output_type": "execute_result"
    }
   ],
   "source": [
    "#bitwise operations\n",
    "array_a = np.array([1, 2, 3])\n",
    "array_b = np.array([4, 5, 6])\n",
    "sum_array = array_a + array_b \n",
    "\n",
    "sum_array\n"
   ]
  },
  {
   "cell_type": "markdown",
   "id": "20c5a8b2-7880-494e-b2a4-11b9878278ea",
   "metadata": {},
   "source": [
    "if the length of the array is unequal it will result in  an error. there shape must match"
   ]
  },
  {
   "cell_type": "code",
   "execution_count": 23,
   "id": "f5e84aaa-75e6-41b7-9c33-d2126d677925",
   "metadata": {},
   "outputs": [
    {
     "ename": "ValueError",
     "evalue": "operands could not be broadcast together with shapes (6,) (3,) ",
     "output_type": "error",
     "traceback": [
      "\u001b[1;31m---------------------------------------------------------------------------\u001b[0m",
      "\u001b[1;31mValueError\u001b[0m                                Traceback (most recent call last)",
      "Cell \u001b[1;32mIn[23], line 3\u001b[0m\n\u001b[0;32m      1\u001b[0m array_a \u001b[38;5;241m=\u001b[39m np\u001b[38;5;241m.\u001b[39marray([\u001b[38;5;241m1\u001b[39m, \u001b[38;5;241m2\u001b[39m, \u001b[38;5;241m3\u001b[39m, \u001b[38;5;241m5\u001b[39m,\u001b[38;5;241m8\u001b[39m,\u001b[38;5;241m6\u001b[39m])\n\u001b[0;32m      2\u001b[0m array_b \u001b[38;5;241m=\u001b[39m np\u001b[38;5;241m.\u001b[39marray([\u001b[38;5;241m4\u001b[39m, \u001b[38;5;241m5\u001b[39m, \u001b[38;5;241m6\u001b[39m])\n\u001b[1;32m----> 3\u001b[0m sum_array \u001b[38;5;241m=\u001b[39m array_a \u001b[38;5;241m+\u001b[39m array_b\n",
      "\u001b[1;31mValueError\u001b[0m: operands could not be broadcast together with shapes (6,) (3,) "
     ]
    }
   ],
   "source": [
    "array_a = np.array([1, 2, 3, 5,8,6])\n",
    "array_b = np.array([4, 5, 6])\n",
    "sum_array = array_a + array_b "
   ]
  },
  {
   "cell_type": "markdown",
   "id": "60505a51-f520-4dfd-83a4-99f8b2af5da9",
   "metadata": {},
   "source": [
    "## Note:\n",
    "the shape of an array takes into account the number of rows and column\n",
    "\n",
    "1. A 1-dim array is made up of scalar quantities\n",
    "\n",
    "2. A 2-dim array is made up of one-dim array\n",
    "\n",
    "3. A 3-dim array is made up of two-dim array\n",
    "\n",
    "Hence, Generally  an n-dim array will have its element as (n-1)dim array"
   ]
  },
  {
   "cell_type": "code",
   "execution_count": 26,
   "id": "255ead6c-65f7-48f7-8c44-ac716eab3fb8",
   "metadata": {},
   "outputs": [
    {
     "name": "stdout",
     "output_type": "stream",
     "text": [
      "(6,)\n",
      "(3,)\n"
     ]
    }
   ],
   "source": [
    "array_a = np.array([1, 2, 3, 5,8,6])\n",
    "array_b = np.array([4, 5, 6])\n",
    "\n",
    "#shapes\n",
    "print(array_a.shape)\n",
    "print(array_b.shape)"
   ]
  },
  {
   "cell_type": "markdown",
   "id": "8b1915a3-3a61-498e-bbaa-0ffd26cc6de6",
   "metadata": {},
   "source": [
    "Array of Zeros is called zeros in numpy"
   ]
  },
  {
   "cell_type": "code",
   "execution_count": 57,
   "id": "50960343-37bb-448e-95ea-d25ca9ab9d86",
   "metadata": {},
   "outputs": [
    {
     "data": {
      "text/plain": [
       "array([[0., 0., 0.],\n",
       "       [0., 0., 0.],\n",
       "       [0., 0., 0.]])"
      ]
     },
     "execution_count": 57,
     "metadata": {},
     "output_type": "execute_result"
    }
   ],
   "source": [
    "zeros_array = np.zeros((3, 3))\n",
    "zeros_array"
   ]
  },
  {
   "cell_type": "code",
   "execution_count": 58,
   "id": "d9202183-ec72-404f-9d1d-2b3244615058",
   "metadata": {},
   "outputs": [
    {
     "name": "stdout",
     "output_type": "stream",
     "text": [
      "(3, 3)\n",
      "2\n"
     ]
    }
   ],
   "source": [
    "print(zeros_array.shape)\n",
    "print(zeros_array.ndim)"
   ]
  },
  {
   "cell_type": "code",
   "execution_count": 54,
   "id": "461757ea-f188-48d5-b4ad-c4484048dfaf",
   "metadata": {},
   "outputs": [
    {
     "name": "stdout",
     "output_type": "stream",
     "text": [
      "[[0. 0. 0. 0.]\n",
      " [0. 0. 0. 0.]\n",
      " [0. 0. 0. 0.]\n",
      " [0. 0. 0. 0.]]\n"
     ]
    }
   ],
   "source": [
    "zero_arr = np.zeros((4,4))\n",
    "print(zero_arr)"
   ]
  },
  {
   "cell_type": "code",
   "execution_count": 39,
   "id": "487a2f74-2c52-4b63-aeac-3f1d51df7bc4",
   "metadata": {},
   "outputs": [
    {
     "data": {
      "text/plain": [
       "array([[1., 0., 0.],\n",
       "       [0., 1., 0.],\n",
       "       [0., 0., 1.]])"
      ]
     },
     "execution_count": 39,
     "metadata": {},
     "output_type": "execute_result"
    }
   ],
   "source": [
    "#identity matrix\n",
    "idm = np.eye(3,3)\n",
    "idm"
   ]
  },
  {
   "cell_type": "code",
   "execution_count": 40,
   "id": "dcaec4e1-f6a0-42fc-8807-822c70877733",
   "metadata": {},
   "outputs": [
    {
     "data": {
      "text/plain": [
       "array([[ True, False, False],\n",
       "       [False,  True, False],\n",
       "       [False, False,  True]])"
      ]
     },
     "execution_count": 40,
     "metadata": {},
     "output_type": "execute_result"
    }
   ],
   "source": [
    "bool_val = idm.astype(bool)\n",
    "bool_val"
   ]
  },
  {
   "cell_type": "code",
   "execution_count": 62,
   "id": "004a77b7-afff-4a7f-a036-010ae8f0e076",
   "metadata": {},
   "outputs": [
    {
     "name": "stdout",
     "output_type": "stream",
     "text": [
      "2\n",
      "(2, 3)\n"
     ]
    }
   ],
   "source": [
    "arr_num = np.array([[1,2,3],\n",
    "                    [4,5,6]])\n",
    "#indexing \n",
    "print(arr_num[0,1])\n",
    "print(arr_num.shape)"
   ]
  },
  {
   "cell_type": "code",
   "execution_count": 47,
   "id": "d3baa0d5-27c5-4ccf-b097-22d1a32435a2",
   "metadata": {},
   "outputs": [
    {
     "data": {
      "text/plain": [
       "6"
      ]
     },
     "execution_count": 47,
     "metadata": {},
     "output_type": "execute_result"
    }
   ],
   "source": [
    "arr_num[1,2]"
   ]
  },
  {
   "cell_type": "code",
   "execution_count": 48,
   "id": "4fcc1f61-a9a6-4a3c-b363-141867f8b396",
   "metadata": {},
   "outputs": [
    {
     "data": {
      "text/plain": [
       "1"
      ]
     },
     "execution_count": 48,
     "metadata": {},
     "output_type": "execute_result"
    }
   ],
   "source": [
    "arr_num[0,0]"
   ]
  },
  {
   "cell_type": "code",
   "execution_count": 49,
   "id": "0899eede-50b0-47bd-9ac7-d6e592b40107",
   "metadata": {},
   "outputs": [
    {
     "name": "stdout",
     "output_type": "stream",
     "text": [
      "8\n"
     ]
    }
   ],
   "source": [
    "add_arr = arr_num[0,2] + arr_num[1,1]\n",
    "print(add_arr)"
   ]
  },
  {
   "cell_type": "code",
   "execution_count": 50,
   "id": "3f7e7152-f5db-47c4-b729-d2070ece6131",
   "metadata": {},
   "outputs": [
    {
     "name": "stdout",
     "output_type": "stream",
     "text": [
      "3\n"
     ]
    }
   ],
   "source": [
    "arr = np.array([1, 2, 3, 4])\n",
    "print(arr[3] - arr[0])"
   ]
  },
  {
   "cell_type": "code",
   "execution_count": null,
   "id": "2d8bb596-0609-4749-a7ee-32f09717a310",
   "metadata": {},
   "outputs": [],
   "source": [
    "arr3 = np.arry([[3,5,2],\n",
    "               [1,2,0],\n",
    "               [7,3,9]])\n",
    "#what is the shape and the dimension of the array\n",
    "#calculate arr3[2,1] + arr3[0,2]"
   ]
  },
  {
   "cell_type": "code",
   "execution_count": 65,
   "id": "6d58ade8-d3b8-45e4-91d3-300ec1b8910a",
   "metadata": {},
   "outputs": [
    {
     "name": "stdout",
     "output_type": "stream",
     "text": [
      "[0, 2, 4, 6, 8, 10, 12, 14, 16, 18, 20, 22, 24, 26, 28, 30, 32, 34, 36, 38, 40, 42, 44, 46, 48]\n",
      "[0, 2, 4, 6, 8, 10, 12, 14, 16, 18, 20, 22, 24, 26, 28, 30, 32, 34, 36, 38, 40, 42, 44, 46, 48]\n"
     ]
    }
   ],
   "source": [
    "#write an array that takes a range of numbers between 0 and 50 with an interval of 2:\n",
    "num1 = [i for i in range(0,50,2)]\n",
    "num1i = [i for i in np.arange(0,50,2)]\n",
    "print(num1)\n",
    "print(num1i)"
   ]
  },
  {
   "cell_type": "code",
   "execution_count": 66,
   "id": "d16a968c-def7-4898-b06c-3ed28287bfc1",
   "metadata": {},
   "outputs": [
    {
     "data": {
      "text/plain": [
       "array([ 0,  2,  4,  6,  8, 10, 12, 14, 16, 18, 20, 22, 24, 26, 28, 30, 32,\n",
       "       34, 36, 38, 40, 42, 44, 46, 48])"
      ]
     },
     "execution_count": 66,
     "metadata": {},
     "output_type": "execute_result"
    }
   ],
   "source": [
    "num1_arr = np.array([i for i in range(0,50,2)])\n",
    "num1_arr"
   ]
  },
  {
   "cell_type": "markdown",
   "id": "4e1bf475-4321-493f-8c6c-c1ed206fc707",
   "metadata": {},
   "source": [
    "ASSIGNMENT\n",
    "create a numpy array that has the following shapes\n",
    "1.\n",
    "(a) 6, 5, 3\n",
    "\n",
    "(b) 1\n",
    "\n",
    "(c) 1,1,1,1\n",
    "\n",
    "(d) 2,2,1\n",
    "\n",
    "2.  arr_num = [[2,3,4],\n",
    "               [5,0.7,9],\n",
    "               [3,1, 0.8]]\n",
    "    (a). multiply arr_num by its identity matrix  (hint: identity matrix is a matrix that have it diagonal as 1 while other sides are zeros. ask google for more infor)\n",
    "    (b) find the dimension and the shape"
   ]
  },
  {
   "cell_type": "code",
   "execution_count": null,
   "id": "898a95fe-7d5c-4718-8943-bab6b0af5b5e",
   "metadata": {},
   "outputs": [],
   "source": []
  }
 ],
 "metadata": {
  "kernelspec": {
   "display_name": "Python 3 (ipykernel)",
   "language": "python",
   "name": "python3"
  },
  "language_info": {
   "codemirror_mode": {
    "name": "ipython",
    "version": 3
   },
   "file_extension": ".py",
   "mimetype": "text/x-python",
   "name": "python",
   "nbconvert_exporter": "python",
   "pygments_lexer": "ipython3",
   "version": "3.12.7"
  }
 },
 "nbformat": 4,
 "nbformat_minor": 5
}
