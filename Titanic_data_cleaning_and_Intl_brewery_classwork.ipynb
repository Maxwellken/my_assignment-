{
 "cells": [
  {
   "cell_type": "markdown",
   "id": "75c01b0f-3e25-4924-9a57-ca3c43ecb636",
   "metadata": {},
   "source": [
    "## Titanic Data cleaning"
   ]
  },
  {
   "cell_type": "code",
   "execution_count": 1,
   "id": "9fb248ca-43ee-4ca4-8626-68c17442c041",
   "metadata": {},
   "outputs": [],
   "source": [
    "#import the libraries required for the analysis\n",
    "import numpy as  np\n",
    "import pandas as pd\n",
    "import matplotlib.pyplot as plt\n",
    "import seaborn as sns"
   ]
  },
  {
   "cell_type": "code",
   "execution_count": 2,
   "id": "b6ff0901-113c-44e3-81eb-7b5944767fb9",
   "metadata": {},
   "outputs": [],
   "source": [
    "#create the file path\n",
    "path = r\"C:\\Users\\pc\\Downloads\\dataset\\titanic_data\\tested.csv\""
   ]
  },
  {
   "cell_type": "code",
   "execution_count": 3,
   "id": "37bc7d26-5851-4284-84b2-1bd84d5bf0dc",
   "metadata": {},
   "outputs": [
    {
     "data": {
      "text/html": [
       "<div>\n",
       "<style scoped>\n",
       "    .dataframe tbody tr th:only-of-type {\n",
       "        vertical-align: middle;\n",
       "    }\n",
       "\n",
       "    .dataframe tbody tr th {\n",
       "        vertical-align: top;\n",
       "    }\n",
       "\n",
       "    .dataframe thead th {\n",
       "        text-align: right;\n",
       "    }\n",
       "</style>\n",
       "<table border=\"1\" class=\"dataframe\">\n",
       "  <thead>\n",
       "    <tr style=\"text-align: right;\">\n",
       "      <th></th>\n",
       "      <th>PassengerId</th>\n",
       "      <th>Survived</th>\n",
       "      <th>Pclass</th>\n",
       "      <th>Name</th>\n",
       "      <th>Sex</th>\n",
       "      <th>Age</th>\n",
       "      <th>SibSp</th>\n",
       "      <th>Parch</th>\n",
       "      <th>Ticket</th>\n",
       "      <th>Fare</th>\n",
       "      <th>Cabin</th>\n",
       "      <th>Embarked</th>\n",
       "    </tr>\n",
       "  </thead>\n",
       "  <tbody>\n",
       "    <tr>\n",
       "      <th>0</th>\n",
       "      <td>892</td>\n",
       "      <td>0</td>\n",
       "      <td>3</td>\n",
       "      <td>Kelly, Mr. James</td>\n",
       "      <td>male</td>\n",
       "      <td>34.5</td>\n",
       "      <td>0</td>\n",
       "      <td>0</td>\n",
       "      <td>330911</td>\n",
       "      <td>7.8292</td>\n",
       "      <td>NaN</td>\n",
       "      <td>Q</td>\n",
       "    </tr>\n",
       "    <tr>\n",
       "      <th>1</th>\n",
       "      <td>893</td>\n",
       "      <td>1</td>\n",
       "      <td>3</td>\n",
       "      <td>Wilkes, Mrs. James (Ellen Needs)</td>\n",
       "      <td>female</td>\n",
       "      <td>47.0</td>\n",
       "      <td>1</td>\n",
       "      <td>0</td>\n",
       "      <td>363272</td>\n",
       "      <td>7.0000</td>\n",
       "      <td>NaN</td>\n",
       "      <td>S</td>\n",
       "    </tr>\n",
       "    <tr>\n",
       "      <th>2</th>\n",
       "      <td>894</td>\n",
       "      <td>0</td>\n",
       "      <td>2</td>\n",
       "      <td>Myles, Mr. Thomas Francis</td>\n",
       "      <td>male</td>\n",
       "      <td>62.0</td>\n",
       "      <td>0</td>\n",
       "      <td>0</td>\n",
       "      <td>240276</td>\n",
       "      <td>9.6875</td>\n",
       "      <td>NaN</td>\n",
       "      <td>Q</td>\n",
       "    </tr>\n",
       "    <tr>\n",
       "      <th>3</th>\n",
       "      <td>895</td>\n",
       "      <td>0</td>\n",
       "      <td>3</td>\n",
       "      <td>Wirz, Mr. Albert</td>\n",
       "      <td>male</td>\n",
       "      <td>27.0</td>\n",
       "      <td>0</td>\n",
       "      <td>0</td>\n",
       "      <td>315154</td>\n",
       "      <td>8.6625</td>\n",
       "      <td>NaN</td>\n",
       "      <td>S</td>\n",
       "    </tr>\n",
       "    <tr>\n",
       "      <th>4</th>\n",
       "      <td>896</td>\n",
       "      <td>1</td>\n",
       "      <td>3</td>\n",
       "      <td>Hirvonen, Mrs. Alexander (Helga E Lindqvist)</td>\n",
       "      <td>female</td>\n",
       "      <td>22.0</td>\n",
       "      <td>1</td>\n",
       "      <td>1</td>\n",
       "      <td>3101298</td>\n",
       "      <td>12.2875</td>\n",
       "      <td>NaN</td>\n",
       "      <td>S</td>\n",
       "    </tr>\n",
       "    <tr>\n",
       "      <th>5</th>\n",
       "      <td>897</td>\n",
       "      <td>0</td>\n",
       "      <td>3</td>\n",
       "      <td>Svensson, Mr. Johan Cervin</td>\n",
       "      <td>male</td>\n",
       "      <td>14.0</td>\n",
       "      <td>0</td>\n",
       "      <td>0</td>\n",
       "      <td>7538</td>\n",
       "      <td>9.2250</td>\n",
       "      <td>NaN</td>\n",
       "      <td>S</td>\n",
       "    </tr>\n",
       "    <tr>\n",
       "      <th>6</th>\n",
       "      <td>898</td>\n",
       "      <td>1</td>\n",
       "      <td>3</td>\n",
       "      <td>Connolly, Miss. Kate</td>\n",
       "      <td>female</td>\n",
       "      <td>30.0</td>\n",
       "      <td>0</td>\n",
       "      <td>0</td>\n",
       "      <td>330972</td>\n",
       "      <td>7.6292</td>\n",
       "      <td>NaN</td>\n",
       "      <td>Q</td>\n",
       "    </tr>\n",
       "  </tbody>\n",
       "</table>\n",
       "</div>"
      ],
      "text/plain": [
       "   PassengerId  Survived  Pclass  \\\n",
       "0          892         0       3   \n",
       "1          893         1       3   \n",
       "2          894         0       2   \n",
       "3          895         0       3   \n",
       "4          896         1       3   \n",
       "5          897         0       3   \n",
       "6          898         1       3   \n",
       "\n",
       "                                           Name     Sex   Age  SibSp  Parch  \\\n",
       "0                              Kelly, Mr. James    male  34.5      0      0   \n",
       "1              Wilkes, Mrs. James (Ellen Needs)  female  47.0      1      0   \n",
       "2                     Myles, Mr. Thomas Francis    male  62.0      0      0   \n",
       "3                              Wirz, Mr. Albert    male  27.0      0      0   \n",
       "4  Hirvonen, Mrs. Alexander (Helga E Lindqvist)  female  22.0      1      1   \n",
       "5                    Svensson, Mr. Johan Cervin    male  14.0      0      0   \n",
       "6                          Connolly, Miss. Kate  female  30.0      0      0   \n",
       "\n",
       "    Ticket     Fare Cabin Embarked  \n",
       "0   330911   7.8292   NaN        Q  \n",
       "1   363272   7.0000   NaN        S  \n",
       "2   240276   9.6875   NaN        Q  \n",
       "3   315154   8.6625   NaN        S  \n",
       "4  3101298  12.2875   NaN        S  \n",
       "5     7538   9.2250   NaN        S  \n",
       "6   330972   7.6292   NaN        Q  "
      ]
     },
     "execution_count": 3,
     "metadata": {},
     "output_type": "execute_result"
    }
   ],
   "source": [
    "#read in the data for the work\n",
    "df = pd.read_csv(path)\n",
    "df.head(7)"
   ]
  },
  {
   "cell_type": "code",
   "execution_count": 4,
   "id": "d64f2eb1-761a-40cd-ba32-ff7eb3da8f9e",
   "metadata": {},
   "outputs": [
    {
     "data": {
      "text/plain": [
       "(418, 12)"
      ]
     },
     "execution_count": 4,
     "metadata": {},
     "output_type": "execute_result"
    }
   ],
   "source": [
    "#check the number of rows and columns\n",
    "df.shape"
   ]
  },
  {
   "cell_type": "code",
   "execution_count": 5,
   "id": "b51edec2-3ce8-4ec9-9d55-2cea42467756",
   "metadata": {},
   "outputs": [
    {
     "name": "stdout",
     "output_type": "stream",
     "text": [
      "<class 'pandas.core.frame.DataFrame'>\n",
      "RangeIndex: 418 entries, 0 to 417\n",
      "Data columns (total 12 columns):\n",
      " #   Column       Non-Null Count  Dtype  \n",
      "---  ------       --------------  -----  \n",
      " 0   PassengerId  418 non-null    int64  \n",
      " 1   Survived     418 non-null    int64  \n",
      " 2   Pclass       418 non-null    int64  \n",
      " 3   Name         418 non-null    object \n",
      " 4   Sex          418 non-null    object \n",
      " 5   Age          332 non-null    float64\n",
      " 6   SibSp        418 non-null    int64  \n",
      " 7   Parch        418 non-null    int64  \n",
      " 8   Ticket       418 non-null    object \n",
      " 9   Fare         417 non-null    float64\n",
      " 10  Cabin        91 non-null     object \n",
      " 11  Embarked     418 non-null    object \n",
      "dtypes: float64(2), int64(5), object(5)\n",
      "memory usage: 39.3+ KB\n"
     ]
    }
   ],
   "source": [
    "#check the information about the data based on its data types and bytes\n",
    "df.info()"
   ]
  },
  {
   "cell_type": "code",
   "execution_count": 6,
   "id": "0fa61952-16fb-458f-9468-ac839f2921a4",
   "metadata": {},
   "outputs": [],
   "source": [
    "#change the data type of PassengerId to string\n",
    "df[\"PassengerId\"] = df[\"PassengerId\"].astype(str)"
   ]
  },
  {
   "cell_type": "code",
   "execution_count": 7,
   "id": "8f472107-9e33-433d-9a50-7c460aecd914",
   "metadata": {},
   "outputs": [
    {
     "name": "stdout",
     "output_type": "stream",
     "text": [
      "<class 'pandas.core.frame.DataFrame'>\n",
      "RangeIndex: 418 entries, 0 to 417\n",
      "Data columns (total 12 columns):\n",
      " #   Column       Non-Null Count  Dtype  \n",
      "---  ------       --------------  -----  \n",
      " 0   PassengerId  418 non-null    object \n",
      " 1   Survived     418 non-null    int64  \n",
      " 2   Pclass       418 non-null    int64  \n",
      " 3   Name         418 non-null    object \n",
      " 4   Sex          418 non-null    object \n",
      " 5   Age          332 non-null    float64\n",
      " 6   SibSp        418 non-null    int64  \n",
      " 7   Parch        418 non-null    int64  \n",
      " 8   Ticket       418 non-null    object \n",
      " 9   Fare         417 non-null    float64\n",
      " 10  Cabin        91 non-null     object \n",
      " 11  Embarked     418 non-null    object \n",
      "dtypes: float64(2), int64(4), object(6)\n",
      "memory usage: 39.3+ KB\n"
     ]
    }
   ],
   "source": [
    "df.info()"
   ]
  },
  {
   "cell_type": "code",
   "execution_count": 8,
   "id": "5a6e40e4-aad9-42d7-9ad8-823a2075eccf",
   "metadata": {},
   "outputs": [
    {
     "data": {
      "text/plain": [
       "PassengerId      0\n",
       "Survived         0\n",
       "Pclass           0\n",
       "Name             0\n",
       "Sex              0\n",
       "Age             86\n",
       "SibSp            0\n",
       "Parch            0\n",
       "Ticket           0\n",
       "Fare             1\n",
       "Cabin          327\n",
       "Embarked         0\n",
       "dtype: int64"
      ]
     },
     "execution_count": 8,
     "metadata": {},
     "output_type": "execute_result"
    }
   ],
   "source": [
    "#check for null values\n",
    "df.isnull().sum()"
   ]
  },
  {
   "cell_type": "code",
   "execution_count": 9,
   "id": "f73be337-e02f-46a3-8b93-80fcee693339",
   "metadata": {},
   "outputs": [],
   "source": [
    "#remove irrelevant columns, they will not be used in the analysis\n",
    "df.drop([\"Name\",\"Cabin\",\"Ticket\"], axis=1, inplace=True)"
   ]
  },
  {
   "cell_type": "code",
   "execution_count": 10,
   "id": "450e0e97-7531-4267-b971-560a846f840b",
   "metadata": {},
   "outputs": [
    {
     "data": {
      "text/html": [
       "<div>\n",
       "<style scoped>\n",
       "    .dataframe tbody tr th:only-of-type {\n",
       "        vertical-align: middle;\n",
       "    }\n",
       "\n",
       "    .dataframe tbody tr th {\n",
       "        vertical-align: top;\n",
       "    }\n",
       "\n",
       "    .dataframe thead th {\n",
       "        text-align: right;\n",
       "    }\n",
       "</style>\n",
       "<table border=\"1\" class=\"dataframe\">\n",
       "  <thead>\n",
       "    <tr style=\"text-align: right;\">\n",
       "      <th></th>\n",
       "      <th>PassengerId</th>\n",
       "      <th>Survived</th>\n",
       "      <th>Pclass</th>\n",
       "      <th>Sex</th>\n",
       "      <th>Age</th>\n",
       "      <th>SibSp</th>\n",
       "      <th>Parch</th>\n",
       "      <th>Fare</th>\n",
       "      <th>Embarked</th>\n",
       "    </tr>\n",
       "  </thead>\n",
       "  <tbody>\n",
       "    <tr>\n",
       "      <th>0</th>\n",
       "      <td>892</td>\n",
       "      <td>0</td>\n",
       "      <td>3</td>\n",
       "      <td>male</td>\n",
       "      <td>34.5</td>\n",
       "      <td>0</td>\n",
       "      <td>0</td>\n",
       "      <td>7.8292</td>\n",
       "      <td>Q</td>\n",
       "    </tr>\n",
       "    <tr>\n",
       "      <th>1</th>\n",
       "      <td>893</td>\n",
       "      <td>1</td>\n",
       "      <td>3</td>\n",
       "      <td>female</td>\n",
       "      <td>47.0</td>\n",
       "      <td>1</td>\n",
       "      <td>0</td>\n",
       "      <td>7.0000</td>\n",
       "      <td>S</td>\n",
       "    </tr>\n",
       "    <tr>\n",
       "      <th>2</th>\n",
       "      <td>894</td>\n",
       "      <td>0</td>\n",
       "      <td>2</td>\n",
       "      <td>male</td>\n",
       "      <td>62.0</td>\n",
       "      <td>0</td>\n",
       "      <td>0</td>\n",
       "      <td>9.6875</td>\n",
       "      <td>Q</td>\n",
       "    </tr>\n",
       "    <tr>\n",
       "      <th>3</th>\n",
       "      <td>895</td>\n",
       "      <td>0</td>\n",
       "      <td>3</td>\n",
       "      <td>male</td>\n",
       "      <td>27.0</td>\n",
       "      <td>0</td>\n",
       "      <td>0</td>\n",
       "      <td>8.6625</td>\n",
       "      <td>S</td>\n",
       "    </tr>\n",
       "    <tr>\n",
       "      <th>4</th>\n",
       "      <td>896</td>\n",
       "      <td>1</td>\n",
       "      <td>3</td>\n",
       "      <td>female</td>\n",
       "      <td>22.0</td>\n",
       "      <td>1</td>\n",
       "      <td>1</td>\n",
       "      <td>12.2875</td>\n",
       "      <td>S</td>\n",
       "    </tr>\n",
       "  </tbody>\n",
       "</table>\n",
       "</div>"
      ],
      "text/plain": [
       "  PassengerId  Survived  Pclass     Sex   Age  SibSp  Parch     Fare Embarked\n",
       "0         892         0       3    male  34.5      0      0   7.8292        Q\n",
       "1         893         1       3  female  47.0      1      0   7.0000        S\n",
       "2         894         0       2    male  62.0      0      0   9.6875        Q\n",
       "3         895         0       3    male  27.0      0      0   8.6625        S\n",
       "4         896         1       3  female  22.0      1      1  12.2875        S"
      ]
     },
     "execution_count": 10,
     "metadata": {},
     "output_type": "execute_result"
    }
   ],
   "source": [
    "df.head()"
   ]
  },
  {
   "cell_type": "code",
   "execution_count": 11,
   "id": "9c98a0e9-ce4c-4218-a5b3-eb29d57b4608",
   "metadata": {},
   "outputs": [
    {
     "data": {
      "text/plain": [
       "array(['Q', 'S', 'C'], dtype=object)"
      ]
     },
     "execution_count": 11,
     "metadata": {},
     "output_type": "execute_result"
    }
   ],
   "source": [
    "df[\"Embarked\"].unique()"
   ]
  },
  {
   "cell_type": "code",
   "execution_count": 12,
   "id": "77ffa16e-fab5-40c0-acb6-d31d232f4611",
   "metadata": {},
   "outputs": [
    {
     "data": {
      "text/html": [
       "<div>\n",
       "<style scoped>\n",
       "    .dataframe tbody tr th:only-of-type {\n",
       "        vertical-align: middle;\n",
       "    }\n",
       "\n",
       "    .dataframe tbody tr th {\n",
       "        vertical-align: top;\n",
       "    }\n",
       "\n",
       "    .dataframe thead th {\n",
       "        text-align: right;\n",
       "    }\n",
       "</style>\n",
       "<table border=\"1\" class=\"dataframe\">\n",
       "  <thead>\n",
       "    <tr style=\"text-align: right;\">\n",
       "      <th></th>\n",
       "      <th>PassengerId</th>\n",
       "      <th>Survived</th>\n",
       "      <th>Pclass</th>\n",
       "      <th>Sex</th>\n",
       "      <th>Age</th>\n",
       "      <th>SibSp</th>\n",
       "      <th>Parch</th>\n",
       "      <th>Fare</th>\n",
       "      <th>Embarked</th>\n",
       "    </tr>\n",
       "  </thead>\n",
       "  <tbody>\n",
       "    <tr>\n",
       "      <th>0</th>\n",
       "      <td>892</td>\n",
       "      <td>0</td>\n",
       "      <td>3</td>\n",
       "      <td>male</td>\n",
       "      <td>34.5</td>\n",
       "      <td>0</td>\n",
       "      <td>0</td>\n",
       "      <td>7.8292</td>\n",
       "      <td>Queensland</td>\n",
       "    </tr>\n",
       "    <tr>\n",
       "      <th>1</th>\n",
       "      <td>893</td>\n",
       "      <td>1</td>\n",
       "      <td>3</td>\n",
       "      <td>female</td>\n",
       "      <td>47.0</td>\n",
       "      <td>1</td>\n",
       "      <td>0</td>\n",
       "      <td>7.0000</td>\n",
       "      <td>Southampton</td>\n",
       "    </tr>\n",
       "    <tr>\n",
       "      <th>2</th>\n",
       "      <td>894</td>\n",
       "      <td>0</td>\n",
       "      <td>2</td>\n",
       "      <td>male</td>\n",
       "      <td>62.0</td>\n",
       "      <td>0</td>\n",
       "      <td>0</td>\n",
       "      <td>9.6875</td>\n",
       "      <td>Queensland</td>\n",
       "    </tr>\n",
       "    <tr>\n",
       "      <th>3</th>\n",
       "      <td>895</td>\n",
       "      <td>0</td>\n",
       "      <td>3</td>\n",
       "      <td>male</td>\n",
       "      <td>27.0</td>\n",
       "      <td>0</td>\n",
       "      <td>0</td>\n",
       "      <td>8.6625</td>\n",
       "      <td>Southampton</td>\n",
       "    </tr>\n",
       "    <tr>\n",
       "      <th>4</th>\n",
       "      <td>896</td>\n",
       "      <td>1</td>\n",
       "      <td>3</td>\n",
       "      <td>female</td>\n",
       "      <td>22.0</td>\n",
       "      <td>1</td>\n",
       "      <td>1</td>\n",
       "      <td>12.2875</td>\n",
       "      <td>Southampton</td>\n",
       "    </tr>\n",
       "    <tr>\n",
       "      <th>...</th>\n",
       "      <td>...</td>\n",
       "      <td>...</td>\n",
       "      <td>...</td>\n",
       "      <td>...</td>\n",
       "      <td>...</td>\n",
       "      <td>...</td>\n",
       "      <td>...</td>\n",
       "      <td>...</td>\n",
       "      <td>...</td>\n",
       "    </tr>\n",
       "    <tr>\n",
       "      <th>413</th>\n",
       "      <td>1305</td>\n",
       "      <td>0</td>\n",
       "      <td>3</td>\n",
       "      <td>male</td>\n",
       "      <td>NaN</td>\n",
       "      <td>0</td>\n",
       "      <td>0</td>\n",
       "      <td>8.0500</td>\n",
       "      <td>Southampton</td>\n",
       "    </tr>\n",
       "    <tr>\n",
       "      <th>414</th>\n",
       "      <td>1306</td>\n",
       "      <td>1</td>\n",
       "      <td>1</td>\n",
       "      <td>female</td>\n",
       "      <td>39.0</td>\n",
       "      <td>0</td>\n",
       "      <td>0</td>\n",
       "      <td>108.9000</td>\n",
       "      <td>Choubourg</td>\n",
       "    </tr>\n",
       "    <tr>\n",
       "      <th>415</th>\n",
       "      <td>1307</td>\n",
       "      <td>0</td>\n",
       "      <td>3</td>\n",
       "      <td>male</td>\n",
       "      <td>38.5</td>\n",
       "      <td>0</td>\n",
       "      <td>0</td>\n",
       "      <td>7.2500</td>\n",
       "      <td>Southampton</td>\n",
       "    </tr>\n",
       "    <tr>\n",
       "      <th>416</th>\n",
       "      <td>1308</td>\n",
       "      <td>0</td>\n",
       "      <td>3</td>\n",
       "      <td>male</td>\n",
       "      <td>NaN</td>\n",
       "      <td>0</td>\n",
       "      <td>0</td>\n",
       "      <td>8.0500</td>\n",
       "      <td>Southampton</td>\n",
       "    </tr>\n",
       "    <tr>\n",
       "      <th>417</th>\n",
       "      <td>1309</td>\n",
       "      <td>0</td>\n",
       "      <td>3</td>\n",
       "      <td>male</td>\n",
       "      <td>NaN</td>\n",
       "      <td>1</td>\n",
       "      <td>1</td>\n",
       "      <td>22.3583</td>\n",
       "      <td>Choubourg</td>\n",
       "    </tr>\n",
       "  </tbody>\n",
       "</table>\n",
       "<p>418 rows × 9 columns</p>\n",
       "</div>"
      ],
      "text/plain": [
       "    PassengerId  Survived  Pclass     Sex   Age  SibSp  Parch      Fare  \\\n",
       "0           892         0       3    male  34.5      0      0    7.8292   \n",
       "1           893         1       3  female  47.0      1      0    7.0000   \n",
       "2           894         0       2    male  62.0      0      0    9.6875   \n",
       "3           895         0       3    male  27.0      0      0    8.6625   \n",
       "4           896         1       3  female  22.0      1      1   12.2875   \n",
       "..          ...       ...     ...     ...   ...    ...    ...       ...   \n",
       "413        1305         0       3    male   NaN      0      0    8.0500   \n",
       "414        1306         1       1  female  39.0      0      0  108.9000   \n",
       "415        1307         0       3    male  38.5      0      0    7.2500   \n",
       "416        1308         0       3    male   NaN      0      0    8.0500   \n",
       "417        1309         0       3    male   NaN      1      1   22.3583   \n",
       "\n",
       "        Embarked  \n",
       "0     Queensland  \n",
       "1    Southampton  \n",
       "2     Queensland  \n",
       "3    Southampton  \n",
       "4    Southampton  \n",
       "..           ...  \n",
       "413  Southampton  \n",
       "414    Choubourg  \n",
       "415  Southampton  \n",
       "416  Southampton  \n",
       "417    Choubourg  \n",
       "\n",
       "[418 rows x 9 columns]"
      ]
     },
     "execution_count": 12,
     "metadata": {},
     "output_type": "execute_result"
    }
   ],
   "source": [
    "#replace Q as Queensland (Ireland), S as Southampton (England) and C as Choubourg (France)\n",
    "df[\"Embarked\"] = df[\"Embarked\"].replace({\"Q\":\"Queensland\", \"S\":\"Southampton\", \"C\": \"Choubourg\"})\n",
    "df"
   ]
  },
  {
   "cell_type": "code",
   "execution_count": 13,
   "id": "a4e16ae0-a7b1-41ea-b9f9-8a6391502ea9",
   "metadata": {},
   "outputs": [
    {
     "data": {
      "text/plain": [
       "30.27"
      ]
     },
     "execution_count": 13,
     "metadata": {},
     "output_type": "execute_result"
    }
   ],
   "source": [
    "#get the mean age of the Ages of the passenger\n",
    "mean_age = round(df[\"Age\"].mean(),2)\n",
    "mean_age"
   ]
  },
  {
   "cell_type": "code",
   "execution_count": 14,
   "id": "5f31fea2-12bf-47e4-952c-a4590ff8cfdf",
   "metadata": {},
   "outputs": [],
   "source": [
    "#fill the mean_age value into the null spaces in the Age column\n",
    "df[\"Age\"] = df[\"Age\"].fillna(mean_age)\n"
   ]
  },
  {
   "cell_type": "code",
   "execution_count": 15,
   "id": "b95cd218-4488-480d-acd3-51b47f5dddcd",
   "metadata": {},
   "outputs": [
    {
     "data": {
      "text/plain": [
       "PassengerId    0\n",
       "Survived       0\n",
       "Pclass         0\n",
       "Sex            0\n",
       "Age            0\n",
       "SibSp          0\n",
       "Parch          0\n",
       "Fare           1\n",
       "Embarked       0\n",
       "dtype: int64"
      ]
     },
     "execution_count": 15,
     "metadata": {},
     "output_type": "execute_result"
    }
   ],
   "source": [
    "df.isna().sum()"
   ]
  },
  {
   "cell_type": "code",
   "execution_count": 16,
   "id": "a08f7d13-a538-4035-83ae-b926f5acb915",
   "metadata": {},
   "outputs": [
    {
     "data": {
      "text/plain": [
       "35.63"
      ]
     },
     "execution_count": 16,
     "metadata": {},
     "output_type": "execute_result"
    }
   ],
   "source": [
    "#get the average fare of the fares of the passenger\n",
    "ave_fare = round(df[\"Fare\"].mean(),2)\n",
    "ave_fare"
   ]
  },
  {
   "cell_type": "code",
   "execution_count": 17,
   "id": "24889419-e463-4b41-89d8-e97645038d1d",
   "metadata": {},
   "outputs": [],
   "source": [
    "#fill the ave_fare value into the null spaces in the Fare column\n",
    "df[\"Fare\"] = df[\"Fare\"].fillna(ave_fare)"
   ]
  },
  {
   "cell_type": "code",
   "execution_count": 18,
   "id": "e0981de2-86b6-45ef-a9b5-f79d4c0b28b0",
   "metadata": {},
   "outputs": [
    {
     "data": {
      "text/plain": [
       "PassengerId    0\n",
       "Survived       0\n",
       "Pclass         0\n",
       "Sex            0\n",
       "Age            0\n",
       "SibSp          0\n",
       "Parch          0\n",
       "Fare           0\n",
       "Embarked       0\n",
       "dtype: int64"
      ]
     },
     "execution_count": 18,
     "metadata": {},
     "output_type": "execute_result"
    }
   ],
   "source": [
    "df.isna().sum()"
   ]
  },
  {
   "cell_type": "code",
   "execution_count": 19,
   "id": "7ecf8885-94ac-4f84-aae2-38b096da7474",
   "metadata": {},
   "outputs": [
    {
     "data": {
      "text/plain": [
       "0"
      ]
     },
     "execution_count": 19,
     "metadata": {},
     "output_type": "execute_result"
    }
   ],
   "source": [
    "#check for duplicate values\n",
    "df.duplicated().sum()"
   ]
  },
  {
   "cell_type": "code",
   "execution_count": 20,
   "id": "1bffd9d7-fb84-490d-99ab-54a3e08461c0",
   "metadata": {},
   "outputs": [
    {
     "data": {
      "text/plain": [
       "array([0, 1], dtype=int64)"
      ]
     },
     "execution_count": 20,
     "metadata": {},
     "output_type": "execute_result"
    }
   ],
   "source": [
    "df[\"Survived\"].unique()"
   ]
  },
  {
   "cell_type": "code",
   "execution_count": 21,
   "id": "60a24177-ab0b-4b32-87c1-1e81715bbf4e",
   "metadata": {},
   "outputs": [
    {
     "data": {
      "text/plain": [
       "array([3, 2, 1], dtype=int64)"
      ]
     },
     "execution_count": 21,
     "metadata": {},
     "output_type": "execute_result"
    }
   ],
   "source": [
    "df[\"Pclass\"].unique()"
   ]
  },
  {
   "cell_type": "code",
   "execution_count": 22,
   "id": "e491ec53-04f6-40e1-a274-75edd2112648",
   "metadata": {},
   "outputs": [
    {
     "data": {
      "text/plain": [
       "array([34.5 , 47.  , 62.  , 27.  , 22.  , 14.  , 30.  , 26.  , 18.  ,\n",
       "       21.  , 30.27, 46.  , 23.  , 63.  , 24.  , 35.  , 45.  , 55.  ,\n",
       "        9.  , 48.  , 50.  , 22.5 , 41.  , 33.  , 18.5 , 25.  , 39.  ,\n",
       "       60.  , 36.  , 20.  , 28.  , 10.  , 17.  , 32.  , 13.  , 31.  ,\n",
       "       29.  , 28.5 , 32.5 ,  6.  , 67.  , 49.  ,  2.  , 76.  , 43.  ,\n",
       "       16.  ,  1.  , 12.  , 42.  , 53.  , 26.5 , 40.  , 61.  , 60.5 ,\n",
       "        7.  , 15.  , 54.  , 64.  , 37.  , 34.  , 11.5 ,  8.  ,  0.33,\n",
       "       38.  , 57.  , 40.5 ,  0.92, 19.  , 36.5 ,  0.75,  0.83, 58.  ,\n",
       "        0.17, 59.  , 14.5 , 44.  ,  5.  , 51.  ,  3.  , 38.5 ])"
      ]
     },
     "execution_count": 22,
     "metadata": {},
     "output_type": "execute_result"
    }
   ],
   "source": [
    "df[\"Age\"].unique()"
   ]
  },
  {
   "cell_type": "code",
   "execution_count": 23,
   "id": "f4f1f919-72b7-4617-afc8-67d1b662039d",
   "metadata": {},
   "outputs": [
    {
     "data": {
      "text/plain": [
       "array([0, 1, 2, 3, 4, 5, 8], dtype=int64)"
      ]
     },
     "execution_count": 23,
     "metadata": {},
     "output_type": "execute_result"
    }
   ],
   "source": [
    "df[\"SibSp\"].unique()"
   ]
  },
  {
   "cell_type": "code",
   "execution_count": 24,
   "id": "c1e8aac3-0d62-43b6-93a0-74f6cd870c6c",
   "metadata": {},
   "outputs": [
    {
     "data": {
      "text/plain": [
       "array([0, 1, 3, 2, 4, 6, 5, 9], dtype=int64)"
      ]
     },
     "execution_count": 24,
     "metadata": {},
     "output_type": "execute_result"
    }
   ],
   "source": [
    "df[\"Parch\"].unique()"
   ]
  },
  {
   "cell_type": "code",
   "execution_count": 25,
   "id": "dd67417e-21ba-4dcf-96aa-85916db56e43",
   "metadata": {},
   "outputs": [
    {
     "data": {
      "text/plain": [
       "array([  7.8292,   7.    ,   9.6875,   8.6625,  12.2875,   9.225 ,\n",
       "         7.6292,  29.    ,   7.2292,  24.15  ,   7.8958,  26.    ,\n",
       "        82.2667,  61.175 ,  27.7208,  12.35  ,   7.225 ,   7.925 ,\n",
       "        59.4   ,   3.1708,  31.6833,  61.3792, 262.375 ,  14.5   ,\n",
       "        61.9792,  30.5   ,  21.6792,  31.5   ,  20.575 ,  23.45  ,\n",
       "        57.75  ,   8.05  ,   9.5   ,  56.4958,  13.4167,  26.55  ,\n",
       "         7.85  ,  13.    ,  52.5542,  29.7   ,   7.75  ,  76.2917,\n",
       "        15.9   ,  60.    ,  15.0333,  23.    , 263.    ,  15.5792,\n",
       "        29.125 ,   7.65  ,  16.1   ,  13.5   ,   7.725 ,  21.    ,\n",
       "         7.8792,  42.4   ,  28.5375, 211.5   ,  25.7   ,  15.2458,\n",
       "       221.7792,  10.7083,  14.4542,  13.9   ,   7.775 ,  52.    ,\n",
       "         7.7958,  78.85  ,   7.8542,  55.4417,   8.5167,  22.525 ,\n",
       "         7.8208,   8.7125,  15.0458,   7.7792,  31.6792,   7.2833,\n",
       "         6.4375,  16.7   ,  75.2417,  15.75  ,   7.25  ,  23.25  ,\n",
       "        28.5   ,  25.4667,  46.9   , 151.55  ,  18.    ,  51.8625,\n",
       "        83.1583,  35.63  ,  12.1833,  31.3875,   7.55  ,  13.775 ,\n",
       "         7.7333,  22.025 ,  50.4958,  34.375 ,   8.9625,  39.    ,\n",
       "        36.75  ,  53.1   , 247.5208,  16.    ,  69.55  ,  32.5   ,\n",
       "       134.5   ,  10.5   ,   8.1125,  15.5   ,  14.4   , 227.525 ,\n",
       "        25.7417,   7.05  ,  73.5   ,  42.5   , 164.8667,  13.8583,\n",
       "        27.4458,  15.1   ,  65.    ,   6.4958,  71.2833,  75.25  ,\n",
       "       106.425 ,  30.    ,   7.8875,  27.75  , 136.7792,   9.325 ,\n",
       "        17.4   ,  12.7375,   0.    ,  20.2125,  39.6   ,   6.95  ,\n",
       "        81.8583,  41.5792,  45.5   ,   9.35  ,  93.5   ,  14.1083,\n",
       "         7.575 , 135.6333, 146.5208, 211.3375,  79.2   ,  15.7417,\n",
       "         7.5792, 512.3292,  63.3583,  51.4792,  15.55  ,  37.0042,\n",
       "        14.4583,  39.6875,  11.5   ,  50.    ,  12.875 ,  21.075 ,\n",
       "        39.4   ,  20.25  ,  47.1   ,  13.8625,   7.7208,  90.    ,\n",
       "       108.9   ,  22.3583])"
      ]
     },
     "execution_count": 25,
     "metadata": {},
     "output_type": "execute_result"
    }
   ],
   "source": [
    "df[\"Fare\"].unique()"
   ]
  },
  {
   "cell_type": "code",
   "execution_count": 26,
   "id": "cba7fee4-924d-423a-8505-bcce092ef04c",
   "metadata": {},
   "outputs": [
    {
     "data": {
      "text/plain": [
       "array(['Queensland', 'Southampton', 'Choubourg'], dtype=object)"
      ]
     },
     "execution_count": 26,
     "metadata": {},
     "output_type": "execute_result"
    }
   ],
   "source": [
    "df[\"Embarked\"].unique()"
   ]
  },
  {
   "cell_type": "markdown",
   "id": "451104cb-9948-4b99-ad31-31665b797d76",
   "metadata": {},
   "source": [
    "## Analysis\n",
    "Summary statistics using groupby() function"
   ]
  },
  {
   "cell_type": "code",
   "execution_count": 27,
   "id": "e3574408-6517-47fb-8b52-46ecb5b7b364",
   "metadata": {},
   "outputs": [
    {
     "data": {
      "text/plain": [
       "Embarked\n",
       "Queensland      504.0542\n",
       "Choubourg      6758.4960\n",
       "Southampton    7629.6174\n",
       "Name: Fare, dtype: float64"
      ]
     },
     "execution_count": 27,
     "metadata": {},
     "output_type": "execute_result"
    }
   ],
   "source": [
    "#show the transportation revenue derived from the trip based on passengers location\n",
    "fare_revenue= df.groupby(\"Embarked\")[\"Fare\"].sum().sort_values()\n",
    "fare_revenue"
   ]
  },
  {
   "cell_type": "code",
   "execution_count": 28,
   "id": "b71930be-61cc-4754-878c-e2ed89d912ab",
   "metadata": {},
   "outputs": [
    {
     "data": {
      "image/png": "[encoded data removed]",
      "text/plain": [
       "<Figure size 640x480 with 1 Axes>"
      ]
     },
     "metadata": {},
     "output_type": "display_data"
    }
   ],
   "source": [
    "fare_revenue.plot(kind='bar')\n",
    "plt.xlabel(\"Location Enbarked from \")\n",
    "plt.ylabel(\"Fee ($) \")\n",
    "plt.title(\" The transportation revenue derived from the trip based on passengers location\")\n",
    "plt.show()"
   ]
  },
  {
   "cell_type": "code",
   "execution_count": 29,
   "id": "e19e9231-8801-4f1a-bedc-1455aef3a010",
   "metadata": {},
   "outputs": [
    {
     "data": {
      "text/plain": [
       "Sex\n",
       "female    152\n",
       "male      266\n",
       "Name: Embarked, dtype: int64"
      ]
     },
     "execution_count": 29,
     "metadata": {},
     "output_type": "execute_result"
    }
   ],
   "source": [
    "df.groupby(\"Sex\")[\"Embarked\"].count()"
   ]
  },
  {
   "cell_type": "code",
   "execution_count": 30,
   "id": "da63f01c-0a21-43be-87a3-ade8073d84fe",
   "metadata": {},
   "outputs": [
    {
     "data": {
      "text/plain": [
       "Survived  Embarked   \n",
       "0         Southampton    0.684211\n",
       "          Choubourg      0.233083\n",
       "          Queensland     0.082707\n",
       "1         Southampton    0.578947\n",
       "          Choubourg      0.263158\n",
       "          Queensland     0.157895\n",
       "Name: proportion, dtype: float64"
      ]
     },
     "execution_count": 30,
     "metadata": {},
     "output_type": "execute_result"
    }
   ],
   "source": [
    "survivor_chat =df.groupby(\"Survived\")[\"Embarked\"].value_counts(normalize=True)\n",
    "survivor_chat"
   ]
  },
  {
   "cell_type": "code",
   "execution_count": 31,
   "id": "652e5848-28f1-410c-99ab-0bf51021a275",
   "metadata": {},
   "outputs": [
    {
     "data": {
      "image/png": "[encoded data removed]",
      "text/plain": [
       "<Figure size 640x480 with 1 Axes>"
      ]
     },
     "metadata": {},
     "output_type": "display_data"
    }
   ],
   "source": [
    "survivor_chat.plot(kind='barh')\n",
    "plt.xlabel(\"Percentage\")\n",
    "plt.ylabel(\"Location Embarked from\")\n",
    "plt.title(\"Percentage of survivors based on their location embarked from\")\n",
    "plt.show()"
   ]
  },
  {
   "cell_type": "code",
   "execution_count": null,
   "id": "570008d0-730e-4c19-af1e-e44b71b85a15",
   "metadata": {},
   "outputs": [],
   "source": []
  },
  {
   "cell_type": "markdown",
   "id": "443d1489-f52a-439e-82df-d103e42e69c4",
   "metadata": {},
   "source": [
    "## our class activity:\n",
    "we are using a dataset from a brewery in Africa to do profit analysis"
   ]
  },
  {
   "cell_type": "code",
   "execution_count": 32,
   "id": "849d6eeb-6bb2-4bc3-8b61-1e42c20ba831",
   "metadata": {},
   "outputs": [],
   "source": [
    "file_path =r\"C:\\Users\\pc\\Downloads\\dataset\\International_Breweries.csv\""
   ]
  },
  {
   "cell_type": "code",
   "execution_count": 33,
   "id": "3cf1f91a-4938-4348-ba4c-c2923ace4c85",
   "metadata": {},
   "outputs": [
    {
     "data": {
      "text/html": [
       "<div>\n",
       "<style scoped>\n",
       "    .dataframe tbody tr th:only-of-type {\n",
       "        vertical-align: middle;\n",
       "    }\n",
       "\n",
       "    .dataframe tbody tr th {\n",
       "        vertical-align: top;\n",
       "    }\n",
       "\n",
       "    .dataframe thead th {\n",
       "        text-align: right;\n",
       "    }\n",
       "</style>\n",
       "<table border=\"1\" class=\"dataframe\">\n",
       "  <thead>\n",
       "    <tr style=\"text-align: right;\">\n",
       "      <th></th>\n",
       "      <th>SALES_ID</th>\n",
       "      <th>SALES_REP</th>\n",
       "      <th>EMAILS</th>\n",
       "      <th>BRANDS</th>\n",
       "      <th>PLANT_COST</th>\n",
       "      <th>UNIT_PRICE</th>\n",
       "      <th>QUANTITY</th>\n",
       "      <th>COST</th>\n",
       "      <th>PROFIT</th>\n",
       "      <th>COUNTRIES</th>\n",
       "      <th>REGION</th>\n",
       "      <th>MONTHS</th>\n",
       "      <th>YEARS</th>\n",
       "    </tr>\n",
       "  </thead>\n",
       "  <tbody>\n",
       "    <tr>\n",
       "      <th>0</th>\n",
       "      <td>10101</td>\n",
       "      <td>Jardine</td>\n",
       "      <td>jard@gmail.com</td>\n",
       "      <td>trophy</td>\n",
       "      <td>150</td>\n",
       "      <td>200</td>\n",
       "      <td>725</td>\n",
       "      <td>145000</td>\n",
       "      <td>36250</td>\n",
       "      <td>Ghana</td>\n",
       "      <td>Southeast</td>\n",
       "      <td>January</td>\n",
       "      <td>2019</td>\n",
       "    </tr>\n",
       "    <tr>\n",
       "      <th>1</th>\n",
       "      <td>10102</td>\n",
       "      <td>Gill</td>\n",
       "      <td>gillhell@uk.com</td>\n",
       "      <td>budweiser</td>\n",
       "      <td>250</td>\n",
       "      <td>500</td>\n",
       "      <td>815</td>\n",
       "      <td>407500</td>\n",
       "      <td>203750</td>\n",
       "      <td>Nigeria</td>\n",
       "      <td>west</td>\n",
       "      <td>February</td>\n",
       "      <td>2018</td>\n",
       "    </tr>\n",
       "    <tr>\n",
       "      <th>2</th>\n",
       "      <td>10103</td>\n",
       "      <td>Sorvino</td>\n",
       "      <td>sorvi2000@gmail.com</td>\n",
       "      <td>castle lite</td>\n",
       "      <td>180</td>\n",
       "      <td>450</td>\n",
       "      <td>937</td>\n",
       "      <td>421650</td>\n",
       "      <td>252990</td>\n",
       "      <td>Togo</td>\n",
       "      <td>southsouth</td>\n",
       "      <td>March</td>\n",
       "      <td>2018</td>\n",
       "    </tr>\n",
       "    <tr>\n",
       "      <th>3</th>\n",
       "      <td>10104</td>\n",
       "      <td>Jones</td>\n",
       "      <td>jone.ai@yahoo.com</td>\n",
       "      <td>eagle lager</td>\n",
       "      <td>170</td>\n",
       "      <td>250</td>\n",
       "      <td>765</td>\n",
       "      <td>191250</td>\n",
       "      <td>61200</td>\n",
       "      <td>Benin</td>\n",
       "      <td>northwest</td>\n",
       "      <td>April</td>\n",
       "      <td>2018</td>\n",
       "    </tr>\n",
       "    <tr>\n",
       "      <th>4</th>\n",
       "      <td>10105</td>\n",
       "      <td>Andrews</td>\n",
       "      <td>andy@gmail.com</td>\n",
       "      <td>hero</td>\n",
       "      <td>150</td>\n",
       "      <td>200</td>\n",
       "      <td>836</td>\n",
       "      <td>167200</td>\n",
       "      <td>41800</td>\n",
       "      <td>Senegal</td>\n",
       "      <td>northeast</td>\n",
       "      <td>May</td>\n",
       "      <td>2017</td>\n",
       "    </tr>\n",
       "  </tbody>\n",
       "</table>\n",
       "</div>"
      ],
      "text/plain": [
       "   SALES_ID SALES_REP               EMAILS       BRANDS  PLANT_COST  \\\n",
       "0     10101   Jardine       jard@gmail.com       trophy         150   \n",
       "1     10102      Gill      gillhell@uk.com    budweiser         250   \n",
       "2     10103   Sorvino  sorvi2000@gmail.com  castle lite         180   \n",
       "3     10104     Jones    jone.ai@yahoo.com  eagle lager         170   \n",
       "4     10105   Andrews       andy@gmail.com         hero         150   \n",
       "\n",
       "   UNIT_PRICE  QUANTITY    COST  PROFIT COUNTRIES     REGION     MONTHS  YEARS  \n",
       "0         200       725  145000   36250     Ghana   Southeast   January   2019  \n",
       "1         500       815  407500  203750   Nigeria        west  February   2018  \n",
       "2         450       937  421650  252990      Togo  southsouth     March   2018  \n",
       "3         250       765  191250   61200     Benin   northwest     April   2018  \n",
       "4         200       836  167200   41800   Senegal  northeast        May   2017  "
      ]
     },
     "execution_count": 33,
     "metadata": {},
     "output_type": "execute_result"
    }
   ],
   "source": [
    "data = pd.read_csv(file_path)\n",
    "data.head()"
   ]
  },
  {
   "cell_type": "code",
   "execution_count": 34,
   "id": "45ad8dec-cc6b-42db-9bd4-0534f67b4d36",
   "metadata": {},
   "outputs": [
    {
     "data": {
      "text/plain": [
       "(1047, 13)"
      ]
     },
     "execution_count": 34,
     "metadata": {},
     "output_type": "execute_result"
    }
   ],
   "source": [
    "data.shape"
   ]
  },
  {
   "cell_type": "code",
   "execution_count": 35,
   "id": "882b6e55-8523-44de-bc07-50c30abc57ca",
   "metadata": {},
   "outputs": [
    {
     "name": "stdout",
     "output_type": "stream",
     "text": [
      "<class 'pandas.core.frame.DataFrame'>\n",
      "RangeIndex: 1047 entries, 0 to 1046\n",
      "Data columns (total 13 columns):\n",
      " #   Column      Non-Null Count  Dtype \n",
      "---  ------      --------------  ----- \n",
      " 0   SALES_ID    1047 non-null   int64 \n",
      " 1   SALES_REP   1047 non-null   object\n",
      " 2   EMAILS      1047 non-null   object\n",
      " 3   BRANDS      1047 non-null   object\n",
      " 4   PLANT_COST  1047 non-null   int64 \n",
      " 5   UNIT_PRICE  1047 non-null   int64 \n",
      " 6   QUANTITY    1047 non-null   int64 \n",
      " 7   COST        1047 non-null   int64 \n",
      " 8   PROFIT      1047 non-null   int64 \n",
      " 9   COUNTRIES   1047 non-null   object\n",
      " 10  REGION      1047 non-null   object\n",
      " 11  MONTHS      1047 non-null   object\n",
      " 12  YEARS       1047 non-null   int64 \n",
      "dtypes: int64(7), object(6)\n",
      "memory usage: 106.5+ KB\n"
     ]
    }
   ],
   "source": [
    "data.info()"
   ]
  },
  {
   "cell_type": "code",
   "execution_count": 36,
   "id": "c37cf655-493e-4561-a497-be1ea84a2782",
   "metadata": {},
   "outputs": [
    {
     "data": {
      "text/plain": [
       "SALES_ID      0\n",
       "SALES_REP     0\n",
       "EMAILS        0\n",
       "BRANDS        0\n",
       "PLANT_COST    0\n",
       "UNIT_PRICE    0\n",
       "QUANTITY      0\n",
       "COST          0\n",
       "PROFIT        0\n",
       "COUNTRIES     0\n",
       "REGION        0\n",
       "MONTHS        0\n",
       "YEARS         0\n",
       "dtype: int64"
      ]
     },
     "execution_count": 36,
     "metadata": {},
     "output_type": "execute_result"
    }
   ],
   "source": [
    "data.isna().sum()"
   ]
  },
  {
   "cell_type": "code",
   "execution_count": 37,
   "id": "4132ed70-be27-405e-bf85-ec4a8bf93cbc",
   "metadata": {},
   "outputs": [
    {
     "data": {
      "text/html": [
       "<div>\n",
       "<style scoped>\n",
       "    .dataframe tbody tr th:only-of-type {\n",
       "        vertical-align: middle;\n",
       "    }\n",
       "\n",
       "    .dataframe tbody tr th {\n",
       "        vertical-align: top;\n",
       "    }\n",
       "\n",
       "    .dataframe thead th {\n",
       "        text-align: right;\n",
       "    }\n",
       "</style>\n",
       "<table border=\"1\" class=\"dataframe\">\n",
       "  <thead>\n",
       "    <tr style=\"text-align: right;\">\n",
       "      <th></th>\n",
       "      <th>SALES_ID</th>\n",
       "      <th>PLANT_COST</th>\n",
       "      <th>UNIT_PRICE</th>\n",
       "      <th>QUANTITY</th>\n",
       "      <th>COST</th>\n",
       "      <th>PROFIT</th>\n",
       "      <th>YEARS</th>\n",
       "    </tr>\n",
       "  </thead>\n",
       "  <tbody>\n",
       "    <tr>\n",
       "      <th>count</th>\n",
       "      <td>1047.000000</td>\n",
       "      <td>1047.000000</td>\n",
       "      <td>1047.000000</td>\n",
       "      <td>1047.000000</td>\n",
       "      <td>1047.000000</td>\n",
       "      <td>1047.000000</td>\n",
       "      <td>1047.000000</td>\n",
       "    </tr>\n",
       "    <tr>\n",
       "      <th>mean</th>\n",
       "      <td>10624.000000</td>\n",
       "      <td>152.989494</td>\n",
       "      <td>271.728749</td>\n",
       "      <td>850.737345</td>\n",
       "      <td>231034.049666</td>\n",
       "      <td>100847.583572</td>\n",
       "      <td>2017.941738</td>\n",
       "    </tr>\n",
       "    <tr>\n",
       "      <th>std</th>\n",
       "      <td>302.387169</td>\n",
       "      <td>53.125477</td>\n",
       "      <td>133.378553</td>\n",
       "      <td>86.991652</td>\n",
       "      <td>115658.626612</td>\n",
       "      <td>77581.775930</td>\n",
       "      <td>0.808325</td>\n",
       "    </tr>\n",
       "    <tr>\n",
       "      <th>min</th>\n",
       "      <td>10101.000000</td>\n",
       "      <td>80.000000</td>\n",
       "      <td>150.000000</td>\n",
       "      <td>700.000000</td>\n",
       "      <td>105300.000000</td>\n",
       "      <td>35000.000000</td>\n",
       "      <td>2017.000000</td>\n",
       "    </tr>\n",
       "    <tr>\n",
       "      <th>25%</th>\n",
       "      <td>10362.500000</td>\n",
       "      <td>90.000000</td>\n",
       "      <td>150.000000</td>\n",
       "      <td>776.000000</td>\n",
       "      <td>141425.000000</td>\n",
       "      <td>46880.000000</td>\n",
       "      <td>2017.000000</td>\n",
       "    </tr>\n",
       "    <tr>\n",
       "      <th>50%</th>\n",
       "      <td>10624.000000</td>\n",
       "      <td>150.000000</td>\n",
       "      <td>200.000000</td>\n",
       "      <td>853.000000</td>\n",
       "      <td>184400.000000</td>\n",
       "      <td>58080.000000</td>\n",
       "      <td>2018.000000</td>\n",
       "    </tr>\n",
       "    <tr>\n",
       "      <th>75%</th>\n",
       "      <td>10885.500000</td>\n",
       "      <td>180.000000</td>\n",
       "      <td>450.000000</td>\n",
       "      <td>927.000000</td>\n",
       "      <td>351450.000000</td>\n",
       "      <td>191205.000000</td>\n",
       "      <td>2019.000000</td>\n",
       "    </tr>\n",
       "    <tr>\n",
       "      <th>max</th>\n",
       "      <td>11147.000000</td>\n",
       "      <td>250.000000</td>\n",
       "      <td>500.000000</td>\n",
       "      <td>1000.000000</td>\n",
       "      <td>499500.000000</td>\n",
       "      <td>269190.000000</td>\n",
       "      <td>2019.000000</td>\n",
       "    </tr>\n",
       "  </tbody>\n",
       "</table>\n",
       "</div>"
      ],
      "text/plain": [
       "           SALES_ID   PLANT_COST   UNIT_PRICE     QUANTITY           COST  \\\n",
       "count   1047.000000  1047.000000  1047.000000  1047.000000    1047.000000   \n",
       "mean   10624.000000   152.989494   271.728749   850.737345  231034.049666   \n",
       "std      302.387169    53.125477   133.378553    86.991652  115658.626612   \n",
       "min    10101.000000    80.000000   150.000000   700.000000  105300.000000   \n",
       "25%    10362.500000    90.000000   150.000000   776.000000  141425.000000   \n",
       "50%    10624.000000   150.000000   200.000000   853.000000  184400.000000   \n",
       "75%    10885.500000   180.000000   450.000000   927.000000  351450.000000   \n",
       "max    11147.000000   250.000000   500.000000  1000.000000  499500.000000   \n",
       "\n",
       "              PROFIT        YEARS  \n",
       "count    1047.000000  1047.000000  \n",
       "mean   100847.583572  2017.941738  \n",
       "std     77581.775930     0.808325  \n",
       "min     35000.000000  2017.000000  \n",
       "25%     46880.000000  2017.000000  \n",
       "50%     58080.000000  2018.000000  \n",
       "75%    191205.000000  2019.000000  \n",
       "max    269190.000000  2019.000000  "
      ]
     },
     "execution_count": 37,
     "metadata": {},
     "output_type": "execute_result"
    }
   ],
   "source": [
    "data.describe()"
   ]
  },
  {
   "cell_type": "code",
   "execution_count": null,
   "id": "a3cb0b6d-859a-426a-8952-5e26e11ca9a3",
   "metadata": {},
   "outputs": [],
   "source": []
  },
  {
   "cell_type": "code",
   "execution_count": 38,
   "id": "d5e02deb-626b-4dde-898a-55809695939d",
   "metadata": {},
   "outputs": [
    {
     "data": {
      "text/plain": [
       "array(['Ghana', 'Nigeria', 'Togo', 'Benin', 'Senegal'], dtype=object)"
      ]
     },
     "execution_count": 38,
     "metadata": {},
     "output_type": "execute_result"
    }
   ],
   "source": [
    "data[\"COUNTRIES\"].unique()"
   ]
  },
  {
   "cell_type": "code",
   "execution_count": 39,
   "id": "6eedb971-b972-49b6-bf6e-682c76017373",
   "metadata": {},
   "outputs": [],
   "source": [
    "#create a new column called Territories\n",
    "\n",
    "territory = []\n",
    "for country in data[\"COUNTRIES\"]:\n",
    "    if country in ['Nigeria', 'Ghana']:\n",
    "        territory.append('Anglophone')\n",
    "    else:\n",
    "        territory.append('Francophone')\n",
    "\n",
    "data[\"TERRITORIES\"] = territory"
   ]
  },
  {
   "cell_type": "code",
   "execution_count": 40,
   "id": "25fa3102-ef0c-4080-8e8b-347ab680f136",
   "metadata": {},
   "outputs": [
    {
     "data": {
      "text/html": [
       "<div>\n",
       "<style scoped>\n",
       "    .dataframe tbody tr th:only-of-type {\n",
       "        vertical-align: middle;\n",
       "    }\n",
       "\n",
       "    .dataframe tbody tr th {\n",
       "        vertical-align: top;\n",
       "    }\n",
       "\n",
       "    .dataframe thead th {\n",
       "        text-align: right;\n",
       "    }\n",
       "</style>\n",
       "<table border=\"1\" class=\"dataframe\">\n",
       "  <thead>\n",
       "    <tr style=\"text-align: right;\">\n",
       "      <th></th>\n",
       "      <th>SALES_ID</th>\n",
       "      <th>SALES_REP</th>\n",
       "      <th>EMAILS</th>\n",
       "      <th>BRANDS</th>\n",
       "      <th>PLANT_COST</th>\n",
       "      <th>UNIT_PRICE</th>\n",
       "      <th>QUANTITY</th>\n",
       "      <th>COST</th>\n",
       "      <th>PROFIT</th>\n",
       "      <th>COUNTRIES</th>\n",
       "      <th>REGION</th>\n",
       "      <th>MONTHS</th>\n",
       "      <th>YEARS</th>\n",
       "      <th>TERRITORIES</th>\n",
       "    </tr>\n",
       "  </thead>\n",
       "  <tbody>\n",
       "    <tr>\n",
       "      <th>0</th>\n",
       "      <td>10101</td>\n",
       "      <td>Jardine</td>\n",
       "      <td>jard@gmail.com</td>\n",
       "      <td>trophy</td>\n",
       "      <td>150</td>\n",
       "      <td>200</td>\n",
       "      <td>725</td>\n",
       "      <td>145000</td>\n",
       "      <td>36250</td>\n",
       "      <td>Ghana</td>\n",
       "      <td>Southeast</td>\n",
       "      <td>January</td>\n",
       "      <td>2019</td>\n",
       "      <td>Anglophone</td>\n",
       "    </tr>\n",
       "    <tr>\n",
       "      <th>1</th>\n",
       "      <td>10102</td>\n",
       "      <td>Gill</td>\n",
       "      <td>gillhell@uk.com</td>\n",
       "      <td>budweiser</td>\n",
       "      <td>250</td>\n",
       "      <td>500</td>\n",
       "      <td>815</td>\n",
       "      <td>407500</td>\n",
       "      <td>203750</td>\n",
       "      <td>Nigeria</td>\n",
       "      <td>west</td>\n",
       "      <td>February</td>\n",
       "      <td>2018</td>\n",
       "      <td>Anglophone</td>\n",
       "    </tr>\n",
       "    <tr>\n",
       "      <th>2</th>\n",
       "      <td>10103</td>\n",
       "      <td>Sorvino</td>\n",
       "      <td>sorvi2000@gmail.com</td>\n",
       "      <td>castle lite</td>\n",
       "      <td>180</td>\n",
       "      <td>450</td>\n",
       "      <td>937</td>\n",
       "      <td>421650</td>\n",
       "      <td>252990</td>\n",
       "      <td>Togo</td>\n",
       "      <td>southsouth</td>\n",
       "      <td>March</td>\n",
       "      <td>2018</td>\n",
       "      <td>Francophone</td>\n",
       "    </tr>\n",
       "    <tr>\n",
       "      <th>3</th>\n",
       "      <td>10104</td>\n",
       "      <td>Jones</td>\n",
       "      <td>jone.ai@yahoo.com</td>\n",
       "      <td>eagle lager</td>\n",
       "      <td>170</td>\n",
       "      <td>250</td>\n",
       "      <td>765</td>\n",
       "      <td>191250</td>\n",
       "      <td>61200</td>\n",
       "      <td>Benin</td>\n",
       "      <td>northwest</td>\n",
       "      <td>April</td>\n",
       "      <td>2018</td>\n",
       "      <td>Francophone</td>\n",
       "    </tr>\n",
       "    <tr>\n",
       "      <th>4</th>\n",
       "      <td>10105</td>\n",
       "      <td>Andrews</td>\n",
       "      <td>andy@gmail.com</td>\n",
       "      <td>hero</td>\n",
       "      <td>150</td>\n",
       "      <td>200</td>\n",
       "      <td>836</td>\n",
       "      <td>167200</td>\n",
       "      <td>41800</td>\n",
       "      <td>Senegal</td>\n",
       "      <td>northeast</td>\n",
       "      <td>May</td>\n",
       "      <td>2017</td>\n",
       "      <td>Francophone</td>\n",
       "    </tr>\n",
       "  </tbody>\n",
       "</table>\n",
       "</div>"
      ],
      "text/plain": [
       "   SALES_ID SALES_REP               EMAILS       BRANDS  PLANT_COST  \\\n",
       "0     10101   Jardine       jard@gmail.com       trophy         150   \n",
       "1     10102      Gill      gillhell@uk.com    budweiser         250   \n",
       "2     10103   Sorvino  sorvi2000@gmail.com  castle lite         180   \n",
       "3     10104     Jones    jone.ai@yahoo.com  eagle lager         170   \n",
       "4     10105   Andrews       andy@gmail.com         hero         150   \n",
       "\n",
       "   UNIT_PRICE  QUANTITY    COST  PROFIT COUNTRIES     REGION     MONTHS  \\\n",
       "0         200       725  145000   36250     Ghana   Southeast   January   \n",
       "1         500       815  407500  203750   Nigeria        west  February   \n",
       "2         450       937  421650  252990      Togo  southsouth     March   \n",
       "3         250       765  191250   61200     Benin   northwest     April   \n",
       "4         200       836  167200   41800   Senegal  northeast        May   \n",
       "\n",
       "   YEARS  TERRITORIES  \n",
       "0   2019   Anglophone  \n",
       "1   2018   Anglophone  \n",
       "2   2018  Francophone  \n",
       "3   2018  Francophone  \n",
       "4   2017  Francophone  "
      ]
     },
     "execution_count": 40,
     "metadata": {},
     "output_type": "execute_result"
    }
   ],
   "source": [
    "data.head()"
   ]
  },
  {
   "cell_type": "code",
   "execution_count": 44,
   "id": "3ea4f112-1e05-4a74-a608-afbf908b5e25",
   "metadata": {},
   "outputs": [
    {
     "data": {
      "text/plain": [
       "0"
      ]
     },
     "execution_count": 44,
     "metadata": {},
     "output_type": "execute_result"
    }
   ],
   "source": [
    "#checking for duplicated rows\n",
    "data.duplicated().sum()"
   ]
  },
  {
   "cell_type": "code",
   "execution_count": 53,
   "id": "07450b6f-52ab-4530-9c67-8d33b020ef47",
   "metadata": {},
   "outputs": [
    {
     "data": {
      "text/plain": [
       "YEARS  TERRITORIES\n",
       "2017   Anglophone     15749550\n",
       "       Francophone    22753770\n",
       "2018   Anglophone     14690320\n",
       "       Francophone    22373530\n",
       "2019   Anglophone     11949390\n",
       "       Francophone    18070860\n",
       "Name: PROFIT, dtype: int64"
      ]
     },
     "execution_count": 53,
     "metadata": {},
     "output_type": "execute_result"
    }
   ],
   "source": [
    "# 1.  Within the space of the last three years, what was the profit worth of the breweries,inclusive of the anglophone and the francophone territories?\n",
    "data.groupby([\"YEARS\",\"TERRITORIES\"])[\"PROFIT\"].sum()"
   ]
  },
  {
   "cell_type": "code",
   "execution_count": 47,
   "id": "077716d7-44ca-4ca1-aca7-19c9feef7cc3",
   "metadata": {},
   "outputs": [
    {
     "data": {
      "text/plain": [
       "TERRITORIES\n",
       "Anglophone     42389260\n",
       "Francophone    63198160\n",
       "Name: PROFIT, dtype: int64"
      ]
     },
     "execution_count": 47,
     "metadata": {},
     "output_type": "execute_result"
    }
   ],
   "source": [
    "# 2. Compare the total profit between these two territories in order for the territory manager,Mr. Stone made a strategic decision that will aid profit maximization in 2020.\n",
    "data.groupby([\"TERRITORIES\"])[\"PROFIT\"].sum()"
   ]
  },
  {
   "cell_type": "code",
   "execution_count": 62,
   "id": "d283ee26-8e1f-48dd-ab87-ba0c93f2a8a2",
   "metadata": {},
   "outputs": [
    {
     "data": {
      "text/plain": [
       "YEARS  COUNTRIES\n",
       "2017   Benin        7795390\n",
       "       Ghana        7176000\n",
       "       Nigeria      8573550\n",
       "       Senegal      8289100\n",
       "       Togo         6669280\n",
       "2018   Benin        7893240\n",
       "       Ghana        6692980\n",
       "       Nigeria      7997340\n",
       "       Senegal      6508530\n",
       "       Togo         7971760\n",
       "2019   Benin        5273340\n",
       "       Ghana        7144070\n",
       "       Nigeria      4805320\n",
       "       Senegal      6687560\n",
       "       Togo         6109960\n",
       "Name: PROFIT, dtype: int64"
      ]
     },
     "execution_count": 62,
     "metadata": {},
     "output_type": "execute_result"
    }
   ],
   "source": [
    "# 3. Country that generated the highest profit in 2019\n",
    "data.groupby([\"YEARS\",\"COUNTRIES\"])[\"PROFIT\"].sum()"
   ]
  },
  {
   "cell_type": "code",
   "execution_count": 63,
   "id": "3a92979a-06ef-4bef-a282-b8f74ebbcab0",
   "metadata": {},
   "outputs": [
    {
     "data": {
      "text/plain": [
       "YEARS\n",
       "2017    38503320\n",
       "2018    37063850\n",
       "2019    30020250\n",
       "Name: PROFIT, dtype: int64"
      ]
     },
     "execution_count": 63,
     "metadata": {},
     "output_type": "execute_result"
    }
   ],
   "source": [
    "#4. Help him find the year with the highest profit.\n",
    "data.groupby(\"YEARS\")[\"PROFIT\"].sum()"
   ]
  },
  {
   "cell_type": "code",
   "execution_count": 64,
   "id": "c9dfe23f-a4a9-44aa-8ee8-68b7c4004f43",
   "metadata": {},
   "outputs": [
    {
     "data": {
      "text/plain": [
       "YEARS  MONTHS   \n",
       "2017   December     35000\n",
       "       February     35050\n",
       "2018   April        35100\n",
       "2017   June         35200\n",
       "2019   August       35200\n",
       "2018   June         35250\n",
       "2019   June         35300\n",
       "       February     35300\n",
       "       December     35300\n",
       "2018   February     35350\n",
       "2019   November     35450\n",
       "2017   October      35450\n",
       "2019   September    35500\n",
       "2018   March        35750\n",
       "       May          35800\n",
       "2017   April        36200\n",
       "2019   January      36250\n",
       "2017   May          36350\n",
       "       August       36400\n",
       "2019   April        36550\n",
       "2018   July         36550\n",
       "2017   July         36900\n",
       "2018   January      36950\n",
       "       September    37100\n",
       "       August       37500\n",
       "       October      37850\n",
       "       December     38150\n",
       "2019   March        38500\n",
       "       October      38650\n",
       "2018   November     38750\n",
       "2017   November     38850\n",
       "2019   July         39350\n",
       "2017   January      40650\n",
       "       March        40850\n",
       "2019   May          41400\n",
       "2017   September    41750\n",
       "Name: PROFIT, dtype: int64"
      ]
     },
     "execution_count": 64,
     "metadata": {},
     "output_type": "execute_result"
    }
   ],
   "source": [
    "# 5.  Which month in the three years was the least profit generated\n",
    "data.groupby([\"YEARS\",\"MONTHS\"])[\"PROFIT\"].min().sort_values()"
   ]
  },
  {
   "cell_type": "code",
   "execution_count": 70,
   "id": "20fbfcff-0fa5-473b-912f-b1bed36247e6",
   "metadata": {},
   "outputs": [
    {
     "data": {
      "text/plain": [
       "MONTHS\n",
       "April        35100\n",
       "June         35250\n",
       "February     35350\n",
       "March        35750\n",
       "May          35800\n",
       "July         36550\n",
       "January      36950\n",
       "September    37100\n",
       "August       37500\n",
       "October      37850\n",
       "December     38150\n",
       "November     38750\n",
       "Name: PROFIT, dtype: int64"
      ]
     },
     "execution_count": 70,
     "metadata": {},
     "output_type": "execute_result"
    }
   ],
   "source": [
    "#6. What was the minimum profit in the month of December 2018?\n",
    "data_yr2018 = data[data[\"YEARS\"]==2018]\n",
    "data_yr2018.groupby([\"MONTHS\"])[\"PROFIT\"].min().sort_values()\n"
   ]
  },
  {
   "cell_type": "code",
   "execution_count": 81,
   "id": "edd87dbf-4273-4e4d-8ede-997594658b29",
   "metadata": {},
   "outputs": [
    {
     "data": {
      "text/plain": [
       "SALES_REP\n",
       "Howard      1191680\n",
       "Thompson    1337430\n",
       "Morgan      1977070\n",
       "Parent      2008060\n",
       "Kivell      2152910\n",
       "Smith       2201640\n",
       "Sorvino     2626640\n",
       "Jardine     3277600\n",
       "Andrews     3314410\n",
       "Gill        3650570\n",
       "Jones       6282240\n",
       "Name: PROFIT, dtype: int64"
      ]
     },
     "execution_count": 81,
     "metadata": {},
     "output_type": "execute_result"
    }
   ],
   "source": [
    "#Extra question: \n",
    "#who is the best sales representative for the year 2019 based on profit?\n",
    "data_yr2019 = data[data[\"YEARS\"]==2019]\n",
    "data_yr2019.groupby([\"SALES_REP\"])[\"PROFIT\"].sum().sort_values()"
   ]
  },
  {
   "cell_type": "code",
   "execution_count": 89,
   "id": "34ff0b32-da1a-4578-a848-e10b5543b24c",
   "metadata": {},
   "outputs": [
    {
     "name": "stderr",
     "output_type": "stream",
     "text": [
      "C:\\Users\\pc\\AppData\\Local\\Temp\\ipykernel_19444\\2940024662.py:4: SettingWithCopyWarning: \n",
      "A value is trying to be set on a copy of a slice from a DataFrame.\n",
      "Try using .loc[row_indexer,col_indexer] = value instead\n",
      "\n",
      "See the caveats in the documentation: https://pandas.pydata.org/pandas-docs/stable/user_guide/indexing.html#returning-a-view-versus-a-copy\n",
      "  data_yr2019[\"percentage profit\"] = percent_prof\n"
     ]
    },
    {
     "data": {
      "text/html": [
       "<div>\n",
       "<style scoped>\n",
       "    .dataframe tbody tr th:only-of-type {\n",
       "        vertical-align: middle;\n",
       "    }\n",
       "\n",
       "    .dataframe tbody tr th {\n",
       "        vertical-align: top;\n",
       "    }\n",
       "\n",
       "    .dataframe thead th {\n",
       "        text-align: right;\n",
       "    }\n",
       "</style>\n",
       "<table border=\"1\" class=\"dataframe\">\n",
       "  <thead>\n",
       "    <tr style=\"text-align: right;\">\n",
       "      <th></th>\n",
       "      <th>SALES_ID</th>\n",
       "      <th>SALES_REP</th>\n",
       "      <th>EMAILS</th>\n",
       "      <th>BRANDS</th>\n",
       "      <th>PLANT_COST</th>\n",
       "      <th>UNIT_PRICE</th>\n",
       "      <th>QUANTITY</th>\n",
       "      <th>COST</th>\n",
       "      <th>PROFIT</th>\n",
       "      <th>COUNTRIES</th>\n",
       "      <th>REGION</th>\n",
       "      <th>MONTHS</th>\n",
       "      <th>YEARS</th>\n",
       "      <th>TERRITORIES</th>\n",
       "      <th>percentage profit</th>\n",
       "    </tr>\n",
       "  </thead>\n",
       "  <tbody>\n",
       "    <tr>\n",
       "      <th>0</th>\n",
       "      <td>10101</td>\n",
       "      <td>Jardine</td>\n",
       "      <td>jard@gmail.com</td>\n",
       "      <td>trophy</td>\n",
       "      <td>150</td>\n",
       "      <td>200</td>\n",
       "      <td>725</td>\n",
       "      <td>145000</td>\n",
       "      <td>36250</td>\n",
       "      <td>Ghana</td>\n",
       "      <td>Southeast</td>\n",
       "      <td>January</td>\n",
       "      <td>2019</td>\n",
       "      <td>Anglophone</td>\n",
       "      <td>25.000000</td>\n",
       "    </tr>\n",
       "    <tr>\n",
       "      <th>5</th>\n",
       "      <td>10106</td>\n",
       "      <td>Jardine</td>\n",
       "      <td>jard@gmail.com</td>\n",
       "      <td>beta malt</td>\n",
       "      <td>80</td>\n",
       "      <td>150</td>\n",
       "      <td>798</td>\n",
       "      <td>119700</td>\n",
       "      <td>55860</td>\n",
       "      <td>Ghana</td>\n",
       "      <td>northcentral</td>\n",
       "      <td>June</td>\n",
       "      <td>2019</td>\n",
       "      <td>Anglophone</td>\n",
       "      <td>46.666667</td>\n",
       "    </tr>\n",
       "    <tr>\n",
       "      <th>8</th>\n",
       "      <td>10109</td>\n",
       "      <td>Morgan</td>\n",
       "      <td>morganny@gmail.com</td>\n",
       "      <td>budweiser</td>\n",
       "      <td>250</td>\n",
       "      <td>500</td>\n",
       "      <td>700</td>\n",
       "      <td>350000</td>\n",
       "      <td>175000</td>\n",
       "      <td>Benin</td>\n",
       "      <td>southsouth</td>\n",
       "      <td>September</td>\n",
       "      <td>2019</td>\n",
       "      <td>Francophone</td>\n",
       "      <td>50.000000</td>\n",
       "    </tr>\n",
       "    <tr>\n",
       "      <th>11</th>\n",
       "      <td>10112</td>\n",
       "      <td>Jones</td>\n",
       "      <td>jone.ai@yahoo.com</td>\n",
       "      <td>hero</td>\n",
       "      <td>150</td>\n",
       "      <td>200</td>\n",
       "      <td>902</td>\n",
       "      <td>180400</td>\n",
       "      <td>45100</td>\n",
       "      <td>Nigeria</td>\n",
       "      <td>northcentral</td>\n",
       "      <td>December</td>\n",
       "      <td>2019</td>\n",
       "      <td>Anglophone</td>\n",
       "      <td>25.000000</td>\n",
       "    </tr>\n",
       "    <tr>\n",
       "      <th>15</th>\n",
       "      <td>10116</td>\n",
       "      <td>Jones</td>\n",
       "      <td>jone.ai@yahoo.com</td>\n",
       "      <td>budweiser</td>\n",
       "      <td>250</td>\n",
       "      <td>500</td>\n",
       "      <td>709</td>\n",
       "      <td>354500</td>\n",
       "      <td>177250</td>\n",
       "      <td>Ghana</td>\n",
       "      <td>northwest</td>\n",
       "      <td>April</td>\n",
       "      <td>2019</td>\n",
       "      <td>Anglophone</td>\n",
       "      <td>50.000000</td>\n",
       "    </tr>\n",
       "  </tbody>\n",
       "</table>\n",
       "</div>"
      ],
      "text/plain": [
       "    SALES_ID SALES_REP              EMAILS     BRANDS  PLANT_COST  UNIT_PRICE  \\\n",
       "0      10101   Jardine      jard@gmail.com     trophy         150         200   \n",
       "5      10106   Jardine      jard@gmail.com  beta malt          80         150   \n",
       "8      10109    Morgan  morganny@gmail.com  budweiser         250         500   \n",
       "11     10112     Jones   jone.ai@yahoo.com       hero         150         200   \n",
       "15     10116     Jones   jone.ai@yahoo.com  budweiser         250         500   \n",
       "\n",
       "    QUANTITY    COST  PROFIT COUNTRIES        REGION      MONTHS  YEARS  \\\n",
       "0        725  145000   36250     Ghana      Southeast    January   2019   \n",
       "5        798  119700   55860     Ghana  northcentral        June   2019   \n",
       "8        700  350000  175000     Benin     southsouth  September   2019   \n",
       "11       902  180400   45100   Nigeria  northcentral    December   2019   \n",
       "15       709  354500  177250     Ghana      northwest      April   2019   \n",
       "\n",
       "    TERRITORIES  percentage profit  \n",
       "0    Anglophone          25.000000  \n",
       "5    Anglophone          46.666667  \n",
       "8   Francophone          50.000000  \n",
       "11   Anglophone          25.000000  \n",
       "15   Anglophone          50.000000  "
      ]
     },
     "execution_count": 89,
     "metadata": {},
     "output_type": "execute_result"
    }
   ],
   "source": [
    "#7. Compare the profit in percentage for each of the month in 2019\n",
    "data_yr2019 = data[data[\"YEARS\"]==2019]\n",
    "percent_prof =(data_yr2019[\"PROFIT\"] / (data_yr2019[\"COST\"]))*100\n",
    "data_yr2019[\"percentage profit\"] = percent_prof\n",
    "data_yr2019.head()"
   ]
  },
  {
   "cell_type": "code",
   "execution_count": 93,
   "id": "7656a81d-7e4e-4457-bb44-8e5a83f75f2a",
   "metadata": {},
   "outputs": [
    {
     "data": {
      "text/plain": [
       "MONTHS\n",
       "February      648.000000\n",
       "October       855.666667\n",
       "December      869.333333\n",
       "September     942.000000\n",
       "April        1035.333333\n",
       "March        1060.666667\n",
       "August       1074.000000\n",
       "May          1091.333333\n",
       "July         1101.666667\n",
       "November     1140.333333\n",
       "June         1140.666667\n",
       "January      1249.666667\n",
       "Name: percentage profit, dtype: float64"
      ]
     },
     "execution_count": 93,
     "metadata": {},
     "output_type": "execute_result"
    }
   ],
   "source": [
    "data_yr2019.groupby([\"MONTHS\"])[\"percentage profit\"].sum().sort_values()"
   ]
  },
  {
   "cell_type": "code",
   "execution_count": 99,
   "id": "966fae8a-ec4e-4d04-9d7a-bd71fe12da4b",
   "metadata": {},
   "outputs": [
    {
     "data": {
      "text/plain": [
       "'castle lite'"
      ]
     },
     "execution_count": 99,
     "metadata": {},
     "output_type": "execute_result"
    }
   ],
   "source": [
    "#8. Which particular brand generated the highest profit in Senegal?\n",
    "data.groupby([\"BRANDS\"])[\"PROFIT\"].sum().idxmax()"
   ]
  },
  {
   "cell_type": "code",
   "execution_count": null,
   "id": "91787bb2-d08d-4340-96ee-f986d8ff3a4b",
   "metadata": {},
   "outputs": [],
   "source": []
  }
 ],
 "metadata": {
  "kernelspec": {
   "display_name": "Python 3 (ipykernel)",
   "language": "python",
   "name": "python3"
  },
  "language_info": {
   "codemirror_mode": {
    "name": "ipython",
    "version": 3
   },
   "file_extension": ".py",
   "mimetype": "text/x-python",
   "name": "python",
   "nbconvert_exporter": "python",
   "pygments_lexer": "ipython3",
   "version": "3.12.7"
  }
 },
 "nbformat": 4,
 "nbformat_minor": 5
}
